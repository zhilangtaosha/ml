{
 "cells": [
  {
   "cell_type": "markdown",
   "metadata": {},
   "source": [
    "# xgboost model verification"
   ]
  },
  {
   "cell_type": "markdown",
   "metadata": {},
   "source": [
    "# Feature Engineering"
   ]
  },
  {
   "cell_type": "code",
   "execution_count": 1,
   "metadata": {},
   "outputs": [],
   "source": [
    "from sklearn.model_selection import KFold, GridSearchCV, train_test_split\n",
    "from sklearn.model_selection import StratifiedKFold\n",
    "from sklearn.metrics import mean_squared_error,r2_score\n",
    "import time\n",
    "%matplotlib inline\n",
    "\n",
    "import lightgbm as lgb\n",
    "from lightgbm import LGBMRegressor\n",
    "import xgboost\n",
    "from bayes_opt import BayesianOptimization\n",
    "\n",
    "import warnings\n",
    "warnings.filterwarnings(\"ignore\")"
   ]
  },
  {
   "cell_type": "code",
   "execution_count": 2,
   "metadata": {},
   "outputs": [],
   "source": [
    "\"\"\"\n",
    "Contributions from:\n",
    "DSEverything - Mean Mix - Math, Geo, Harmonic (LB 0.493) \n",
    "https://www.kaggle.com/dongxu027/mean-mix-math-geo-harmonic-lb-0-493\n",
    "JdPaletto - Surprised Yet? - Part2 - (LB: 0.503)\n",
    "https://www.kaggle.com/jdpaletto/surprised-yet-part2-lb-0-503\n",
    "hklee - weighted mean comparisons, LB 0.497, 1ST\n",
    "https://www.kaggle.com/zeemeen/weighted-mean-comparisons-lb-0-497-1st\n",
    "\n",
    "Also all comments for changes, encouragement, and forked scripts rock\n",
    "\n",
    "Keep the Surprise Going\n",
    "\"\"\"\n",
    "\n",
    "import glob, re\n",
    "import numpy as np\n",
    "import pandas as pd\n",
    "from sklearn import *\n",
    "from datetime import datetime\n",
    "\n",
    "data = {\n",
    "    'tra': pd.read_csv('../../../mltestdata/05_recruit/air_visit_data.csv'),\n",
    "    'as': pd.read_csv('../../../mltestdata/05_recruit/air_store_info.csv'),\n",
    "    'hs': pd.read_csv('../../../mltestdata/05_recruit/hpg_store_info.csv'),\n",
    "    'ar': pd.read_csv('../../../mltestdata/05_recruit/air_reserve.csv'),\n",
    "    'hr': pd.read_csv('../../../mltestdata/05_recruit/hpg_reserve.csv'),\n",
    "    'id': pd.read_csv('../../../mltestdata/05_recruit/store_id_relation.csv'),\n",
    "    'tes': pd.read_csv('../../../mltestdata/05_recruit/sample_submission.csv'),\n",
    "    'hol': pd.read_csv('../../../mltestdata/05_recruit/date_info.csv').rename(columns={'calendar_date':'visit_date'})\n",
    "    }\n",
    "\n",
    "data['hr'] = pd.merge(data['hr'], data['id'], how='inner', on=['hpg_store_id'])\n",
    "\n",
    "for df in ['ar','hr']:\n",
    "    data[df]['visit_datetime'] = pd.to_datetime(data[df]['visit_datetime'])\n",
    "    data[df]['visit_datetime'] = data[df]['visit_datetime'].dt.date\n",
    "    data[df]['reserve_datetime'] = pd.to_datetime(data[df]['reserve_datetime'])\n",
    "    data[df]['reserve_datetime'] = data[df]['reserve_datetime'].dt.date\n",
    "    data[df]['reserve_datetime_diff'] = data[df].apply(lambda r: (r['visit_datetime'] - r['reserve_datetime']).days, axis=1)\n",
    "    tmp1 = data[df].groupby(['air_store_id','visit_datetime'], as_index=False)[['reserve_datetime_diff', 'reserve_visitors']].sum().rename(columns={'visit_datetime':'visit_date', 'reserve_datetime_diff': 'rs1', 'reserve_visitors':'rv1'})\n",
    "    tmp2 = data[df].groupby(['air_store_id','visit_datetime'], as_index=False)[['reserve_datetime_diff', 'reserve_visitors']].mean().rename(columns={'visit_datetime':'visit_date', 'reserve_datetime_diff': 'rs2', 'reserve_visitors':'rv2'})\n",
    "    data[df] = pd.merge(tmp1, tmp2, how='inner', on=['air_store_id','visit_date'])\n",
    "\n",
    "data['tra']['visit_date'] = pd.to_datetime(data['tra']['visit_date'])\n",
    "data['tra']['dow'] = data['tra']['visit_date'].dt.dayofweek\n",
    "data['tra']['year'] = data['tra']['visit_date'].dt.year\n",
    "data['tra']['month'] = data['tra']['visit_date'].dt.month\n",
    "data['tra']['visit_date'] = data['tra']['visit_date'].dt.date\n",
    "\n",
    "data['tes']['visit_date'] = data['tes']['id'].map(lambda x: str(x).split('_')[2])\n",
    "data['tes']['air_store_id'] = data['tes']['id'].map(lambda x: '_'.join(x.split('_')[:2]))\n",
    "data['tes']['visit_date'] = pd.to_datetime(data['tes']['visit_date'])\n",
    "data['tes']['dow'] = data['tes']['visit_date'].dt.dayofweek\n",
    "data['tes']['year'] = data['tes']['visit_date'].dt.year\n",
    "data['tes']['month'] = data['tes']['visit_date'].dt.month\n",
    "data['tes']['visit_date'] = data['tes']['visit_date'].dt.date\n",
    "\n",
    "unique_stores = data['tes']['air_store_id'].unique()\n",
    "stores = pd.concat([pd.DataFrame({'air_store_id': unique_stores, 'dow': [i]*len(unique_stores)}) for i in range(7)], axis=0, ignore_index=True).reset_index(drop=True)\n",
    "\n",
    "#sure it can be compressed...\n",
    "tmp = data['tra'].groupby(['air_store_id','dow'], as_index=False)['visitors'].min().rename(columns={'visitors':'min_visitors'})\n",
    "stores = pd.merge(stores, tmp, how='left', on=['air_store_id','dow']) \n",
    "tmp = data['tra'].groupby(['air_store_id','dow'], as_index=False)['visitors'].mean().rename(columns={'visitors':'mean_visitors'})\n",
    "stores = pd.merge(stores, tmp, how='left', on=['air_store_id','dow'])\n",
    "tmp = data['tra'].groupby(['air_store_id','dow'], as_index=False)['visitors'].median().rename(columns={'visitors':'median_visitors'})\n",
    "stores = pd.merge(stores, tmp, how='left', on=['air_store_id','dow'])\n",
    "tmp = data['tra'].groupby(['air_store_id','dow'], as_index=False)['visitors'].max().rename(columns={'visitors':'max_visitors'})\n",
    "stores = pd.merge(stores, tmp, how='left', on=['air_store_id','dow'])\n",
    "tmp = data['tra'].groupby(['air_store_id','dow'], as_index=False)['visitors'].count().rename(columns={'visitors':'count_observations'})\n",
    "stores = pd.merge(stores, tmp, how='left', on=['air_store_id','dow']) \n",
    "\n",
    "stores = pd.merge(stores, data['as'], how='left', on=['air_store_id']) \n",
    "# NEW FEATURES FROM Georgii Vyshnia\n",
    "stores['air_genre_name'] = stores['air_genre_name'].map(lambda x: str(str(x).replace('/',' ')))\n",
    "stores['air_area_name'] = stores['air_area_name'].map(lambda x: str(str(x).replace('-',' ')))\n",
    "lbl = preprocessing.LabelEncoder()\n",
    "for i in range(10):\n",
    "    stores['air_genre_name'+str(i)] = lbl.fit_transform(stores['air_genre_name'].map(lambda x: str(str(x).split(' ')[i]) if len(str(x).split(' '))>i else ''))\n",
    "    stores['air_area_name'+str(i)] = lbl.fit_transform(stores['air_area_name'].map(lambda x: str(str(x).split(' ')[i]) if len(str(x).split(' '))>i else ''))\n",
    "stores['air_genre_name'] = lbl.fit_transform(stores['air_genre_name'])\n",
    "stores['air_area_name'] = lbl.fit_transform(stores['air_area_name'])\n",
    "\n",
    "data['hol']['visit_date'] = pd.to_datetime(data['hol']['visit_date'])\n",
    "data['hol']['day_of_week'] = lbl.fit_transform(data['hol']['day_of_week'])\n",
    "data['hol']['visit_date'] = data['hol']['visit_date'].dt.date\n",
    "train = pd.merge(data['tra'], data['hol'], how='left', on=['visit_date']) \n",
    "test = pd.merge(data['tes'], data['hol'], how='left', on=['visit_date']) \n",
    "\n",
    "train = pd.merge(train, stores, how='left', on=['air_store_id','dow']) \n",
    "test = pd.merge(test, stores, how='left', on=['air_store_id','dow'])\n",
    "\n",
    "for df in ['ar','hr']:\n",
    "    train = pd.merge(train, data[df], how='left', on=['air_store_id','visit_date']) \n",
    "    test = pd.merge(test, data[df], how='left', on=['air_store_id','visit_date'])\n",
    "\n",
    "train['id'] = train.apply(lambda r: '_'.join([str(r['air_store_id']), str(r['visit_date'])]), axis=1)\n",
    "\n",
    "train['total_reserv_sum'] = train['rv1_x'] + train['rv1_y']\n",
    "train['total_reserv_mean'] = (train['rv2_x'] + train['rv2_y']) / 2\n",
    "train['total_reserv_dt_diff_mean'] = (train['rs2_x'] + train['rs2_y']) / 2\n",
    "\n",
    "test['total_reserv_sum'] = test['rv1_x'] + test['rv1_y']\n",
    "test['total_reserv_mean'] = (test['rv2_x'] + test['rv2_y']) / 2\n",
    "test['total_reserv_dt_diff_mean'] = (test['rs2_x'] + test['rs2_y']) / 2\n",
    "\n",
    "# NEW FEATURES FROM JMBULL\n",
    "train['date_int'] = train['visit_date'].apply(lambda x: x.strftime('%Y%m%d')).astype(int)\n",
    "test['date_int'] = test['visit_date'].apply(lambda x: x.strftime('%Y%m%d')).astype(int)\n",
    "train['var_max_lat'] = train['latitude'].max() - train['latitude']\n",
    "train['var_max_long'] = train['longitude'].max() - train['longitude']\n",
    "test['var_max_lat'] = test['latitude'].max() - test['latitude']\n",
    "test['var_max_long'] = test['longitude'].max() - test['longitude']\n",
    "\n",
    "# NEW FEATURES FROM Georgii Vyshnia\n",
    "train['lon_plus_lat'] = train['longitude'] + train['latitude'] \n",
    "test['lon_plus_lat'] = test['longitude'] + test['latitude']\n",
    "\n",
    "lbl = preprocessing.LabelEncoder()\n",
    "train['air_store_id2'] = lbl.fit_transform(train['air_store_id'])\n",
    "test['air_store_id2'] = lbl.transform(test['air_store_id'])\n",
    "\n",
    "col = [c for c in train if c not in ['id', 'air_store_id', 'visit_date','visitors']]\n",
    "train = train.fillna(-1)\n",
    "test = test.fillna(-1)"
   ]
  },
  {
   "cell_type": "code",
   "execution_count": 3,
   "metadata": {},
   "outputs": [],
   "source": [
    "for c, dtype in zip(train.columns, train.dtypes):\t\n",
    "    if dtype == np.float64:\t\t\n",
    "        train[c] = train[c].astype(np.float32)\n",
    "\n",
    "for c, dtype in zip(test.columns, test.dtypes):\t\n",
    "    if dtype == np.float64:\t\t\n",
    "        test[c] = test[c].astype(np.float32)"
   ]
  },
  {
   "cell_type": "code",
   "execution_count": 4,
   "metadata": {},
   "outputs": [],
   "source": [
    "drop_cols=['visitors','air_store_id','visit_date','id']\n",
    "y_train=train['visitors']\n",
    "x_train=train.drop(drop_cols, axis=1)\n",
    "\n",
    "x_test=test.copy()\n",
    "x_test=x_test.drop(drop_cols, axis=1)"
   ]
  },
  {
   "cell_type": "code",
   "execution_count": 5,
   "metadata": {},
   "outputs": [],
   "source": [
    "y = train.visitors\n",
    "train_input = train.copy()\n",
    "test_input = test.copy()\n",
    "\n",
    "drop_cols=['visitors','air_store_id','visit_date','id']\n",
    "train_input=train_input.drop(drop_cols, axis=1)\n",
    "test_input=test_input.drop(drop_cols, axis=1)"
   ]
  },
  {
   "cell_type": "markdown",
   "metadata": {},
   "source": [
    "# Modeling"
   ]
  },
  {
   "cell_type": "markdown",
   "metadata": {},
   "source": [
    "## xgboost"
   ]
  },
  {
   "cell_type": "code",
   "execution_count": 6,
   "metadata": {},
   "outputs": [],
   "source": [
    "#Define a evaluation function\n",
    "\n",
    "def rmsle(preds, true):\n",
    "    rmsle = np.sqrt(mean_squared_error(np.log1p(true), np.log1p(preds)))\n",
    "    return float(rmsle)"
   ]
  },
  {
   "cell_type": "code",
   "execution_count": 7,
   "metadata": {},
   "outputs": [],
   "source": [
    "#Define a evaluation matrix \n",
    "from sklearn.metrics.scorer import make_scorer\n",
    "RMSLE = make_scorer(rmsle)"
   ]
  },
  {
   "cell_type": "code",
   "execution_count": 8,
   "metadata": {},
   "outputs": [],
   "source": [
    "# Define a function for comparing predictions and true data.\n",
    "def compare_result(preds, true):\n",
    "    compare = pd.DataFrame({\"test_id\": true.index,\n",
    "                           \"real_cost\": true,\n",
    "                           \"pred_cost\": preds})\n",
    "    compare = compare[[\"test_id\", \"real_cost\", \"pred_cost\"]].reset_index(drop=True)\n",
    "    \n",
    "    compare[\"error_percent_(%)\"] = np.abs(compare.real_cost - compare.pred_cost) / compare.real_cost * 100\n",
    "    \n",
    "    return compare"
   ]
  },
  {
   "cell_type": "markdown",
   "metadata": {},
   "source": [
    "# Cross validation with xgboost"
   ]
  },
  {
   "cell_type": "code",
   "execution_count": 23,
   "metadata": {},
   "outputs": [],
   "source": [
    "def cross_validate_xgb(params, x_train, y_train, x_test, kf,  verbose=True, verbose_eval=50, bopt=False):\n",
    "    start_time=time.time()\n",
    "    nround=[]\n",
    "    # the prediction matrix need to contains 3 columns, one for the probability of each class\n",
    "    #train_pred = np.zeros((x_train.shape[0],3))\n",
    "    train_pred = np.zeros((x_train.shape[0]))\n",
    "    test_pred = np.zeros((x_test.shape[0]))\n",
    "    \n",
    "    # self-defined eval metric\n",
    "    # f(preds: array, train_data: Dataset) -> name: string, value: array, is_higher_better: bool\n",
    "    # binary error\n",
    "    def feval_rmsle(preds, train_data):\n",
    "        preds = np.expm1(preds)\n",
    "        true = np.expm1(train_data.get_label())\n",
    "        #return 'rmsle', rmsle(true, preds), False\n",
    "\n",
    "        return 'rmsle', rmsle(preds, true), False\n",
    "\n",
    "    # use the k-fold object to enumerate indexes for each training and validation fold\n",
    "    for i, (train_index, val_index) in enumerate(kf.split(x_train, y_train)):\n",
    "        x_train_kf, x_val_kf = x_train.loc[train_index, :], x_train.loc[val_index, :]\n",
    "\n",
    "        #y_train_kf, y_val_kf = y_train[train_index], y_train[val_index]\n",
    "        y_train_kf, y_val_kf = np.log1p(y_train[train_index]), np.log1p(y_train[val_index])\n",
    "        x_test_kf=x_test.copy()\n",
    "        \n",
    "        d_train = xgboost.DMatrix(x_train_kf, y_train_kf)\n",
    "        d_val=xgboost.DMatrix(x_val_kf, y_val_kf)\n",
    "        d_test = xgboost.DMatrix(x_test_kf)\n",
    "        \n",
    "        watchlist= [(d_train, \"train\"), (d_val, 'val')]\n",
    "        bst = xgboost.train(params=params, \n",
    "                            dtrain=d_train, \n",
    "                            num_boost_round=8000, \n",
    "                            early_stopping_rounds=100,\n",
    "                            evals=watchlist, \n",
    "                            verbose_eval=verbose_eval)        \n",
    "        \n",
    "        y_val_kf_preds=bst.predict(d_val, ntree_limit=bst.best_ntree_limit)\n",
    "        nround.append(bst.best_ntree_limit)\n",
    "        \n",
    "        train_pred[val_index] += y_val_kf_preds\n",
    "#        test_pred += np.expm1((bst.predict(x_test, ntree_limit=bst.best_ntree_limit)))\n",
    "        test_pred += np.expm1(bst.predict(d_test))\n",
    "        \n",
    "        \n",
    "        #fold_cv = log_loss(y_val_kf.values, y_val_kf_preds)\n",
    "        fold_rmsle = rmsle(np.expm1(train_pred[val_index]),np.expm1(y_val_kf.values))\n",
    "        fold_cv = fold_rmsle\n",
    "        \n",
    "        if verbose:\n",
    "            print('fold cv {} rmsle score is {:.6f}'.format(i, fold_cv))\n",
    "\n",
    "    test_pred = test_pred / kf.n_splits\n",
    "    #cv_score = log_loss(y_train, train_pred)\n",
    "    cv_score = rmsle(np.expm1(train_pred), y_train)\n",
    "    \n",
    "    if verbose:\n",
    "        print('cv rmsle score is {:.6f}'.format(cv_score))    \n",
    "        end_time = time.time()\n",
    "        print(\"it takes %.3f seconds to perform cross validation\" % (end_time - start_time))\n",
    " \n",
    "    if bopt:\n",
    "        #return cv_score # for the purpose of bayesian optimisation, we only need to return the CV score\n",
    "        return cv_score\n",
    "    else:\n",
    "        return (cv_score,train_pred,test_pred)"
   ]
  },
  {
   "cell_type": "code",
   "execution_count": 10,
   "metadata": {},
   "outputs": [
    {
     "name": "stdout",
     "output_type": "stream",
     "text": [
      "Start training...\n",
      "[0]\ttrain-rmse:2.42034\tval-rmse:2.42085\n",
      "Multiple eval metrics have been passed: 'val-rmse' will be used for early stopping.\n",
      "\n",
      "Will train until val-rmse hasn't improved in 100 rounds.\n",
      "[50]\ttrain-rmse:0.960719\tval-rmse:0.959755\n",
      "[100]\ttrain-rmse:0.515669\tval-rmse:0.516404\n",
      "[150]\ttrain-rmse:0.502155\tval-rmse:0.504174\n",
      "[200]\ttrain-rmse:0.499474\tval-rmse:0.502189\n",
      "[250]\ttrain-rmse:0.497879\tval-rmse:0.501087\n",
      "[300]\ttrain-rmse:0.496597\tval-rmse:0.500331\n",
      "[350]\ttrain-rmse:0.495482\tval-rmse:0.499779\n",
      "[400]\ttrain-rmse:0.494744\tval-rmse:0.499463\n",
      "[450]\ttrain-rmse:0.494101\tval-rmse:0.499145\n",
      "[500]\ttrain-rmse:0.493631\tval-rmse:0.498944\n",
      "[550]\ttrain-rmse:0.493063\tval-rmse:0.498708\n",
      "[600]\ttrain-rmse:0.492522\tval-rmse:0.498401\n",
      "[650]\ttrain-rmse:0.492008\tval-rmse:0.498154\n",
      "[700]\ttrain-rmse:0.491527\tval-rmse:0.497933\n",
      "[750]\ttrain-rmse:0.491144\tval-rmse:0.497797\n",
      "[800]\ttrain-rmse:0.490653\tval-rmse:0.497633\n",
      "[850]\ttrain-rmse:0.490148\tval-rmse:0.497403\n",
      "[900]\ttrain-rmse:0.489639\tval-rmse:0.497157\n",
      "[950]\ttrain-rmse:0.489366\tval-rmse:0.497056\n",
      "[1000]\ttrain-rmse:0.489013\tval-rmse:0.496886\n",
      "[1050]\ttrain-rmse:0.488606\tval-rmse:0.496713\n",
      "[1100]\ttrain-rmse:0.488368\tval-rmse:0.496638\n",
      "[1150]\ttrain-rmse:0.488087\tval-rmse:0.496529\n",
      "[1200]\ttrain-rmse:0.487791\tval-rmse:0.49639\n",
      "[1250]\ttrain-rmse:0.487492\tval-rmse:0.496289\n",
      "[1300]\ttrain-rmse:0.487099\tval-rmse:0.49613\n",
      "[1350]\ttrain-rmse:0.486724\tval-rmse:0.495929\n",
      "[1400]\ttrain-rmse:0.486365\tval-rmse:0.495764\n",
      "[1450]\ttrain-rmse:0.48605\tval-rmse:0.495657\n",
      "[1500]\ttrain-rmse:0.485738\tval-rmse:0.495527\n",
      "[1550]\ttrain-rmse:0.485478\tval-rmse:0.495439\n",
      "[1600]\ttrain-rmse:0.485361\tval-rmse:0.495394\n",
      "[1650]\ttrain-rmse:0.485168\tval-rmse:0.495317\n",
      "[1700]\ttrain-rmse:0.485013\tval-rmse:0.495266\n",
      "[1750]\ttrain-rmse:0.48482\tval-rmse:0.495189\n",
      "[1800]\ttrain-rmse:0.484483\tval-rmse:0.495111\n",
      "[1850]\ttrain-rmse:0.484158\tval-rmse:0.495019\n",
      "[1900]\ttrain-rmse:0.483989\tval-rmse:0.49497\n",
      "[1950]\ttrain-rmse:0.483806\tval-rmse:0.494905\n",
      "[2000]\ttrain-rmse:0.48361\tval-rmse:0.494852\n",
      "[2050]\ttrain-rmse:0.483363\tval-rmse:0.494765\n",
      "[2100]\ttrain-rmse:0.48316\tval-rmse:0.494652\n",
      "[2150]\ttrain-rmse:0.483028\tval-rmse:0.49458\n",
      "[2200]\ttrain-rmse:0.482836\tval-rmse:0.494491\n",
      "[2250]\ttrain-rmse:0.482655\tval-rmse:0.494403\n",
      "[2300]\ttrain-rmse:0.482509\tval-rmse:0.494349\n",
      "[2350]\ttrain-rmse:0.482312\tval-rmse:0.494283\n",
      "[2400]\ttrain-rmse:0.482127\tval-rmse:0.494246\n",
      "[2450]\ttrain-rmse:0.481975\tval-rmse:0.494231\n",
      "[2500]\ttrain-rmse:0.481783\tval-rmse:0.49415\n",
      "[2550]\ttrain-rmse:0.481633\tval-rmse:0.494105\n",
      "[2600]\ttrain-rmse:0.481475\tval-rmse:0.494041\n",
      "[2650]\ttrain-rmse:0.481284\tval-rmse:0.493978\n",
      "[2700]\ttrain-rmse:0.481147\tval-rmse:0.493968\n",
      "[2750]\ttrain-rmse:0.480941\tval-rmse:0.493879\n",
      "[2800]\ttrain-rmse:0.480811\tval-rmse:0.493843\n",
      "[2850]\ttrain-rmse:0.48067\tval-rmse:0.493827\n",
      "[2900]\ttrain-rmse:0.480597\tval-rmse:0.493799\n",
      "[2950]\ttrain-rmse:0.480432\tval-rmse:0.493762\n",
      "[2999]\ttrain-rmse:0.480303\tval-rmse:0.493738\n",
      "[0]\ttrain-rmse:2.41971\tval-rmse:2.4221\n",
      "Multiple eval metrics have been passed: 'val-rmse' will be used for early stopping.\n",
      "\n",
      "Will train until val-rmse hasn't improved in 100 rounds.\n",
      "[50]\ttrain-rmse:0.959972\tval-rmse:0.963881\n",
      "[100]\ttrain-rmse:0.513562\tval-rmse:0.520395\n",
      "[150]\ttrain-rmse:0.499943\tval-rmse:0.507829\n",
      "[200]\ttrain-rmse:0.497388\tval-rmse:0.506128\n",
      "[250]\ttrain-rmse:0.495884\tval-rmse:0.505291\n",
      "[300]\ttrain-rmse:0.494699\tval-rmse:0.504641\n",
      "[350]\ttrain-rmse:0.493621\tval-rmse:0.504029\n",
      "[400]\ttrain-rmse:0.492711\tval-rmse:0.503483\n",
      "[450]\ttrain-rmse:0.49208\tval-rmse:0.503259\n",
      "[500]\ttrain-rmse:0.491598\tval-rmse:0.503034\n",
      "[550]\ttrain-rmse:0.490973\tval-rmse:0.502698\n",
      "[600]\ttrain-rmse:0.49053\tval-rmse:0.50252\n",
      "[650]\ttrain-rmse:0.490083\tval-rmse:0.502253\n",
      "[700]\ttrain-rmse:0.489562\tval-rmse:0.501931\n",
      "[750]\ttrain-rmse:0.489181\tval-rmse:0.501752\n",
      "[800]\ttrain-rmse:0.48887\tval-rmse:0.501627\n",
      "[850]\ttrain-rmse:0.488429\tval-rmse:0.501421\n",
      "[900]\ttrain-rmse:0.488059\tval-rmse:0.501273\n",
      "[950]\ttrain-rmse:0.487785\tval-rmse:0.501159\n",
      "[1000]\ttrain-rmse:0.487435\tval-rmse:0.501002\n",
      "[1050]\ttrain-rmse:0.487121\tval-rmse:0.500838\n",
      "[1100]\ttrain-rmse:0.486793\tval-rmse:0.500712\n",
      "[1150]\ttrain-rmse:0.486469\tval-rmse:0.500592\n",
      "[1200]\ttrain-rmse:0.48617\tval-rmse:0.500451\n",
      "[1250]\ttrain-rmse:0.485922\tval-rmse:0.500353\n",
      "[1300]\ttrain-rmse:0.485552\tval-rmse:0.500129\n",
      "[1350]\ttrain-rmse:0.48531\tval-rmse:0.500058\n",
      "[1400]\ttrain-rmse:0.485071\tval-rmse:0.499946\n",
      "[1450]\ttrain-rmse:0.484839\tval-rmse:0.499869\n",
      "[1500]\ttrain-rmse:0.484664\tval-rmse:0.499802\n",
      "[1550]\ttrain-rmse:0.484346\tval-rmse:0.499617\n",
      "[1600]\ttrain-rmse:0.484014\tval-rmse:0.49945\n",
      "[1650]\ttrain-rmse:0.483747\tval-rmse:0.499357\n",
      "[1700]\ttrain-rmse:0.483555\tval-rmse:0.499271\n",
      "[1750]\ttrain-rmse:0.483388\tval-rmse:0.499215\n",
      "[1800]\ttrain-rmse:0.483261\tval-rmse:0.499151\n",
      "[1850]\ttrain-rmse:0.483023\tval-rmse:0.499023\n",
      "[1900]\ttrain-rmse:0.482948\tval-rmse:0.499008\n",
      "[1950]\ttrain-rmse:0.482832\tval-rmse:0.498976\n",
      "[2000]\ttrain-rmse:0.482613\tval-rmse:0.498882\n",
      "[2050]\ttrain-rmse:0.482463\tval-rmse:0.498802\n",
      "[2100]\ttrain-rmse:0.482214\tval-rmse:0.498699\n",
      "[2150]\ttrain-rmse:0.482008\tval-rmse:0.498614\n",
      "[2200]\ttrain-rmse:0.481832\tval-rmse:0.498545\n",
      "[2250]\ttrain-rmse:0.48169\tval-rmse:0.498466\n",
      "[2300]\ttrain-rmse:0.481519\tval-rmse:0.49836\n",
      "[2350]\ttrain-rmse:0.481391\tval-rmse:0.498314\n",
      "[2400]\ttrain-rmse:0.481207\tval-rmse:0.498238\n",
      "[2450]\ttrain-rmse:0.481112\tval-rmse:0.498216\n",
      "[2500]\ttrain-rmse:0.481008\tval-rmse:0.498168\n",
      "[2550]\ttrain-rmse:0.480865\tval-rmse:0.498118\n",
      "[2600]\ttrain-rmse:0.48069\tval-rmse:0.498042\n",
      "[2650]\ttrain-rmse:0.480594\tval-rmse:0.49802\n",
      "[2700]\ttrain-rmse:0.480418\tval-rmse:0.497957\n",
      "[2750]\ttrain-rmse:0.480259\tval-rmse:0.49787\n",
      "[2800]\ttrain-rmse:0.480013\tval-rmse:0.49779\n",
      "[2850]\ttrain-rmse:0.479773\tval-rmse:0.497666\n",
      "[2900]\ttrain-rmse:0.479633\tval-rmse:0.497592\n",
      "[2950]\ttrain-rmse:0.479495\tval-rmse:0.497527\n",
      "[2999]\ttrain-rmse:0.479395\tval-rmse:0.49747\n",
      "[0]\ttrain-rmse:2.42147\tval-rmse:2.41857\n",
      "Multiple eval metrics have been passed: 'val-rmse' will be used for early stopping.\n",
      "\n",
      "Will train until val-rmse hasn't improved in 100 rounds.\n",
      "[50]\ttrain-rmse:0.961632\tval-rmse:0.959754\n",
      "[100]\ttrain-rmse:0.517084\tval-rmse:0.514702\n",
      "[150]\ttrain-rmse:0.503921\tval-rmse:0.501948\n",
      "[200]\ttrain-rmse:0.501898\tval-rmse:0.500419\n",
      "[250]\ttrain-rmse:0.501048\tval-rmse:0.499903\n",
      "[300]\ttrain-rmse:0.500328\tval-rmse:0.49943\n",
      "[350]\ttrain-rmse:0.499696\tval-rmse:0.499117\n",
      "[400]\ttrain-rmse:0.499179\tval-rmse:0.498787\n",
      "[450]\ttrain-rmse:0.498658\tval-rmse:0.498479\n",
      "[500]\ttrain-rmse:0.498345\tval-rmse:0.498315\n",
      "[550]\ttrain-rmse:0.497922\tval-rmse:0.498051\n",
      "[600]\ttrain-rmse:0.497658\tval-rmse:0.497907\n",
      "[650]\ttrain-rmse:0.497447\tval-rmse:0.497804\n",
      "[700]\ttrain-rmse:0.497182\tval-rmse:0.497664\n",
      "[750]\ttrain-rmse:0.496939\tval-rmse:0.497543\n",
      "[800]\ttrain-rmse:0.496689\tval-rmse:0.497421\n",
      "[850]\ttrain-rmse:0.496436\tval-rmse:0.497321\n",
      "[900]\ttrain-rmse:0.496163\tval-rmse:0.497236\n",
      "[950]\ttrain-rmse:0.495809\tval-rmse:0.497041\n",
      "[1000]\ttrain-rmse:0.495638\tval-rmse:0.496954\n",
      "[1050]\ttrain-rmse:0.495318\tval-rmse:0.49682\n",
      "[1100]\ttrain-rmse:0.495112\tval-rmse:0.496696\n",
      "[1150]\ttrain-rmse:0.494978\tval-rmse:0.496651\n",
      "[1200]\ttrain-rmse:0.494797\tval-rmse:0.496567\n",
      "[1250]\ttrain-rmse:0.494576\tval-rmse:0.496451\n",
      "[1300]\ttrain-rmse:0.49437\tval-rmse:0.496325\n",
      "[1350]\ttrain-rmse:0.494051\tval-rmse:0.496175\n",
      "[1400]\ttrain-rmse:0.49385\tval-rmse:0.496093\n",
      "[1450]\ttrain-rmse:0.493639\tval-rmse:0.495985\n",
      "[1500]\ttrain-rmse:0.493408\tval-rmse:0.495858\n",
      "[1550]\ttrain-rmse:0.493265\tval-rmse:0.495813\n",
      "[1600]\ttrain-rmse:0.492976\tval-rmse:0.495661\n",
      "[1650]\ttrain-rmse:0.49284\tval-rmse:0.495634\n",
      "[1700]\ttrain-rmse:0.492628\tval-rmse:0.495557\n",
      "[1750]\ttrain-rmse:0.492453\tval-rmse:0.49548\n",
      "[1800]\ttrain-rmse:0.492271\tval-rmse:0.495414\n",
      "[1850]\ttrain-rmse:0.492144\tval-rmse:0.495387\n",
      "[1900]\ttrain-rmse:0.492027\tval-rmse:0.495332\n",
      "[1950]\ttrain-rmse:0.491876\tval-rmse:0.495307\n",
      "[2000]\ttrain-rmse:0.49176\tval-rmse:0.495248\n",
      "[2050]\ttrain-rmse:0.491589\tval-rmse:0.495193\n",
      "[2100]\ttrain-rmse:0.491497\tval-rmse:0.495139\n",
      "[2150]\ttrain-rmse:0.491296\tval-rmse:0.495029\n",
      "[2200]\ttrain-rmse:0.491146\tval-rmse:0.494958\n",
      "[2250]\ttrain-rmse:0.491088\tval-rmse:0.494939\n",
      "[2300]\ttrain-rmse:0.490969\tval-rmse:0.494893\n",
      "[2350]\ttrain-rmse:0.490908\tval-rmse:0.494873\n",
      "[2400]\ttrain-rmse:0.490701\tval-rmse:0.494801\n",
      "[2450]\ttrain-rmse:0.490569\tval-rmse:0.494723\n",
      "[2500]\ttrain-rmse:0.490463\tval-rmse:0.49472\n",
      "[2550]\ttrain-rmse:0.490285\tval-rmse:0.494661\n",
      "[2600]\ttrain-rmse:0.490107\tval-rmse:0.494562\n",
      "[2650]\ttrain-rmse:0.490005\tval-rmse:0.494527\n",
      "[2700]\ttrain-rmse:0.489853\tval-rmse:0.494478\n",
      "[2750]\ttrain-rmse:0.489764\tval-rmse:0.494436\n",
      "[2800]\ttrain-rmse:0.489639\tval-rmse:0.494377\n",
      "[2850]\ttrain-rmse:0.489584\tval-rmse:0.494382\n",
      "[2900]\ttrain-rmse:0.489469\tval-rmse:0.494312\n",
      "[2950]\ttrain-rmse:0.489392\tval-rmse:0.494275\n",
      "[2999]\ttrain-rmse:0.489278\tval-rmse:0.494227\n"
     ]
    },
    {
     "ename": "TypeError",
     "evalue": "unsupported format string passed to tuple.__format__",
     "output_type": "error",
     "traceback": [
      "\u001b[0;31m---------------------------------------------------------------------------\u001b[0m",
      "\u001b[0;31mTypeError\u001b[0m                                 Traceback (most recent call last)",
      "\u001b[0;32m<ipython-input-10-6999e45478bb>\u001b[0m in \u001b[0;36m<module>\u001b[0;34m()\u001b[0m\n\u001b[1;32m     22\u001b[0m \u001b[0mcv_score\u001b[0m \u001b[0;34m=\u001b[0m\u001b[0mcross_validate_xgb\u001b[0m\u001b[0;34m(\u001b[0m\u001b[0mxgb_params\u001b[0m\u001b[0;34m,\u001b[0m \u001b[0mtrain_input\u001b[0m\u001b[0;34m,\u001b[0m \u001b[0my\u001b[0m\u001b[0;34m,\u001b[0m \u001b[0mtest_input\u001b[0m\u001b[0;34m,\u001b[0m \u001b[0mkf\u001b[0m\u001b[0;34m,\u001b[0m \u001b[0mverbose\u001b[0m\u001b[0;34m=\u001b[0m\u001b[0;32mFalse\u001b[0m\u001b[0;34m,\u001b[0m \u001b[0mverbose_eval\u001b[0m\u001b[0;34m=\u001b[0m\u001b[0;36m50\u001b[0m\u001b[0;34m)\u001b[0m\u001b[0;34m\u001b[0m\u001b[0m\n\u001b[1;32m     23\u001b[0m \u001b[0;34m\u001b[0m\u001b[0m\n\u001b[0;32m---> 24\u001b[0;31m \u001b[0mprint\u001b[0m\u001b[0;34m(\u001b[0m\u001b[0;34m'cv score is {:.6f}'\u001b[0m\u001b[0;34m.\u001b[0m\u001b[0mformat\u001b[0m\u001b[0;34m(\u001b[0m\u001b[0mcv_score\u001b[0m\u001b[0;34m)\u001b[0m\u001b[0;34m)\u001b[0m\u001b[0;34m\u001b[0m\u001b[0m\n\u001b[0m",
      "\u001b[0;31mTypeError\u001b[0m: unsupported format string passed to tuple.__format__"
     ]
    }
   ],
   "source": [
    "xgb_params = {\n",
    "    \"objective\" : \"reg:gamma\",\n",
    "    #\"num_class\" : 3,\n",
    "    #\"tree_method\" : \"hist\",\n",
    "    \"eval_metric\" : \"rmse\",\n",
    "    \"nthread\": 4,\n",
    "    \"seed\" : 0,\n",
    "    'silent': 1,\n",
    "\n",
    "    \"eta\":0.05,  # default 0.3\n",
    "    \"max_depth\" : 5, # default 6\n",
    "    \"subsample\" : 0.8, # default 1\n",
    "    \"colsample_bytree\" : 0.6, # default 1\n",
    "    \"gamma\": 0.5\n",
    "}\n",
    "\n",
    "# only do 3 fold CV here so that we save some running time on Kaggle Kernel\n",
    "kf=StratifiedKFold(n_splits=3, shuffle=True, random_state=2018)\n",
    "\n",
    "print('Start training...')\n",
    "\n",
    "cv_score =cross_validate_xgb(xgb_params, train_input, y, test_input, kf, verbose=False, verbose_eval=50)\n",
    "\n",
    "print('cv score is {:.6f}'.format(cv_score))"
   ]
  },
  {
   "cell_type": "markdown",
   "metadata": {},
   "source": [
    "# Bayesian Optimsation - Setup"
   ]
  },
  {
   "cell_type": "code",
   "execution_count": 11,
   "metadata": {},
   "outputs": [],
   "source": [
    "params={'max_depth':(4,10),\n",
    "        'learning_rate':(0.05,0.3),\n",
    "        'subsample': (0.4, 1),\n",
    "        'colsample_bytree': (0.4, 1),\n",
    "        'gamma': (0.001, 10.0),\n",
    "        'min_child_weight': (0, 20),\n",
    "        'max_delta_step': (0, 10),\n",
    "        'n_estimators': (10, 25),\n",
    "        'min_samples_split': (2, 20),\n",
    "        'max_features': (0.1, 0.999)\n",
    "       }"
   ]
  },
  {
   "cell_type": "code",
   "execution_count": 12,
   "metadata": {},
   "outputs": [],
   "source": [
    "# reload(xgb_wrapper)\n",
    "def xgbcv_func(max_depth, learning_rate, subsample, \n",
    "               colsample_bytree, gamma, min_child_weight, \n",
    "               max_delta_step, n_estimators, \n",
    "               min_samples_split, max_features,nthread=4, seed=0):\n",
    "    params = {\n",
    "        \"objective\" : \"reg:gamma\",\n",
    "        #\"num_class\" : 3,\n",
    "        #\"tree_method\" : \"hist\",\n",
    "        \"eval_metric\" : \"rmse\",\n",
    "        \"nthread\": nthread,\n",
    "        \"seed\" : 0,\n",
    "        'silent': 1,\n",
    "\n",
    "        \"eta\":learning_rate,  # default 0.3\n",
    "        \"max_depth\" : int(max_depth), # default 6\n",
    "        \"subsample\" : subsample, # default 1\n",
    "        \"colsample_bytree\" : colsample_bytree, # default 1\n",
    "\n",
    "        'gamma': gamma,\n",
    "        'min_child_weight': min_child_weight,\n",
    "        'max_delta_step': max_delta_step,\n",
    "        'n_estimators': n_estimators,\n",
    "        'min_samples_split': min_samples_split,\n",
    "        'max_features': max_features    \n",
    "\n",
    "    }\n",
    "    \n",
    "    # for a more ideal out-of-fold model prediction for this dataset, we use 10-fold CV\n",
    "    kf=StratifiedKFold(n_splits=5, shuffle=True, random_state=2018)\n",
    "    \n",
    "    # we will disable all the verbose setting in this functional call, so that we don't have too much information \n",
    "    # to read during the bayesian optimisation process.\n",
    "    return 1-cross_validate_xgb(params, train_input, y, test_input, kf, verbose=False, verbose_eval=False, bopt=True)"
   ]
  },
  {
   "cell_type": "code",
   "execution_count": 13,
   "metadata": {},
   "outputs": [],
   "source": [
    "xgb_bo=BayesianOptimization(xgbcv_func, params)"
   ]
  },
  {
   "cell_type": "code",
   "execution_count": 51,
   "metadata": {},
   "outputs": [
    {
     "name": "stdout",
     "output_type": "stream",
     "text": [
      "\u001b[31mInitialization\u001b[0m\n",
      "\u001b[94m------------------------------------------------------------------------------------------------------------------------------------------------------------------------------------------------------------\u001b[0m\n",
      " Step |   Time |      Value |   colsample_bytree |     gamma |   learning_rate |   max_delta_step |   max_depth |   max_features |   min_child_weight |   min_samples_split |   n_estimators |   subsample | \n",
      "    1 | 10m41s | \u001b[35m   0.45836\u001b[0m | \u001b[32m            0.5555\u001b[0m | \u001b[32m   1.8385\u001b[0m | \u001b[32m         0.2968\u001b[0m | \u001b[32m          8.3539\u001b[0m | \u001b[32m     9.6366\u001b[0m | \u001b[32m        0.6203\u001b[0m | \u001b[32m            8.1246\u001b[0m | \u001b[32m            16.2850\u001b[0m | \u001b[32m       14.1175\u001b[0m | \u001b[32m     0.7658\u001b[0m | \n",
      "    2 | 09m19s |    0.44991 |             0.7662 |    0.6880 |          0.2618 |           2.6014 |      4.1387 |         0.9834 |             9.6639 |             12.6731 |        22.7566 |      0.5045 | \n",
      "    3 | 06m08s |    0.37998 |             0.4164 |    6.1556 |          0.1714 |           4.7143 |      5.6440 |         0.6810 |            16.9708 |              5.3644 |        15.2114 |      0.8012 | \n",
      "    4 | 08m38s |    0.36626 |             0.5951 |    8.1881 |          0.0937 |           4.7173 |      7.6233 |         0.4097 |            10.1934 |             14.9288 |        20.2420 |      0.9684 | \n",
      "    5 | 10m00s |    0.41404 |             0.8119 |    2.3268 |          0.1654 |           8.9672 |      4.7936 |         0.4951 |             6.5285 |              7.0185 |        21.4392 |      0.8256 | \n",
      "\u001b[31mBayesian Optimization\u001b[0m\n",
      "\u001b[94m------------------------------------------------------------------------------------------------------------------------------------------------------------------------------------------------------------\u001b[0m\n",
      " Step |   Time |      Value |   colsample_bytree |     gamma |   learning_rate |   max_delta_step |   max_depth |   max_features |   min_child_weight |   min_samples_split |   n_estimators |   subsample | \n",
      "    6 | 01m46s |    0.45715 |             1.0000 |    0.0010 |          0.3000 |           0.0000 |     10.0000 |         0.9990 |             0.0000 |              2.0000 |        10.0000 |      0.4000 | \n",
      "    7 | 06m22s |    0.43717 |             0.4000 |    0.0010 |          0.0500 |           0.0000 |      4.0000 |         0.1000 |             0.0000 |             20.0000 |        10.0000 |      0.4000 | \n",
      "    8 | 08m26s | \u001b[35m   0.48668\u001b[0m | \u001b[32m            1.0000\u001b[0m | \u001b[32m   0.0010\u001b[0m | \u001b[32m         0.0500\u001b[0m | \u001b[32m          0.0000\u001b[0m | \u001b[32m    10.0000\u001b[0m | \u001b[32m        0.1000\u001b[0m | \u001b[32m           20.0000\u001b[0m | \u001b[32m            20.0000\u001b[0m | \u001b[32m       25.0000\u001b[0m | \u001b[32m     1.0000\u001b[0m | \n",
      "    9 | 04m33s |    0.48451 |             0.5936 |    0.0965 |          0.1073 |           9.3063 |      9.7759 |         0.7848 |            18.7099 |             19.6839 |        10.0272 |      0.8041 | \n",
      "   10 | 07m47s |    0.47682 |             0.9902 |    0.2535 |          0.1188 |           2.0088 |      9.9709 |         0.6933 |            19.7709 |              3.8139 |        22.8736 |      0.4527 | \n",
      "   11 | 02m06s |    0.47807 |             0.7103 |    0.0399 |          0.2282 |           9.8217 |      9.9568 |         0.9816 |            19.4061 |             18.7784 |        20.6802 |      0.7314 | \n",
      "   12 | 00m12s |   -1.42905 |             0.4000 |    0.0010 |          0.0500 |           0.0000 |     10.0000 |         0.1000 |            20.0000 |             16.2379 |        10.0000 |      1.0000 | \n",
      "   13 | 04m00s |    0.35208 |             0.4000 |   10.0000 |          0.3000 |           0.0000 |     10.0000 |         0.9990 |             0.0000 |              2.0000 |        25.0000 |      0.4000 | \n",
      "   14 | 02m21s |    0.28883 |             1.0000 |   10.0000 |          0.3000 |          10.0000 |      4.0000 |         0.9990 |            20.0000 |              2.0000 |        25.0000 |      0.4000 | \n",
      "   15 | 04m43s |    0.28046 |             0.4000 |   10.0000 |          0.0500 |          10.0000 |      4.0000 |         0.9990 |             0.0000 |              2.0000 |        10.0000 |      0.4000 | \n",
      "   16 | 05m47s |    0.48098 |             1.0000 |    0.0010 |          0.0500 |          10.0000 |     10.0000 |         0.1000 |             0.0000 |             20.0000 |        25.0000 |      0.4000 | \n",
      "   17 | 03m52s |    0.29817 |             1.0000 |   10.0000 |          0.3000 |          10.0000 |      4.0000 |         0.9990 |             0.0000 |             20.0000 |        10.0000 |      0.4000 | \n",
      "   18 | 07m02s |    0.26687 |             1.0000 |   10.0000 |          0.0500 |          10.0000 |      4.0000 |         0.1000 |            20.0000 |             20.0000 |        25.0000 |      0.4000 | \n",
      "   19 | 01m07s |    0.24925 |             1.0000 |   10.0000 |          0.0500 |           0.0000 |      4.0000 |         0.9990 |             0.0000 |             20.0000 |        25.0000 |      1.0000 | \n",
      "   20 | 09m00s |    0.45654 |             1.0000 |    0.0010 |          0.3000 |          10.0000 |      4.0000 |         0.9990 |            20.0000 |              2.0000 |        10.0000 |      0.4000 | \n",
      "   21 | 15m16s |    0.33317 |             1.0000 |   10.0000 |          0.0500 |          10.0000 |     10.0000 |         0.9990 |            20.0000 |              2.0000 |        10.0000 |      0.4000 | \n",
      "   22 | 06m16s |    0.47716 |             1.0000 |    0.0010 |          0.3000 |           0.0000 |      4.0000 |         0.1000 |             0.0000 |              2.0000 |        25.0000 |      1.0000 | \n",
      "   23 | 02m33s |    0.28883 |             1.0000 |   10.0000 |          0.3000 |          10.0000 |      4.0000 |         0.9990 |            20.0000 |             20.0000 |        10.0000 |      0.4000 | \n",
      "   24 | 01m16s |    0.24925 |             1.0000 |   10.0000 |          0.0500 |           0.0000 |      4.0000 |         0.1000 |            13.4188 |              2.0000 |        25.0000 |      1.0000 | \n",
      "   25 | 07m46s |    0.44995 |             1.0000 |    0.0010 |          0.0500 |          10.0000 |      4.0000 |         0.9990 |             9.8867 |             20.0000 |        10.0000 |      1.0000 | \n"
     ]
    }
   ],
   "source": [
    "xgb_bo.maximize(init_points=5, n_iter=20)"
   ]
  },
  {
   "cell_type": "code",
   "execution_count": 62,
   "metadata": {},
   "outputs": [
    {
     "data": {
      "text/plain": [
       "{'colsample_bytree': 1.0,\n",
       " 'gamma': 0.001,\n",
       " 'learning_rate': 0.05000000200182169,\n",
       " 'max_delta_step': 0.0,\n",
       " 'max_depth': 10.0,\n",
       " 'max_features': 0.10000000000000001,\n",
       " 'min_child_weight': 20.0,\n",
       " 'min_samples_split': 20.0,\n",
       " 'n_estimators': 25.0,\n",
       " 'subsample': 1.0}"
      ]
     },
     "execution_count": 62,
     "metadata": {},
     "output_type": "execute_result"
    }
   ],
   "source": [
    "xgb_bo.res['max']['max_params']"
   ]
  },
  {
   "cell_type": "code",
   "execution_count": 63,
   "metadata": {},
   "outputs": [
    {
     "name": "stdout",
     "output_type": "stream",
     "text": [
      "------------------------------\n",
      "Final Results\n",
      "Maximum value: 0.486679\n",
      "Best parameters:  {'max_depth': 10.0, 'learning_rate': 0.05000000200182169, 'subsample': 1.0, 'colsample_bytree': 1.0, 'gamma': 0.001, 'min_child_weight': 20.0, 'max_delta_step': 0.0, 'n_estimators': 25.0, 'min_samples_split': 20.0, 'max_features': 0.10000000000000001}\n"
     ]
    }
   ],
   "source": [
    "print('-'*30)\n",
    "print('Final Results')\n",
    "print('Maximum value: %f' % xgb_bo.res['max']['max_val'])\n",
    "print('Best parameters: ', xgb_bo.res['max']['max_params'])"
   ]
  },
  {
   "cell_type": "markdown",
   "metadata": {},
   "source": [
    "# Velification"
   ]
  },
  {
   "cell_type": "code",
   "execution_count": null,
   "metadata": {},
   "outputs": [],
   "source": [
    "Step |   Time |      Value |   colsample_bytree |     gamma |   learning_rate |   max_delta_step |   max_depth |   max_features |   min_child_weight |   min_samples_split |   n_estimators |   subsample | \n",
    "   1 | 10m41s |    0.45836 |             0.5555 |    1.8385 |          0.2968 |           8.3539 |      9.6366 |         0.6203 |             8.1246 |             16.2850 |        14.1175 |      0.7658 | \n",
    "    2"
   ]
  },
  {
   "cell_type": "code",
   "execution_count": 135,
   "metadata": {},
   "outputs": [
    {
     "data": {
      "text/plain": [
       "(252108, 50)"
      ]
     },
     "execution_count": 135,
     "metadata": {},
     "output_type": "execute_result"
    }
   ],
   "source": [
    "train_input.shape"
   ]
  },
  {
   "cell_type": "code",
   "execution_count": 136,
   "metadata": {},
   "outputs": [
    {
     "data": {
      "text/plain": [
       "(32019, 50)"
      ]
     },
     "execution_count": 136,
     "metadata": {},
     "output_type": "execute_result"
    }
   ],
   "source": [
    "test_input.shape"
   ]
  },
  {
   "cell_type": "code",
   "execution_count": 134,
   "metadata": {},
   "outputs": [
    {
     "data": {
      "text/plain": [
       "Index(['dow', 'year', 'month', 'day_of_week', 'holiday_flg', 'min_visitors',\n",
       "       'mean_visitors', 'median_visitors', 'max_visitors',\n",
       "       'count_observations', 'air_genre_name', 'air_area_name', 'latitude',\n",
       "       'longitude', 'air_genre_name0', 'air_area_name0', 'air_genre_name1',\n",
       "       'air_area_name1', 'air_genre_name2', 'air_area_name2',\n",
       "       'air_genre_name3', 'air_area_name3', 'air_genre_name4',\n",
       "       'air_area_name4', 'air_genre_name5', 'air_area_name5',\n",
       "       'air_genre_name6', 'air_area_name6', 'air_genre_name7',\n",
       "       'air_area_name7', 'air_genre_name8', 'air_area_name8',\n",
       "       'air_genre_name9', 'air_area_name9', 'rs1_x', 'rv1_x', 'rs2_x', 'rv2_x',\n",
       "       'rs1_y', 'rv1_y', 'rs2_y', 'rv2_y', 'total_reserv_sum',\n",
       "       'total_reserv_mean', 'total_reserv_dt_diff_mean', 'date_int',\n",
       "       'var_max_lat', 'var_max_long', 'lon_plus_lat', 'air_store_id2'],\n",
       "      dtype='object')"
      ]
     },
     "execution_count": 134,
     "metadata": {},
     "output_type": "execute_result"
    }
   ],
   "source": [
    "train_input.columns"
   ]
  },
  {
   "cell_type": "code",
   "execution_count": 137,
   "metadata": {},
   "outputs": [
    {
     "data": {
      "text/plain": [
       "Index(['dow', 'year', 'month', 'day_of_week', 'holiday_flg', 'min_visitors',\n",
       "       'mean_visitors', 'median_visitors', 'max_visitors',\n",
       "       'count_observations', 'air_genre_name', 'air_area_name', 'latitude',\n",
       "       'longitude', 'air_genre_name0', 'air_area_name0', 'air_genre_name1',\n",
       "       'air_area_name1', 'air_genre_name2', 'air_area_name2',\n",
       "       'air_genre_name3', 'air_area_name3', 'air_genre_name4',\n",
       "       'air_area_name4', 'air_genre_name5', 'air_area_name5',\n",
       "       'air_genre_name6', 'air_area_name6', 'air_genre_name7',\n",
       "       'air_area_name7', 'air_genre_name8', 'air_area_name8',\n",
       "       'air_genre_name9', 'air_area_name9', 'rs1_x', 'rv1_x', 'rs2_x', 'rv2_x',\n",
       "       'rs1_y', 'rv1_y', 'rs2_y', 'rv2_y', 'total_reserv_sum',\n",
       "       'total_reserv_mean', 'total_reserv_dt_diff_mean', 'date_int',\n",
       "       'var_max_lat', 'var_max_long', 'lon_plus_lat', 'air_store_id2'],\n",
       "      dtype='object')"
      ]
     },
     "execution_count": 137,
     "metadata": {},
     "output_type": "execute_result"
    }
   ],
   "source": [
    "test_input.columns"
   ]
  },
  {
   "cell_type": "code",
   "execution_count": 14,
   "metadata": {},
   "outputs": [
    {
     "name": "stdout",
     "output_type": "stream",
     "text": [
      "fold cv 0 rmsle score is 0.497094\n",
      "fold cv 1 rmsle score is 0.501248\n",
      "fold cv 2 rmsle score is 0.496586\n",
      "cv rmsle score is 0.498314\n",
      "it takes 307.088 seconds to perform cross validation\n",
      "Done\n"
     ]
    }
   ],
   "source": [
    "xgb_params = {\n",
    "    \"objective\" : \"reg:gamma\",\n",
    "    \"eval_metric\" : \"rmse\",\n",
    "    \"nthread\": 4,\n",
    "    \"seed\" : 0,\n",
    "    'silent': 1,\n",
    "    \"colsample_bytree\"  :  0.5555, \n",
    "    \"gamma\": 1.8385,\n",
    "    \"learning_rate\": 0.2968,\n",
    "    \"max_delta_step\": 8.3539,\n",
    "    \"max_depth\": 10,#9.6366,\n",
    "    \"max_features\": 0.6203,\n",
    "    \"min_child_weight\": 8.1246,\n",
    "    \"min_samples_split\": 16.2850,\n",
    "    \"n_estimators\": 14.1175,\n",
    "    \"subsample\": 0.7658,\n",
    "    \"seed\": 0,\n",
    "    'silent': 1\n",
    "}\n",
    "\n",
    "outcomes=cross_validate_xgb(xgb_params, train_input, y, test_input, kf, verbose_eval=False)\n",
    "\n",
    "xgb_cv=outcomes[0]\n",
    "xgb_train_pred=outcomes[1]\n",
    "xgb_test_pred=outcomes[2]\n",
    "\n",
    "xgb_train_pred_df=pd.DataFrame(columns=['visitors'], data=xgb_train_pred)\n",
    "xgb_test_pred_df=pd.DataFrame(columns=['visitors'], data=xgb_test_pred)\n",
    "print(\"Done\")"
   ]
  },
  {
   "cell_type": "code",
   "execution_count": 17,
   "metadata": {},
   "outputs": [
    {
     "name": "stdout",
     "output_type": "stream",
     "text": [
      "fold cv 0 rmsle score is 0.491962\n",
      "fold cv 1 rmsle score is 0.496301\n",
      "fold cv 2 rmsle score is 0.490484\n",
      "cv rmsle score is 0.492923\n",
      "it takes 161.602 seconds to perform cross validation\n",
      "Done\n"
     ]
    }
   ],
   "source": [
    "xgb_params = {\n",
    "    \"objective\" : \"reg:gamma\",\n",
    "    \"eval_metric\" : \"rmse\",\n",
    "    \"nthread\": 4,\n",
    "    \"seed\" : 0,\n",
    "    'silent': 1,\n",
    "    'max_depth': 10, \n",
    "    'learning_rate': 0.05000000200182169, \n",
    "    'subsample': 1.0, \n",
    "    'colsample_bytree': 1.0, \n",
    "    'gamma': 0.001, \n",
    "    'min_child_weight': 20.0, \n",
    "    'max_delta_step': 0.0, \n",
    "    'n_estimators': 25.0, \n",
    "    'min_samples_split': 20.0, \n",
    "    'max_features': 0.10000000000000001\n",
    "}\n",
    "\n",
    "outcomes=cross_validate_xgb(xgb_params, x_train, y_train, test_input, kf, verbose_eval=False)\n",
    "\n",
    "xgb_cv=outcomes[0]\n",
    "xgb_train_pred=outcomes[1]\n",
    "xgb_test_pred=outcomes[2]\n",
    "\n",
    "xgb_train_pred_df=pd.DataFrame(columns=['visitors'], data=xgb_train_pred)\n",
    "xgb_test_pred_df=pd.DataFrame(columns=['visitors'], data=xgb_test_pred)\n",
    "print(\"Done\")"
   ]
  },
  {
   "cell_type": "code",
   "execution_count": 24,
   "metadata": {},
   "outputs": [
    {
     "name": "stdout",
     "output_type": "stream",
     "text": [
      "fold cv 0 rmsle score is 0.491962\n",
      "fold cv 1 rmsle score is 0.496301\n",
      "fold cv 2 rmsle score is 0.490484\n",
      "cv rmsle score is 0.492923\n",
      "it takes 177.738 seconds to perform cross validation\n",
      "Done\n"
     ]
    }
   ],
   "source": [
    "xgb_params = {\n",
    "    \"objective\" : \"reg:gamma\",\n",
    "    \"eval_metric\" : \"rmse\",\n",
    "    \"nthread\": 4,\n",
    "    \"seed\" : 0,\n",
    "    'silent': 1,\n",
    "    'max_depth': 10, \n",
    "    'learning_rate': 0.05000000200182169, \n",
    "    'subsample': 1.0, \n",
    "    'colsample_bytree': 1.0, \n",
    "    'gamma': 0.001, \n",
    "    'min_child_weight': 20.0, \n",
    "    'max_delta_step': 0.0, \n",
    "    'n_estimators': 25.0, \n",
    "    'min_samples_split': 20.0, \n",
    "    'max_features': 0.10000000000000001\n",
    "}\n",
    "\n",
    "outcomes=cross_validate_xgb(xgb_params, x_train, y_train, test_input, kf, verbose_eval=False)\n",
    "\n",
    "xgb_cv=outcomes[0]\n",
    "xgb_train_pred=outcomes[1]\n",
    "xgb_test_pred=outcomes[2]\n",
    "\n",
    "xgb_train_pred_df=pd.DataFrame(columns=['visitors'], data=xgb_train_pred)\n",
    "xgb_test_pred_df=pd.DataFrame(columns=['visitors'], data=xgb_test_pred)\n",
    "print(\"Done\")"
   ]
  },
  {
   "cell_type": "markdown",
   "metadata": {},
   "source": [
    "# Submission"
   ]
  },
  {
   "cell_type": "code",
   "execution_count": 18,
   "metadata": {},
   "outputs": [],
   "source": [
    "d_train = xgboost.DMatrix(train_input, np.log1p(y))\n",
    "d_test = xgboost.DMatrix(test_input)\n",
    "#watchlist = [(dtrain, 'train'), (dvalid, 'valid')]\n",
    "#watchlist = [(dtrain, 'train')]"
   ]
  },
  {
   "cell_type": "code",
   "execution_count": 20,
   "metadata": {},
   "outputs": [],
   "source": [
    "model = xgboost.train(xgb_params, d_train)"
   ]
  },
  {
   "cell_type": "code",
   "execution_count": 25,
   "metadata": {},
   "outputs": [
    {
     "data": {
      "text/plain": [
       "<matplotlib.axes._subplots.AxesSubplot at 0x10b086f98>"
      ]
     },
     "execution_count": 25,
     "metadata": {},
     "output_type": "execute_result"
    },
    {
     "data": {
      "image/png": "[encoded data removed]",
      "text/plain": [
       "<matplotlib.figure.Figure at 0x10b0861d0>"
      ]
     },
     "metadata": {},
     "output_type": "display_data"
    }
   ],
   "source": [
    "xgboost.plot_importance(model, max_num_features=28, height=0.7)"
   ]
  },
  {
   "cell_type": "code",
   "execution_count": 22,
   "metadata": {},
   "outputs": [
    {
     "name": "stdout",
     "output_type": "stream",
     "text": [
      "Done\n"
     ]
    }
   ],
   "source": [
    "test['visitors'] = xgb_test_pred_df.values\n",
    "sub = test[['id','visitors']].copy()\n",
    "sub.to_csv('submission_rs_recruit_v11_xgbm_v13_v02.csv', index=False)\n",
    "print('Done')"
   ]
  }
 ],
 "metadata": {
  "kernelspec": {
   "display_name": "Python 3",
   "language": "python",
   "name": "python3"
  },
  "language_info": {
   "codemirror_mode": {
    "name": "ipython",
    "version": 3
   },
   "file_extension": ".py",
   "mimetype": "text/x-python",
   "name": "python",
   "nbconvert_exporter": "python",
   "pygments_lexer": "ipython3",
   "version": "3.6.2"
  }
 },
 "nbformat": 4,
 "nbformat_minor": 2
}
