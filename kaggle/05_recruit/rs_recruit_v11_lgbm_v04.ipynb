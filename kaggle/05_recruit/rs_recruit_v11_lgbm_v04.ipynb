{
 "cells": [
  {
   "cell_type": "markdown",
   "metadata": {},
   "source": [
    "# Test LightGBM with Bayesian Optimsation"
   ]
  },
  {
   "cell_type": "markdown",
   "metadata": {},
   "source": [
    "# Feature Engineering"
   ]
  },
  {
   "cell_type": "code",
   "execution_count": 1,
   "metadata": {},
   "outputs": [],
   "source": [
    "from sklearn.model_selection import KFold, GridSearchCV, train_test_split\n",
    "from sklearn.model_selection import StratifiedKFold\n",
    "from sklearn.metrics import mean_squared_error,r2_score\n",
    "import time\n",
    "\n",
    "import lightgbm as lgb\n",
    "from lightgbm import LGBMRegressor\n",
    "from bayes_opt import BayesianOptimization\n",
    "\n",
    "import warnings\n",
    "warnings.filterwarnings(\"ignore\")"
   ]
  },
  {
   "cell_type": "code",
   "execution_count": 2,
   "metadata": {},
   "outputs": [],
   "source": [
    "\"\"\"\n",
    "Contributions from:\n",
    "DSEverything - Mean Mix - Math, Geo, Harmonic (LB 0.493) \n",
    "https://www.kaggle.com/dongxu027/mean-mix-math-geo-harmonic-lb-0-493\n",
    "JdPaletto - Surprised Yet? - Part2 - (LB: 0.503)\n",
    "https://www.kaggle.com/jdpaletto/surprised-yet-part2-lb-0-503\n",
    "hklee - weighted mean comparisons, LB 0.497, 1ST\n",
    "https://www.kaggle.com/zeemeen/weighted-mean-comparisons-lb-0-497-1st\n",
    "\n",
    "Also all comments for changes, encouragement, and forked scripts rock\n",
    "\n",
    "Keep the Surprise Going\n",
    "\"\"\"\n",
    "\n",
    "import glob, re\n",
    "import numpy as np\n",
    "import pandas as pd\n",
    "from sklearn import *\n",
    "from datetime import datetime\n",
    "\n",
    "data = {\n",
    "    'tra': pd.read_csv('../../../mltestdata/05_recruit/air_visit_data.csv'),\n",
    "    'as': pd.read_csv('../../../mltestdata/05_recruit/air_store_info.csv'),\n",
    "    'hs': pd.read_csv('../../../mltestdata/05_recruit/hpg_store_info.csv'),\n",
    "    'ar': pd.read_csv('../../../mltestdata/05_recruit/air_reserve.csv'),\n",
    "    'hr': pd.read_csv('../../../mltestdata/05_recruit/hpg_reserve.csv'),\n",
    "    'id': pd.read_csv('../../../mltestdata/05_recruit/store_id_relation.csv'),\n",
    "    'tes': pd.read_csv('../../../mltestdata/05_recruit/sample_submission.csv'),\n",
    "    'hol': pd.read_csv('../../../mltestdata/05_recruit/date_info.csv').rename(columns={'calendar_date':'visit_date'})\n",
    "    }\n",
    "\n",
    "data['hr'] = pd.merge(data['hr'], data['id'], how='inner', on=['hpg_store_id'])\n",
    "\n",
    "for df in ['ar','hr']:\n",
    "    data[df]['visit_datetime'] = pd.to_datetime(data[df]['visit_datetime'])\n",
    "    data[df]['visit_datetime'] = data[df]['visit_datetime'].dt.date\n",
    "    data[df]['reserve_datetime'] = pd.to_datetime(data[df]['reserve_datetime'])\n",
    "    data[df]['reserve_datetime'] = data[df]['reserve_datetime'].dt.date\n",
    "    data[df]['reserve_datetime_diff'] = data[df].apply(lambda r: (r['visit_datetime'] - r['reserve_datetime']).days, axis=1)\n",
    "    tmp1 = data[df].groupby(['air_store_id','visit_datetime'], as_index=False)[['reserve_datetime_diff', 'reserve_visitors']].sum().rename(columns={'visit_datetime':'visit_date', 'reserve_datetime_diff': 'rs1', 'reserve_visitors':'rv1'})\n",
    "    tmp2 = data[df].groupby(['air_store_id','visit_datetime'], as_index=False)[['reserve_datetime_diff', 'reserve_visitors']].mean().rename(columns={'visit_datetime':'visit_date', 'reserve_datetime_diff': 'rs2', 'reserve_visitors':'rv2'})\n",
    "    data[df] = pd.merge(tmp1, tmp2, how='inner', on=['air_store_id','visit_date'])\n",
    "\n",
    "data['tra']['visit_date'] = pd.to_datetime(data['tra']['visit_date'])\n",
    "data['tra']['dow'] = data['tra']['visit_date'].dt.dayofweek\n",
    "data['tra']['year'] = data['tra']['visit_date'].dt.year\n",
    "data['tra']['month'] = data['tra']['visit_date'].dt.month\n",
    "data['tra']['visit_date'] = data['tra']['visit_date'].dt.date\n",
    "\n",
    "data['tes']['visit_date'] = data['tes']['id'].map(lambda x: str(x).split('_')[2])\n",
    "data['tes']['air_store_id'] = data['tes']['id'].map(lambda x: '_'.join(x.split('_')[:2]))\n",
    "data['tes']['visit_date'] = pd.to_datetime(data['tes']['visit_date'])\n",
    "data['tes']['dow'] = data['tes']['visit_date'].dt.dayofweek\n",
    "data['tes']['year'] = data['tes']['visit_date'].dt.year\n",
    "data['tes']['month'] = data['tes']['visit_date'].dt.month\n",
    "data['tes']['visit_date'] = data['tes']['visit_date'].dt.date\n",
    "\n",
    "unique_stores = data['tes']['air_store_id'].unique()\n",
    "stores = pd.concat([pd.DataFrame({'air_store_id': unique_stores, 'dow': [i]*len(unique_stores)}) for i in range(7)], axis=0, ignore_index=True).reset_index(drop=True)\n",
    "\n",
    "#sure it can be compressed...\n",
    "tmp = data['tra'].groupby(['air_store_id','dow'], as_index=False)['visitors'].min().rename(columns={'visitors':'min_visitors'})\n",
    "stores = pd.merge(stores, tmp, how='left', on=['air_store_id','dow']) \n",
    "tmp = data['tra'].groupby(['air_store_id','dow'], as_index=False)['visitors'].mean().rename(columns={'visitors':'mean_visitors'})\n",
    "stores = pd.merge(stores, tmp, how='left', on=['air_store_id','dow'])\n",
    "tmp = data['tra'].groupby(['air_store_id','dow'], as_index=False)['visitors'].median().rename(columns={'visitors':'median_visitors'})\n",
    "stores = pd.merge(stores, tmp, how='left', on=['air_store_id','dow'])\n",
    "tmp = data['tra'].groupby(['air_store_id','dow'], as_index=False)['visitors'].max().rename(columns={'visitors':'max_visitors'})\n",
    "stores = pd.merge(stores, tmp, how='left', on=['air_store_id','dow'])\n",
    "tmp = data['tra'].groupby(['air_store_id','dow'], as_index=False)['visitors'].count().rename(columns={'visitors':'count_observations'})\n",
    "stores = pd.merge(stores, tmp, how='left', on=['air_store_id','dow']) \n",
    "\n",
    "stores = pd.merge(stores, data['as'], how='left', on=['air_store_id']) \n",
    "# NEW FEATURES FROM Georgii Vyshnia\n",
    "stores['air_genre_name'] = stores['air_genre_name'].map(lambda x: str(str(x).replace('/',' ')))\n",
    "stores['air_area_name'] = stores['air_area_name'].map(lambda x: str(str(x).replace('-',' ')))\n",
    "lbl = preprocessing.LabelEncoder()\n",
    "for i in range(10):\n",
    "    stores['air_genre_name'+str(i)] = lbl.fit_transform(stores['air_genre_name'].map(lambda x: str(str(x).split(' ')[i]) if len(str(x).split(' '))>i else ''))\n",
    "    stores['air_area_name'+str(i)] = lbl.fit_transform(stores['air_area_name'].map(lambda x: str(str(x).split(' ')[i]) if len(str(x).split(' '))>i else ''))\n",
    "stores['air_genre_name'] = lbl.fit_transform(stores['air_genre_name'])\n",
    "stores['air_area_name'] = lbl.fit_transform(stores['air_area_name'])\n",
    "\n",
    "data['hol']['visit_date'] = pd.to_datetime(data['hol']['visit_date'])\n",
    "data['hol']['day_of_week'] = lbl.fit_transform(data['hol']['day_of_week'])\n",
    "data['hol']['visit_date'] = data['hol']['visit_date'].dt.date\n",
    "train = pd.merge(data['tra'], data['hol'], how='left', on=['visit_date']) \n",
    "test = pd.merge(data['tes'], data['hol'], how='left', on=['visit_date']) \n",
    "\n",
    "train = pd.merge(train, stores, how='left', on=['air_store_id','dow']) \n",
    "test = pd.merge(test, stores, how='left', on=['air_store_id','dow'])\n",
    "\n",
    "for df in ['ar','hr']:\n",
    "    train = pd.merge(train, data[df], how='left', on=['air_store_id','visit_date']) \n",
    "    test = pd.merge(test, data[df], how='left', on=['air_store_id','visit_date'])\n",
    "\n",
    "train['id'] = train.apply(lambda r: '_'.join([str(r['air_store_id']), str(r['visit_date'])]), axis=1)\n",
    "\n",
    "train['total_reserv_sum'] = train['rv1_x'] + train['rv1_y']\n",
    "train['total_reserv_mean'] = (train['rv2_x'] + train['rv2_y']) / 2\n",
    "train['total_reserv_dt_diff_mean'] = (train['rs2_x'] + train['rs2_y']) / 2\n",
    "\n",
    "test['total_reserv_sum'] = test['rv1_x'] + test['rv1_y']\n",
    "test['total_reserv_mean'] = (test['rv2_x'] + test['rv2_y']) / 2\n",
    "test['total_reserv_dt_diff_mean'] = (test['rs2_x'] + test['rs2_y']) / 2\n",
    "\n",
    "# NEW FEATURES FROM JMBULL\n",
    "train['date_int'] = train['visit_date'].apply(lambda x: x.strftime('%Y%m%d')).astype(int)\n",
    "test['date_int'] = test['visit_date'].apply(lambda x: x.strftime('%Y%m%d')).astype(int)\n",
    "train['var_max_lat'] = train['latitude'].max() - train['latitude']\n",
    "train['var_max_long'] = train['longitude'].max() - train['longitude']\n",
    "test['var_max_lat'] = test['latitude'].max() - test['latitude']\n",
    "test['var_max_long'] = test['longitude'].max() - test['longitude']\n",
    "\n",
    "# NEW FEATURES FROM Georgii Vyshnia\n",
    "train['lon_plus_lat'] = train['longitude'] + train['latitude'] \n",
    "test['lon_plus_lat'] = test['longitude'] + test['latitude']\n",
    "\n",
    "lbl = preprocessing.LabelEncoder()\n",
    "train['air_store_id2'] = lbl.fit_transform(train['air_store_id'])\n",
    "test['air_store_id2'] = lbl.transform(test['air_store_id'])\n",
    "\n",
    "col = [c for c in train if c not in ['id', 'air_store_id', 'visit_date','visitors']]\n",
    "train = train.fillna(-1)\n",
    "test = test.fillna(-1)"
   ]
  },
  {
   "cell_type": "code",
   "execution_count": 3,
   "metadata": {},
   "outputs": [
    {
     "name": "stdout",
     "output_type": "stream",
     "text": [
      "\n",
      "Processing data for LightGBM ...\n"
     ]
    }
   ],
   "source": [
    "print( \"\\nProcessing data for LightGBM ...\" )\n",
    "for c, dtype in zip(train.columns, train.dtypes):\t\n",
    "    if dtype == np.float64:\t\t\n",
    "        train[c] = train[c].astype(np.float32)\n",
    "\n",
    "for c, dtype in zip(test.columns, test.dtypes):\t\n",
    "    if dtype == np.float64:\t\t\n",
    "        test[c] = test[c].astype(np.float32)"
   ]
  },
  {
   "cell_type": "code",
   "execution_count": 4,
   "metadata": {},
   "outputs": [],
   "source": [
    "drop_cols=['visitors','air_store_id','visit_date','id']\n",
    "y_train=train['visitors']\n",
    "x_train=train.drop(drop_cols, axis=1)\n",
    "\n",
    "x_test=test.copy()\n",
    "x_test=x_test.drop(drop_cols, axis=1)"
   ]
  },
  {
   "cell_type": "code",
   "execution_count": 5,
   "metadata": {},
   "outputs": [],
   "source": [
    "y = train.visitors\n",
    "train_input = train.copy()\n",
    "test_input = test.copy()\n",
    "\n",
    "drop_cols=['visitors','air_store_id','visit_date','id']\n",
    "train_input=train_input.drop(drop_cols, axis=1)\n",
    "test_input=test_input.drop(drop_cols, axis=1)"
   ]
  },
  {
   "cell_type": "markdown",
   "metadata": {},
   "source": [
    "# Modeling"
   ]
  },
  {
   "cell_type": "markdown",
   "metadata": {},
   "source": [
    "### LightGBM"
   ]
  },
  {
   "cell_type": "code",
   "execution_count": 6,
   "metadata": {},
   "outputs": [],
   "source": [
    "#Define a evaluation function\n",
    "\n",
    "def rmsle(preds, true):\n",
    "    rmsle = np.sqrt(mean_squared_error(np.log1p(true), np.log1p(preds)))\n",
    "    return float(rmsle)"
   ]
  },
  {
   "cell_type": "code",
   "execution_count": 7,
   "metadata": {},
   "outputs": [],
   "source": [
    "#Define a evaluation matrix \n",
    "from sklearn.metrics.scorer import make_scorer\n",
    "RMSLE = make_scorer(rmsle)"
   ]
  },
  {
   "cell_type": "code",
   "execution_count": 8,
   "metadata": {},
   "outputs": [],
   "source": [
    "# Define a function for comparing predictions and true data.\n",
    "def compare_result(preds, true):\n",
    "    compare = pd.DataFrame({\"test_id\": true.index,\n",
    "                           \"real_cost\": true,\n",
    "                           \"pred_cost\": preds})\n",
    "    compare = compare[[\"test_id\", \"real_cost\", \"pred_cost\"]].reset_index(drop=True)\n",
    "    \n",
    "    compare[\"error_percent_(%)\"] = np.abs(compare.real_cost - compare.pred_cost) / compare.real_cost * 100\n",
    "    \n",
    "    return compare"
   ]
  },
  {
   "cell_type": "markdown",
   "metadata": {},
   "source": [
    "# Cross validation with LightGBM"
   ]
  },
  {
   "cell_type": "code",
   "execution_count": 9,
   "metadata": {},
   "outputs": [],
   "source": [
    "def cross_validate_lgb(params, x_train, y_train, x_test, \n",
    "                        kf, \n",
    "                        cat_features=[],\n",
    "                        verbose=True, verbose_eval=100, nseeds=1, df_input=True,\n",
    "                        early_stopping=100, num_boost_round=8000, scoreonly=False):\n",
    "\n",
    "    start_time = time.time()\n",
    "    train_pred = np.zeros((x_train.shape[0]))\n",
    "    test_pred = np.zeros((x_test.shape[0]))\n",
    "\n",
    "    # self-defined eval metric\n",
    "    # f(preds: array, train_data: Dataset) -> name: string, value: array, is_higher_better: bool\n",
    "    # binary error\n",
    "    def feval_rmsle(preds, train_data):\n",
    "        preds = np.expm1(preds)\n",
    "        true = np.expm1(train_data.get_label())\n",
    "\n",
    "        return 'rmsle', rmsle(preds, true), False\n",
    "       \n",
    "    if len(cat_features)==0: use_cat=False\n",
    "\n",
    "    # use the k-fold object to enumerate indexes for each training and validation fold\n",
    "    for i, (train_index, val_index) in enumerate(kf.split(x_train, y_train)): # folds 1, 2 ,3 ,4, 5\n",
    "        # example: training from 1,2,3,4; validation from 5\n",
    "        if df_input:\n",
    "            x_train_kf, x_val_kf = x_train.loc[train_index, :], x_train.loc[val_index, :]\n",
    "        else:\n",
    "            x_train_kf, x_val_kf = x_train[train_index], x_train[val_index]\n",
    "\n",
    "        y_train_kf, y_val_kf = np.log1p(y_train[train_index]), np.log1p(y_train[val_index])\n",
    "\n",
    "        for seed in range(nseeds):\n",
    "            params['feature_fraction_seed'] = seed\n",
    "            params['bagging_seed'] = seed\n",
    "\n",
    "            if use_cat:\n",
    "                lgb_train = lgb.Dataset(x_train_kf, y_train_kf, categorical_feature=cat_features)\n",
    "                lgb_val = lgb.Dataset(x_val_kf, y_val_kf, reference=lgb_train, categorical_feature=cat_features)\n",
    "\n",
    "            else:\n",
    "                lgb_train = lgb.Dataset(x_train_kf, y_train_kf)\n",
    "                lgb_val = lgb.Dataset(x_val_kf, y_val_kf, reference=lgb_train)\n",
    "\n",
    "            gbm = lgb.train(params,\n",
    "                            lgb_train,\n",
    "                            num_boost_round=num_boost_round,\n",
    "                            valid_sets=[lgb_val],\n",
    "                            early_stopping_rounds=early_stopping,\n",
    "                            feval=feval_rmsle,\n",
    "                            verbose_eval=verbose_eval)\n",
    "\n",
    "            val_pred = np.expm1(gbm.predict(x_val_kf, num_iteration=gbm.best_iteration))\n",
    "      \n",
    "            train_pred[val_index] += val_pred\n",
    "            test_pred += np.expm1((gbm.predict(x_test, num_iteration=gbm.best_iteration)))\n",
    "\n",
    "        train_pred[val_index] = val_pred/nseeds\n",
    "\n",
    "        #fold_rmsle = rmsle(np.expm1(y_val_kf.values), train_pred[val_index])\n",
    "        fold_rmsle = rmsle(train_pred[val_index],np.expm1(y_val_kf.values))\n",
    "        if verbose:\n",
    "            print('fold cv {} RMSLE score is {:.6f}'.format(i, fold_rmsle))\n",
    "\n",
    "    test_pred = test_pred / (nseeds * kf.n_splits)\n",
    "    #cv_score = rmsle(y_train, train_pred)\n",
    "    cv_score = rmsle(train_pred, y_train)\n",
    "    \n",
    "    if verbose:\n",
    "        print('cv RMSLE score is {:.6f}'.format(cv_score))\n",
    "        end_time = time.time()\n",
    "        print(\"it takes %.3f seconds to perform cross validation\" % (end_time - start_time))\n",
    "    #return cv_score, np.expm1(train_pred),test_pred\n",
    "    \n",
    "    if scoreonly:\n",
    "        return cv_score\n",
    "    else:\n",
    "        return cv_score, train_pred, test_pred"
   ]
  },
  {
   "cell_type": "code",
   "execution_count": 10,
   "metadata": {},
   "outputs": [
    {
     "name": "stdout",
     "output_type": "stream",
     "text": [
      "Start training...\n",
      "Training until validation scores don't improve for 100 rounds.\n",
      "[50]\tvalid_0's rmsle: 0.57728\n",
      "[100]\tvalid_0's rmsle: 0.583222\n",
      "Early stopping, best iteration is:\n",
      "[45]\tvalid_0's rmsle: 0.511092\n",
      "fold cv 0 RMSLE score is 1.779739\n",
      "\n",
      "Training until validation scores don't improve for 100 rounds.\n",
      "[50]\tvalid_0's rmsle: 0.582775\n",
      "[100]\tvalid_0's rmsle: 0.588823\n",
      "Early stopping, best iteration is:\n",
      "[45]\tvalid_0's rmsle: 0.514763\n",
      "fold cv 1 RMSLE score is 1.783528\n",
      "\n",
      "Training until validation scores don't improve for 100 rounds.\n",
      "[50]\tvalid_0's rmsle: 0.577258\n",
      "[100]\tvalid_0's rmsle: 0.58353\n",
      "Early stopping, best iteration is:\n",
      "[45]\tvalid_0's rmsle: 0.508402\n",
      "fold cv 2 RMSLE score is 1.780827\n",
      "\n",
      "cv RMSLE score is 1.781365\n",
      "it takes 24.760 seconds to perform cross validation\n",
      "cv score is 1.781365\n"
     ]
    }
   ],
   "source": [
    "lgb_params = {\n",
    "    'boosting_type': 'dart',\n",
    "    'max_depth' : 5,\n",
    "    'max_bin' : 500,\n",
    "    'learning_rate': 0.1,  # 0.618580\n",
    "    'num_leaves': 22,\n",
    "    #'metric': 'RMSE'\n",
    "}\n",
    "\n",
    "# only do 5 fold CV here so that we save some running time on Kaggle Kernel\n",
    "kf=StratifiedKFold(n_splits=3, shuffle=True, random_state=2018)\n",
    "#kf=KFold(n_splits=3, shuffle=True, random_state=2018)\n",
    "\n",
    "print('Start training...')\n",
    "\n",
    "#cv_score =cross_validate_lgb(lgb_params, train_input, y, kf, verbose=True, verbose_eval=50,df_input=True)\n",
    "#cv_score =cross_validate_lgb_nofeval(lgb_params, train_input, y, kf, verbose=True, verbose_eval=50,df_input=True)\n",
    "cv_score =cross_validate_lgb(lgb_params, train_input, y, test_input, kf, verbose=True, verbose_eval=50,df_input=True,scoreonly=True)\n",
    "\n",
    "print('cv score is {:.6f}'.format(cv_score))"
   ]
  },
  {
   "cell_type": "markdown",
   "metadata": {},
   "source": [
    "# Bayesian Optimsation - Setup"
   ]
  },
  {
   "cell_type": "code",
   "execution_count": 11,
   "metadata": {},
   "outputs": [],
   "source": [
    "params={\n",
    "    'num_leaves':(7,4095),#(7,4095),\n",
    "    'max_depth':(2,63),\n",
    "    'learning_rate':(0.05,0.3),\n",
    "    'scale_pos_weight':(1,10000),\n",
    "    'min_sum_hessian_in_leaf':(2,30),\n",
    "    'subsample':(0.4,1.0),\n",
    "    'colsample_bytree':(0.4,1.0),\n",
    "    'feature_fraction':(0.1,0.9),\n",
    "    'bagging_fraction':(0.1,0.9),\n",
    "    'bagging_freq':(0,2),\n",
    "    'lambda_l1':(0.0,1.0),\n",
    "    'lambda_l2':(0.0,1.0),\n",
    "    'n_estimators':(2,30), \n",
    "    'reg_lambda':(0.0,2.0),\n",
    "    'min_gain_to_split':(0.0,1.0)\n",
    "}"
   ]
  },
  {
   "cell_type": "code",
   "execution_count": 12,
   "metadata": {},
   "outputs": [],
   "source": [
    "# reload(lgb_wrapper)\n",
    "#def lgbcv_func(max_depth, learning_rate, subsample, colsample_bytree, nthread=4, seed=0):\n",
    "def lgbcv_func(num_leaves, max_depth, learning_rate,\n",
    "               scale_pos_weight, \n",
    "               min_sum_hessian_in_leaf, \n",
    "               subsample, \n",
    "               colsample_bytree,\n",
    "               feature_fraction, bagging_fraction, \n",
    "               bagging_freq, lambda_l1, lambda_l2,\n",
    "               n_estimators,reg_lambda,min_gain_to_split,\n",
    "               nthread=4):\n",
    "\n",
    "    params = {\n",
    "        'objective' : \"regression\",\n",
    "        'task': 'train',\n",
    "        'boosting_type': 'dart',\n",
    "                \n",
    "        'num_leaves': int(num_leaves),\n",
    "        'max_depth': int(max_depth), \n",
    "        'learning_rate': float(learning_rate),\n",
    "        'scale_pos_weight':scale_pos_weight,\n",
    "        'min_sum_hessian_in_leaf':float(min_sum_hessian_in_leaf), \n",
    "        'subsample':subsample,\n",
    "        'colsample_bytree':colsample_bytree,\n",
    "        'feature_fraction':feature_fraction, \n",
    "        'bagging_fraction':bagging_fraction,\n",
    "        'bagging_freq':int(bagging_freq), \n",
    "        'lambda_l1':lambda_l1, \n",
    "        'lambda_l2':lambda_l2,\n",
    "        'n_estimators':n_estimators,\n",
    "        'reg_lambda':reg_lambda,\n",
    "        'min_gain_to_split':min_gain_to_split       \n",
    "        #'metric': 'RMSE'\n",
    "    }\n",
    "    \n",
    "    # for a more ideal out-of-fold model prediction for this dataset, we use 10-fold CV\n",
    "    kf=StratifiedKFold(n_splits=3, shuffle=True, random_state=2018)\n",
    "    \n",
    "    # we will disable all the verbose setting in this functional call, so that we don't have too much information \n",
    "    # to read during the bayesian optimisation process.\n",
    "    return 1-cross_validate_lgb(params, train_input, y, test_input, kf, verbose=False, verbose_eval=False, scoreonly=True)"
   ]
  },
  {
   "cell_type": "code",
   "execution_count": 13,
   "metadata": {},
   "outputs": [],
   "source": [
    "lgb_bo=BayesianOptimization(lgbcv_func, params)"
   ]
  },
  {
   "cell_type": "code",
   "execution_count": 14,
   "metadata": {},
   "outputs": [
    {
     "name": "stdout",
     "output_type": "stream",
     "text": [
      "\u001b[31mInitialization\u001b[0m\n",
      "\u001b[94m-------------------------------------------------------------------------------------------------------------------------------------------------------------------------------------------------------------------------------------------------------------------------------------------------------------\u001b[0m\n",
      " Step |   Time |      Value |   bagging_fraction |   bagging_freq |   colsample_bytree |   feature_fraction |   lambda_l1 |   lambda_l2 |   learning_rate |   max_depth |   min_gain_to_split |   min_sum_hessian_in_leaf |   n_estimators |   num_leaves |   reg_lambda |   scale_pos_weight |   subsample | \n",
      "    1 | 02m22s | \u001b[35m  -0.67009\u001b[0m | \u001b[32m            0.4775\u001b[0m | \u001b[32m        0.3859\u001b[0m | \u001b[32m            0.4137\u001b[0m | \u001b[32m            0.7562\u001b[0m | \u001b[32m     0.5784\u001b[0m | \u001b[32m     0.8720\u001b[0m | \u001b[32m         0.1265\u001b[0m | \u001b[32m    26.2831\u001b[0m | \u001b[32m             0.0388\u001b[0m | \u001b[32m                  21.1679\u001b[0m | \u001b[32m       23.5322\u001b[0m | \u001b[32m   3295.2932\u001b[0m | \u001b[32m      1.3210\u001b[0m | \u001b[32m         3184.3917\u001b[0m | \u001b[32m     0.4570\u001b[0m | \n",
      "    2 | 18m58s | \u001b[35m   0.47109\u001b[0m | \u001b[32m            0.8626\u001b[0m | \u001b[32m        1.0097\u001b[0m | \u001b[32m            0.5847\u001b[0m | \u001b[32m            0.7699\u001b[0m | \u001b[32m     0.2722\u001b[0m | \u001b[32m     0.6497\u001b[0m | \u001b[32m         0.2345\u001b[0m | \u001b[32m    37.4443\u001b[0m | \u001b[32m             0.1161\u001b[0m | \u001b[32m                  11.9621\u001b[0m | \u001b[32m        2.9592\u001b[0m | \u001b[32m   1529.3577\u001b[0m | \u001b[32m      1.3149\u001b[0m | \u001b[32m         6580.4876\u001b[0m | \u001b[32m     0.7634\u001b[0m | \n",
      "\u001b[31mBayesian Optimization\u001b[0m\n",
      "\u001b[94m-------------------------------------------------------------------------------------------------------------------------------------------------------------------------------------------------------------------------------------------------------------------------------------------------------------\u001b[0m\n",
      " Step |   Time |      Value |   bagging_fraction |   bagging_freq |   colsample_bytree |   feature_fraction |   lambda_l1 |   lambda_l2 |   learning_rate |   max_depth |   min_gain_to_split |   min_sum_hessian_in_leaf |   n_estimators |   num_leaves |   reg_lambda |   scale_pos_weight |   subsample | \n",
      "    3 | 06m59s |    0.47083 |             0.1999 |         0.5144 |             0.6539 |             0.3369 |      0.5376 |      0.3306 |          0.2860 |      2.8507 |              0.0106 |                   24.9590 |        17.4351 |    1771.0149 |       0.5897 |          6163.9344 |      0.4235 | \n",
      "    4 | 05m28s |    0.26711 |             0.1000 |         0.0000 |             1.0000 |             0.1000 |      1.0000 |      0.0000 |          0.3000 |      2.0000 |              0.0000 |                   30.0000 |        30.0000 |    4095.0000 |       0.0000 |         10000.0000 |      0.4000 | \n",
      "    5 | 00m25s |   -0.81984 |             0.1000 |         2.0000 |             1.0000 |             0.1000 |      1.0000 |      0.0000 |          0.0500 |      2.0000 |              0.0000 |                   30.0000 |        30.0000 |       7.0000 |       0.0000 |             1.0000 |      1.0000 | \n",
      "    6 | 05m49s |    0.26711 |             0.1000 |         0.0000 |             1.0000 |             0.1000 |      1.0000 |      0.0000 |          0.3000 |      2.0000 |              0.0000 |                   30.0000 |        30.0000 |       7.0000 |       0.0000 |         10000.0000 |      0.4000 | \n",
      "    7 | 00m49s |   -0.81984 |             0.1000 |         2.0000 |             0.4000 |             0.1000 |      1.0000 |      0.0000 |          0.0500 |      2.0000 |              0.0000 |                   30.0000 |        30.0000 |    4095.0000 |       0.0000 |          7044.5673 |      0.4000 | \n"
     ]
    }
   ],
   "source": [
    "lgb_bo.maximize(init_points=2, n_iter=5)"
   ]
  },
  {
   "cell_type": "code",
   "execution_count": 17,
   "metadata": {},
   "outputs": [
    {
     "name": "stdout",
     "output_type": "stream",
     "text": [
      "------------------------------\n",
      "Maximum value: 0.471093\n",
      "Best parameters:  {'num_leaves': 1529.3576954704554, 'max_depth': 37.444282914832478, 'learning_rate': 0.23452418429686434, 'scale_pos_weight': 6580.4876109042989, 'min_sum_hessian_in_leaf': 11.962052369062521, 'subsample': 0.76337805108356305, 'colsample_bytree': 0.58472435602243988, 'feature_fraction': 0.76987832475440132, 'bagging_fraction': 0.86256616691951349, 'bagging_freq': 1.009651905410571, 'lambda_l1': 0.2722053666243982, 'lambda_l2': 0.64973537490875999, 'n_estimators': 2.959166522234129, 'reg_lambda': 1.314929801694485, 'min_gain_to_split': 0.11612000879580353}\n"
     ]
    }
   ],
   "source": [
    "print('-'*30)\n",
    "print('Maximum value: %f' % lgb_bo.res['max']['max_val'])\n",
    "print('Best parameters: ', lgb_bo.res['max']['max_params'])"
   ]
  },
  {
   "cell_type": "markdown",
   "metadata": {},
   "source": [
    "# Velification"
   ]
  },
  {
   "cell_type": "markdown",
   "metadata": {},
   "source": [
    "#### Test #2"
   ]
  },
  {
   "cell_type": "code",
   "execution_count": 22,
   "metadata": {},
   "outputs": [
    {
     "name": "stdout",
     "output_type": "stream",
     "text": [
      "fold cv 0 RMSLE score is 0.496463\n",
      "\n",
      "fold cv 1 RMSLE score is 0.498339\n",
      "\n",
      "fold cv 2 RMSLE score is 0.493171\n",
      "\n",
      "cv RMSLE score is 0.495997\n",
      "it takes 46.216 seconds to perform cross validation\n"
     ]
    }
   ],
   "source": [
    "lgb_params = {\n",
    "    'num_leaves': 1529,#1529.3576954704554, \n",
    "    'max_depth': 37, #37.444282914832478, \n",
    "    'learning_rate': 0.23452418429686434, \n",
    "    'scale_pos_weight': 6580.4876109042989, \n",
    "    'min_sum_hessian_in_leaf': 11.962052369062521, \n",
    "    'subsample': 0.76337805108356305, \n",
    "    'colsample_bytree': 0.58472435602243988, \n",
    "    'feature_fraction': 0.76987832475440132, \n",
    "    'bagging_fraction': 0.86256616691951349, \n",
    "    'bagging_freq': 1,#1.009651905410571, \n",
    "    'lambda_l1': 0.2722053666243982, \n",
    "    'lambda_l2': 0.64973537490875999, \n",
    "    'n_estimators': 2.959166522234129, \n",
    "    'reg_lambda': 1.314929801694485, \n",
    "    'min_gain_to_split': 0.11612000879580353\n",
    "}   \n",
    "\n",
    "outcomes=cross_validate_lgb(lgb_params, train_input, y, test_input, kf, verbose_eval=False)\n",
    "\n",
    "lgb_cv=outcomes[0]\n",
    "lgb_train_pred=outcomes[1]\n",
    "lgb_test_pred=outcomes[2]\n",
    "\n",
    "lgb_train_pred_df=pd.DataFrame(columns=['visitors'], data=lgb_train_pred)\n",
    "lgb_test_pred_df=pd.DataFrame(columns=['visitors'], data=lgb_test_pred)"
   ]
  },
  {
   "cell_type": "markdown",
   "metadata": {},
   "source": [
    "#### Test #1"
   ]
  },
  {
   "cell_type": "code",
   "execution_count": null,
   "metadata": {},
   "outputs": [],
   "source": [
    " Step |   Time |      Value |   bagging_fraction |   bagging_freq |   colsample_bytree |   feature_fraction |   lambda_l1 |   lambda_l2 |   learning_rate |   max_depth |   min_gain_to_split |   min_sum_hessian_in_leaf |   n_estimators |   num_leaves |   reg_lambda |   scale_pos_weight |   subsample | \n",
    "  16 | 04m08s |    0.44682 |             0.4011 |         1.1453 |             0.6074 |             0.7339 |      0.1065 |      0.8291 |          0.2741 |     44.2008 |              0.7664 |                   16.6714 |        15.5089 |     599.9429 |       0.2777 |          3577.8674 |      0.8158 |"
   ]
  },
  {
   "cell_type": "code",
   "execution_count": 54,
   "metadata": {},
   "outputs": [
    {
     "name": "stdout",
     "output_type": "stream",
     "text": [
      "fold cv 0 RMSLE score is 0.497629\n",
      "\n",
      "fold cv 1 RMSLE score is 0.501683\n",
      "\n",
      "fold cv 2 RMSLE score is 0.496157\n",
      "\n",
      "cv RMSLE score is 0.498496\n",
      "it takes 76.650 seconds to perform cross validation\n"
     ]
    }
   ],
   "source": [
    "lgb_params = {\n",
    "    'bagging_fraction': 0.4011,\n",
    "    'bagging_freq': 1,#1.1453,\n",
    "    'colsample_bytree': 0.6074,\n",
    "    'feature_fraction ': 0.7339,\n",
    "    'lambda_l1': 0.1065,\n",
    "    'lambda_l2': 0.8291,\n",
    "    'learning_rate': 0.2741,\n",
    "\n",
    "    'max_depth':44,\n",
    "    'min_gain_to_split': 0.7664,\n",
    "    'min_sum_hessian_in_leaf': 16.6714,\n",
    "    'n_estimators': 15.5089,\n",
    "    'num_leaves':600,\n",
    "    'reg_lambda':0.2777,\n",
    "    'scale_pos_weight':3577.8674,\n",
    "    'subsample': 0.8158\n",
    "}   \n",
    "\n",
    "outcomes=cross_validate_lgb(lgb_params, train_input, y, kf, test_input, verbose_eval=False)\n",
    "\n",
    "lgb_cv=outcomes[0]\n",
    "lgb_train_pred=outcomes[1]\n",
    "lgb_test_pred=outcomes[2]\n",
    "\n",
    "lgb_train_pred_df=pd.DataFrame(columns=['visitors'], data=lgb_train_pred)\n",
    "lgb_test_pred_df=pd.DataFrame(columns=['visitors'], data=lgb_test_pred)"
   ]
  },
  {
   "cell_type": "markdown",
   "metadata": {},
   "source": [
    "# Submission"
   ]
  },
  {
   "cell_type": "code",
   "execution_count": 24,
   "metadata": {},
   "outputs": [
    {
     "name": "stdout",
     "output_type": "stream",
     "text": [
      "Finished.\n"
     ]
    }
   ],
   "source": [
    "test['visitors'] = lgb_test_pred_df.values\n",
    "sub = test[['id','visitors']].copy()\n",
    "sub.to_csv('submission_rs_recruit_v11_lgbm_v05.csv', index=False)\n",
    "print('Finished.')"
   ]
  },
  {
   "cell_type": "markdown",
   "metadata": {},
   "source": [
    "# Last work with weight"
   ]
  },
  {
   "cell_type": "code",
   "execution_count": 36,
   "metadata": {},
   "outputs": [],
   "source": [
    "sub1 = sub.copy()"
   ]
  },
  {
   "cell_type": "code",
   "execution_count": 38,
   "metadata": {},
   "outputs": [],
   "source": [
    "# from hklee\n",
    "# https://www.kaggle.com/zeemeen/weighted-mean-comparisons-lb-0-497-1st/code\n",
    "dfs = { re.search('/([^/\\.]*)\\.csv', fn).group(1):\n",
    "    pd.read_csv(fn)for fn in glob.glob('../../../mltestdata/05_recruit/*.csv')}\n",
    "\n",
    "for k, v in dfs.items(): locals()[k] = v\n",
    "\n",
    "wkend_holidays = date_info.apply(\n",
    "    (lambda x:(x.day_of_week=='Sunday' or x.day_of_week=='Saturday') and x.holiday_flg==1), axis=1)\n",
    "date_info.loc[wkend_holidays, 'holiday_flg'] = 0\n",
    "date_info['weight'] = ((date_info.index + 1) / len(date_info)) ** 5  \n",
    "\n",
    "visit_data = air_visit_data.merge(date_info, left_on='visit_date', right_on='calendar_date', how='left')\n",
    "visit_data.drop('calendar_date', axis=1, inplace=True)\n",
    "visit_data['visitors'] = visit_data.visitors.map(pd.np.log1p)\n",
    "\n",
    "wmean = lambda x:( (x.weight * x.visitors).sum() / x.weight.sum() )\n",
    "visitors = visit_data.groupby(['air_store_id', 'day_of_week', 'holiday_flg']).apply(wmean).reset_index()\n",
    "visitors.rename(columns={0:'visitors'}, inplace=True) # cumbersome, should be better ways.\n",
    "\n",
    "sample_submission['air_store_id'] = sample_submission.id.map(lambda x: '_'.join(x.split('_')[:-1]))\n",
    "sample_submission['calendar_date'] = sample_submission.id.map(lambda x: x.split('_')[2])\n",
    "sample_submission.drop('visitors', axis=1, inplace=True)\n",
    "sample_submission = sample_submission.merge(date_info, on='calendar_date', how='left')\n",
    "sample_submission = sample_submission.merge(visitors, on=[\n",
    "    'air_store_id', 'day_of_week', 'holiday_flg'], how='left')\n",
    "\n",
    "missings = sample_submission.visitors.isnull()\n",
    "sample_submission.loc[missings, 'visitors'] = sample_submission[missings].merge(\n",
    "    visitors[visitors.holiday_flg==0], on=('air_store_id', 'day_of_week'), \n",
    "    how='left')['visitors_y'].values\n",
    "\n",
    "missings = sample_submission.visitors.isnull()\n",
    "sample_submission.loc[missings, 'visitors'] = sample_submission[missings].merge(\n",
    "    visitors[['air_store_id', 'visitors']].groupby('air_store_id').mean().reset_index(), \n",
    "    on='air_store_id', how='left')['visitors_y'].values\n",
    "\n",
    "sample_submission['visitors'] = sample_submission.visitors.map(pd.np.expm1)\n",
    "sub2 = sample_submission[['id', 'visitors']].copy()\n",
    "sub_merge = pd.merge(sub1, sub2, on='id', how='inner')"
   ]
  },
  {
   "cell_type": "code",
   "execution_count": 40,
   "metadata": {},
   "outputs": [],
   "source": [
    "sub_merge['visitors'] = (sub_merge['visitors_x'] + sub_merge['visitors_y']* 1.1)/2\n",
    "sub_merge[['id', 'visitors']].to_csv('submission_rs_recruit_v11_lgbm_v04_02.csv', index=False)\n",
    "# LB 0.485"
   ]
  },
  {
   "cell_type": "markdown",
   "metadata": {},
   "source": [
    "# Blending"
   ]
  },
  {
   "cell_type": "code",
   "execution_count": 41,
   "metadata": {},
   "outputs": [],
   "source": [
    "sub_automl = pd.read_csv('../../../mltestdata/05_recruit/submission_automl.csv')\n",
    "sub_lgbboptweight = pd.read_csv('./submission_rs_recruit_v11_lgbm_v04_02.csv')\n",
    "sub_blending = pd.DataFrame()\n",
    "sub_blending['id'] = sub_lgbboptweight['id']"
   ]
  },
  {
   "cell_type": "code",
   "execution_count": 47,
   "metadata": {},
   "outputs": [],
   "source": [
    "rate_automl = 0.8\n",
    "rate_lgbboptweight = 0.2"
   ]
  },
  {
   "cell_type": "code",
   "execution_count": null,
   "metadata": {},
   "outputs": [],
   "source": [
    "sub_blending['visitors'] = rate_automl*sub_automl['visitors']+rate_lgbboptweight*sub_lgbboptweight['visitors']\n",
    "sub_blending.to_csv('submission_rs_recruit_v11_lgbm_v04_03.csv', index=False)\n",
    "# LB 0.480"
   ]
  },
  {
   "cell_type": "code",
   "execution_count": 49,
   "metadata": {},
   "outputs": [],
   "source": [
    "rate_automl = 0.75\n",
    "rate_lgbboptweight = 0.25"
   ]
  },
  {
   "cell_type": "code",
   "execution_count": 50,
   "metadata": {},
   "outputs": [],
   "source": [
    "sub_blending['visitors'] = rate_automl*sub_automl['visitors']+rate_lgbboptweight*sub_lgbboptweight['visitors']\n",
    "sub_blending.to_csv('submission_rs_recruit_v11_lgbm_v04_04.csv', index=False)\n",
    "\n",
    "#lgbm\n",
    "#bopt\n",
    "#weight\n",
    "#blending with automl\n",
    "#LB 0.481"
   ]
  },
  {
   "cell_type": "code",
   "execution_count": 51,
   "metadata": {},
   "outputs": [],
   "source": [
    "rate_automl = 0.85\n",
    "rate_lgbboptweight = 0.15"
   ]
  },
  {
   "cell_type": "code",
   "execution_count": 52,
   "metadata": {},
   "outputs": [],
   "source": [
    "sub_blending['visitors'] = rate_automl*sub_automl['visitors']+rate_lgbboptweight*sub_lgbboptweight['visitors']\n",
    "sub_blending.to_csv('submission_rs_recruit_v11_lgbm_v04_05.csv', index=False)\n",
    "\n",
    "#lgbm\n",
    "#bopt\n",
    "#weight\n",
    "#blending with automl\n",
    "#LB "
   ]
  },
  {
   "cell_type": "code",
   "execution_count": null,
   "metadata": {},
   "outputs": [],
   "source": []
  }
 ],
 "metadata": {
  "kernelspec": {
   "display_name": "Python 3",
   "language": "python",
   "name": "python3"
  },
  "language_info": {
   "codemirror_mode": {
    "name": "ipython",
    "version": 3
   },
   "file_extension": ".py",
   "mimetype": "text/x-python",
   "name": "python",
   "nbconvert_exporter": "python",
   "pygments_lexer": "ipython3",
   "version": "3.6.2"
  }
 },
 "nbformat": 4,
 "nbformat_minor": 2
}
