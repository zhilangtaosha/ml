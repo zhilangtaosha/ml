{
 "cells": [
  {
   "cell_type": "code",
   "execution_count": 2,
   "metadata": {
    "collapsed": false
   },
   "outputs": [
    {
     "name": "stderr",
     "output_type": "stream",
     "text": [
      "C:\\Users\\User\\Anaconda2\\lib\\site-packages\\sklearn\\cross_validation.py:44: DeprecationWarning: This module was deprecated in version 0.18 in favor of the model_selection module into which all the refactored classes and functions are moved. Also note that the interface of the new CV iterators are different from that of this module. This module will be removed in 0.20.\n",
      "  \"This module will be removed in 0.20.\", DeprecationWarning)\n"
     ]
    }
   ],
   "source": [
    "import pandas as pd\n",
    "import numpy as np\n",
    "import xgboost as xgb\n",
    "def squared_log_error(labels,preds):\n",
    "    grad = 2*(np.log(preds+1)-np.log(labels+1))/(preds+1)\n",
    "    hess = 2*(1-np.log(preds+1)+np.log(labels+1))/np.power(preds+1,2)\n",
    "    return grad,hess\n",
    "def rmsle_metric(y_predicted,y_true):\n",
    "    labels = y_true.get_label()\n",
    "    assert (y_predicted>=0).all()\n",
    "    assert (labels>=0).all()\n",
    "    return 'rmsle', np.power(np.mean(np.power(np.log(y_predicted+1)-np.log(labels+1),2)),0.5)"
   ]
  },
  {
   "cell_type": "markdown",
   "metadata": {},
   "source": [
    "Trying to fit diabetes dataset. Here we use our custom objective function log_error"
   ]
  },
  {
   "cell_type": "code",
   "execution_count": 3,
   "metadata": {
    "collapsed": false
   },
   "outputs": [
    {
     "name": "stdout",
     "output_type": "stream",
     "text": [
      "[0]\tvalidation_0-rmsle:4.463321\n",
      "[10]\tvalidation_0-rmsle:3.699958\n",
      "[20]\tvalidation_0-rmsle:2.976745\n",
      "[30]\tvalidation_0-rmsle:2.321755\n",
      "[40]\tvalidation_0-rmsle:1.789807\n",
      "[50]\tvalidation_0-rmsle:1.423047\n",
      "[60]\tvalidation_0-rmsle:1.342123\n",
      "[70]\tvalidation_0-rmsle:1.342123\n",
      "[80]\tvalidation_0-rmsle:1.342123\n",
      "[90]\tvalidation_0-rmsle:1.342123\n",
      "[100]\tvalidation_0-rmsle:1.342123\n",
      "[110]\tvalidation_0-rmsle:1.342123\n",
      "[120]\tvalidation_0-rmsle:1.342123\n",
      "[130]\tvalidation_0-rmsle:1.342123\n",
      "[140]\tvalidation_0-rmsle:1.342123\n",
      "[150]\tvalidation_0-rmsle:1.342123\n",
      "[160]\tvalidation_0-rmsle:1.342123\n",
      "[170]\tvalidation_0-rmsle:1.342123\n",
      "[180]\tvalidation_0-rmsle:1.342123\n",
      "[190]\tvalidation_0-rmsle:1.342123\n",
      "[199]\tvalidation_0-rmsle:1.342123\n"
     ]
    },
    {
     "data": {
      "text/plain": [
       "XGBRegressor(base_score=0.5, colsample_bylevel=1, colsample_bytree=1, gamma=0,\n",
       "       learning_rate=0.1, max_delta_step=0, max_depth=3,\n",
       "       min_child_weight=1, missing=None, n_estimators=200, nthread=-1,\n",
       "       objective=<function squared_log_error at 0x0000000009229A58>,\n",
       "       reg_alpha=0, reg_lambda=1, scale_pos_weight=1, seed=0, silent=True,\n",
       "       subsample=1)"
      ]
     },
     "execution_count": 3,
     "metadata": {},
     "output_type": "execute_result"
    }
   ],
   "source": [
    "from sklearn import datasets\n",
    "from sklearn.model_selection import train_test_split\n",
    "X,y = datasets.load_diabetes(return_X_y=True)\n",
    "X_train,X_test,y_train,y_test = train_test_split(X,y,test_size=0.2)\n",
    "reg = xgb.XGBRegressor(objective=squared_log_error,n_estimators=200)\n",
    "reg.fit(X_train,y_train,eval_set=[(X_test,y_test)],verbose=10,eval_metric=rmsle_metric)"
   ]
  },
  {
   "cell_type": "markdown",
   "metadata": {},
   "source": [
    "Now with the same data we use objective='reg:linear', which is MSE. Although objective doesn't match our metric, the results are better."
   ]
  },
  {
   "cell_type": "code",
   "execution_count": 4,
   "metadata": {
    "collapsed": false
   },
   "outputs": [
    {
     "name": "stdout",
     "output_type": "stream",
     "text": [
      "[0]\tvalidation_0-rmsle:2.293573\n",
      "[10]\tvalidation_0-rmsle:0.556898\n",
      "[20]\tvalidation_0-rmsle:0.423323\n",
      "[30]\tvalidation_0-rmsle:0.415466\n",
      "[40]\tvalidation_0-rmsle:0.414273\n",
      "[50]\tvalidation_0-rmsle:0.415565\n",
      "[60]\tvalidation_0-rmsle:0.418882\n",
      "[70]\tvalidation_0-rmsle:0.422184\n",
      "[80]\tvalidation_0-rmsle:0.425254\n",
      "[90]\tvalidation_0-rmsle:0.424639\n",
      "[100]\tvalidation_0-rmsle:0.426733\n",
      "[110]\tvalidation_0-rmsle:0.432311\n",
      "[120]\tvalidation_0-rmsle:0.433355\n",
      "[130]\tvalidation_0-rmsle:0.435681\n",
      "[140]\tvalidation_0-rmsle:0.439054\n",
      "[150]\tvalidation_0-rmsle:0.441803\n",
      "[160]\tvalidation_0-rmsle:0.441173\n",
      "[170]\tvalidation_0-rmsle:0.443602\n",
      "[180]\tvalidation_0-rmsle:0.445704\n",
      "[190]\tvalidation_0-rmsle:0.447604\n",
      "[199]\tvalidation_0-rmsle:0.449539\n"
     ]
    },
    {
     "data": {
      "text/plain": [
       "XGBRegressor(base_score=0.5, colsample_bylevel=1, colsample_bytree=1, gamma=0,\n",
       "       learning_rate=0.1, max_delta_step=0, max_depth=3,\n",
       "       min_child_weight=1, missing=None, n_estimators=200, nthread=-1,\n",
       "       objective='reg:linear', reg_alpha=0, reg_lambda=1,\n",
       "       scale_pos_weight=1, seed=0, silent=True, subsample=1)"
      ]
     },
     "execution_count": 4,
     "metadata": {},
     "output_type": "execute_result"
    }
   ],
   "source": [
    "reg = xgb.XGBRegressor(objective='reg:linear',n_estimators=200)\n",
    "reg.fit(X_train,y_train,eval_set=[(X_test,y_test)],verbose=10,eval_metric=rmsle_metric)"
   ]
  },
  {
   "cell_type": "markdown",
   "metadata": {},
   "source": [
    "The same for boston dataset boston. Using custom objective here"
   ]
  },
  {
   "cell_type": "code",
   "execution_count": 5,
   "metadata": {
    "collapsed": false
   },
   "outputs": [
    {
     "name": "stdout",
     "output_type": "stream",
     "text": [
      "[0]\tvalidation_0-rmsle:2.623344\n",
      "[10]\tvalidation_0-rmsle:1.960921\n",
      "[20]\tvalidation_0-rmsle:1.377497\n",
      "[30]\tvalidation_0-rmsle:0.912772\n",
      "[40]\tvalidation_0-rmsle:0.590438\n",
      "[50]\tvalidation_0-rmsle:0.402852\n",
      "[60]\tvalidation_0-rmsle:0.311578\n",
      "[70]\tvalidation_0-rmsle:0.268956\n",
      "[80]\tvalidation_0-rmsle:0.249993\n",
      "[90]\tvalidation_0-rmsle:0.240412\n",
      "[100]\tvalidation_0-rmsle:0.236884\n",
      "[110]\tvalidation_0-rmsle:0.235856\n",
      "[120]\tvalidation_0-rmsle:0.235743\n",
      "[130]\tvalidation_0-rmsle:0.235890\n",
      "[140]\tvalidation_0-rmsle:0.236160\n",
      "[150]\tvalidation_0-rmsle:0.236549\n",
      "[160]\tvalidation_0-rmsle:0.236824\n",
      "[170]\tvalidation_0-rmsle:0.237065\n",
      "[180]\tvalidation_0-rmsle:0.237151\n",
      "[190]\tvalidation_0-rmsle:0.237211\n",
      "[199]\tvalidation_0-rmsle:0.237097\n"
     ]
    },
    {
     "data": {
      "text/plain": [
       "XGBRegressor(base_score=0.5, colsample_bylevel=1, colsample_bytree=1, gamma=0,\n",
       "       learning_rate=0.1, max_delta_step=0, max_depth=3,\n",
       "       min_child_weight=1, missing=None, n_estimators=200, nthread=-1,\n",
       "       objective=<function squared_log_error at 0x0000000009229A58>,\n",
       "       reg_alpha=0, reg_lambda=1, scale_pos_weight=1, seed=0, silent=True,\n",
       "       subsample=1)"
      ]
     },
     "execution_count": 5,
     "metadata": {},
     "output_type": "execute_result"
    }
   ],
   "source": [
    "X,y = datasets.load_boston(return_X_y=True)\n",
    "X_train,X_test,y_train,y_test = train_test_split(X,y,test_size=0.2)\n",
    "reg = xgb.XGBRegressor(objective=squared_log_error,n_estimators=200)\n",
    "reg.fit(X_train,y_train,eval_set=[(X_test,y_test)],verbose=10,eval_metric=rmsle_metric)"
   ]
  },
  {
   "cell_type": "markdown",
   "metadata": {},
   "source": [
    "Now switch to objective='reg:linear'. The results are better. Why?"
   ]
  },
  {
   "cell_type": "code",
   "execution_count": 6,
   "metadata": {
    "collapsed": false
   },
   "outputs": [
    {
     "name": "stdout",
     "output_type": "stream",
     "text": [
      "[0]\tvalidation_0-rmsle:1.817648\n",
      "[10]\tvalidation_0-rmsle:0.354631\n",
      "[20]\tvalidation_0-rmsle:0.170191\n",
      "[30]\tvalidation_0-rmsle:0.152364\n",
      "[40]\tvalidation_0-rmsle:0.150804\n",
      "[50]\tvalidation_0-rmsle:0.147795\n",
      "[60]\tvalidation_0-rmsle:0.147174\n",
      "[70]\tvalidation_0-rmsle:0.147921\n",
      "[80]\tvalidation_0-rmsle:0.146996\n",
      "[90]\tvalidation_0-rmsle:0.146501\n",
      "[100]\tvalidation_0-rmsle:0.146426\n",
      "[110]\tvalidation_0-rmsle:0.144498\n",
      "[120]\tvalidation_0-rmsle:0.142752\n",
      "[130]\tvalidation_0-rmsle:0.142482\n",
      "[140]\tvalidation_0-rmsle:0.141083\n",
      "[150]\tvalidation_0-rmsle:0.140208\n",
      "[160]\tvalidation_0-rmsle:0.139612\n",
      "[170]\tvalidation_0-rmsle:0.139364\n",
      "[180]\tvalidation_0-rmsle:0.139368\n",
      "[190]\tvalidation_0-rmsle:0.139506\n",
      "[199]\tvalidation_0-rmsle:0.139268\n"
     ]
    },
    {
     "data": {
      "text/plain": [
       "XGBRegressor(base_score=0.5, colsample_bylevel=1, colsample_bytree=1, gamma=0,\n",
       "       learning_rate=0.1, max_delta_step=0, max_depth=3,\n",
       "       min_child_weight=1, missing=None, n_estimators=200, nthread=-1,\n",
       "       objective='reg:linear', reg_alpha=0, reg_lambda=1,\n",
       "       scale_pos_weight=1, seed=0, silent=True, subsample=1)"
      ]
     },
     "execution_count": 6,
     "metadata": {},
     "output_type": "execute_result"
    }
   ],
   "source": [
    "X,y = datasets.load_boston(return_X_y=True)\n",
    "X_train,X_test,y_train,y_test = train_test_split(X,y,test_size=0.2)\n",
    "reg = xgb.XGBRegressor(objective='reg:linear',n_estimators=200)\n",
    "reg.fit(X_train,y_train,eval_set=[(X_test,y_test)],verbose=10,eval_metric=rmsle_metric)"
   ]
  }
 ],
 "metadata": {
  "anaconda-cloud": {},
  "kernelspec": {
   "display_name": "Python 3",
   "language": "python",
   "name": "python3"
  },
  "language_info": {
   "codemirror_mode": {
    "name": "ipython",
    "version": 3
   },
   "file_extension": ".py",
   "mimetype": "text/x-python",
   "name": "python",
   "nbconvert_exporter": "python",
   "pygments_lexer": "ipython3",
   "version": "3.6.2"
  }
 },
 "nbformat": 4,
 "nbformat_minor": 2
}
