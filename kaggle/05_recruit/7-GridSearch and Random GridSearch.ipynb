{
 "cells": [
  {
   "cell_type": "markdown",
   "metadata": {
    "_cell_guid": "e363abf9-dda4-4a10-883c-3364af6e193a",
    "_uuid": "2fbb8e62d3d428065897215bd6964c28f1267465"
   },
   "source": [
    "# Caterpillar Tube Pricing\n",
    "## Environment : Python 3\n",
    "## Author : Arion"
   ]
  },
  {
   "cell_type": "markdown",
   "metadata": {
    "_cell_guid": "5467a279-4b26-4f13-b859-5d79545fdabf",
    "_uuid": "fc2fe60da2d2c12102b11457e8b2024942ad68bb"
   },
   "source": [
    "# import packages"
   ]
  },
  {
   "cell_type": "code",
   "execution_count": 1,
   "metadata": {
    "_cell_guid": "c18e0f5d-2393-42df-bda0-dd07f673a860",
    "_uuid": "08033b3f5c88e6406b4a759176985d3473323dc1",
    "collapsed": true
   },
   "outputs": [],
   "source": [
    "import pandas as pd\n",
    "import numpy as np\n",
    "import seaborn as sns\n",
    "import matplotlib.pyplot as plt\n",
    "from sklearn.model_selection import train_test_split\n",
    "from sklearn import preprocessing\n",
    "import time\n",
    "\n",
    "pd.set_option('display.max_columns', 500)\n",
    "pd.set_option('display.max_colwidth', 500)\n",
    "pd.set_option('display.max_rows', 1000)\n",
    "\n",
    "import warnings\n",
    "warnings.filterwarnings('ignore')\n",
    "%matplotlib inline "
   ]
  },
  {
   "cell_type": "markdown",
   "metadata": {
    "_cell_guid": "8a0c551c-00cf-4fef-a67e-a961f3cb4733",
    "_uuid": "a8f474c44b7647b90b2fc8affba0e64c3b8ace6f"
   },
   "source": [
    "# import data"
   ]
  },
  {
   "cell_type": "code",
   "execution_count": 2,
   "metadata": {
    "_cell_guid": "e3223fbf-61e6-42a2-a5b4-416e7e5291ae",
    "_uuid": "3ddbab57272329821008a2d84cf4fb413992b664",
    "collapsed": true
   },
   "outputs": [],
   "source": [
    "train = pd.read_csv(\"../../../mltestdata/08_caterpillar/combination.csv\")"
   ]
  },
  {
   "cell_type": "markdown",
   "metadata": {
    "_cell_guid": "342bcb97-b027-4ad5-9e0a-00c702b496ad",
    "_uuid": "d5195854f49e08246a7382f3760d479e884c251b"
   },
   "source": [
    "# data preparation "
   ]
  },
  {
   "cell_type": "code",
   "execution_count": 3,
   "metadata": {
    "_cell_guid": "f22e7308-ce7f-4852-b673-812ece9b6137",
    "_uuid": "fc04866ea8342e6fb0da0d4e5ab36daad0c94bab",
    "collapsed": true
   },
   "outputs": [],
   "source": [
    "#There is no common tube_assembly_id between train and test data. So we drop this variable.\n",
    "train.drop(\"tube_assembly_id\", axis=1, inplace=True)"
   ]
  },
  {
   "cell_type": "code",
   "execution_count": 4,
   "metadata": {
    "_cell_guid": "7de6e691-43cc-4b35-8737-7769a4b5e37e",
    "_uuid": "4d781467bc90b1b508b6b477c65fe7b164e4bbc0",
    "collapsed": true
   },
   "outputs": [
    {
     "data": {
      "text/html": [
       "<div>\n",
       "<style>\n",
       "    .dataframe thead tr:only-child th {\n",
       "        text-align: right;\n",
       "    }\n",
       "\n",
       "    .dataframe thead th {\n",
       "        text-align: left;\n",
       "    }\n",
       "\n",
       "    .dataframe tbody tr th {\n",
       "        vertical-align: top;\n",
       "    }\n",
       "</style>\n",
       "<table border=\"1\" class=\"dataframe\">\n",
       "  <thead>\n",
       "    <tr style=\"text-align: right;\">\n",
       "      <th></th>\n",
       "      <th>0</th>\n",
       "      <th>1</th>\n",
       "      <th>2</th>\n",
       "      <th>3</th>\n",
       "      <th>4</th>\n",
       "    </tr>\n",
       "  </thead>\n",
       "  <tbody>\n",
       "    <tr>\n",
       "      <th>supplier</th>\n",
       "      <td>S-0066</td>\n",
       "      <td>S-0066</td>\n",
       "      <td>S-0066</td>\n",
       "      <td>S-0066</td>\n",
       "      <td>S-0066</td>\n",
       "    </tr>\n",
       "    <tr>\n",
       "      <th>quote_date</th>\n",
       "      <td>2013-07-07</td>\n",
       "      <td>2013-07-07</td>\n",
       "      <td>2013-07-07</td>\n",
       "      <td>2013-07-07</td>\n",
       "      <td>2013-07-07</td>\n",
       "    </tr>\n",
       "    <tr>\n",
       "      <th>annual_usage</th>\n",
       "      <td>0</td>\n",
       "      <td>0</td>\n",
       "      <td>0</td>\n",
       "      <td>0</td>\n",
       "      <td>0</td>\n",
       "    </tr>\n",
       "    <tr>\n",
       "      <th>min_order_quantity</th>\n",
       "      <td>0</td>\n",
       "      <td>0</td>\n",
       "      <td>0</td>\n",
       "      <td>0</td>\n",
       "      <td>0</td>\n",
       "    </tr>\n",
       "    <tr>\n",
       "      <th>bracket_pricing</th>\n",
       "      <td>Yes</td>\n",
       "      <td>Yes</td>\n",
       "      <td>Yes</td>\n",
       "      <td>Yes</td>\n",
       "      <td>Yes</td>\n",
       "    </tr>\n",
       "    <tr>\n",
       "      <th>quantity</th>\n",
       "      <td>1</td>\n",
       "      <td>2</td>\n",
       "      <td>5</td>\n",
       "      <td>10</td>\n",
       "      <td>25</td>\n",
       "    </tr>\n",
       "    <tr>\n",
       "      <th>cost</th>\n",
       "      <td>21.9059</td>\n",
       "      <td>12.3412</td>\n",
       "      <td>6.60183</td>\n",
       "      <td>4.68777</td>\n",
       "      <td>3.54156</td>\n",
       "    </tr>\n",
       "    <tr>\n",
       "      <th>material_id</th>\n",
       "      <td>SP-0019</td>\n",
       "      <td>SP-0019</td>\n",
       "      <td>SP-0019</td>\n",
       "      <td>SP-0019</td>\n",
       "      <td>SP-0019</td>\n",
       "    </tr>\n",
       "    <tr>\n",
       "      <th>diameter</th>\n",
       "      <td>6.35</td>\n",
       "      <td>6.35</td>\n",
       "      <td>6.35</td>\n",
       "      <td>6.35</td>\n",
       "      <td>6.35</td>\n",
       "    </tr>\n",
       "    <tr>\n",
       "      <th>wall</th>\n",
       "      <td>0.71</td>\n",
       "      <td>0.71</td>\n",
       "      <td>0.71</td>\n",
       "      <td>0.71</td>\n",
       "      <td>0.71</td>\n",
       "    </tr>\n",
       "    <tr>\n",
       "      <th>length</th>\n",
       "      <td>137</td>\n",
       "      <td>137</td>\n",
       "      <td>137</td>\n",
       "      <td>137</td>\n",
       "      <td>137</td>\n",
       "    </tr>\n",
       "    <tr>\n",
       "      <th>num_bends</th>\n",
       "      <td>8</td>\n",
       "      <td>8</td>\n",
       "      <td>8</td>\n",
       "      <td>8</td>\n",
       "      <td>8</td>\n",
       "    </tr>\n",
       "    <tr>\n",
       "      <th>bend_radius</th>\n",
       "      <td>19.05</td>\n",
       "      <td>19.05</td>\n",
       "      <td>19.05</td>\n",
       "      <td>19.05</td>\n",
       "      <td>19.05</td>\n",
       "    </tr>\n",
       "    <tr>\n",
       "      <th>end_a_1x</th>\n",
       "      <td>N</td>\n",
       "      <td>N</td>\n",
       "      <td>N</td>\n",
       "      <td>N</td>\n",
       "      <td>N</td>\n",
       "    </tr>\n",
       "    <tr>\n",
       "      <th>end_a_2x</th>\n",
       "      <td>N</td>\n",
       "      <td>N</td>\n",
       "      <td>N</td>\n",
       "      <td>N</td>\n",
       "      <td>N</td>\n",
       "    </tr>\n",
       "    <tr>\n",
       "      <th>end_x_1x</th>\n",
       "      <td>N</td>\n",
       "      <td>N</td>\n",
       "      <td>N</td>\n",
       "      <td>N</td>\n",
       "      <td>N</td>\n",
       "    </tr>\n",
       "    <tr>\n",
       "      <th>end_x_2x</th>\n",
       "      <td>N</td>\n",
       "      <td>N</td>\n",
       "      <td>N</td>\n",
       "      <td>N</td>\n",
       "      <td>N</td>\n",
       "    </tr>\n",
       "    <tr>\n",
       "      <th>end_a</th>\n",
       "      <td>EF-008</td>\n",
       "      <td>EF-008</td>\n",
       "      <td>EF-008</td>\n",
       "      <td>EF-008</td>\n",
       "      <td>EF-008</td>\n",
       "    </tr>\n",
       "    <tr>\n",
       "      <th>end_x</th>\n",
       "      <td>EF-008</td>\n",
       "      <td>EF-008</td>\n",
       "      <td>EF-008</td>\n",
       "      <td>EF-008</td>\n",
       "      <td>EF-008</td>\n",
       "    </tr>\n",
       "    <tr>\n",
       "      <th>num_boss</th>\n",
       "      <td>0</td>\n",
       "      <td>0</td>\n",
       "      <td>0</td>\n",
       "      <td>0</td>\n",
       "      <td>0</td>\n",
       "    </tr>\n",
       "    <tr>\n",
       "      <th>num_bracket</th>\n",
       "      <td>0</td>\n",
       "      <td>0</td>\n",
       "      <td>0</td>\n",
       "      <td>0</td>\n",
       "      <td>0</td>\n",
       "    </tr>\n",
       "    <tr>\n",
       "      <th>other</th>\n",
       "      <td>0</td>\n",
       "      <td>0</td>\n",
       "      <td>0</td>\n",
       "      <td>0</td>\n",
       "      <td>0</td>\n",
       "    </tr>\n",
       "    <tr>\n",
       "      <th>type_totals</th>\n",
       "      <td>1</td>\n",
       "      <td>1</td>\n",
       "      <td>1</td>\n",
       "      <td>1</td>\n",
       "      <td>1</td>\n",
       "    </tr>\n",
       "    <tr>\n",
       "      <th>component_totals</th>\n",
       "      <td>2</td>\n",
       "      <td>2</td>\n",
       "      <td>2</td>\n",
       "      <td>2</td>\n",
       "      <td>2</td>\n",
       "    </tr>\n",
       "    <tr>\n",
       "      <th>spec_totals</th>\n",
       "      <td>0</td>\n",
       "      <td>0</td>\n",
       "      <td>0</td>\n",
       "      <td>0</td>\n",
       "      <td>0</td>\n",
       "    </tr>\n",
       "  </tbody>\n",
       "</table>\n",
       "</div>"
      ],
      "text/plain": [
       "                             0           1           2           3           4\n",
       "supplier                S-0066      S-0066      S-0066      S-0066      S-0066\n",
       "quote_date          2013-07-07  2013-07-07  2013-07-07  2013-07-07  2013-07-07\n",
       "annual_usage                 0           0           0           0           0\n",
       "min_order_quantity           0           0           0           0           0\n",
       "bracket_pricing            Yes         Yes         Yes         Yes         Yes\n",
       "quantity                     1           2           5          10          25\n",
       "cost                   21.9059     12.3412     6.60183     4.68777     3.54156\n",
       "material_id            SP-0019     SP-0019     SP-0019     SP-0019     SP-0019\n",
       "diameter                  6.35        6.35        6.35        6.35        6.35\n",
       "wall                      0.71        0.71        0.71        0.71        0.71\n",
       "length                     137         137         137         137         137\n",
       "num_bends                    8           8           8           8           8\n",
       "bend_radius              19.05       19.05       19.05       19.05       19.05\n",
       "end_a_1x                     N           N           N           N           N\n",
       "end_a_2x                     N           N           N           N           N\n",
       "end_x_1x                     N           N           N           N           N\n",
       "end_x_2x                     N           N           N           N           N\n",
       "end_a                   EF-008      EF-008      EF-008      EF-008      EF-008\n",
       "end_x                   EF-008      EF-008      EF-008      EF-008      EF-008\n",
       "num_boss                     0           0           0           0           0\n",
       "num_bracket                  0           0           0           0           0\n",
       "other                        0           0           0           0           0\n",
       "type_totals                  1           1           1           1           1\n",
       "component_totals             2           2           2           2           2\n",
       "spec_totals                  0           0           0           0           0"
      ]
     },
     "execution_count": 4,
     "metadata": {},
     "output_type": "execute_result"
    }
   ],
   "source": [
    "train.head().transpose()"
   ]
  },
  {
   "cell_type": "code",
   "execution_count": 5,
   "metadata": {
    "_cell_guid": "d6d43c2f-3617-4f44-aa6a-f879ba36dfa0",
    "_uuid": "a699a013878708ca7c63442645943ddf12a592e0",
    "collapsed": true
   },
   "outputs": [],
   "source": [
    "train.quote_date = pd.to_datetime(train.quote_date)"
   ]
  },
  {
   "cell_type": "code",
   "execution_count": 6,
   "metadata": {
    "_cell_guid": "04fff647-6183-466f-a410-9d5ff501599e",
    "_uuid": "88cf2e0977951eb5a75475a916d5f8595e9fa87c",
    "collapsed": true
   },
   "outputs": [],
   "source": [
    "#add new numeric time features\n",
    "\n",
    "train[\"year\"] = train.quote_date.dt.year\n",
    "train[\"month\"] = train.quote_date.dt.month\n",
    "train[\"day\"] = train.quote_date.dt.day\n",
    "train[\"day_of_week\"] = train.quote_date.dt.dayofweek"
   ]
  },
  {
   "cell_type": "code",
   "execution_count": 7,
   "metadata": {
    "_cell_guid": "87b5f4a8-b89a-4ae7-b243-8870f1594101",
    "_uuid": "51cc6036096f6e1bd48508be47d21c82ac6da44b",
    "collapsed": true
   },
   "outputs": [],
   "source": [
    "#only use numeric data\n",
    "data = train.select_dtypes(include=['int', 'float'])"
   ]
  },
  {
   "cell_type": "code",
   "execution_count": 8,
   "metadata": {
    "_cell_guid": "49c42459-c870-46b5-a41b-568bbc7d25af",
    "_uuid": "b85269f5e953a9db71399424180f93552b91ca33",
    "collapsed": true
   },
   "outputs": [],
   "source": [
    "#fill null by 0\n",
    "data.replace(np.nan, 0, inplace=True)"
   ]
  },
  {
   "cell_type": "markdown",
   "metadata": {
    "_cell_guid": "f618d606-570a-46ce-a09e-542d063362cb",
    "_uuid": "2a0432beb4acdbed6b3e8e0693ae9b9281f332de"
   },
   "source": [
    "# Utility Functions"
   ]
  },
  {
   "cell_type": "code",
   "execution_count": 9,
   "metadata": {
    "_cell_guid": "de20f9a7-9abc-45b4-9646-6fc7848f9086",
    "_uuid": "6efa859ff2594dd16e791afff356762544ef7ad0",
    "collapsed": true
   },
   "outputs": [],
   "source": [
    "#define a evaluation function\n",
    "\n",
    "def rmsle_score(preds, true):\n",
    "    rmsle_score = (np.sum((np.log1p(preds)-np.log1p(true))**2)/len(true))**0.5\n",
    "    return rmsle_score"
   ]
  },
  {
   "cell_type": "code",
   "execution_count": 10,
   "metadata": {
    "_cell_guid": "f5df048d-39a2-4496-9f5d-e88a29def911",
    "_uuid": "da6a888a90afd727b887155c3efa2bae1f0bcea6",
    "collapsed": true
   },
   "outputs": [],
   "source": [
    "#Define a evaluation matrix \n",
    "from sklearn.metrics.scorer import make_scorer\n",
    "\n",
    "RMSLE = make_scorer(rmsle_score)"
   ]
  },
  {
   "cell_type": "code",
   "execution_count": 11,
   "metadata": {
    "_cell_guid": "5f7c4144-766d-4a44-9ee0-878037aeceb9",
    "_uuid": "48eba7a9e51ff709fb6ca069b4beb29d8ed29dbe",
    "collapsed": true
   },
   "outputs": [],
   "source": [
    "# define a function for comparing predictions and true data.\n",
    "\n",
    "def compare_result(preds, true):\n",
    "    compare = pd.DataFrame({\"test_id\": true.index,\n",
    "                           \"real_cost\": true,\n",
    "                           \"pred_cost\": preds})\n",
    "    compare = compare[[\"test_id\", \"real_cost\", \"pred_cost\"]].reset_index(drop=True)\n",
    "    \n",
    "    compare[\"error_percent_(%)\"] = np.abs(compare.real_cost - compare.pred_cost) / compare.real_cost * 100\n",
    "    \n",
    "    return compare"
   ]
  },
  {
   "cell_type": "markdown",
   "metadata": {
    "_cell_guid": "8b005e57-cea8-4e80-ae6d-1309725d7305",
    "_uuid": "8a486fd36bf0868ef902c162281a881145aee328"
   },
   "source": [
    "# application of XGB(eXtreme Gradient Boosting) model"
   ]
  },
  {
   "cell_type": "markdown",
   "metadata": {
    "_cell_guid": "b641c7e1-68f0-4cbb-a29a-8d7e96d532f1",
    "_uuid": "1986010c1a01205f954b1794524301c8fa738a04"
   },
   "source": [
    "### simple XGB regression"
   ]
  },
  {
   "cell_type": "code",
   "execution_count": 12,
   "metadata": {
    "_cell_guid": "c09a235d-d23d-4601-a4f3-f4c8a27221f8",
    "_uuid": "3f5536472381212c29ffc23431e75f79cca63f46",
    "collapsed": true
   },
   "outputs": [],
   "source": [
    "import xgboost as xgb\n",
    "from xgboost import XGBRegressor"
   ]
  },
  {
   "cell_type": "code",
   "execution_count": 13,
   "metadata": {
    "_cell_guid": "2c3bb755-1e90-4d5e-9487-c3f51568f390",
    "_uuid": "c378d78031360b9d3cf10ff707395c45cbe87876",
    "collapsed": true
   },
   "outputs": [],
   "source": [
    "# split for machine learning model\n",
    "\n",
    "train_data, valid_data = train_test_split(data, test_size = 0.2)\n",
    "\n",
    "label = \"cost\"\n",
    "\n",
    "data_labels = train_data.columns.tolist()\n",
    "data_labels.remove(label)\n",
    "\n",
    "train_df = train_data[data_labels]\n",
    "valid_df = valid_data[data_labels]\n",
    "train_label = train_data[label]\n",
    "valid_label = valid_data[label]"
   ]
  },
  {
   "cell_type": "code",
   "execution_count": 14,
   "metadata": {
    "_cell_guid": "f95974cc-bea7-44cf-a6e6-75955f12dd34",
    "_uuid": "756e28972bbfb5f011074515f37ce53aa653b845",
    "collapsed": true
   },
   "outputs": [
    {
     "name": "stdout",
     "output_type": "stream",
     "text": [
      "XGB RMSLE is : 0.31895053690076036\n",
      "It takes 8.53025507926941 seconds\n"
     ]
    }
   ],
   "source": [
    "#XGB regression\n",
    "\n",
    "start = time.time()\n",
    "xgb_regressor=XGBRegressor(max_depth=3, n_estimators=300, learning_rate=0.1)\n",
    "\n",
    "\n",
    "label_log=np.log1p(train_label)\n",
    "\n",
    "model = xgb_regressor.fit(train_df, label_log)\n",
    "xgb_preds1 = model.predict(valid_df)\n",
    "\n",
    "xgb_preds = np.expm1(xgb_preds1)\n",
    "        \n",
    "rmsle_xgb = rmsle_score(xgb_preds, valid_label)\n",
    "print (\"XGB RMSLE is : {}\".format(rmsle_xgb))\n",
    "\n",
    "compare_xgb = compare_result(preds=xgb_preds, true=valid_label)\n",
    "\n",
    "end = time.time()\n",
    "duration = end - start\n",
    "print (\"It takes {} seconds\".format(duration))"
   ]
  },
  {
   "cell_type": "code",
   "execution_count": 15,
   "metadata": {
    "_cell_guid": "850e7711-1748-43aa-8249-e27c426a0732",
    "_uuid": "7a97f02a6d3bd7a59e32247e5c43387c0ccb1f3d",
    "collapsed": true
   },
   "outputs": [
    {
     "data": {
      "text/html": [
       "<div>\n",
       "<style>\n",
       "    .dataframe thead tr:only-child th {\n",
       "        text-align: right;\n",
       "    }\n",
       "\n",
       "    .dataframe thead th {\n",
       "        text-align: left;\n",
       "    }\n",
       "\n",
       "    .dataframe tbody tr th {\n",
       "        vertical-align: top;\n",
       "    }\n",
       "</style>\n",
       "<table border=\"1\" class=\"dataframe\">\n",
       "  <thead>\n",
       "    <tr style=\"text-align: right;\">\n",
       "      <th></th>\n",
       "      <th>test_id</th>\n",
       "      <th>real_cost</th>\n",
       "      <th>pred_cost</th>\n",
       "      <th>error_percent_(%)</th>\n",
       "    </tr>\n",
       "  </thead>\n",
       "  <tbody>\n",
       "    <tr>\n",
       "      <th>0</th>\n",
       "      <td>18105</td>\n",
       "      <td>7.122071</td>\n",
       "      <td>8.189403</td>\n",
       "      <td>14.986250</td>\n",
       "    </tr>\n",
       "    <tr>\n",
       "      <th>1</th>\n",
       "      <td>7747</td>\n",
       "      <td>10.652504</td>\n",
       "      <td>7.499519</td>\n",
       "      <td>29.598531</td>\n",
       "    </tr>\n",
       "    <tr>\n",
       "      <th>2</th>\n",
       "      <td>27625</td>\n",
       "      <td>3.288394</td>\n",
       "      <td>4.834514</td>\n",
       "      <td>47.017493</td>\n",
       "    </tr>\n",
       "    <tr>\n",
       "      <th>3</th>\n",
       "      <td>16666</td>\n",
       "      <td>11.846007</td>\n",
       "      <td>11.310003</td>\n",
       "      <td>4.524767</td>\n",
       "    </tr>\n",
       "    <tr>\n",
       "      <th>4</th>\n",
       "      <td>25287</td>\n",
       "      <td>3.594420</td>\n",
       "      <td>3.919402</td>\n",
       "      <td>9.041279</td>\n",
       "    </tr>\n",
       "    <tr>\n",
       "      <th>5</th>\n",
       "      <td>16430</td>\n",
       "      <td>3.438625</td>\n",
       "      <td>3.088557</td>\n",
       "      <td>10.180457</td>\n",
       "    </tr>\n",
       "    <tr>\n",
       "      <th>6</th>\n",
       "      <td>9818</td>\n",
       "      <td>4.139704</td>\n",
       "      <td>4.286053</td>\n",
       "      <td>3.535260</td>\n",
       "    </tr>\n",
       "    <tr>\n",
       "      <th>7</th>\n",
       "      <td>1840</td>\n",
       "      <td>2.715290</td>\n",
       "      <td>2.697382</td>\n",
       "      <td>0.659503</td>\n",
       "    </tr>\n",
       "    <tr>\n",
       "      <th>8</th>\n",
       "      <td>20478</td>\n",
       "      <td>5.244181</td>\n",
       "      <td>4.712635</td>\n",
       "      <td>10.135925</td>\n",
       "    </tr>\n",
       "    <tr>\n",
       "      <th>9</th>\n",
       "      <td>14281</td>\n",
       "      <td>27.831719</td>\n",
       "      <td>34.156990</td>\n",
       "      <td>22.726844</td>\n",
       "    </tr>\n",
       "  </tbody>\n",
       "</table>\n",
       "</div>"
      ],
      "text/plain": [
       "   test_id  real_cost  pred_cost  error_percent_(%)\n",
       "0    18105   7.122071   8.189403          14.986250\n",
       "1     7747  10.652504   7.499519          29.598531\n",
       "2    27625   3.288394   4.834514          47.017493\n",
       "3    16666  11.846007  11.310003           4.524767\n",
       "4    25287   3.594420   3.919402           9.041279\n",
       "5    16430   3.438625   3.088557          10.180457\n",
       "6     9818   4.139704   4.286053           3.535260\n",
       "7     1840   2.715290   2.697382           0.659503\n",
       "8    20478   5.244181   4.712635          10.135925\n",
       "9    14281  27.831719  34.156990          22.726844"
      ]
     },
     "execution_count": 15,
     "metadata": {},
     "output_type": "execute_result"
    }
   ],
   "source": [
    "compare_xgb.head(10)"
   ]
  },
  {
   "cell_type": "markdown",
   "metadata": {
    "_cell_guid": "45328691-8e77-4c96-8d38-d87f20c90e1c",
    "_uuid": "92fb52c0732827cead1b952b18d3e9ed5235ef12"
   },
   "source": [
    "### XGB Regression and GridSearch"
   ]
  },
  {
   "cell_type": "code",
   "execution_count": 16,
   "metadata": {
    "_cell_guid": "c8d56747-87be-4762-a01f-01da05817f36",
    "_uuid": "ad4d8510523e8a27c0a356df117e9dae05149598",
    "collapsed": true
   },
   "outputs": [],
   "source": [
    "from sklearn.model_selection import GridSearchCV\n",
    "#set parameters\n",
    "parameters = {\n",
    "    'max_depth': [3, 5, 7],\n",
    "    \"n_estimators\": [100, 300, 500],\n",
    "}\n",
    "\n",
    "#define XGB Grid Search model\n",
    "xgb_gridsearch = GridSearchCV(xgb_regressor, parameters, scoring=RMSLE, cv=5)"
   ]
  },
  {
   "cell_type": "code",
   "execution_count": null,
   "metadata": {
    "_cell_guid": "c72a3c68-dec5-4b02-8a2e-3981b84fcad1",
    "_uuid": "f24ad31b425eb1ac425e7485b07f431d33366486",
    "collapsed": true
   },
   "outputs": [],
   "source": [
    "#grid search experiment\n",
    "start = time.time()\n",
    "\n",
    "#label_log=np.log1p(train_label)\n",
    "\n",
    "xgb_gridsearch.fit(train_df, train_label)\n",
    "\n",
    "end = time.time()\n",
    "duration = end-start\n",
    "print (\"It takes {} seconds\".format(duration))"
   ]
  },
  {
   "cell_type": "code",
   "execution_count": null,
   "metadata": {
    "_cell_guid": "bc0b679a-8281-4b39-b7d8-7335260652b7",
    "_uuid": "ba7679e11c8aadd5c61d76b46a18c22b45a6043a",
    "collapsed": true
   },
   "outputs": [],
   "source": [
    "#get/show the best parameters\n",
    "best_parameters, score, _ = min(xgb_gridsearch.grid_scores_, key=lambda x: x[1])\n",
    "print('score:', score)\n",
    "\n",
    "for param_name in sorted(best_parameters.keys()):\n",
    "    print(\"%s: %r\" % (param_name, best_parameters[param_name]))\n",
    "    \n",
    "\n",
    "#use best model to predict\n",
    "start = time.time()\n",
    "xgb_regressor = XGBRegressor(max_depth=best_parameters[\"max_depth\"], n_estimators=best_parameters[\"n_estimators\"], learning_rate=0.1)\n",
    "\n",
    "label_log = np.log1p(train_label)\n",
    "\n",
    "model = xgb_regressor.fit(train_df, label_log)\n",
    "xgb_preds1 = model.predict(valid_df)\n",
    "\n",
    "xgb_preds = np.expm1(xgb_preds1)\n",
    "        \n",
    "rmsle_xgb = rmsle_score(xgb_preds, valid_label)\n",
    "print (\"XGB RMSLE is : {}\".format(rmsle_xgb))\n",
    "\n",
    "end = time.time()\n",
    "duration = end - start\n",
    "print (\"It takes {} seconds\".format(duration))\n",
    "\n",
    "compare_xgb = compare_result(preds=xgb_preds, true=valid_label)"
   ]
  },
  {
   "cell_type": "code",
   "execution_count": null,
   "metadata": {
    "_cell_guid": "1061435d-8782-4f06-af3d-2afcae2e6c41",
    "_uuid": "697ca114d22f084dfb3c5670b421ab5adb780dd7",
    "collapsed": true
   },
   "outputs": [],
   "source": [
    "compare_xgb.head(10)"
   ]
  },
  {
   "cell_type": "markdown",
   "metadata": {
    "_cell_guid": "f8f1804d-bc8c-464b-928e-16a9b781fe4a",
    "_uuid": "bf5486f6dbc56873323073ac1336f7b863adcac4"
   },
   "source": [
    "### XGB Regression and Random Grid Search"
   ]
  },
  {
   "cell_type": "code",
   "execution_count": null,
   "metadata": {
    "_cell_guid": "2dbe1e15-5293-44e1-ba9c-f2d1ed31678a",
    "_uuid": "392171e93cf6f3597da2f634204fbd6ea14c2b35",
    "collapsed": true
   },
   "outputs": [],
   "source": [
    "from sklearn.model_selection import RandomizedSearchCV\n",
    "#define XGB Random Grid Search model\n",
    "xgb_randomsearch = RandomizedSearchCV(xgb_regressor, parameters, scoring=RMSLE, cv=5, n_iter=3) #n_iter works for what?\n",
    "\n",
    "#set parameters\n",
    "parameters = {\n",
    "    'max_depth': [3, 5, 7],\n",
    "    \"n_estimators\": [100, 300, 500],\n",
    "}"
   ]
  },
  {
   "cell_type": "code",
   "execution_count": null,
   "metadata": {
    "_cell_guid": "be9cf595-33f7-4d44-be8a-e065a85e3e6e",
    "_uuid": "c9e8e1651df71d37112b3c077d153b70fa7e1ca6",
    "collapsed": true
   },
   "outputs": [],
   "source": [
    "#Random Grid Search experiment\n",
    "start = time.time()\n",
    "\n",
    "#label_log=np.log1p(train_label)\n",
    "\n",
    "xgb_randomsearch.fit(train_df, train_label)\n",
    "\n",
    "end = time.time()\n",
    "duration = end-start\n",
    "print (\"It takes {} seconds\".format(duration))"
   ]
  },
  {
   "cell_type": "code",
   "execution_count": null,
   "metadata": {
    "_cell_guid": "6ecac0d2-1c56-429f-bea6-092c082dc5fe",
    "_uuid": "be2fe6d0080758e36ef12b6faf03204ca6b367a9",
    "collapsed": true
   },
   "outputs": [],
   "source": [
    "#get/show the best parameters\n",
    "best_parameters, score, _ = min(xgb_randomsearch.grid_scores_, key=lambda x: x[1])\n",
    "print('score:', score)\n",
    "\n",
    "for param_name in sorted(best_parameters.keys()):\n",
    "    print(\"%s: %r\" % (param_name, best_parameters[param_name]))\n",
    "    \n",
    "#use best model to predict\n",
    "start = time.time()\n",
    "xgb_regressor = XGBRegressor(max_depth=best_parameters[\"max_depth\"], n_estimators=best_parameters[\"n_estimators\"], learning_rate=0.1)\n",
    "\n",
    "label_log = np.log1p(train_label)\n",
    "\n",
    "model = xgb_regressor.fit(train_df, label_log)\n",
    "xgb_preds1 = model.predict(valid_df)\n",
    "\n",
    "xgb_preds = np.expm1(xgb_preds1)\n",
    "        \n",
    "rmsle_xgb = rmsle_score(xgb_preds, valid_label)\n",
    "print (\"XGB RMSLE is : {}\".format(rmsle_xgb))\n",
    "\n",
    "end = time.time()\n",
    "duration = end - start\n",
    "print (\"It takes {} seconds\".format(duration))\n",
    "\n",
    "compare_xgb = compare_result(preds=xgb_preds, true=valid_label)"
   ]
  },
  {
   "cell_type": "code",
   "execution_count": null,
   "metadata": {
    "_cell_guid": "f5908273-5513-41f5-9c5e-3f452f4197a0",
    "_uuid": "649b43a3156c066b2afc9b8c2ffdd34f2df168b9",
    "collapsed": true
   },
   "outputs": [],
   "source": [
    "compare_xgb.head(10)"
   ]
  }
 ],
 "metadata": {
  "kernelspec": {
   "display_name": "Python 3",
   "language": "python",
   "name": "python3"
  },
  "language_info": {
   "codemirror_mode": {
    "name": "ipython",
    "version": 3
   },
   "file_extension": ".py",
   "mimetype": "text/x-python",
   "name": "python",
   "nbconvert_exporter": "python",
   "pygments_lexer": "ipython3",
   "version": "3.6.2"
  }
 },
 "nbformat": 4,
 "nbformat_minor": 2
}
