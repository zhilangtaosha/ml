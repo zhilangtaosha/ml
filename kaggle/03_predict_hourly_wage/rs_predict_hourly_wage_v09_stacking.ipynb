{
 "cells": [
  {
   "cell_type": "code",
   "execution_count": 43,
   "metadata": {},
   "outputs": [],
   "source": [
    "import pandas as pd\n",
    "import numpy as np\n",
    "import matplotlib.pyplot as plt\n",
    "import seaborn as sns\n",
    "%matplotlib inline\n",
    "from scipy.stats import norm\n",
    "from scipy import stats\n",
    "\n",
    "import xgboost as xgb\n",
    "from sklearn.model_selection import train_test_split\n",
    "\n",
    "from sklearn.base import BaseEstimator, TransformerMixin, RegressorMixin, clone"
   ]
  },
  {
   "cell_type": "code",
   "execution_count": 44,
   "metadata": {},
   "outputs": [],
   "source": [
    "train = pd.read_csv(\"../../../mltestdata/03_predict_hourly_wage/Income_training.csv\")\n",
    "test = pd.read_csv(\"../../../mltestdata/03_predict_hourly_wage/Income_testing.csv\")"
   ]
  },
  {
   "cell_type": "markdown",
   "metadata": {},
   "source": [
    "# Data Exploring\n",
    "* * * *"
   ]
  },
  {
   "cell_type": "markdown",
   "metadata": {},
   "source": [
    "# Preprocessiong\n",
    "* * * *"
   ]
  },
  {
   "cell_type": "code",
   "execution_count": 45,
   "metadata": {},
   "outputs": [],
   "source": [
    "train_target = train.compositeHourlyWages.values\n",
    "\n",
    "test_ID = test['ID']\n",
    "test.drop(\"ID\", axis = 1, inplace = True)\n",
    "\n",
    "train.drop(['compositeHourlyWages'], axis=1, inplace=True)"
   ]
  },
  {
   "cell_type": "code",
   "execution_count": 46,
   "metadata": {},
   "outputs": [],
   "source": [
    "X_train, X_test, y_train, y_test = train_test_split(train,train_target,test_size=0.2,random_state=0)"
   ]
  },
  {
   "cell_type": "markdown",
   "metadata": {},
   "source": [
    "# Modeling\n",
    "* * * * *"
   ]
  },
  {
   "cell_type": "markdown",
   "metadata": {},
   "source": [
    "**Import librairies**"
   ]
  },
  {
   "cell_type": "code",
   "execution_count": 47,
   "metadata": {},
   "outputs": [],
   "source": [
    "from sklearn.pipeline import make_pipeline\n",
    "from sklearn.preprocessing import RobustScaler\n",
    "from sklearn.linear_model import Lasso, ElasticNet\n",
    "from sklearn.kernel_ridge import KernelRidge\n",
    "from sklearn.ensemble import RandomForestRegressor,  GradientBoostingRegressor\n",
    "import xgboost as xgb\n",
    "import lightgbm as lgb\n",
    "\n",
    "from sklearn.model_selection import KFold, cross_val_score, train_test_split\n",
    "from sklearn.metrics import mean_squared_error\n",
    "\n",
    "import warnings\n",
    "warnings.filterwarnings(\"ignore\")"
   ]
  },
  {
   "cell_type": "markdown",
   "metadata": {},
   "source": [
    "**Define a cross validation strategy**"
   ]
  },
  {
   "cell_type": "code",
   "execution_count": 48,
   "metadata": {},
   "outputs": [],
   "source": [
    "#Validation function\n",
    "n_folds = 5\n",
    "\n",
    "def rmsle_cv(model):\n",
    "    kf = KFold(n_folds, shuffle=True, random_state=2017).get_n_splits(train.values)\n",
    "    rmse= np.sqrt(-cross_val_score(model, train.values, train_target, scoring=\"neg_mean_squared_error\", cv = kf))\n",
    "    return(rmse)"
   ]
  },
  {
   "cell_type": "markdown",
   "metadata": {},
   "source": [
    "## Base models"
   ]
  },
  {
   "cell_type": "markdown",
   "metadata": {},
   "source": [
    "### Preparation"
   ]
  },
  {
   "cell_type": "markdown",
   "metadata": {},
   "source": [
    "-  **LASSO  Regression**  : \n",
    "\n",
    "The sklearn's  **Robustscaler()**  method on pipeline is used since LASSO is easily affected by outliers.\n",
    "\n",
    ">[RobustScaler](https://blog.nownabe.com/2017/11/19/1185.html)\n",
    ">平均値と分散のかわりに中央地と四分位数を用いる\n",
    ">外れ値を無視する"
   ]
  },
  {
   "cell_type": "code",
   "execution_count": 49,
   "metadata": {},
   "outputs": [],
   "source": [
    "# lasso = make_pipeline(RobustScaler(), Lasso(alpha =0.0005, random_state=1))\n",
    "\n",
    "LAS = make_pipeline(RobustScaler(), Lasso(alpha =1e-05, random_state=1))"
   ]
  },
  {
   "cell_type": "markdown",
   "metadata": {},
   "source": [
    "- **Elastic Net Regression** :\n",
    "\n",
    "As well as Lasso, we made this robust to outliers."
   ]
  },
  {
   "cell_type": "code",
   "execution_count": 50,
   "metadata": {},
   "outputs": [],
   "source": [
    "#ENet = make_pipeline(RobustScaler(), ElasticNet(alpha=0.0005, l1_ratio=.9, random_state=3))\n",
    "\n",
    "ENE = make_pipeline(RobustScaler(), ElasticNet(alpha=0.064, l1_ratio=.9, random_state=2017))"
   ]
  },
  {
   "cell_type": "markdown",
   "metadata": {},
   "source": [
    "- **Kernel Ridge Regression** :"
   ]
  },
  {
   "cell_type": "code",
   "execution_count": 51,
   "metadata": {},
   "outputs": [],
   "source": [
    "#KRR = KernelRidge(alpha=0.6, kernel='polynomial', degree=2, coef0=2.5)\n",
    "\n",
    "KRR = KernelRidge(alpha=0.1, coef0=20, degree=2, gamma=100.0, kernel='polynomial',kernel_params=None)"
   ]
  },
  {
   "cell_type": "markdown",
   "metadata": {},
   "source": [
    "- **XGBoost** :"
   ]
  },
  {
   "cell_type": "code",
   "execution_count": 52,
   "metadata": {},
   "outputs": [],
   "source": [
    "#XGR = xgb.XGBRegressor(colsample_bytree=0.4603, gamma=0.0468, \n",
    "#                             learning_rate=0.05, max_depth=3, \n",
    "#                             min_child_weight=1.7817, n_estimators=2200,\n",
    "#                             reg_alpha=0.4640, reg_lambda=0.8571,\n",
    "#                            subsample=0.5213, silent=1,\n",
    "#                             seed =0, nthread = -1)\n",
    "\n",
    "XGR = xgb.XGBRegressor(colsample_bytree= 1.0, learning_rate= 0.1, max_depth=2, min_child_weight= 14, n_estimators= 100, objective= 'reg:gamma', subsample= 0.8)"
   ]
  },
  {
   "cell_type": "markdown",
   "metadata": {},
   "source": [
    "- **Gradient Boosting Regression** :\n",
    "\n",
    "With **huber**  loss that makes it robust to outliers"
   ]
  },
  {
   "cell_type": "code",
   "execution_count": 53,
   "metadata": {},
   "outputs": [],
   "source": [
    "#GBR = GradientBoostingRegressor(n_estimators=3000, learning_rate=0.05,\n",
    "#                                   max_depth=4, max_features='sqrt',\n",
    "#                                   min_samples_leaf=15, min_samples_split=10, \n",
    "#                                   loss='huber', random_state =5)\n",
    "\n",
    "GBR = GradientBoostingRegressor(n_estimators=100, learning_rate=0.05,\n",
    "                                max_depth=4, max_features=0.1,\n",
    "                                min_samples_leaf=17, min_samples_split=10, \n",
    "                                loss='huber', random_state =2017)"
   ]
  },
  {
   "cell_type": "markdown",
   "metadata": {},
   "source": [
    "- **LightGBM** :"
   ]
  },
  {
   "cell_type": "code",
   "execution_count": 54,
   "metadata": {},
   "outputs": [],
   "source": [
    "#LGB = lgb.LGBMRegressor(objective='regression',num_leaves=5,\n",
    "#                              learning_rate=0.05, n_estimators=720,\n",
    "#                              max_bin = 55, bagging_fraction = 0.8,\n",
    "#                              bagging_freq = 5, feature_fraction = 0.2319,\n",
    "#                              feature_fraction_seed=9, bagging_seed=9,\n",
    "#                              min_data_in_leaf =6, min_sum_hessian_in_leaf = 11)\n",
    "\n",
    "\n",
    "LGB = lgb.LGBMRegressor(objective='regression',num_leaves=5,\n",
    "                        learning_rate=0.05, n_estimators=100,\n",
    "                        reg_alpha= 1.2, reg_lambda= 1.4, \n",
    "                        subsample= 0.75)"
   ]
  },
  {
   "cell_type": "markdown",
   "metadata": {},
   "source": [
    "### Base models scores"
   ]
  },
  {
   "cell_type": "code",
   "execution_count": 55,
   "metadata": {},
   "outputs": [
    {
     "name": "stdout",
     "output_type": "stream",
     "text": [
      "\n",
      "Lasso score: 6.4988 (0.3139)\n",
      "\n",
      "ElasticNet score: 6.5024 (0.3112)\n",
      "\n",
      "Kernel Ridge score: 6.1857 (0.3479)\n",
      "\n",
      "Gradient Boosting score: 6.2250 (0.3464)\n",
      "\n",
      "Xgboost score: 6.1819 (0.3542)\n",
      "\n",
      "LGBM score: 6.1850 (0.3577)\n",
      "\n"
     ]
    }
   ],
   "source": [
    "score = rmsle_cv(LAS)\n",
    "print(\"\\nLasso score: {:.4f} ({:.4f})\\n\".format(score.mean(), score.std()))\n",
    "\n",
    "score = rmsle_cv(ENE)\n",
    "print(\"ElasticNet score: {:.4f} ({:.4f})\\n\".format(score.mean(), score.std()))\n",
    "\n",
    "score = rmsle_cv(KRR)\n",
    "print(\"Kernel Ridge score: {:.4f} ({:.4f})\\n\".format(score.mean(), score.std()))\n",
    "\n",
    "score = rmsle_cv(GBR)\n",
    "print(\"Gradient Boosting score: {:.4f} ({:.4f})\\n\".format(score.mean(), score.std()))\n",
    "\n",
    "score = rmsle_cv(XGR)\n",
    "print(\"Xgboost score: {:.4f} ({:.4f})\\n\".format(score.mean(), score.std()))\n",
    "\n",
    "score = rmsle_cv(LGB)\n",
    "print(\"LGBM score: {:.4f} ({:.4f})\\n\" .format(score.mean(), score.std()))"
   ]
  },
  {
   "cell_type": "markdown",
   "metadata": {},
   "source": [
    "## Stacking  models"
   ]
  },
  {
   "cell_type": "markdown",
   "metadata": {},
   "source": [
    "We begin with this simple approach of averaging base models.  We build a new **class**  to extend scikit-learn with our model and also to laverage encapsulation and code reuse ([inheritance][1]) \n",
    "\n",
    "\n",
    "  [1]: https://en.wikipedia.org/wiki/Inheritance_(object-oriented_programming)"
   ]
  },
  {
   "cell_type": "markdown",
   "metadata": {},
   "source": [
    "### 1. Averaged base model\n",
    "**Averaged base models class**"
   ]
  },
  {
   "cell_type": "code",
   "execution_count": 56,
   "metadata": {},
   "outputs": [],
   "source": [
    "class AveragingModels(BaseEstimator, RegressorMixin, TransformerMixin):\n",
    "    def __init__(self, models):\n",
    "        self.models = models\n",
    "        \n",
    "    # we define clones of the original models to fit the data in\n",
    "    def fit(self, X, y):\n",
    "        self.models_ = [clone(x) for x in self.models]\n",
    "        \n",
    "        # Train cloned base models\n",
    "        for model in self.models_:\n",
    "            model.fit(X, y)\n",
    "\n",
    "        return self\n",
    "    \n",
    "    #Now we do the predictions for cloned models and average them\n",
    "    def predict(self, X):\n",
    "        predictions = np.column_stack([\n",
    "            model.predict(X) for model in self.models_\n",
    "        ])\n",
    "        return np.mean(predictions, axis=1)   "
   ]
  },
  {
   "cell_type": "markdown",
   "metadata": {},
   "source": [
    "**Averaged base models score**\n",
    "\n",
    "We just average four models here **ENet, GBoost,  KRR and lasso**.  Of course we could easily add more models in the mix. \n",
    "\n"
   ]
  },
  {
   "cell_type": "code",
   "execution_count": 57,
   "metadata": {},
   "outputs": [
    {
     "name": "stdout",
     "output_type": "stream",
     "text": [
      " Averaged base models score: 6.1693 (0.3511)\n",
      "\n"
     ]
    }
   ],
   "source": [
    "#averaged_models = AveragingModels(models = (ENE, GBR, KRR, LAS))\n",
    "averaged_models = AveragingModels(models = (KRR, GBR, XGR))\n",
    "\n",
    "score = rmsle_cv(averaged_models)\n",
    "print(\" Averaged base models score: {:.4f} ({:.4f})\\n\".format(score.mean(), score.std()))"
   ]
  },
  {
   "cell_type": "markdown",
   "metadata": {},
   "source": [
    "### 2. Less simple Stacking : Adding a Meta-model"
   ]
  },
  {
   "cell_type": "markdown",
   "metadata": {},
   "source": [
    "**Stacking averaged Models Class**"
   ]
  },
  {
   "cell_type": "code",
   "execution_count": 58,
   "metadata": {},
   "outputs": [],
   "source": [
    "class StackingAveragedModels(BaseEstimator, RegressorMixin, TransformerMixin):\n",
    "    def __init__(self, base_models, meta_model, n_folds=5):\n",
    "        self.base_models = base_models\n",
    "        self.meta_model = meta_model\n",
    "        self.n_folds = n_folds\n",
    "   \n",
    "    # We again fit the data on clones of the original models\n",
    "    def fit(self, X, y):\n",
    "        self.base_models_ = [list() for x in self.base_models]\n",
    "        self.meta_model_ = clone(self.meta_model)\n",
    "        kfold = KFold(n_splits=self.n_folds, shuffle=True, random_state=156)\n",
    "        \n",
    "        # Train cloned base models then create out-of-fold predictions\n",
    "        # that are needed to train the cloned meta-model\n",
    "        out_of_fold_predictions = np.zeros((X.shape[0], len(self.base_models)))\n",
    "        for i, model in enumerate(self.base_models):\n",
    "            for train_index, holdout_index in kfold.split(X, y):\n",
    "                instance = clone(model)\n",
    "                self.base_models_[i].append(instance)\n",
    "                instance.fit(X[train_index], y[train_index])\n",
    "                y_pred = instance.predict(X[holdout_index])\n",
    "                out_of_fold_predictions[holdout_index, i] = y_pred\n",
    "                \n",
    "        # Now train the cloned  meta-model using the out-of-fold predictions as new feature\n",
    "        self.meta_model_.fit(out_of_fold_predictions, y)\n",
    "        return self\n",
    "   \n",
    "    #Do the predictions of all base models on the test data and use the averaged predictions as \n",
    "    #meta-features for the final prediction which is done by the meta-model\n",
    "    def predict(self, X):\n",
    "        meta_features = np.column_stack([\n",
    "            np.column_stack([model.predict(X) for model in base_models]).mean(axis=1)\n",
    "            for base_models in self.base_models_ ])\n",
    "        return self.meta_model_.predict(meta_features)"
   ]
  },
  {
   "cell_type": "code",
   "execution_count": 59,
   "metadata": {},
   "outputs": [
    {
     "name": "stdout",
     "output_type": "stream",
     "text": [
      "Stacking Averaged models score: 6.1755 (0.3456)\n"
     ]
    }
   ],
   "source": [
    "stacked_averaged_models = StackingAveragedModels(base_models = (ENE, GBR, KRR),\n",
    "                                                 meta_model = LAS)\n",
    "\n",
    "score = rmsle_cv(stacked_averaged_models)\n",
    "print(\"Stacking Averaged models score: {:.4f} ({:.4f})\".format(score.mean(), score.std()))"
   ]
  },
  {
   "cell_type": "markdown",
   "metadata": {},
   "source": [
    "### 3. Ensembling StackedRegressor, XGBoost and LightGBM"
   ]
  },
  {
   "cell_type": "code",
   "execution_count": 60,
   "metadata": {},
   "outputs": [],
   "source": [
    "def rmsle(y, y_pred):\n",
    "    return np.sqrt(mean_squared_error(y, y_pred))"
   ]
  },
  {
   "cell_type": "markdown",
   "metadata": {},
   "source": [
    "**StackedRegressor:**"
   ]
  },
  {
   "cell_type": "code",
   "execution_count": 61,
   "metadata": {},
   "outputs": [
    {
     "name": "stdout",
     "output_type": "stream",
     "text": [
      "6.09256738344\n"
     ]
    }
   ],
   "source": [
    "stacked_averaged_models.fit(train.values, train_target)\n",
    "stacked_train_pred = stacked_averaged_models.predict(train.values)\n",
    "stacked_pred = stacked_averaged_models.predict(test.values)\n",
    "print(rmsle(train_target, stacked_train_pred))"
   ]
  },
  {
   "cell_type": "markdown",
   "metadata": {},
   "source": [
    "**XGBoost:**"
   ]
  },
  {
   "cell_type": "code",
   "execution_count": 62,
   "metadata": {},
   "outputs": [
    {
     "name": "stdout",
     "output_type": "stream",
     "text": [
      "6.09006203477\n"
     ]
    }
   ],
   "source": [
    "XGR.fit(train, train_target)\n",
    "xgb_train_pred = XGR.predict(train)\n",
    "xgb_pred = XGR.predict(test)\n",
    "print(rmsle(train_target, xgb_train_pred))"
   ]
  },
  {
   "cell_type": "markdown",
   "metadata": {},
   "source": [
    "**LightGBM:**"
   ]
  },
  {
   "cell_type": "code",
   "execution_count": 63,
   "metadata": {},
   "outputs": [
    {
     "name": "stdout",
     "output_type": "stream",
     "text": [
      "6.06337519612\n"
     ]
    }
   ],
   "source": [
    "LGB.fit(train, train_target)\n",
    "lgb_train_pred = LGB.predict(train)\n",
    "lgb_pred = LGB.predict(test.values)\n",
    "print(rmsle(train_target, lgb_train_pred))"
   ]
  },
  {
   "cell_type": "markdown",
   "metadata": {},
   "source": [
    "### Calculate score"
   ]
  },
  {
   "cell_type": "code",
   "execution_count": 32,
   "metadata": {},
   "outputs": [],
   "source": [
    "a = 0\n",
    "b = 0\n",
    "c = 0\n",
    "\n",
    "scores = []\n"
   ]
  },
  {
   "cell_type": "code",
   "execution_count": 35,
   "metadata": {},
   "outputs": [],
   "source": [
    "for a_i in range(a,100,1):\n",
    "    if 100 > a_i:\n",
    "        for b_i in range(b,100,1):\n",
    "            if 100 - a_i > b_i:\n",
    "                c_i = 100 - a_i - b_i\n",
    "                \n",
    "                scores.append([a_i,b_i,c_i])        "
   ]
  },
  {
   "cell_type": "code",
   "execution_count": 39,
   "metadata": {},
   "outputs": [
    {
     "name": "stdout",
     "output_type": "stream",
     "text": [
      "best_score 6.062367\n",
      "weight_s 0.150000\n",
      "weight_x 0.000000\n",
      "weight_l 0.850000\n"
     ]
    }
   ],
   "source": [
    "best_score = 10\n",
    "scores = []\n",
    "weight_s = 0.0\n",
    "weight_x = 0.0\n",
    "weight_l = 0.0\n",
    "\n",
    "for ws in np.arange(weight_s,1.01,0.01):\n",
    "    if 100 > ws:\n",
    "        for wx in np.arange(weight_x,1.01,0.01):\n",
    "            if 100 - ws > wx:\n",
    "                wl = 1 - ws - wx\n",
    "        \n",
    "                rmsle_tmp = rmsle(train_target,stacked_train_pred*ws + xgb_train_pred*wx + lgb_train_pred*wl )\n",
    "                scores.append(rmsle_tmp)\n",
    "\n",
    "                if best_score > rmsle_tmp:\n",
    "                    best_score = rmsle_tmp\n",
    "                    weight_s = ws\n",
    "                    weight_x = wx\n",
    "                    weight_l = wl\n",
    "\n",
    "print(\"best_score %f\" % best_score)\n",
    "print(\"weight_s %f\" % weight_s)\n",
    "print(\"weight_x %f\" % weight_x)\n",
    "print(\"weight_l %f\" % weight_l)"
   ]
  },
  {
   "cell_type": "code",
   "execution_count": 28,
   "metadata": {},
   "outputs": [
    {
     "name": "stdout",
     "output_type": "stream",
     "text": [
      "RMSLE score on train data:\n",
      "6.0784396635\n"
     ]
    }
   ],
   "source": [
    "'''RMSE on the entire Train data when averaging'''\n",
    "\n",
    "print('RMSLE score on train data:')\n",
    "print(rmsle(train_target,stacked_train_pred*0.70 +\n",
    "               xgb_train_pred*0.15 + lgb_train_pred*0.15 ))"
   ]
  },
  {
   "cell_type": "code",
   "execution_count": 29,
   "metadata": {},
   "outputs": [
    {
     "name": "stdout",
     "output_type": "stream",
     "text": [
      "RMSLE score on train data:\n",
      "6.0624836888\n"
     ]
    }
   ],
   "source": [
    "'''RMSE on the entire Train data when averaging'''\n",
    "\n",
    "print('RMSLE score on train data:')\n",
    "print(rmsle(train_target,stacked_train_pred*0.15 +\n",
    "               xgb_train_pred*0.01 + lgb_train_pred*0.84 ))"
   ]
  },
  {
   "cell_type": "code",
   "execution_count": 40,
   "metadata": {},
   "outputs": [
    {
     "name": "stdout",
     "output_type": "stream",
     "text": [
      "RMSLE score on train data:\n",
      "6.06236654826\n"
     ]
    }
   ],
   "source": [
    "'''RMSE on the entire Train data when averaging'''\n",
    "\n",
    "print('RMSLE score on train data:')\n",
    "print(rmsle(train_target,stacked_train_pred*0.15 +\n",
    "               xgb_train_pred*0.00 + lgb_train_pred*0.85 ))"
   ]
  },
  {
   "cell_type": "code",
   "execution_count": 68,
   "metadata": {},
   "outputs": [
    {
     "name": "stdout",
     "output_type": "stream",
     "text": [
      "RMSLE score on train data:\n",
      "6.06369702241\n"
     ]
    }
   ],
   "source": [
    "'''RMSE on the entire Train data when averaging'''\n",
    "\n",
    "print('RMSLE score on train data:')\n",
    "print(rmsle(train_target,stacked_train_pred*0.15 +\n",
    "               xgb_train_pred*0.10 + lgb_train_pred*0.75 ))"
   ]
  },
  {
   "cell_type": "markdown",
   "metadata": {},
   "source": [
    "**Ensemble prediction:**"
   ]
  },
  {
   "cell_type": "code",
   "execution_count": 25,
   "metadata": {},
   "outputs": [],
   "source": [
    "ensemble = stacked_pred*0.15 + xgb_pred*0.01 + lgb_pred*0.84"
   ]
  },
  {
   "cell_type": "code",
   "execution_count": 41,
   "metadata": {},
   "outputs": [],
   "source": [
    "ensemble = stacked_pred*0.15 + xgb_pred*0.00 + lgb_pred*0.85"
   ]
  },
  {
   "cell_type": "code",
   "execution_count": 71,
   "metadata": {},
   "outputs": [],
   "source": [
    "ensemble = stacked_pred*0.15 + xgb_pred*0.07 + lgb_pred*0.78"
   ]
  },
  {
   "cell_type": "markdown",
   "metadata": {},
   "source": [
    "# Submission"
   ]
  },
  {
   "cell_type": "code",
   "execution_count": 72,
   "metadata": {},
   "outputs": [],
   "source": [
    "sub = pd.DataFrame()\n",
    "sub['ID'] = test_ID\n",
    "sub['compositeHourlyWages'] = ensemble\n",
    "sub.to_csv('rs_hourly_submission_02Jan18_03.csv',index=False)"
   ]
  },
  {
   "cell_type": "markdown",
   "metadata": {},
   "source": [
    "# GridSearch"
   ]
  },
  {
   "cell_type": "code",
   "execution_count": 9,
   "metadata": {},
   "outputs": [],
   "source": [
    "from sklearn.model_selection import GridSearchCV"
   ]
  },
  {
   "cell_type": "code",
   "execution_count": 10,
   "metadata": {},
   "outputs": [],
   "source": [
    "from sklearn.metrics import mean_squared_error, r2_score, make_scorer\n",
    "\n",
    "def rmse(y_true, y_pred):\n",
    "    return np.sqrt(mean_squared_error(y_true, y_pred))\n",
    "\n",
    "#Validation function\n",
    "n_folds = 5\n",
    "\n",
    "def rmsle_cv(model):\n",
    "    kf = KFold(n_folds, shuffle=True, random_state=2017).get_n_splits(train.values)\n",
    "    rmse= np.sqrt(-cross_val_score(model, train.values, train_target, scoring=\"neg_mean_squared_error\", cv = kf))\n",
    "    return(rmse)"
   ]
  },
  {
   "cell_type": "markdown",
   "metadata": {},
   "source": [
    "### Gradient Boosting Regression\n",
    "\n",
    "Reference\n",
    "- [Gradient Boosted Regression Trees](https://www.datarobot.com/blog/gradient-boosted-regression-trees/)\n",
    "- [Caifornia house price predictions with Gradient Boosted Regression Trees](https://shankarmsy.github.io/stories/gbrt-sklearn.html)"
   ]
  },
  {
   "cell_type": "code",
   "execution_count": 11,
   "metadata": {},
   "outputs": [
    {
     "name": "stdout",
     "output_type": "stream",
     "text": [
      "______________________________\n",
      "Result of Gridsearch\n",
      "Best params:  {'learning_rate': 0.05, 'max_depth': 4, 'max_features': 0.1, 'min_samples_leaf': 17, 'n_estimators': 100}\n",
      "Best Estimator:  GradientBoostingRegressor(alpha=0.9, criterion='friedman_mse', init=None,\n",
      "             learning_rate=0.05, loss='ls', max_depth=4, max_features=0.1,\n",
      "             max_leaf_nodes=None, min_impurity_decrease=0.0,\n",
      "             min_impurity_split=None, min_samples_leaf=17,\n",
      "             min_samples_split=2, min_weight_fraction_leaf=0.0,\n",
      "             n_estimators=100, presort='auto', random_state=None,\n",
      "             subsample=1.0, verbose=0, warm_start=False)\n",
      "MSE:  0.336578545079\n",
      "______________________________\n",
      "vs Prediction\n",
      "RMSE from local train:  6.00336616982\n",
      "MSE from local train:  36.040405369\n",
      "R2 from local train:  0.39952132305\n"
     ]
    }
   ],
   "source": [
    "# =================================================\n",
    "# model_selection.GridSearchCV\n",
    "# =================================================\n",
    "# 1) Create model\n",
    "# Set params\n",
    "# Scores XXX\n",
    "est = GradientBoostingRegressor(n_estimators=3000)\n",
    "\n",
    "# 2) Set the grid\n",
    "param_grid = {'n_estimators':[100,1000,3000], \n",
    "              'learning_rate': [0.1, 0.05, 0.02, 0.01],\n",
    "              'max_depth': [4, 6, 8],\n",
    "              'min_samples_leaf': [3, 5, 9, 17],\n",
    "#              'min_saples_split': [5, 10, 15],\n",
    "              'max_features': [1.0, 0.3, 0.1] ## not possible in our example (only 1 fx)\n",
    "              }\n",
    "# 3) Run GridSearch\n",
    "grid = GridSearchCV(est, param_grid, n_jobs=5).fit(X_train, y_train)\n",
    "\n",
    "# 4) Show best Params and Score\n",
    "print(\"_\"*30)\n",
    "print(\"Result of Gridsearch\")\n",
    "print(\"Best params: \", grid.best_params_)\n",
    "print(\"Best Estimator: \", grid.best_estimator_)\n",
    "print(\"MSE: \", grid.best_score_)\n",
    "\n",
    "# 5) Learning with best params\n",
    "gbm_g = GradientBoostingRegressor(**grid.best_params_)\n",
    "gbm_g.fit(X_train, y_train)\n",
    "y_pred_gs = gbm_g.predict(X_test)\n",
    "\n",
    "# 6) The error metric: RMSE\n",
    "print(\"_\"*30)\n",
    "print(\"vs Prediction\")\n",
    "print(\"RMSE from local train: \", rmse(y_test, y_pred_gs))\n",
    "print(\"MSE from local train: \", mean_squared_error(y_test, y_pred_gs))\n",
    "print(\"R2 from local train: \", r2_score(y_test, y_pred_gs))"
   ]
  },
  {
   "cell_type": "markdown",
   "metadata": {},
   "source": [
    "### LGBM"
   ]
  },
  {
   "cell_type": "code",
   "execution_count": null,
   "metadata": {},
   "outputs": [
    {
     "name": "stdout",
     "output_type": "stream",
     "text": [
      "Fitting 5 folds for each of 648 candidates, totalling 3240 fits\n"
     ]
    }
   ],
   "source": [
    "# =================================================\n",
    "# model_selection.GridSearchCV\n",
    "# =================================================\n",
    "# 1) Create model\n",
    "mdl = lgb.LGBMRegressor(boosting_type= 'gbdt', \n",
    "                        n_jobs = 5,\n",
    "                        metric='RMSE'\n",
    "                       )\n",
    "\n",
    "\n",
    "#Best params:  {'colsample_bytree': 0.8, 'learning_rate': 0.05, \n",
    "#'max_depth': 3, 'n_estimators': 100, 'num_leaves': 5, \n",
    "#'objective': 'regression', 'reg_alpha': 1.2, 'reg_lambda': 1.4, 'subsample': 0.75}\n",
    "\n",
    "# 2) Set params for gridsearch\n",
    "gridParams = {\n",
    "    'objective': ['binary','regression'],\n",
    "    'num_leaves': [4,5,6], #2,10,20,100   \n",
    "    'learning_rate': [0.05, 0.06], # 0.005,\n",
    "    'n_estimators': [100], #8,24,\n",
    "    'colsample_bytree' :[0.8, 0.85, 0.9], #0.64,\n",
    "    'reg_lambda' : [1.3,1.4,1.5], #1,1.2,\n",
    "    'max_depth' :[2,3,4], #1,2,5,10\n",
    "    'subsample' :[0.7,0.75], \n",
    "    'reg_alpha' : [1.2], #0.1,0.51,\n",
    "#    'min_split_gain' :[],\n",
    "#    'subsample_for_bin' :[],\n",
    "#    'max_drop' :[], \n",
    "#    'gaussian_eta' :[], \n",
    "#    'drop_rate' :[],\n",
    "#    'silent' :[], \n",
    "#    'boosting_type' :['gbdt'], \n",
    "#    'min_child_weight' :[], \n",
    "#    'skip_drop' :[], \n",
    "#    'fair_c' :[], \n",
    "#    'seed' :[], \n",
    "#    'poisson_max_delta_step' :[], \n",
    "#    'subsample_freq' :[], \n",
    "#    'max_bin' :[],  #55\n",
    "#    'nthread' :[], \n",
    "#    'min_child_samples' :[], \n",
    "#    'huber_delta' :[], \n",
    "#    'use_missing' :[], \n",
    "#    'uniform_drop' :[], \n",
    "#    'bagging_fraction': [] #0.8,\n",
    "#    'bagging_freq': [] # 5\n",
    "#    'feature_fraction': [] # 0.2319,\n",
    "#    'feature_fraction_seed': [] #9\n",
    "#    'bagging_seed': [] #9,\n",
    "#    'min_data_in_leaf': [] #6\n",
    "#    'min_sum_hessian_in_leaf': [] # 11                              \n",
    "#    'xgboost_dart_mode' :[]\n",
    "}\n",
    "\n",
    "# 3) Run GridSearch\n",
    "grid = GridSearchCV(mdl, gridParams, verbose=1, cv=5, n_jobs=-1)\n",
    "grid.fit(X_train, y_train)\n",
    "\n",
    "# 4) Show best Params and Score\n",
    "print(\"_\"*30)\n",
    "print(\"Result of Gridsearch\")\n",
    "print(\"Best params: \", grid.best_params_)\n",
    "print(\"Best Estimator: \", grid.best_estimator_)\n",
    "print(\"MSE: \", grid.best_score_)\n",
    "\n",
    "# 5) Learning with best params\n",
    "lgm_g = lgb.LGBMRegressor(**grid.best_params_)\n",
    "lgm_g.fit(X_train, y_train)\n",
    "y_pred_gs = lgm_g.predict(X_test)\n",
    "\n",
    "# 6) The error metric: RMSE\n",
    "print(\"_\"*30)\n",
    "print(\"vs Prediction\")\n",
    "print(\"RMSE from local train: \", rmse(y_test, y_pred_gs))\n",
    "print(\"MSE from local train: \", mean_squared_error(y_test, y_pred_gs))\n",
    "print(\"R2 from local train: \", r2_score(y_test, y_pred_gs))\n"
   ]
  },
  {
   "cell_type": "markdown",
   "metadata": {},
   "source": [
    "__ Score: __\n",
    "```\n",
    "______________________________\n",
    "Result of Gridsearch\n",
    "Best params:  {'colsample_bytree': 0.8, 'learning_rate': 0.05, 'max_depth': 3, 'n_estimators': 100, 'num_leaves': 5, 'objective': 'regression', 'reg_alpha': 1.2, 'reg_lambda': 1.4, 'subsample': 0.75}\n",
    "Best Estimator:  LGBMRegressor(boosting_type='gbdt', colsample_bytree=0.8, learning_rate=0.05,\n",
    "       max_bin=255, max_depth=3, metric='RMSE', min_child_samples=20,\n",
    "       min_child_weight=0.001, min_split_gain=0.0, n_estimators=100,\n",
    "       n_jobs=5, num_leaves=5, objective='regression', random_state=None,\n",
    "       reg_alpha=1.2, reg_lambda=1.4, silent=True, subsample=0.75,\n",
    "       subsample_for_bin=200000, subsample_freq=1)\n",
    "MSE:  0.349386487223\n",
    "______________________________\n",
    "vs Prediction\n",
    "RMSE from local train:  6.02327567741\n",
    "MSE from local train:  36.2798498861\n",
    "R2 from local train:  0.395531874947\n",
    "```"
   ]
  },
  {
   "cell_type": "markdown",
   "metadata": {},
   "source": [
    "### Kernel Ridge"
   ]
  },
  {
   "cell_type": "code",
   "execution_count": null,
   "metadata": {},
   "outputs": [
    {
     "name": "stdout",
     "output_type": "stream",
     "text": [
      "______________________________\n",
      "Result of Gridsearch\n",
      "Best params:  {'alpha': 0.1, 'coef0': 20, 'degree': 2, 'gamma': 100.0, 'kernel': 'polynomial'}\n",
      "Best Estimator:  KernelRidge(alpha=0.1, coef0=20, degree=2, gamma=100.0, kernel='polynomial',\n",
      "      kernel_params=None)\n",
      "MSE:  -38.9194812638\n",
      "______________________________\n",
      "vs Prediction\n",
      "RMSE from local train:  5.9962579498\n",
      "MSE from local train:  35.9551094006\n",
      "R2 from local train:  0.400942461623\n"
     ]
    }
   ],
   "source": [
    "# =================================================\n",
    "# model_selection.GridSearchCV\n",
    "# =================================================\n",
    "# 1) Create model\n",
    "model = KernelRidge()\n",
    "\n",
    "# 2) Set params for gridsearch\n",
    "param_grid = {\n",
    "    \"alpha\": [1e0, 0.1, 1e-2, 1e-3],\n",
    "    \"gamma\": np.logspace(-2, 2, 5),\n",
    "    \"kernel\" : ['polynomial','rbf'],\n",
    "    \"degree\" : [2,5,10,20], \n",
    "    \"coef0\" : [2.5,5,10,20],\n",
    "}\n",
    "\n",
    "# 3) Run GridSearch\n",
    "model_ = GridSearchCV(estimator= model, param_grid= param_grid, scoring='neg_mean_squared_error',cv=5, n_jobs=-1)\n",
    "model_.fit(X_train, y_train)\n",
    "\n",
    "# 4) Show best Params and Score\n",
    "print(\"_\"*30)\n",
    "print(\"Result of Gridsearch\")\n",
    "print(\"Best params: \", model_.best_params_)\n",
    "print(\"Best Estimator: \", model_.best_estimator_)\n",
    "print(\"MSE: \", model_.best_score_)\n",
    "\n",
    "# 5) Learning with best params\n",
    "krr_g = KernelRidge(**model_.best_params_)\n",
    "krr_g.fit(X_train, y_train)\n",
    "y_pred_gs = krr_g.predict(X_test)\n",
    "\n",
    "# 6) The error metric: RMSE\n",
    "print(\"_\"*30)\n",
    "print(\"vs Prediction\")\n",
    "print(\"RMSE from local train: \", rmse(y_test, y_pred_gs))\n",
    "print(\"MSE from local train: \", mean_squared_error(y_test, y_pred_gs))\n",
    "print(\"R2 from local train: \", r2_score(y_test, y_pred_gs))"
   ]
  },
  {
   "cell_type": "code",
   "execution_count": null,
   "metadata": {},
   "outputs": [],
   "source": [
    "#array([  1.00000000e-02,   1.00000000e-01,   1.00000000e+00,\n",
    "#         1.00000000e+01,   1.00000000e+02])"
   ]
  },
  {
   "cell_type": "markdown",
   "metadata": {},
   "source": [
    "### Lasso"
   ]
  },
  {
   "cell_type": "markdown",
   "metadata": {},
   "source": [
    "Referring to followings\n",
    "- [Exploring features and regression models](https://www.kaggle.com/youssefer/xgb-and-lasso-regression)\n",
    "- [House Prices # Regression and Bagging techniques](https://www.kaggle.com/aarti1/house-prices-regression-and-bagging-techniques)\n",
    "- [XGB and Lasso Regression](https://www.kaggle.com/youssefer/xgb-and-lasso-regression)"
   ]
  },
  {
   "cell_type": "code",
   "execution_count": 22,
   "metadata": {},
   "outputs": [
    {
     "name": "stdout",
     "output_type": "stream",
     "text": [
      "10\tLasso regression\n"
     ]
    },
    {
     "data": {
      "text/plain": [
       "<matplotlib.text.Text at 0x11edafcf8>"
      ]
     },
     "execution_count": 22,
     "metadata": {},
     "output_type": "execute_result"
    },
    {
     "data": {
      "image/png": "[encoded data removed]",
      "text/plain": [
       "<matplotlib.figure.Figure at 0x112c31d30>"
      ]
     },
     "metadata": {},
     "output_type": "display_data"
    }
   ],
   "source": [
    "#------------------------------------------------------------\n",
    "print (\"10\tLasso regression\")\n",
    "# importance of train set size: first, we set a relevant alpha\n",
    "\n",
    "rm_tr=[]\n",
    "rm_te=[]\n",
    "\n",
    "opti=[]\n",
    "alphas=[1e-6,1e-5,1e-4,1e-3,1e-2,1e-1,1]\n",
    "# alphas=np.linspace(1e-4,1e-2,20)\n",
    "#X_train, X_test, y_train, y_test = train_test_split(\n",
    "#     feat, price, test_size=0.8, random_state=42)\n",
    "\n",
    "for al in alphas:\n",
    "\tls=Lasso(alpha=al, copy_X=True, fit_intercept=True, max_iter=5000,\n",
    "\t   normalize=False, positive=False, precompute=False, random_state=111,\n",
    "\t   selection='cyclic', tol=0.0001, warm_start=False)\n",
    "\tls.fit(X_train,y_train)\n",
    "\trm_tr.append(np.sqrt(mean_squared_error(y_train,ls.predict(X_train))))\n",
    "\trm_te.append(np.sqrt(mean_squared_error(y_test,ls.predict(X_test))))\n",
    "\n",
    "plt.figure()\n",
    "plt.cla()\n",
    "plt.clf()\n",
    "plt.plot(np.log(alphas),rm_tr,np.log(alphas),rm_te,\"r\")\t\n",
    "plt.title(\"Train and test error vs log(alphas)\")\n",
    "#plt.savefig('fig4.png')"
   ]
  },
  {
   "cell_type": "code",
   "execution_count": 44,
   "metadata": {},
   "outputs": [
    {
     "name": "stdout",
     "output_type": "stream",
     "text": [
      "______________________________\n",
      "Result of Gridsearch\n",
      "Best params:  {'alpha': 1e-05}\n",
      "Best Estimator:  Lasso(alpha=1e-05, copy_X=True, fit_intercept=True, max_iter=1000,\n",
      "   normalize=False, positive=False, precompute=False, random_state=None,\n",
      "   selection='cyclic', tol=0.0001, warm_start=False)\n",
      "MSE:  -42.9326318668\n",
      "______________________________\n",
      "vs Prediction\n",
      "RMSE from local train:  6.02475299555\n",
      "MSE from local train:  36.2976486573\n",
      "R2 from local train:  0.395235324935\n"
     ]
    }
   ],
   "source": [
    "# =================================================\n",
    "# model_selection.GridSearchCV\n",
    "# =================================================\n",
    "# 1) Create model\n",
    "model = Lasso()\n",
    "\n",
    "# 2) Set params for gridsearch\n",
    "param_grid = { 'alpha': [i/100000 for i in range(1,50000)]}\n",
    "\n",
    "# 3) Run GridSearch\n",
    "model_ = GridSearchCV(estimator= model, param_grid= param_grid, scoring='neg_mean_squared_error',cv=5, n_jobs=-1)\n",
    "model_.fit(X_train, y_train)\n",
    "\n",
    "# 4) Show best Params and Score\n",
    "print(\"_\"*30)\n",
    "print(\"Result of Gridsearch\")\n",
    "print(\"Best params: \", model_.best_params_)\n",
    "print(\"Best Estimator: \", model_.best_estimator_)\n",
    "print(\"MSE: \", model_.best_score_)\n",
    "\n",
    "# 5) Learning with best params\n",
    "las_g = xgb.XGBRegressor(**model_.best_params_)\n",
    "las_g.fit(X_train, y_train)\n",
    "y_pred_gs = las_g.predict(X_test)\n",
    "\n",
    "# 6) The error metric: RMSE\n",
    "print(\"_\"*30)\n",
    "print(\"vs Prediction\")\n",
    "print(\"RMSE from local train: \", rmse(y_test, y_pred_gs))\n",
    "print(\"MSE from local train: \", mean_squared_error(y_test, y_pred_gs))\n",
    "print(\"R2 from local train: \", r2_score(y_test, y_pred_gs))"
   ]
  },
  {
   "cell_type": "code",
   "execution_count": 47,
   "metadata": {},
   "outputs": [
    {
     "name": "stdout",
     "output_type": "stream",
     "text": [
      "Compute alpha = 1e-05 - 6.4987767707721575\n",
      "Compute alpha = 1.6681005372000593e-05 - 6.498776706041236\n",
      "Compute alpha = 2.782559402207126e-05 - 6.498776727807145\n",
      "Compute alpha = 4.641588833612782e-05 - 6.498777125134102\n",
      "Compute alpha = 7.742636826811278e-05 - 6.498778792472601\n",
      "Compute alpha = 0.0001291549665014884 - 6.498784368998028\n",
      "Compute alpha = 0.00021544346900318823 - 6.498801449091047\n",
      "Compute alpha = 0.00035938136638046257 - 6.498851582625532\n",
      "Compute alpha = 0.0005994842503189409 - 6.498995429448667\n",
      "Compute alpha = 0.001 - 6.499402929830128\n"
     ]
    },
    {
     "data": {
      "text/plain": [
       "<matplotlib.lines.Line2D at 0x1139ea710>"
      ]
     },
     "execution_count": 47,
     "metadata": {},
     "output_type": "execute_result"
    },
    {
     "data": {
      "image/png": "[encoded data removed]",
      "text/plain": [
       "<matplotlib.figure.Figure at 0x1129c8780>"
      ]
     },
     "metadata": {},
     "output_type": "display_data"
    }
   ],
   "source": [
    "# =================================================\n",
    "# Manual GridSearch\n",
    "# =================================================\n",
    "# Search `alpha` regression parameters\n",
    "#x_train = x[x.train_test == 1]\n",
    "lasso = Lasso(max_iter=1e2, normalize=True)\n",
    "alphas = np.logspace(-5, -3, 10)\n",
    "scores = []\n",
    "scores_std = []\n",
    "for alpha in alphas:\n",
    "    lasso.alpha = alpha\n",
    "    this_scores = np.sqrt(-cross_val_score(lasso, train, train_target, cv=5, scoring='mean_squared_error'))\n",
    "    print('Compute alpha = {} - {}'.format(alpha, np.mean(this_scores)))\n",
    "    scores.append(np.mean(this_scores))\n",
    "    scores_std.append(np.std(this_scores))\n",
    "plt.figure(figsize=(4, 3))\n",
    "plt.semilogx(alphas, scores)\n",
    "plt.semilogx(alphas, np.array(scores) + np.array(scores_std) / np.sqrt(len(train)), 'b--')\n",
    "plt.semilogx(alphas, np.array(scores) - np.array(scores_std) / np.sqrt(len(train)), 'b--')\n",
    "plt.ylabel('CV score')\n",
    "plt.xlabel('alpha')\n",
    "plt.axhline(np.max(scores), linestyle='--', color='.5')\n",
    "#plt.savefig('lasso_lars.png')"
   ]
  },
  {
   "cell_type": "markdown",
   "metadata": {},
   "source": [
    "### Elastic Net Regression"
   ]
  },
  {
   "cell_type": "code",
   "execution_count": 15,
   "metadata": {},
   "outputs": [],
   "source": [
    "from sklearn.linear_model import ElasticNetCV"
   ]
  },
  {
   "cell_type": "code",
   "execution_count": 16,
   "metadata": {},
   "outputs": [
    {
     "name": "stdout",
     "output_type": "stream",
     "text": [
      "0.0649678226388\n",
      "0.5\n"
     ]
    }
   ],
   "source": [
    "enr_cv = ElasticNetCV(cv=5, random_state=2017)\n",
    "enr_cv.fit(X_train, y_train)\n",
    "print(enr_cv.alpha_)\n",
    "print(enr_cv.l1_ratio_)\n",
    "#print(enr_cv.intercept_) "
   ]
  },
  {
   "cell_type": "code",
   "execution_count": 41,
   "metadata": {},
   "outputs": [
    {
     "name": "stdout",
     "output_type": "stream",
     "text": [
      "______________________________\n",
      "Result of Gridsearch\n",
      "Best params:  {'alpha': 0.064, 'l1_ratio': 0.9}\n",
      "Best Estimator:  ElasticNet(alpha=0.064, copy_X=True, fit_intercept=True, l1_ratio=0.9,\n",
      "      max_iter=1000, normalize=False, positive=False, precompute=False,\n",
      "      random_state=None, selection='cyclic', tol=0.0001, warm_start=False)\n",
      "MSE:  -42.9581056118\n",
      "______________________________\n",
      "vs Prediction\n",
      "RMSE from local train:  6.2730675813\n",
      "MSE from local train:  39.3513768796\n",
      "R2 from local train:  0.344356355515\n"
     ]
    }
   ],
   "source": [
    "# =================================================\n",
    "# model_selection.GridSearchCV\n",
    "# =================================================\n",
    "# 1) Create model\n",
    "regr = ElasticNet()\n",
    "\n",
    "# 2) Set params for gridsearch\n",
    "enr_params = {\n",
    "    'alpha' : [0.0640, 0.0645, 0.0649678226388, 0.65],\n",
    "    'l1_ratio' : [0.4,0.5,0.6,0.7,0.8,0.9]\n",
    "}\n",
    "\n",
    "# 3) Run gridsearch\n",
    "grid_enr = GridSearchCV(regr,enr_params,scoring='neg_mean_squared_error',cv=5,n_jobs=-1)\n",
    "grid_enr.fit(X_train, y_train)\n",
    "\n",
    "# 4) Show best params and score\n",
    "print(\"_\"*30)\n",
    "print(\"Result of Gridsearch\")\n",
    "print(\"Best params: \", grid_enr.best_params_)\n",
    "print(\"Best Estimator: \", grid_enr.best_estimator_)\n",
    "print(\"MSE: \", grid_enr.best_score_)\n",
    "\n",
    "# 5) Learning with best params\n",
    "eln_g = ElasticNet(**grid_enr.best_params_)\n",
    "eln_g.fit(X_train, y_train)\n",
    "y_pred_gs = eln_g.predict(X_test)\n",
    "\n",
    "# 6) The error metric: RMSE\n",
    "print(\"_\"*30)\n",
    "print(\"vs Prediction\")\n",
    "print(\"RMSE from local train: \", rmse(y_test, y_pred_gs))\n",
    "print(\"MSE from local train: \", mean_squared_error(y_test, y_pred_gs))\n",
    "print(\"R2 from local train: \", r2_score(y_test, y_pred_gs))"
   ]
  },
  {
   "cell_type": "markdown",
   "metadata": {},
   "source": [
    "### XGBoost"
   ]
  },
  {
   "cell_type": "code",
   "execution_count": 48,
   "metadata": {},
   "outputs": [
    {
     "name": "stdout",
     "output_type": "stream",
     "text": [
      "Best params:  {'colsample_bytree': 1.0, 'learning_rate': 0.1, 'max_depth': 2, 'min_child_weight': 14, 'n_estimators': 100, 'objective': 'reg:gamma', 'subsample': 0.8}\n",
      "Best Estimator:  XGBRegressor(base_score=0.5, booster='gbtree', colsample_bylevel=1,\n",
      "       colsample_bytree=1.0, gamma=0, learning_rate=0.1, max_delta_step=0,\n",
      "       max_depth=2, min_child_weight=14, missing=None, n_estimators=100,\n",
      "       n_jobs=1, nthread=None, objective='reg:gamma', random_state=0,\n",
      "       reg_alpha=0, reg_lambda=1, scale_pos_weight=1, seed=None,\n",
      "       silent=True, subsample=0.8)\n",
      "MSE:  -38.7922204065\n",
      "RMSE from local train:  5.99283617268\n",
      "MSE from local train:  35.9140853925\n",
      "R2 from local train:  0.401625973415\n"
     ]
    }
   ],
   "source": [
    "# =================================================\n",
    "# model_selection.GridSearchCV\n",
    "# =================================================\n",
    "# 1) xgboostモデルの作成\n",
    "reg = xgb.XGBRegressor()\n",
    "\n",
    "# 2) XGBoost params\n",
    "xgb_params = {\n",
    "    'objective' : ['reg:gamma','reg:linear'],\n",
    "    'learning_rate' : [0.05,0.75,0.1,0.125],\n",
    "    'n_estimators' : [50,100,200],\n",
    "    'max_depth' : [2,4,6],\n",
    "    'subsample' : [0.79,0.8,0.81,0.85],\n",
    "    'colsample_bytree' : [0.9,1.0],\n",
    "    'min_child_weight' : [13,14, 15, 16]\n",
    "}\n",
    "\n",
    "# 3) Run GridSearch\n",
    "grid_xgb = GridSearchCV(reg,xgb_params,scoring='neg_mean_squared_error',cv=5,n_jobs=-1)\n",
    "grid_xgb.fit(X_train, y_train)\n",
    "\n",
    "# 4) Show best Params and Score\n",
    "print(\"_\"*30)\n",
    "print(\"Result of Gridsearch\")\n",
    "print(\"Best params: \", grid_xgb.best_params_)\n",
    "print(\"Best Estimator: \", grid_xgb.best_estimator_)\n",
    "print(\"MSE: \", grid_xgb.best_score_)\n",
    "\n",
    "# 5) Learning with best params\n",
    "xgr_g = xgb.XGBRegressor(**grid_xgb.best_params_)\n",
    "xgr_g.fit(X_train, y_train)\n",
    "y_pred_gs = xgr_g.predict(X_test)\n",
    "\n",
    "# 6) The error metric: RMSE\n",
    "print(\"_\"*30)\n",
    "print(\"vs Prediction\")\n",
    "print(\"RMSE from local train: \", rmse(y_test, y_pred_gs))\n",
    "print(\"MSE from local train: \", mean_squared_error(y_test, y_pred_gs))\n",
    "print(\"R2 from local train: \", r2_score(y_test, y_pred_gs))"
   ]
  }
 ],
 "metadata": {
  "kernelspec": {
   "display_name": "Python 3",
   "language": "python",
   "name": "python3"
  },
  "language_info": {
   "codemirror_mode": {
    "name": "ipython",
    "version": 3
   },
   "file_extension": ".py",
   "mimetype": "text/x-python",
   "name": "python",
   "nbconvert_exporter": "python",
   "pygments_lexer": "ipython3",
   "version": "3.6.2"
  }
 },
 "nbformat": 4,
 "nbformat_minor": 2
}
