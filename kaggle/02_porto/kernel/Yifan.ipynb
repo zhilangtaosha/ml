{
  "cells": [
    {
      "metadata": {
        "_cell_guid": "3f2021f0-f174-4448-9008-f420e3bfa25b",
        "_uuid": "ef184ae5dba982b40699dd450f1f2ff4cb2ce1d9",
        "trusted": false,
        "collapsed": true
      },
      "cell_type": "code",
      "source": "# This Python 3 environment comes with many helpful analytics libraries installed\n# It is defined by the kaggle/python docker image: https://github.com/kaggle/docker-python\n# For example, here's several helpful packages to load in \n\nimport pandas as pd\nimport numpy as np\nfrom sklearn.preprocessing import StandardScaler\nfrom sklearn.metrics import roc_auc_score\n\nfrom sklearn.model_selection import train_test_split\nfrom sklearn.ensemble import RandomForestClassifier\nfrom sklearn.linear_model import LogisticRegression\nfrom sklearn.neighbors import KNeighborsClassifier\nimport time\n\npd.set_option('display.max_columns', 500)\npd.set_option('display.max_colwidth', 500)\npd.set_option('display.max_rows', 1000)\n\nfrom subprocess import check_output\nprint(check_output([\"ls\", \"../input\"]).decode(\"utf8\"))\n\n# Any results you write to the current directory are saved as output.",
      "execution_count": null,
      "outputs": []
    },
    {
      "metadata": {
        "_cell_guid": "0b09e15e-899f-4940-a221-7d1deb0ad242",
        "_uuid": "cc7f21db33dca34ed2c7b9ea331e4903a4f88ae5"
      },
      "cell_type": "markdown",
      "source": "## Note to other dear competitors\n\nThis is the beginning of a series of notebook that I am working on for educational purpose, to demonstrate some run-of-the mill techniques we use on Kaggle for a student audience.\n\nSo when most folks here are competiting to overfit the LB ^_^, we are doing some small effort to fill our students with practical machine learning knowledge and the virtue of solid CV. \n\nSince our students are also competing as teams in this competition, we decided to use the kernel facility as a way to share knowledge. Nevertheless, all comments are welcome, and let's all enjoy the last days of this competition!"
    },
    {
      "metadata": {
        "_cell_guid": "183ad9f3-7401-4656-93db-e5f1adb62819",
        "_uuid": "733a3ac6107c3839efb4fc7422a13399f94f42ab"
      },
      "cell_type": "markdown",
      "source": "# 1. Porto Seguo - Data Overview\n\nIn this competition we are tasked with making predictive models that can predict if a given driver will make insurance claim. One of the key aspects of this dataset is that it has already been nicely cleaned, with many categorical information nicely labeled and name accordingly - some simply as unordered categorical features, other are with ordinal values that represent the underlying logic. \n\nAs directly quoted from the data description about different postfix:\n* *bin* to indicate binary features\n* *cat* to indicate categorical features\n* Features without these designations are either continuous or ordinal\n\nAdditionally, value of -1 indicate missing values. \n\nlet's do some simple data manipulation to generate an overview on all the features over the train and test dataset"
    },
    {
      "metadata": {
        "_cell_guid": "63e11753-7a87-4971-86e8-b2cad118b8e7",
        "collapsed": true,
        "_uuid": "82aaed2a65ef9217b656e729711391ae66a6442b",
        "trusted": false
      },
      "cell_type": "code",
      "source": "# load train and test data, and then join them together\ntrain=pd.read_csv('../input/train.csv')\ntest=pd.read_csv('../input/test.csv')\nsample_submission=pd.read_csv('../input/sample_submission.csv')",
      "execution_count": null,
      "outputs": []
    },
    {
      "metadata": {
        "_cell_guid": "05c42aea-f394-40e2-9b72-a885fe88ab13",
        "collapsed": true,
        "_uuid": "011b8aaf2011d864cfd6c4490d495cff943f7c4d",
        "trusted": false
      },
      "cell_type": "code",
      "source": "traintest=train.drop(['id','target'], axis=1).append(test.drop(['id'], axis=1))\ncols=traintest.columns\n\n# defining column name for feature statistics\n# as the name suggested, we are capturing the following statistic from the features:\n# nunique: number of unique value\n# freq1: most frequent value \n# freq1_val: number of occurance of the most frequent value\n# freq2: second most frequent value \n# freq2_val: number of occurance of the second most frequent value\n# freq3: 3rd most frequent value, if available\n# freq3_val: number of occurance of the thrid most frequent value, if available\n# describe stats: the following ones are the stat offer by our best friend .describe methods. \n\nstat_cols= ['nunique','freq1','freq1_val', 'freq2', 'req2_val',\n             'freq3', 'freq3_val'] + traintest[cols[0]].describe().index.tolist()[1:]\n\nstat_cols=['feature']+stat_cols\n\nfeature_stat=pd.DataFrame(columns=stat_cols)\ni=0\n\nfor col in cols:\n    stat_vals=[]\n    \n    # get stat value\n    stat_vals.append(col)\n    stat_vals.append(traintest[col].nunique())\n    stat_vals.append(traintest[col].value_counts().index[0])\n    stat_vals.append(traintest[col].value_counts().iloc[0])\n    stat_vals.append(traintest[col].value_counts().index[1])\n    stat_vals.append(traintest[col].value_counts().iloc[1])\n    \n    if len(traintest[col].value_counts())>2:\n        stat_vals.append(traintest[col].value_counts().index[2])\n        stat_vals.append(traintest[col].value_counts().iloc[2])\n    else:\n        stat_vals.append(np.nan)\n        stat_vals.append(np.nan)\n            \n    stat_vals+=traintest[col].describe().tolist()[1:]\n\n    feature_stat.loc[i]=stat_vals\n    i+=1",
      "execution_count": null,
      "outputs": []
    },
    {
      "metadata": {
        "_cell_guid": "01fbc572-78db-4397-bbb4-a86a52fed11a",
        "_uuid": "4dee8686a6c7bca2719eec1190f0eaaa094d30c1"
      },
      "cell_type": "markdown",
      "source": "Let's sort this list by the number of unique value, and have a closer look on the categorical features, sine these are the one that requires \"special treatment\" later on"
    },
    {
      "metadata": {
        "_cell_guid": "7d40d236-6884-42ef-99d6-92f8cb36d870",
        "_uuid": "4f06d41be3949b05434ca69a8b3db03fd02e3f11",
        "trusted": false,
        "collapsed": true
      },
      "cell_type": "code",
      "source": "feature_stat[feature_stat['feature'].str.contains(\"cat\")].sort_values(by=['nunique'])",
      "execution_count": null,
      "outputs": []
    },
    {
      "metadata": {
        "_cell_guid": "26a027d9-94f8-45fb-9599-38ff4d26ce16",
        "_uuid": "0b8a8f7f158bff5f19bb7aaa6ff9153792e7b07c"
      },
      "cell_type": "markdown",
      "source": "Hum, there are quite a few of them, and especially the feature 'ps_car_11_cat' has many levels.\n\n# 2. Categorical features encoding\n\nCategorical features in this dataset are encoded in a numeric manner, i.e. we have '0', '1', '2' representing different classes of some car related concepts like 'FWD', 'RWD', '4WD' for drive types. It is a nice way to represent information that is not in numeric format - since most ML algorthims prefer number over string. \n\nThis does present a problem, as you can imagine, there isn't necessary a logical order to rank different drive types from 'FF' to '4DW in an ordinal manner i.e. '0','1','2'.  Now that we encoding them in such a way, we have actually manually imposed such an ordinal logic which doesn't necessary exist within the observations.\n\nLet's apply some tricks present them in a non-ordinal way, here we are going to use \"frequency encoding\" and \"binary encoding\"\n\n## 2.1 Frequency Encoding\n\nThe idea behind frequency encoding is to represent the levels within a categorical features with the frequency they are observe in a dataset. One of the reaons of doing this is more frequently observed level often behave in a similar way - but this is not always true. In the end we need our cross-validation effort to tell us if this is indeed helpful. \n\nAnyway, let's build a utility function to do this:"
    },
    {
      "metadata": {
        "_cell_guid": "fd472e01-689a-4150-b4b2-2d043e4e04c6",
        "collapsed": true,
        "_uuid": "8decbc3cac5ba7002fd758fdcccb958e2a8bd0ee",
        "trusted": false
      },
      "cell_type": "code",
      "source": "# This function late in a list of features 'cols' from train and test dataset, \n# and performing frequency encoding. \ndef freq_encoding(cols, train_df, test_df):\n    # we are going to store our new dataset in these two resulting datasets\n    result_train_df=pd.DataFrame()\n    result_test_df=pd.DataFrame()\n    \n    # loop through each feature column to do this\n    for col in cols:\n        \n        # capture the frequency of a feature in the training set in the form of a dataframe\n        col_freq=col+'_freq'\n        freq=train_df[col].value_counts()\n        freq=pd.DataFrame(freq)\n        freq.reset_index(inplace=True)\n        freq.columns=[[col,col_freq]]\n\n        # merge ths 'freq' datafarme with the train data\n        temp_train_df=pd.merge(train_df[[col]], freq, how='left', on=col)\n        temp_train_df.drop([col], axis=1, inplace=True)\n\n        # merge this 'freq' dataframe with the test data\n        temp_test_df=pd.merge(test_df[[col]], freq, how='left', on=col)\n        temp_test_df.drop([col], axis=1, inplace=True)\n\n        # if certain levels in the test dataset is not observed in the train dataset, \n        # we assign frequency of zero to them\n        temp_test_df.fillna(0, inplace=True)\n        temp_test_df[col_freq]=temp_test_df[col_freq].astype(np.int32)\n\n        if result_train_df.shape[0]==0:\n            result_train_df=temp_train_df\n            result_test_df=temp_test_df\n        else:\n            result_train_df=pd.concat([result_train_df, temp_train_df],axis=1)\n            result_test_df=pd.concat([result_test_df, temp_test_df],axis=1)\n    \n    return result_train_df, result_test_df\n",
      "execution_count": null,
      "outputs": []
    },
    {
      "metadata": {
        "_cell_guid": "f6c46b85-14ce-4fca-a749-fa2bf738e113",
        "_uuid": "9379152921ec7f14a54392b1416e39492427aeaa"
      },
      "cell_type": "markdown",
      "source": "let's apply this function on some of our categorical features:"
    },
    {
      "metadata": {
        "_cell_guid": "2e388162-86e8-4eea-ac6a-60f7c1c774aa",
        "collapsed": true,
        "_uuid": "dbc0b3d1280038047c8efc27831932163c6f05f3",
        "trusted": false
      },
      "cell_type": "code",
      "source": "cat_cols=['ps_ind_02_cat','ps_car_04_cat', 'ps_car_09_cat',\n          'ps_ind_05_cat', 'ps_car_01_cat', 'ps_car_11_cat']\n\n# generate dataframe for frequency features for the train and test dataset\ntrain_freq, test_freq=freq_encoding(cat_cols, train, test)\n\n# merge them into the original train and test dataset\ntrain=pd.concat([train, train_freq], axis=1)\ntest=pd.concat([test,test_freq], axis=1)",
      "execution_count": null,
      "outputs": []
    },
    {
      "metadata": {
        "_cell_guid": "304e8a42-2160-4eb8-afc6-19231cf99596",
        "_uuid": "e311b610f3b08c7d16bd680b259bfe4843743047"
      },
      "cell_type": "markdown",
      "source": "Let's have a look at one of the frequency feature and compare to the original feature:"
    },
    {
      "metadata": {
        "_cell_guid": "f950eb9a-4709-488a-b1e7-f8ce209925a9",
        "_uuid": "ae821d60b5def3f426ae9b50d790afde883461e3",
        "trusted": false,
        "collapsed": true
      },
      "cell_type": "code",
      "source": "train[train.columns[train.columns.str.contains('ps_ind_02_cat')]].head(5)",
      "execution_count": null,
      "outputs": []
    },
    {
      "metadata": {
        "_cell_guid": "e9f6a209-1a92-4870-8e6d-3b92d9850206",
        "_uuid": "6391b4f5cd749d4575ebe1be8fa80a9965244860"
      },
      "cell_type": "markdown",
      "source": "As you can see they a frequency value is now assigned to different level for the feature 'ps_ind_02_cat' - we shall remove the original feature after this transformation, but we still want to apply binary encoding before doing so.\n\n## 2.2 Binary Encoding\n\nOne of the most demonstrated effort for categorical encoding is so care \"one-hot-encoding\", in which case you create a vector of 0s for each level, and simply assign a 1 to replace the nth 0 for the nth level. So for instance for the drive type example we used above: \"FWD\", \"RWD and \"4WD\", we would represent \"FWD\" with 100, \"RWD\" 010, and \"4WD\" with 001.\n\nIt is good idea to represent information in this way, in that it remove the unwanted ordinal pattern in 0, 1 and 2. But now we introduce an issue of dimensitionaity - we are now using n \"dummy columns\" to represent an original columns with n levels.  For a feature with 3 levels we might be ok, but for a feature like \"ps_car_11_cat\" are are introducing 100+ column into a original data set with 50 columns. By doing this we more than triple the size of the dataset, and this spells trouble for machine learning due to [*\"the curse of dimensionality\"*](https://en.wikipedia.org/wiki/Curse_of_dimensionality)\n\nBinary Encoding, as describe by this cool article [*\"Beyond One-Hot\"*](https://www.kdnuggets.com/2015/12/beyond-one-hot-exploration-categorical-variables.html) from KDnuggets, is an approach that allow you to use less \"dummy columns\" and yet remove the ordinal pattern from numeric encoding. The idea is to represent already numeric encoded levels from categorical features using their binary representation. So for a feature with 4 levels 0, 1, 2, 3: 0 will be encoded as \"00\", 1 will be encoded as \"01\", 2 will be encoded as \"10\" and 3 will be encoded as \"11\". \n\nLet's put this into action, and create a utility function for "
    },
    {
      "metadata": {
        "_cell_guid": "47ff2bfd-f3c8-4de3-b0c2-d6165240508a",
        "collapsed": true,
        "_uuid": "5fbb19872e83867a9b4f115fabf0f6840ef347b4",
        "trusted": false
      },
      "cell_type": "code",
      "source": "# perform binary encoding for categorical variable\n# this function take in a pair of train and test data set, and the feature that need to be encode.\n# it returns the two dataset with input feature encoded in binary representation\n# this function assumpt that the feature to be encoded is already been encoded in a numeric manner \n# ranging from 0 to n-1 (n = number of levels in the feature). \n\ndef binary_encoding(train_df, test_df, feat):\n    # calculate the highest numerical value used for numeric encoding\n    train_feat_max = train_df[feat].max()\n    test_feat_max = test_df[feat].max()\n    if train_feat_max > test_feat_max:\n        feat_max = train_feat_max\n    else:\n        feat_max = test_feat_max\n        \n    # use the value of feat_max+1 to represent missing value\n    train_df.loc[train_df[feat] == -1, feat] = feat_max + 1\n    test_df.loc[test_df[feat] == -1, feat] = feat_max + 1\n    \n    # create a union set of all possible values of the feature\n    union_val = np.union1d(train_df[feat].unique(), test_df[feat].unique())\n\n    # extract the highest value from from the feature in decimal format.\n    max_dec = union_val.max()\n    \n    # work out how the ammount of digtis required to be represent max_dev in binary representation\n    max_bin_len = len(\"{0:b}\".format(max_dec))\n    index = np.arange(len(union_val))\n    columns = list([feat])\n    \n    # create a binary encoding feature dataframe to capture all the levels for the feature\n    bin_df = pd.DataFrame(index=index, columns=columns)\n    bin_df[feat] = union_val\n    \n    # capture the binary representation for each level of the feature \n    feat_bin = bin_df[feat].apply(lambda x: \"{0:b}\".format(x).zfill(max_bin_len))\n    \n    # split the binary representation into different bit of digits \n    splitted = feat_bin.apply(lambda x: pd.Series(list(x)).astype(np.uint8))\n    splitted.columns = [feat + '_bin_' + str(x) for x in splitted.columns]\n    bin_df = bin_df.join(splitted)\n    \n    # merge the binary feature encoding dataframe with the train and test dataset - Done! \n    train_df = pd.merge(train_df, bin_df, how='left', on=[feat])\n    test_df = pd.merge(test_df, bin_df, how='left', on=[feat])\n    return train_df, test_df\n",
      "execution_count": null,
      "outputs": []
    },
    {
      "metadata": {
        "_cell_guid": "586a7312-448f-480e-9e12-9721cdbecbdb",
        "_uuid": "857c4e91d14a4053db146ab87c97a1a5bc3fb686"
      },
      "cell_type": "markdown",
      "source": "Let's try this out!"
    },
    {
      "metadata": {
        "_cell_guid": "5ae94573-9626-45fb-b47c-19fdf8b2ad9c",
        "collapsed": true,
        "_uuid": "d6923771540f8b06aa4ff0c108f43d06d02e6486",
        "trusted": false
      },
      "cell_type": "code",
      "source": "cat_cols=['ps_ind_02_cat','ps_car_04_cat', 'ps_car_09_cat',\n          'ps_ind_05_cat', 'ps_car_01_cat']\n\ntrain, test=binary_encoding(train, test, 'ps_ind_02_cat')\ntrain, test=binary_encoding(train, test, 'ps_car_04_cat')\ntrain, test=binary_encoding(train, test, 'ps_car_09_cat')\ntrain, test=binary_encoding(train, test, 'ps_ind_05_cat')\ntrain, test=binary_encoding(train, test, 'ps_car_01_cat')",
      "execution_count": null,
      "outputs": []
    },
    {
      "metadata": {
        "_cell_guid": "4b316374-c692-4f53-ae35-13b29970cc6b",
        "_uuid": "7b34dbdc67599c7400223e1203e7da48fa462fa6"
      },
      "cell_type": "markdown",
      "source": "let's have a look at now all the columns with 'ps_ind_02_cat', you can now see how the binary encodeing features are created now for 'ps_ind_02_cat'"
    },
    {
      "metadata": {
        "_cell_guid": "c00227fe-c49d-4e2c-825d-51915651ecf6",
        "_uuid": "e7da7bf00047163dbd64d78621bc864152d5afe6",
        "trusted": false,
        "collapsed": true
      },
      "cell_type": "code",
      "source": "train[train.columns[train.columns.str.contains('ps_ind_02_cat')]].head(5)\n",
      "execution_count": null,
      "outputs": []
    },
    {
      "metadata": {
        "_cell_guid": "3981e4b1-69bb-4cd4-b301-e2607581bf31",
        "_uuid": "9cc0596f6f643215c489f0edbbd9d194bfeed63a"
      },
      "cell_type": "markdown",
      "source": "Those of you with a sharp eye will notice that we didn't perform binary encoding for the feature 'ps_car_11_cat' - a categorical feature with more than 100 levels. The reason we didn't do it here is that performing binary encoding on this feature will create 40+ encoded columns, it is a sizable reduction compare to one-hot-encoding, but neverthelss would still inflat this dataset by 80% from 50+ columns to 90+ columns. For a bigger dataset with more column this is still doable, however in this case, generating 40+ eencoded columns would still bring too much noise for the benfit of doing it.\n\nWhat to do in this case? You can try more tricks, perhaps by referring to this wonder slide on [*feature engineering*](https://www.slideshare.net/HJvanVeen/feature-engineering-72376750) by [*Triskelion*](https://www.kaggle.com/triskelion). I personally would have try target encoding, but this need to be done in a k-fold manner, and I would skip it here to save some space for doing some acutal modelling. \n\n## 3. Simple modelling pipeline\n\nOk, now let's try to do some actual modelling using the train and test dataset we have been working on.\nFirst of all, let's also trim the dataset a bit more. As it has already been shared in the kernel such as this wonderful [*interactive EDA*](https://www.kaggle.com/headsortails/steering-wheel-of-fortune-porto-seguro-eda) by [*Heads or Tails*](https://www.kaggle.com/headsortails) , that all the feature with the wording \"cal\" isn't useful. Here we are going to drop all these columns"
    },
    {
      "metadata": {
        "_cell_guid": "13c4f2b8-94a4-4ee8-8f21-0b469745f5ce",
        "collapsed": true,
        "_uuid": "6be93e4aa51d19ae6ef75e2d850fc984a814d974",
        "trusted": false
      },
      "cell_type": "code",
      "source": "col_to_drop = train.columns[train.columns.str.startswith('ps_calc_')]\ntrain.drop(col_to_drop, axis=1, inplace=True)  \ntest.drop(col_to_drop, axis=1, inplace=True)  ",
      "execution_count": null,
      "outputs": []
    },
    {
      "metadata": {
        "_cell_guid": "36bb8261-0abc-408d-a542-d437d1fac70a",
        "_uuid": "4dd16e28f75228115f129f0b3349375df1fe68b6"
      },
      "cell_type": "markdown",
      "source": "Also, we now that we have processed some of the categorical features in the form of frequency encoding and binary encoding, lest's remove the original featrues. - We keep the feature 'ps_car_11_cat' for now as we haven't treated it with anything other than frequency encoding."
    },
    {
      "metadata": {
        "_cell_guid": "22b8409d-efaf-4aaa-945b-2fce3df0b3f9",
        "collapsed": true,
        "_uuid": "42caf0dd327d6abee13c6da67c869601b9a4fcdb",
        "trusted": false
      },
      "cell_type": "code",
      "source": "cat_cols=['ps_ind_02_cat','ps_car_04_cat', 'ps_car_09_cat', 'ps_ind_05_cat', 'ps_car_01_cat']\ntrain.drop(cat_cols, axis=1, inplace=True)  \ntest.drop(cat_cols, axis=1, inplace=True)  ",
      "execution_count": null,
      "outputs": []
    },
    {
      "metadata": {
        "_cell_guid": "84fa1e2a-f5de-4da2-b144-cf3c314342dd",
        "_uuid": "0191ac20bde6672b42a0bf689b1e5288fe39e893"
      },
      "cell_type": "markdown",
      "source": "Next step, let's create the local train and validation data for this little exercise"
    },
    {
      "metadata": {
        "_cell_guid": "74f5e3e3-0f3c-4968-a649-38b959d260dd",
        "collapsed": true,
        "_uuid": "3e5e5454761cbd45fbfee3b67897dce0179f244f",
        "trusted": false
      },
      "cell_type": "code",
      "source": "localtrain, localval=train_test_split(train, test_size=0.25, random_state=2017)\n\ndrop_cols=['id','target']\ny_localtrain=localtrain['target']\nx_localtrain=localtrain.drop(drop_cols, axis=1)\n\ny_localval=localval['target']\nx_localval=localval.drop(drop_cols, axis=1)",
      "execution_count": null,
      "outputs": []
    },
    {
      "metadata": {
        "_cell_guid": "4adc498c-2e6d-4138-b420-b92555d331c1",
        "_uuid": "4397dca1b9dab31fa58446f8eeb5be3abb4c4b23"
      },
      "cell_type": "markdown",
      "source": "In the next parts, we are going to build some simple ML model to make prediction on our dataset, with Random Forest and Logistic Regression \n\n## 3.1 Random Forest model training and prediction\nLet's use sklearn's Random Forest API to fit our Random Forest model, and perform the prediction on local validation set"
    },
    {
      "metadata": {
        "_cell_guid": "982bede0-c88a-4be4-8545-38b20c29c8e9",
        "_uuid": "032b7eb6e180e4f7afce98ffdab17735e536a505",
        "trusted": false,
        "collapsed": true
      },
      "cell_type": "code",
      "source": "print('Start training...')\nstart_time=time.time()\n\nrf=RandomForestClassifier(n_estimators=250, n_jobs=6, min_samples_split=5, max_depth=7,\n                          criterion='gini', random_state=0)\n\nrf.fit(x_localtrain, y_localtrain)\nrf_valprediction=rf.predict_proba(x_localval)[:,1]\n\nend_time = time.time()\nprint(\"it takes %.3f seconds to train and predict\" % (end_time - start_time))",
      "execution_count": null,
      "outputs": []
    },
    {
      "metadata": {
        "_cell_guid": "fef2344c-ecc0-4629-8059-0c53a8f94dd7",
        "_uuid": "dca105397b84738c9396fec23902811ca1fb3049"
      },
      "cell_type": "markdown",
      "source": "It has been shared in the [*competition forum*](https://www.kaggle.com/c/porto-seguro-safe-driver-prediction/discussion/40368) that there is an easy conversion from AUC to Gini normalised coefficient - this is further explained in the wiki page for [*Gini coeeficient*](https://en.wikipedia.org/wiki/Gini_coefficient#Relation_to_other_statistical_measures)."
    },
    {
      "metadata": {
        "_cell_guid": "81d41004-28e4-4143-9b8f-e39319536971",
        "_uuid": "3b7b965144d04b79b50db11a3e8be682e224ddc2",
        "trusted": false,
        "collapsed": true
      },
      "cell_type": "code",
      "source": "rf_val_auc=roc_auc_score(y_localval, rf_valprediction)\nrf_val_gininorm=2*rf_val_auc-1\n\nprint('Random Forest Validation AUC is {:.6f}'.format(rf_val_auc))\nprint('Random Forest Validation Normalised Gini Coefficient is {:.6f}'.format(rf_val_gininorm))",
      "execution_count": null,
      "outputs": []
    },
    {
      "metadata": {
        "_cell_guid": "9ee5ff92-e60e-4049-8631-b39a9de2fc75",
        "_uuid": "a7eb8c79640e14eced5a05b46c58df5b8df92b10"
      },
      "cell_type": "markdown",
      "source": "Finally let's perform the prediction for the test data"
    },
    {
      "metadata": {
        "_cell_guid": "351c7a7a-c7a4-471e-b0e9-28fe3998a189",
        "collapsed": true,
        "_uuid": "fdd4bcb40821ab154e3a1f1a34c04b1c715de1b5",
        "trusted": false
      },
      "cell_type": "code",
      "source": "x_test=test.drop(['id'], axis=1)\ny_testprediction=rf.predict_proba(x_test)[:,1]\n\nrf_submission=sample_submission.copy()\nrf_submission['target']=y_testprediction\nrf_submission.to_csv('rf_submission.csv', compression='gzip', index=False)",
      "execution_count": null,
      "outputs": []
    },
    {
      "metadata": {
        "_cell_guid": "52cc5211-53b0-46ea-bf50-3c65d704ff6e",
        "_uuid": "b45496bda145b81d822d101c9a90c9e3078956b7"
      },
      "cell_type": "markdown",
      "source": "##  3.2 Logistic Regression training and prediction\n\nWith sklearn, the training and prediction for Logistic Regression is quite similar to that of the Random Forest, the only major difference is that we have to remember for perform feature scaling first, and then we have to use the scaled features for training and prediction."
    },
    {
      "metadata": {
        "_cell_guid": "63e6e9c5-b61a-40c0-bd1d-3f3f5854f556",
        "_uuid": "75159758b0e575d636822eae3f7e08b4cd8e2072",
        "trusted": false,
        "collapsed": true
      },
      "cell_type": "code",
      "source": "scaler = StandardScaler().fit(x_localtrain.values)\nx_localtrain_scaled = scaler.transform(x_localtrain)\nx_localval_scaled = scaler.transform(x_localval)\nx_test_scaled = scaler.transform(x_test)\n\nprint('Start training...')\nstart_time=time.time()\n\nlogit=LogisticRegression()\nlogit.fit(x_localtrain_scaled, y_localtrain)\nlogit_valprediction=logit.predict_proba(x_localval_scaled)[:,1]\n\nend_time = time.time()\nprint(\"it takes %.3f seconds to train and predict\" % (end_time - start_time))",
      "execution_count": null,
      "outputs": []
    },
    {
      "metadata": {
        "_cell_guid": "ccd854de-d9c6-4963-a827-968f7b297873",
        "_uuid": "79e4af0b2bb3b05082a07647ad40bf6e37d50f68"
      },
      "cell_type": "markdown",
      "source": "The prediction step is rather straightforward - exactly the same as the one for Random Forest"
    },
    {
      "metadata": {
        "_cell_guid": "5921ba7f-3ffc-48ed-9026-a8e8e4d4b964",
        "_uuid": "44af6fc5024ddd62ba93f1b28724e1a92ee874e4",
        "trusted": false,
        "collapsed": true
      },
      "cell_type": "code",
      "source": "logit_val_auc=roc_auc_score(y_localval, logit_valprediction)\nlogit_val_gininorm=2*logit_val_auc-1\n\nprint('Logistic Regression Validation AUC is {:.6f}'.format(logit_val_auc))\nprint('Logistic Regression Validation Normalised Gini Coefficient is {:.6f}'.format(logit_val_gininorm))",
      "execution_count": null,
      "outputs": []
    },
    {
      "metadata": {
        "_cell_guid": "62c61077-322a-46fb-9812-36065e7a4ff7",
        "_uuid": "f0e4dba01bbebdb3a618dc829e6a1c5379a09161"
      },
      "cell_type": "markdown",
      "source": "Let's also generate the prediction for logistic regression"
    },
    {
      "metadata": {
        "_cell_guid": "898e7065-915b-41a9-9a53-79666b7a9066",
        "collapsed": true,
        "_uuid": "a6aa5c8ce8b7cba7d9ff882e406cfef2390ea297",
        "trusted": false
      },
      "cell_type": "code",
      "source": "y_testprediction=logit.predict_proba(x_test_scaled)[:,1]\n\nlogit_submission=sample_submission.copy()\nlogit_submission['target']=y_testprediction\nlogit_submission.to_csv('logit_submission.csv', compression='gzip', index=False)",
      "execution_count": null,
      "outputs": []
    }
  ],
  "metadata": {
    "kernelspec": {
      "display_name": "Python 3",
      "language": "python",
      "name": "python3"
    },
    "language_info": {
      "name": "python",
      "codemirror_mode": {
        "name": "ipython",
        "version": 3
      },
      "pygments_lexer": "ipython3",
      "nbconvert_exporter": "python",
      "version": "3.6.3",
      "mimetype": "text/x-python",
      "file_extension": ".py"
    }
  },
  "nbformat": 4,
  "nbformat_minor": 1
}