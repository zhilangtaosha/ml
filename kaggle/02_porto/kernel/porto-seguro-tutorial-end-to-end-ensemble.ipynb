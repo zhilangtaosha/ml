{
 "cells": [
  {
   "cell_type": "code",
   "execution_count": null,
   "metadata": {
    "_cell_guid": "288e711f-b3ff-422e-a480-f4d7d15ddf03",
    "_uuid": "d0673b9bd61398c6fe3d238710fd4ad725db7df9",
    "collapsed": true
   },
   "outputs": [],
   "source": [
    "# This Python 3 environment comes with many helpful analytics libraries installed\n",
    "# It is defined by the kaggle/python docker image: https://github.com/kaggle/docker-python\n",
    "# For example, here's several helpful packages to load in \n",
    "\n",
    "import numpy as np # linear algebra\n",
    "import pandas as pd # data processing, CSV file I/O (e.g. pd.read_csv)\n",
    "from sklearn.preprocessing import StandardScaler\n",
    "from sklearn.metrics import roc_auc_score\n",
    "\n",
    "from sklearn.model_selection import train_test_split\n",
    "from sklearn.ensemble import RandomForestClassifier, ExtraTreesClassifier\n",
    "from sklearn.naive_bayes import BernoulliNB\n",
    "from sklearn.linear_model import LogisticRegression\n",
    "from sklearn.model_selection import StratifiedKFold\n",
    "\n",
    "import xgboost as xgb\n",
    "import lightgbm as lgb\n",
    "import time\n",
    "\n",
    "pd.set_option('display.max_columns', 500)\n",
    "pd.set_option('display.max_colwidth', 500)\n",
    "pd.set_option('display.max_rows', 1000)\n",
    "\n",
    "# Input data files are available in the \"../input/\" directory.\n",
    "# For example, running this (by clicking run or pressing Shift+Enter) will list the files in the input directory\n",
    "\n",
    "from subprocess import check_output\n",
    "print(check_output([\"ls\", \"../input\"]).decode(\"utf8\"))\n",
    "\n",
    "# Any results you write to the current directory are saved as output."
   ]
  },
  {
   "cell_type": "code",
   "execution_count": null,
   "metadata": {},
   "outputs": [],
   "source": []
  },
  {
   "cell_type": "markdown",
   "metadata": {
    "_cell_guid": "e7231e6e-fd1c-436f-a596-08be1b23c643",
    "_uuid": "c1594176c1df2d5dd636fff20572789da17e94ee"
   },
   "source": []
  },
  {
   "cell_type": "markdown",
   "metadata": {
    "_cell_guid": "a7a02f21-bf06-4bd3-b9c8-f06a00267e49",
    "_uuid": "684ecb1c9312244f8f37d82d4b8c3a7e43bb22c6"
   },
   "source": [
    "## Note to others\n",
    "\n",
    "This is the second of a series of notebooks that I am working on for educational purpose, to demonstrate some run-of-the mill techniques we use on Kaggle for a student audience.\n",
    "\n",
    "So when most folks here are competiting to overfit the LB, we are doing some small effort to fill our students with handy knowledge and the virtue of solid CV. \n",
    "\n",
    "Anyhow, since our students are also competing as teams in this competition, we decided to use the kernel facility as a way to share knowledge. Nevertheless, all comments are welcome, and let's all enjoy the last days of this competition!"
   ]
  },
  {
   "cell_type": "markdown",
   "metadata": {
    "_cell_guid": "3426e020-f3fa-4738-8248-454539e9bf0a",
    "_uuid": "99a0f5ea967e18bbe15c431688151230ca6fe4b2"
   },
   "source": [
    "# Porto Seguo - End-to-end Ensemble\n",
    "\n",
    "In this competition we are tasked with making predictive models that can predict if a given driver will make insurance claim. In a [\"previous kernel\"](https://www.kaggle.com/yifanxie/porto-seguro-tutorial-simple-e2e-pipeline) we have breifly explored the data, did some useful categorical feature encoding, and presented a simple model building pipeline.\n",
    "\n",
    "In this kernel, we are going to progress a bit more on the model building aspect. Firstly, we will introduce the technique to generate out-out-fold train and test predictions for several models, we will then use these out-of-fold predictions to be  ensemble model. \n",
    "\n",
    "Strickly speaking, the ensemble method we use here is referred as **Stacked generalization** as very well ilustrated already by the following blog/articles:\n",
    "* [*Kaggle Ensemble Guide*](https://mlwave.com/kaggle-ensembling-guide/) by [Triskelion](https://www.kaggle.com/triskelion)\n",
    "* [*Stacking Made Easy: An Introduction to StackNet*](http://blog.kaggle.com/2017/06/15/stacking-made-easy-an-introduction-to-stacknet-by-competitions-grandmaster-marios-michailidis-kazanova/) by Competitions Grandmaster [Marios Michailidis (KazAnova)](https://www.kaggle.com/kazanova)\n",
    "\n",
    "So without further ado, let's get technical.\n"
   ]
  },
  {
   "cell_type": "code",
   "execution_count": null,
   "metadata": {
    "_cell_guid": "b52bca46-ad93-4d3c-b521-a8ff7cc14925",
    "_uuid": "a95102151e9f10f062de8b8423652f59775529ae",
    "collapsed": true
   },
   "outputs": [],
   "source": [
    "train=pd.read_csv('../input/train.csv')\n",
    "test=pd.read_csv('../input/test.csv')\n",
    "sample_submission=pd.read_csv('../input/sample_submission.csv')"
   ]
  },
  {
   "cell_type": "markdown",
   "metadata": {
    "_cell_guid": "d29dcdbc-b5bf-4544-a4a6-c9ef52ce28d1",
    "_uuid": "d6d62cc3cc1797276ffcca3a9cef43f641bf31b5"
   },
   "source": [
    "\n",
    "# 1. Categorical feature encoding and feature reduction\n",
    "The following part is a strict copy & paste from the first kernel, so for detailed explaination please check it out there.\n",
    "\n",
    "## 1.1 Frequency Encoding"
   ]
  },
  {
   "cell_type": "code",
   "execution_count": null,
   "metadata": {
    "_cell_guid": "c24cea38-95b0-401e-9de4-1a4ff822ccad",
    "_uuid": "9f8eccaa9160eafea2cb8f2406687c32ddb92e97",
    "collapsed": true
   },
   "outputs": [],
   "source": [
    "# This function late in a list of features 'cols' from train and test dataset, \n",
    "# and performing frequency encoding. \n",
    "def freq_encoding(cols, train_df, test_df):\n",
    "    # we are going to store our new dataset in these two resulting datasets\n",
    "    result_train_df=pd.DataFrame()\n",
    "    result_test_df=pd.DataFrame()\n",
    "    \n",
    "    # loop through each feature column to do this\n",
    "    for col in cols:\n",
    "        \n",
    "        # capture the frequency of a feature in the training set in the form of a dataframe\n",
    "        col_freq=col+'_freq'\n",
    "        freq=train_df[col].value_counts()\n",
    "        freq=pd.DataFrame(freq)\n",
    "        freq.reset_index(inplace=True)\n",
    "        freq.columns=[[col,col_freq]]\n",
    "\n",
    "        # merge ths 'freq' datafarme with the train data\n",
    "        temp_train_df=pd.merge(train_df[[col]], freq, how='left', on=col)\n",
    "        temp_train_df.drop([col], axis=1, inplace=True)\n",
    "\n",
    "        # merge this 'freq' dataframe with the test data\n",
    "        temp_test_df=pd.merge(test_df[[col]], freq, how='left', on=col)\n",
    "        temp_test_df.drop([col], axis=1, inplace=True)\n",
    "\n",
    "        # if certain levels in the test dataset is not observed in the train dataset, \n",
    "        # we assign frequency of zero to them\n",
    "        temp_test_df.fillna(0, inplace=True)\n",
    "        temp_test_df[col_freq]=temp_test_df[col_freq].astype(np.int32)\n",
    "\n",
    "        if result_train_df.shape[0]==0:\n",
    "            result_train_df=temp_train_df\n",
    "            result_test_df=temp_test_df\n",
    "        else:\n",
    "            result_train_df=pd.concat([result_train_df, temp_train_df],axis=1)\n",
    "            result_test_df=pd.concat([result_test_df, temp_test_df],axis=1)\n",
    "    \n",
    "    return result_train_df, result_test_df"
   ]
  },
  {
   "cell_type": "markdown",
   "metadata": {
    "_cell_guid": "cce2912b-49ed-44d4-8d33-e0051f46748e",
    "_uuid": "8460d02beec81cd667b9d209da5b9a9a2acd65a6"
   },
   "source": [
    "let's run the frequency encoding function"
   ]
  },
  {
   "cell_type": "code",
   "execution_count": null,
   "metadata": {
    "_cell_guid": "dc3556c7-4237-4269-9276-52a79863ff60",
    "_uuid": "2907a62516bce09ff3935fc848adf5b580ba280d",
    "collapsed": true
   },
   "outputs": [],
   "source": [
    "cat_cols=['ps_ind_02_cat','ps_car_04_cat', 'ps_car_09_cat',\n",
    "          'ps_ind_05_cat', 'ps_car_01_cat', 'ps_car_11_cat']\n",
    "\n",
    "# generate dataframe for frequency features for the train and test dataset\n",
    "train_freq, test_freq=freq_encoding(cat_cols, train, test)\n",
    "\n",
    "# merge them into the original train and test dataset\n",
    "train=pd.concat([train, train_freq], axis=1)\n",
    "test=pd.concat([test,test_freq], axis=1)"
   ]
  },
  {
   "cell_type": "markdown",
   "metadata": {
    "_cell_guid": "dc67a039-07ef-417f-8e5c-276f7d869b8e",
    "_uuid": "a8dea361775d06687a6f29f2e29ccd28499196bd"
   },
   "source": [
    "## 1.2 Binary Encoding"
   ]
  },
  {
   "cell_type": "code",
   "execution_count": null,
   "metadata": {
    "_cell_guid": "2ce95338-d0c6-4a42-b06a-5af3789be27b",
    "_uuid": "2dbdad70e3cf56d8309fe0f9148595d2c5ece766",
    "collapsed": true
   },
   "outputs": [],
   "source": [
    "# perform binary encoding for categorical variable\n",
    "# this function take in a pair of train and test data set, and the feature that need to be encode.\n",
    "# it returns the two dataset with input feature encoded in binary representation\n",
    "# this function assumpt that the feature to be encoded is already been encoded in a numeric manner \n",
    "# ranging from 0 to n-1 (n = number of levels in the feature). \n",
    "\n",
    "def binary_encoding(train_df, test_df, feat):\n",
    "    # calculate the highest numerical value used for numeric encoding\n",
    "    train_feat_max = train_df[feat].max()\n",
    "    test_feat_max = test_df[feat].max()\n",
    "    if train_feat_max > test_feat_max:\n",
    "        feat_max = train_feat_max\n",
    "    else:\n",
    "        feat_max = test_feat_max\n",
    "        \n",
    "    # use the value of feat_max+1 to represent missing value\n",
    "    train_df.loc[train_df[feat] == -1, feat] = feat_max + 1\n",
    "    test_df.loc[test_df[feat] == -1, feat] = feat_max + 1\n",
    "    \n",
    "    # create a union set of all possible values of the feature\n",
    "    union_val = np.union1d(train_df[feat].unique(), test_df[feat].unique())\n",
    "\n",
    "    # extract the highest value from from the feature in decimal format.\n",
    "    max_dec = union_val.max()\n",
    "    \n",
    "    # work out how the ammount of digtis required to be represent max_dev in binary representation\n",
    "    max_bin_len = len(\"{0:b}\".format(max_dec))\n",
    "    index = np.arange(len(union_val))\n",
    "    columns = list([feat])\n",
    "    \n",
    "    # create a binary encoding feature dataframe to capture all the levels for the feature\n",
    "    bin_df = pd.DataFrame(index=index, columns=columns)\n",
    "    bin_df[feat] = union_val\n",
    "    \n",
    "    # capture the binary representation for each level of the feature \n",
    "    feat_bin = bin_df[feat].apply(lambda x: \"{0:b}\".format(x).zfill(max_bin_len))\n",
    "    \n",
    "    # split the binary representation into different bit of digits \n",
    "    splitted = feat_bin.apply(lambda x: pd.Series(list(x)).astype(np.uint8))\n",
    "    splitted.columns = [feat + '_bin_' + str(x) for x in splitted.columns]\n",
    "    bin_df = bin_df.join(splitted)\n",
    "    \n",
    "    # merge the binary feature encoding dataframe with the train and test dataset - Done! \n",
    "    train_df = pd.merge(train_df, bin_df, how='left', on=[feat])\n",
    "    test_df = pd.merge(test_df, bin_df, how='left', on=[feat])\n",
    "    return train_df, test_df\n"
   ]
  },
  {
   "cell_type": "markdown",
   "metadata": {
    "_cell_guid": "53fc4b89-9697-4667-977c-3ed33d2cab80",
    "_uuid": "5baa04a745433c90299f782635eb1ff7ec34da4a"
   },
   "source": [
    "let's run the binary encoding function"
   ]
  },
  {
   "cell_type": "code",
   "execution_count": null,
   "metadata": {
    "_cell_guid": "24c8e88b-f903-4599-88b3-329304f4192a",
    "_uuid": "cafe938233d9f07f45e68651fdef91f725c375d7",
    "collapsed": true
   },
   "outputs": [],
   "source": [
    "cat_cols=['ps_ind_02_cat','ps_car_04_cat', 'ps_car_09_cat',\n",
    "          'ps_ind_05_cat', 'ps_car_01_cat']\n",
    "\n",
    "train, test=binary_encoding(train, test, 'ps_ind_02_cat')\n",
    "train, test=binary_encoding(train, test, 'ps_car_04_cat')\n",
    "train, test=binary_encoding(train, test, 'ps_car_09_cat')\n",
    "train, test=binary_encoding(train, test, 'ps_ind_05_cat')\n",
    "train, test=binary_encoding(train, test, 'ps_car_01_cat')"
   ]
  },
  {
   "cell_type": "markdown",
   "metadata": {
    "_cell_guid": "2813a503-0c9b-44a9-8447-b118347ab2ad",
    "_uuid": "2ac7d478c3f2b762382de0af15bd7f535b36e9a1"
   },
   "source": [
    "optionally, you can also choose to drop the original categorical features. Shoud you do it? I say trust your CV :)\n",
    "let's do this here jut for demonstration purpose"
   ]
  },
  {
   "cell_type": "code",
   "execution_count": null,
   "metadata": {
    "_cell_guid": "d5604de5-9998-4765-8dc7-f3402260975a",
    "_uuid": "252f74093f401782873eeb49454a16f0c109094f",
    "collapsed": true
   },
   "outputs": [],
   "source": [
    "col_to_drop = train.columns[train.columns.str.startswith('ps_calc_')]\n",
    "train.drop(col_to_drop, axis=1, inplace=True)  \n",
    "test.drop(col_to_drop, axis=1, inplace=True)  "
   ]
  },
  {
   "cell_type": "markdown",
   "metadata": {
    "_cell_guid": "5d467fb5-ff24-4d12-b62c-3feb1378eb42",
    "_uuid": "2780e1e0fcd68baeb3a749dfb929d6dd5a2308fc"
   },
   "source": [
    "## 1.3 Feature Reduction\n",
    "Let's now drop all the features with the wording \"cal\" - \"Cal, you are FIRED\" ^ ^"
   ]
  },
  {
   "cell_type": "code",
   "execution_count": null,
   "metadata": {
    "_cell_guid": "fd2a13e1-afe0-43d2-a08c-1b6acd40e039",
    "_uuid": "b205748a7d9ff2f0e55436a07b4cca250bcc1dc7",
    "collapsed": true
   },
   "outputs": [],
   "source": [
    "col_to_drop = train.columns[train.columns.str.startswith('ps_calc_')]\n",
    "train.drop(col_to_drop, axis=1, inplace=True)  \n",
    "test.drop(col_to_drop, axis=1, inplace=True)"
   ]
  },
  {
   "cell_type": "markdown",
   "metadata": {
    "_cell_guid": "c3e2e32e-890d-461d-870c-bab883c7b877",
    "_uuid": "1a0865445208ba4dd1a1538b2466d4570178be2f"
   },
   "source": [
    "Right, after the above data manipulation, we can now take a brief look at our dataset."
   ]
  },
  {
   "cell_type": "code",
   "execution_count": null,
   "metadata": {
    "_cell_guid": "792f1224-8dad-42a9-b1bb-b8239f216ae9",
    "_uuid": "522c493351b576a0cccb5b740dfe934cc515ca63",
    "collapsed": true
   },
   "outputs": [],
   "source": [
    "train.head(5)"
   ]
  },
  {
   "cell_type": "markdown",
   "metadata": {
    "_cell_guid": "2711873a-719a-462f-bd7e-ba7ba5ed39a7",
    "_uuid": "9004f864129eb9a374d9435f83604db7709b1734"
   },
   "source": [
    "# 2. K-fold CV with Out-of-Fold Prediction\n",
    "\n",
    "\n",
    "*Note: for demonstration purpose, I have dump down the parameters of the models to make them run faster, so please take time to find a good cominbation of parameter when you send them out to battle for real!*\n",
    "\n",
    "## 2.1 OOF utility functions\n",
    "Firstly, let's write this handy function to convert AUC score into Gini Normalised Coeficient"
   ]
  },
  {
   "cell_type": "code",
   "execution_count": null,
   "metadata": {
    "_cell_guid": "2bf130a5-0b7c-4292-9ed9-8d022abbab4a",
    "_uuid": "3a6ee2ccb5194654f3e544e9ac77a6374abe6d4d",
    "collapsed": true
   },
   "outputs": [],
   "source": [
    "def auc_to_gini_norm(auc_score):\n",
    "    return 2*auc_score-1"
   ]
  },
  {
   "cell_type": "markdown",
   "metadata": {
    "_cell_guid": "831f51fb-7787-4a0a-846d-8f3de61ebde5",
    "_uuid": "55866dfe1016c648a8315024f19dafdc62634bbb"
   },
   "source": [
    "### 2.1.1 Sklearn K-fold & OOF function\n",
    "Next up next provide a K-fold function that generate out-of-fold predictions for train and test data."
   ]
  },
  {
   "cell_type": "code",
   "execution_count": null,
   "metadata": {
    "_cell_guid": "d2783780-a7ab-4228-a6a0-7adc5142f3e7",
    "_uuid": "0e7b307e73dbf76a416958dce9de887640723bd6",
    "collapsed": true
   },
   "outputs": [],
   "source": [
    "def cross_validate_sklearn(clf, x_train, y_train , x_test, kf,scale=False, verbose=True):\n",
    "    start_time=time.time()\n",
    "    \n",
    "    # initialise the size of out-of-fold train an test prediction\n",
    "    train_pred = np.zeros((x_train.shape[0]))\n",
    "    test_pred = np.zeros((x_test.shape[0]))\n",
    "\n",
    "    # use the kfold object to generate the required folds\n",
    "    for i, (train_index, test_index) in enumerate(kf.split(x_train, y_train)):\n",
    "        # generate training folds and validation fold\n",
    "        x_train_kf, x_val_kf = x_train.loc[train_index, :], x_train.loc[test_index, :]\n",
    "        y_train_kf, y_val_kf = y_train[train_index], y_train[test_index]\n",
    "\n",
    "        # perform scaling if required i.e. for linear algorithms\n",
    "        if scale:\n",
    "            scaler = StandardScaler().fit(x_train_kf.values)\n",
    "            x_train_kf_values = scaler.transform(x_train_kf.values)\n",
    "            x_val_kf_values = scaler.transform(x_val_kf.values)\n",
    "            x_test_values = scaler.transform(x_test.values)\n",
    "        else:\n",
    "            x_train_kf_values = x_train_kf.values\n",
    "            x_val_kf_values = x_val_kf.values\n",
    "            x_test_values = x_test.values\n",
    "        \n",
    "        # fit the input classifier and perform prediction.\n",
    "        clf.fit(x_train_kf_values, y_train_kf.values)\n",
    "        val_pred=clf.predict_proba(x_val_kf_values)[:,1]\n",
    "        train_pred[test_index] += val_pred\n",
    "\n",
    "        y_test_preds = clf.predict_proba(x_test_values)[:,1]\n",
    "        test_pred += y_test_preds\n",
    "\n",
    "        fold_auc = roc_auc_score(y_val_kf.values, val_pred)\n",
    "        fold_gini_norm = auc_to_gini_norm(fold_auc)\n",
    "\n",
    "        if verbose:\n",
    "            print('fold cv {} AUC score is {:.6f}, Gini_Norm score is {:.6f}'.format(i, fold_auc, fold_gini_norm))\n",
    "\n",
    "    test_pred /= kf.n_splits\n",
    "\n",
    "    cv_auc = roc_auc_score(y_train, train_pred)\n",
    "    cv_gini_norm = auc_to_gini_norm(cv_auc)\n",
    "    cv_score = [cv_auc, cv_gini_norm]\n",
    "    if verbose:\n",
    "        print('cv AUC score is {:.6f}, Gini_Norm score is {:.6f}'.format(cv_auc, cv_gini_norm))\n",
    "        end_time = time.time()\n",
    "        print(\"it takes %.3f seconds to perform cross validation\" % (end_time - start_time))\n",
    "    return cv_score, train_pred,test_pred\n"
   ]
  },
  {
   "cell_type": "markdown",
   "metadata": {
    "_cell_guid": "a0409160-e474-4a61-828b-27ec011b5e24",
    "_uuid": "13d63847db7838fe46c1a4e17ce9220c7a48e3b9"
   },
   "source": [
    "### 2.1.2 Xgboost K-fold & OOF function\n",
    "In this part, we are going to use the native interface of XGB and LGB, so the following functions are tailor for this. For sure it would be easiler just to call the respective sklearn api, but the native interfaces provide some nice additional capability. For instance, the 'hist' option to use fast histogram in XGB is only available via the native interface as far as I know. \n",
    "\n",
    "Also, we need to provide the following function to convert probability into rank for these two OOF function. The needs to use normalised rank instead of predicted probabilities will become appearent later in this notebook :) "
   ]
  },
  {
   "cell_type": "code",
   "execution_count": null,
   "metadata": {
    "_cell_guid": "42bd74cf-7ee4-4be7-ba5b-a9c372445fd9",
    "_uuid": "8c0748f24577af6a8febcb1df7f47f7946789740",
    "collapsed": true
   },
   "outputs": [],
   "source": [
    "def probability_to_rank(prediction, scaler=1):\n",
    "    pred_df=pd.DataFrame(columns=['probability'])\n",
    "    pred_df['probability']=prediction\n",
    "    pred_df['rank']=pred_df['probability'].rank()/len(prediction)*scaler\n",
    "    return pred_df['rank'].values"
   ]
  },
  {
   "cell_type": "markdown",
   "metadata": {
    "_cell_guid": "7046e8a8-61aa-407e-8a26-9918515fd968",
    "_uuid": "eba4040f45bbaed37a9227c2feb24d62971bdaa0"
   },
   "source": [
    "The following is the k-fold function for XGB to generate OOF predictions, this function is very much similar to its sklearn counter part. The difference is that we need to use the XGB interface to facilitate the classifer, also we provide an option cover probability into rank."
   ]
  },
  {
   "cell_type": "code",
   "execution_count": null,
   "metadata": {
    "_cell_guid": "0516b147-c2b2-41e9-9dd3-7df546e55325",
    "_uuid": "f92115f5ecc1a8c40ea2c9391e279ca588d0b6a0",
    "collapsed": true
   },
   "outputs": [],
   "source": [
    "def cross_validate_xgb(params, x_train, y_train, x_test, kf, cat_cols=[], verbose=True, \n",
    "                       verbose_eval=50, num_boost_round=4000, use_rank=True):\n",
    "    start_time=time.time()\n",
    "\n",
    "    train_pred = np.zeros((x_train.shape[0]))\n",
    "    test_pred = np.zeros((x_test.shape[0]))\n",
    "\n",
    "    # use the k-fold object to enumerate indexes for each training and validation fold\n",
    "    for i, (train_index, val_index) in enumerate(kf.split(x_train, y_train)): # folds 1, 2 ,3 ,4, 5\n",
    "        # example: training from 1,2,3,4; validation from 5\n",
    "        x_train_kf, x_val_kf = x_train.loc[train_index, :], x_train.loc[val_index, :]\n",
    "        y_train_kf, y_val_kf = y_train[train_index], y_train[val_index]\n",
    "        x_test_kf=x_test.copy()\n",
    "\n",
    "        d_train_kf = xgb.DMatrix(x_train_kf, label=y_train_kf)\n",
    "        d_val_kf = xgb.DMatrix(x_val_kf, label=y_val_kf)\n",
    "        d_test = xgb.DMatrix(x_test_kf)\n",
    "\n",
    "        bst = xgb.train(params, d_train_kf, num_boost_round=num_boost_round,\n",
    "                        evals=[(d_train_kf, 'train'), (d_val_kf, 'val')], verbose_eval=verbose_eval,\n",
    "                        early_stopping_rounds=50)\n",
    "\n",
    "        val_pred = bst.predict(d_val_kf, ntree_limit=bst.best_ntree_limit)\n",
    "        if use_rank:\n",
    "            train_pred[val_index] += probability_to_rank(val_pred)\n",
    "            test_pred+=probability_to_rank(bst.predict(d_test))\n",
    "        else:\n",
    "            train_pred[val_index] += val_pred\n",
    "            test_pred+=bst.predict(d_test)\n",
    "\n",
    "        fold_auc = roc_auc_score(y_val_kf.values, val_pred)\n",
    "        fold_gini_norm = auc_to_gini_norm(fold_auc)\n",
    "\n",
    "        if verbose:\n",
    "            print('fold cv {} AUC score is {:.6f}, Gini_Norm score is {:.6f}'.format(i, fold_auc, \n",
    "                                                                                     fold_gini_norm))\n",
    "\n",
    "    test_pred /= kf.n_splits\n",
    "\n",
    "    cv_auc = roc_auc_score(y_train, train_pred)\n",
    "    cv_gini_norm = auc_to_gini_norm(cv_auc)\n",
    "    cv_score = [cv_auc, cv_gini_norm]\n",
    "    if verbose:\n",
    "        print('cv AUC score is {:.6f}, Gini_Norm score is {:.6f}'.format(cv_auc, cv_gini_norm))\n",
    "        end_time = time.time()\n",
    "        print(\"it takes %.3f seconds to perform cross validation\" % (end_time - start_time))\n",
    "\n",
    "        return cv_score, train_pred,test_pred\n"
   ]
  },
  {
   "cell_type": "markdown",
   "metadata": {
    "_cell_guid": "6bdc6ebd-5b48-492d-9738-5616186ee325",
    "_uuid": "cba3d88c451a39e9839deed5038e355d82aa9544"
   },
   "source": [
    "### 2.1.3 LigthGBM K-fold & OOF function\n",
    "The same function for LGB, this one is almost identifical to the one for XGB, apart from code that call the LightGBM interface"
   ]
  },
  {
   "cell_type": "code",
   "execution_count": null,
   "metadata": {
    "_cell_guid": "892b7c72-5d58-4982-85a4-88b8137d3ba1",
    "_uuid": "2b3e3d0b5a705207940555dd4d20eecf9057f6bb",
    "collapsed": true
   },
   "outputs": [],
   "source": [
    "def cross_validate_lgb(params, x_train, y_train, x_test, kf, cat_cols=[],\n",
    "                       verbose=True, verbose_eval=50, use_cat=True, use_rank=True):\n",
    "    start_time = time.time()\n",
    "    train_pred = np.zeros((x_train.shape[0]))\n",
    "    test_pred = np.zeros((x_test.shape[0]))\n",
    "\n",
    "    if len(cat_cols)==0: use_cat=False\n",
    "\n",
    "    # use the k-fold object to enumerate indexes for each training and validation fold\n",
    "    for i, (train_index, val_index) in enumerate(kf.split(x_train, y_train)): # folds 1, 2 ,3 ,4, 5\n",
    "        # example: training from 1,2,3,4; validation from 5\n",
    "        x_train_kf, x_val_kf = x_train.loc[train_index, :], x_train.loc[val_index, :]\n",
    "        y_train_kf, y_val_kf = y_train[train_index], y_train[val_index]\n",
    "\n",
    "        if use_cat:\n",
    "            lgb_train = lgb.Dataset(x_train_kf, y_train_kf, categorical_feature=cat_cols)\n",
    "            lgb_val = lgb.Dataset(x_val_kf, y_val_kf, reference=lgb_train, categorical_feature=cat_cols)\n",
    "        else:\n",
    "            lgb_train = lgb.Dataset(x_train_kf, y_train_kf)\n",
    "            lgb_val = lgb.Dataset(x_val_kf, y_val_kf, reference=lgb_train)\n",
    "\n",
    "        gbm = lgb.train(params,\n",
    "                        lgb_train,\n",
    "                        num_boost_round=4000,\n",
    "                        valid_sets=lgb_val,\n",
    "                        early_stopping_rounds=30,\n",
    "                        verbose_eval=verbose_eval)\n",
    "\n",
    "        val_pred = gbm.predict(x_val_kf)\n",
    "\n",
    "        if use_rank:\n",
    "            train_pred[val_index] += probability_to_rank(val_pred)\n",
    "            test_pred += probability_to_rank(gbm.predict(x_test))\n",
    "            # test_pred += gbm.predict(x_test)\n",
    "        else:\n",
    "            train_pred[val_index] += val_pred\n",
    "            test_pred += gbm.predict(x_test)\n",
    "\n",
    "        # test_pred += gbm.predict(x_test)\n",
    "        fold_auc = roc_auc_score(y_val_kf.values, val_pred)\n",
    "        fold_gini_norm = auc_to_gini_norm(fold_auc)\n",
    "        if verbose:\n",
    "            print('fold cv {} AUC score is {:.6f}, Gini_Norm score is {:.6f}'.format(i, fold_auc, fold_gini_norm))\n",
    "\n",
    "    test_pred /= kf.n_splits\n",
    "\n",
    "    cv_auc = roc_auc_score(y_train, train_pred)\n",
    "    cv_gini_norm = auc_to_gini_norm(cv_auc)\n",
    "    cv_score = [cv_auc, cv_gini_norm]\n",
    "    if verbose:\n",
    "        print('cv AUC score is {:.6f}, Gini_Norm score is {:.6f}'.format(cv_auc, cv_gini_norm))\n",
    "        end_time = time.time()\n",
    "        print(\"it takes %.3f seconds to perform cross validation\" % (end_time - start_time))\n",
    "    return cv_score, train_pred,test_pred\n"
   ]
  },
  {
   "cell_type": "markdown",
   "metadata": {
    "_cell_guid": "e275012c-5279-420c-a480-b478789ef1e0",
    "_uuid": "96b1f4dfcb8540ced827513337f4e3b6faac6083"
   },
   "source": [
    "# 3. Generate level 1 OOF predictions\n",
    "Almost there to actually generate some level OOF output! last things to do is the prepare our train and test data for our dear machine learning algorithms, and create the StratifiedKFold object"
   ]
  },
  {
   "cell_type": "code",
   "execution_count": null,
   "metadata": {
    "_cell_guid": "fe009dfc-99a6-4088-b502-feacdaae4c93",
    "_uuid": "a29ba3d8570162f25dc21c4c7f2ee30666af7f29",
    "collapsed": true
   },
   "outputs": [],
   "source": [
    "drop_cols=['id','target']\n",
    "y_train=train['target']\n",
    "x_train=train.drop(drop_cols, axis=1)\n",
    "x_test=test.drop(['id'], axis=1)"
   ]
  },
  {
   "cell_type": "markdown",
   "metadata": {
    "_cell_guid": "9aa4e08a-c793-41b0-aa0b-f21c48611022",
    "_uuid": "f615d46712101da506ea334609ddb4e0a6c2627a"
   },
   "source": [
    "Here, I would like remind you that for stacking, you SHALL use consistent fold distribution at ALL level for ALL your model. The technical reaons for this had been discussed at length in this [forum thread](https://www.kaggle.com/c/porto-seguro-safe-driver-prediction/discussion/43467)  by our right honourable fellow competitors"
   ]
  },
  {
   "cell_type": "code",
   "execution_count": null,
   "metadata": {
    "_cell_guid": "3d0ec1ba-944e-48d3-84a0-58501521a8a5",
    "_uuid": "2bec393a3815f95649ce797001064ab08b28b251",
    "collapsed": true
   },
   "outputs": [],
   "source": [
    "kf=StratifiedKFold(n_splits=5, shuffle=True, random_state=2017)"
   ]
  },
  {
   "cell_type": "markdown",
   "metadata": {
    "_cell_guid": "ae95ab78-3aff-4dfa-907c-cba8af9d1328",
    "_uuid": "716f8025fa8c3fe18a8a5551c2a907c37fdd9b53"
   },
   "source": [
    "Right! next generate some level 1 model output..."
   ]
  },
  {
   "cell_type": "markdown",
   "metadata": {
    "_cell_guid": "f13f54dc-6b15-42cb-9981-771187532e8a",
    "_uuid": "16abf099a9901df8e0013e209ba99caade2dfe9c"
   },
   "source": [
    "## 3.1 Random Forest\n",
    "Let's use the old good random forest algorithm"
   ]
  },
  {
   "cell_type": "code",
   "execution_count": null,
   "metadata": {
    "_cell_guid": "cb214b31-f001-4d0e-915d-0eb5cbee1b30",
    "_uuid": "d49a7756c3af259124bb2237ea58fa455a7d5235",
    "collapsed": true
   },
   "outputs": [],
   "source": [
    "rf=RandomForestClassifier(n_estimators=200, n_jobs=6, min_samples_split=5, max_depth=7,\n",
    "                          criterion='gini', random_state=0)\n",
    "\n",
    "outcomes =cross_validate_sklearn(rf, x_train, y_train ,x_test, kf, scale=False, verbose=True)\n",
    "\n",
    "rf_cv=outcomes[0]\n",
    "rf_train_pred=outcomes[1]\n",
    "rf_test_pred=outcomes[2]\n",
    "\n",
    "rf_train_pred_df=pd.DataFrame(columns=['prediction_probability'], data=rf_train_pred)\n",
    "rf_test_pred_df=pd.DataFrame(columns=['prediction_probability'], data=rf_test_pred)\n"
   ]
  },
  {
   "cell_type": "code",
   "execution_count": null,
   "metadata": {
    "_cell_guid": "b3a5bc9c-df61-487d-8e20-3e629b957a40",
    "_uuid": "6061b250986adc6c2e5c0c205c110cad18bdd5a7",
    "collapsed": true
   },
   "outputs": [],
   "source": []
  },
  {
   "cell_type": "markdown",
   "metadata": {
    "_cell_guid": "833a8077-8064-4f91-9024-e59dee185e88",
    "_uuid": "09843c9df427176b69b2fc903999ca6942b593b6"
   },
   "source": [
    "## 3.2 Extra Tree\n",
    "We love tree! We love more trees, and therefore let's have extra tree :)"
   ]
  },
  {
   "cell_type": "code",
   "execution_count": null,
   "metadata": {
    "_cell_guid": "a5fe7c91-640d-4995-87d1-8a4abfcf63b4",
    "_uuid": "cb852f38156f41bc639789ecae3611aff1c70cf8",
    "collapsed": true
   },
   "outputs": [],
   "source": [
    "et=RandomForestClassifier(n_estimators=100, n_jobs=6, min_samples_split=5, max_depth=5,\n",
    "                          criterion='gini', random_state=0)\n",
    "\n",
    "outcomes =cross_validate_sklearn(et, x_train, y_train ,x_test, kf, scale=False, verbose=True)\n",
    "\n",
    "et_cv=outcomes[0]\n",
    "et_train_pred=outcomes[1]\n",
    "et_test_pred=outcomes[2]\n",
    "\n",
    "et_train_pred_df=pd.DataFrame(columns=['prediction_probability'], data=et_train_pred)\n",
    "et_test_pred_df=pd.DataFrame(columns=['prediction_probability'], data=et_test_pred)"
   ]
  },
  {
   "cell_type": "markdown",
   "metadata": {
    "_cell_guid": "74d56e7d-adda-4189-904d-a7680b10474d",
    "_uuid": "4ce909d04342d77531120ac22a81b22c65d9096c"
   },
   "source": [
    "## 3.3 Logistic Regression\n",
    "Let's now throw in our favourite linear friend - Logistic Regression"
   ]
  },
  {
   "cell_type": "code",
   "execution_count": null,
   "metadata": {
    "_cell_guid": "4dbdbd03-c987-4cdf-865d-ce93de798d1f",
    "_uuid": "11cf1078ea111a0ee596bcece6d9d937c1dcc4c8",
    "collapsed": true
   },
   "outputs": [],
   "source": [
    "logit=LogisticRegression(random_state=0, C=0.5)\n",
    "\n",
    "outcomes = cross_validate_sklearn(logit, x_train, y_train ,x_test, kf, scale=True, verbose=True)\n",
    "\n",
    "logit_cv=outcomes[0]\n",
    "logit_train_pred=outcomes[1]\n",
    "logit_test_pred=outcomes[2]\n",
    "\n",
    "logit_train_pred_df=pd.DataFrame(columns=['prediction_probability'], data=logit_train_pred)\n",
    "logit_test_pred_df=pd.DataFrame(columns=['prediction_probability'], data=logit_test_pred)"
   ]
  },
  {
   "cell_type": "markdown",
   "metadata": {
    "_cell_guid": "51650970-d81c-46f6-adca-ca58a019155f",
    "_uuid": "97db806ece6d8f02e64f3a9e3469bfaa40d6e21f"
   },
   "source": [
    "## 3.4 BernoulliNB\n",
    "A little bit of diversity from Naive Bayes never heard, this one of those algorithms that normally don't generate sigle output that rival XGB/LGB, but nevertheless help to improve the overal stacking performance due the diversity it bring to the party"
   ]
  },
  {
   "cell_type": "code",
   "execution_count": null,
   "metadata": {
    "_cell_guid": "8230f21b-f656-4bcb-a2a6-ef891b1bfd5f",
    "_uuid": "33b799d0604ea1b46b3e0526d2c388516efbc912",
    "collapsed": true
   },
   "outputs": [],
   "source": [
    "nb=BernoulliNB()\n",
    "\n",
    "outcomes =cross_validate_sklearn(nb, x_train, y_train ,x_test, kf, scale=True, verbose=True)\n",
    "\n",
    "nb_cv=outcomes[0]\n",
    "nb_train_pred=outcomes[1]\n",
    "nb_test_pred=outcomes[2]\n",
    "\n",
    "nb_train_pred_df=pd.DataFrame(columns=['prediction_probability'], data=nb_train_pred)\n",
    "nb_test_pred_df=pd.DataFrame(columns=['prediction_probability'], data=nb_test_pred)"
   ]
  },
  {
   "cell_type": "markdown",
   "metadata": {
    "_cell_guid": "384c4cff-1c26-4718-8cd6-ad713d350d46",
    "_uuid": "195314d3c30f4464861047c1cf6ac1d9d08a9c43"
   },
   "source": [
    "## 3.5 XGB\n",
    "Now this is our go-to GBM Bazooka:"
   ]
  },
  {
   "cell_type": "code",
   "execution_count": null,
   "metadata": {
    "_cell_guid": "a45734a7-b718-44c6-9d74-df32cb225f93",
    "_uuid": "b7c527874f8b871bcfb82fbfe5b03209cc4b8c40",
    "collapsed": true
   },
   "outputs": [],
   "source": [
    "xgb_params = {\n",
    "    \"booster\"  :  \"gbtree\", \n",
    "    \"objective\"         :  \"binary:logistic\",\n",
    "    \"tree_method\": \"hist\",\n",
    "    \"eval_metric\": \"auc\",\n",
    "    \"eta\": 0.1,\n",
    "    \"max_depth\": 5,\n",
    "    \"min_child_weight\": 10,\n",
    "    \"gamma\": 0.70,\n",
    "    \"subsample\": 0.76,\n",
    "    \"colsample_bytree\": 0.95,\n",
    "    \"nthread\": 6,\n",
    "    \"seed\": 0,\n",
    "    'silent': 1\n",
    "}\n",
    "\n",
    "outcomes=cross_validate_xgb(xgb_params, x_train, y_train, x_test, kf, use_rank=False, verbose_eval=False)\n",
    "\n",
    "xgb_cv=outcomes[0]\n",
    "xgb_train_pred=outcomes[1]\n",
    "xgb_test_pred=outcomes[2]\n",
    "\n",
    "xgb_train_pred_df=pd.DataFrame(columns=['prediction_probability'], data=xgb_train_pred)\n",
    "xgb_test_pred_df=pd.DataFrame(columns=['prediction_probability'], data=xgb_test_pred)"
   ]
  },
  {
   "cell_type": "markdown",
   "metadata": {
    "_cell_guid": "ff16a3fb-0a90-45df-8405-ee408fc79450",
    "_uuid": "790ad17d9e12beff75a8a01f021a515afe4d6aa3"
   },
   "source": [
    "## 3.6 LightGBM\n",
    "There is a crack in everything, that's how the light gets in :) "
   ]
  },
  {
   "cell_type": "code",
   "execution_count": null,
   "metadata": {
    "_cell_guid": "f66e5e7d-f52b-4297-abff-c13d961693f1",
    "_uuid": "dc1eef3bb64269de97332350d8651d4617d298ec",
    "collapsed": true
   },
   "outputs": [],
   "source": [
    "lgb_params = {\n",
    "    'task': 'train',\n",
    "    'boosting_type': 'dart',\n",
    "    'objective': 'binary',\n",
    "    'metric': {'auc'},\n",
    "    'num_leaves': 22,\n",
    "    'min_sum_hessian_in_leaf': 20,\n",
    "    'max_depth': 5,\n",
    "    'learning_rate': 0.1,  # 0.618580\n",
    "    'num_threads': 6,\n",
    "    'feature_fraction': 0.6894,\n",
    "    'bagging_fraction': 0.4218,\n",
    "    'max_drop': 5,\n",
    "    'drop_rate': 0.0123,\n",
    "    'min_data_in_leaf': 10,\n",
    "    'bagging_freq': 1,\n",
    "    'lambda_l1': 1,\n",
    "    'lambda_l2': 0.01,\n",
    "    'verbose': 1\n",
    "}\n",
    "\n",
    "\n",
    "cat_cols=['ps_ind_02_cat','ps_car_04_cat', 'ps_car_09_cat','ps_ind_05_cat', 'ps_car_01_cat']\n",
    "outcomes=cross_validate_lgb(lgb_params,x_train, y_train ,x_test,kf, cat_cols, use_cat=True, \n",
    "                            verbose_eval=False, use_rank=False)\n",
    "\n",
    "lgb_cv=outcomes[0]\n",
    "lgb_train_pred=outcomes[1]\n",
    "lgb_test_pred=outcomes[2]\n",
    "\n",
    "lgb_train_pred_df=pd.DataFrame(columns=['prediction_probability'], data=lgb_train_pred)\n",
    "lgb_test_pred_df=pd.DataFrame(columns=['prediction_probability'], data=lgb_test_pred)"
   ]
  },
  {
   "cell_type": "markdown",
   "metadata": {
    "_cell_guid": "4d282532-36a0-4851-9beb-7881fd6e3944",
    "_uuid": "49e9edc414b0888e0f60b2a8ac0fb2a17d6f7c7c"
   },
   "source": [
    "We now have our level 1 friends ready, lets proceed and send them into the stacking party!"
   ]
  },
  {
   "cell_type": "markdown",
   "metadata": {
    "_cell_guid": "313d980a-c7a3-4878-8a7e-86129a6b90ae",
    "_uuid": "d52e1aaf78f517d2c8e417cd8e371adbfb23fb62"
   },
   "source": [
    "# 4. Level 2 ensemble"
   ]
  },
  {
   "cell_type": "markdown",
   "metadata": {
    "_cell_guid": "e1a8570a-c08b-4b0c-81ce-e5e12cf9aa3e",
    "_uuid": "b7e7aa85be2304f8535290cf6106d299cd10f24f"
   },
   "source": [
    "## 4.1 Generate L1 output dataframe\n",
    "Let's group ouf level 1 OOF predictions output together to genenerate the input for level 2 stacking"
   ]
  },
  {
   "cell_type": "code",
   "execution_count": null,
   "metadata": {
    "_cell_guid": "8d0d1e4e-b3ea-47fc-acb4-f8d2ac852fef",
    "_uuid": "ac746ea064460de256cc712a766e2646f9054522",
    "collapsed": true
   },
   "outputs": [],
   "source": [
    "columns=['rf','et','logit','nb','xgb','lgb']\n",
    "train_pred_df_list=[rf_train_pred_df, et_train_pred_df, logit_train_pred_df, nb_train_pred_df,\n",
    "                    xgb_train_pred_df, lgb_train_pred_df]\n",
    "\n",
    "test_pred_df_list=[rf_test_pred_df, et_test_pred_df, logit_test_pred_df, nb_test_pred_df,\n",
    "                    xgb_test_pred_df, lgb_test_pred_df]\n",
    "\n",
    "lv1_train_df=pd.DataFrame(columns=columns)\n",
    "lv1_test_df=pd.DataFrame(columns=columns)\n",
    "\n",
    "for i in range(0,len(columns)):\n",
    "    lv1_train_df[columns[i]]=train_pred_df_list[i]['prediction_probability']\n",
    "    lv1_test_df[columns[i]]=test_pred_df_list[i]['prediction_probability']\n",
    "\n"
   ]
  },
  {
   "cell_type": "markdown",
   "metadata": {
    "_cell_guid": "207cd1c3-2d3b-492a-9c5c-c21f27dcac41",
    "_uuid": "781e5e2d25d5608d6dfe1f5b5ec1c475bc2ae46a"
   },
   "source": [
    "## 4.2 Level 2 XGB\n",
    "Back to XGB for level 2! everything shall be the same, paint old easy mdoel building, right? well.."
   ]
  },
  {
   "cell_type": "code",
   "execution_count": null,
   "metadata": {
    "_cell_guid": "53a43998-d86c-4e8e-821b-2424cbb04455",
    "_uuid": "b75fe8600286da0cc7515a61a744e66b8b802759",
    "collapsed": true
   },
   "outputs": [],
   "source": [
    "xgb_lv2_outcomes=cross_validate_xgb(xgb_params, lv1_train_df, y_train, lv1_test_df, kf, \n",
    "                                          verbose=True, verbose_eval=False, use_rank=False)\n",
    "\n",
    "xgb_lv2_cv=xgb_lv2_outcomes[0]\n",
    "xgb_lv2_train_pred=xgb_lv2_outcomes[1]\n",
    "xgb_lv2_test_pred=xgb_lv2_outcomes[2]"
   ]
  },
  {
   "cell_type": "markdown",
   "metadata": {
    "_cell_guid": "271c5a2f-be67-4a8f-b1d5-9eec4719463f",
    "_uuid": "200da335d3b23d2d223a130a92c24f2bc83caa12"
   },
   "source": [
    "So what just happened there?  Our CV score for each training fold is pretty descent, but our overall training CV score just fell through the crack!  Well, it turns out since we are using AUC/Gini as metric which is ranking dependent, and it turns out that if you apply xgb and lgb at level 2 stacking, the ranking get messed up when each fold's prediction scores are put together.  And this goes back to why we implemented that function to convert probability into ranks earlier.\n",
    "\n",
    "Now, let's use the *use_rank* option, and see what happens:"
   ]
  },
  {
   "cell_type": "code",
   "execution_count": null,
   "metadata": {
    "_cell_guid": "2b85f8a6-7043-4827-a244-828696db39ad",
    "_uuid": "cd889ff599807386655a9f71bea98eff24dd13f7",
    "collapsed": true
   },
   "outputs": [],
   "source": [
    "xgb_lv2_outcomes=cross_validate_xgb(xgb_params, lv1_train_df, y_train, lv1_test_df, kf, \n",
    "                                          verbose=True, verbose_eval=False, use_rank=True)\n",
    "\n",
    "xgb_lv2_cv=xgb_lv2_outcomes[0]\n",
    "xgb_lv2_train_pred=xgb_lv2_outcomes[1]\n",
    "xgb_lv2_test_pred=xgb_lv2_outcomes[2]"
   ]
  },
  {
   "cell_type": "markdown",
   "metadata": {
    "_cell_guid": "b414316e-5882-4a26-91d3-78585283e2b5",
    "_uuid": "8dab5ad1bf75fd88ca9c43901af862eabd812adf"
   },
   "source": [
    "Much better, the OOF score for train prediction looks great! and you can see the score here is better already than any of the level 1 OOF train score. The best score in level 1 comes from XGB with 0.282 region, and we are now on 0.284"
   ]
  },
  {
   "cell_type": "markdown",
   "metadata": {
    "_cell_guid": "277adde2-30fc-4175-9637-252f8f8dd8d0",
    "_uuid": "29511f203f2bc32546f9952be8555c29b0c1670e"
   },
   "source": [
    " ## 4.3 Level 2 LightGBM\n",
    "Same story for LightGBM at level 2, we need to use the *use_rank* option:"
   ]
  },
  {
   "cell_type": "code",
   "execution_count": null,
   "metadata": {
    "_cell_guid": "e3d16d45-490e-4b58-bcec-00af61d17346",
    "_uuid": "9840202b4707e516b6b2ffde617a81148b77e1d5",
    "collapsed": true
   },
   "outputs": [],
   "source": [
    "lgb_lv2_outcomes=cross_validate_lgb(lgb_params,lv1_train_df, y_train ,lv1_test_df,kf, [], use_cat=False, \n",
    "                                    verbose_eval=False, use_rank=True)\n",
    "\n",
    "lgb_lv2_cv=xgb_lv2_outcomes[0]\n",
    "lgb_lv2_train_pred=lgb_lv2_outcomes[1]\n",
    "lgb_lv2_test_pred=lgb_lv2_outcomes[2]"
   ]
  },
  {
   "cell_type": "markdown",
   "metadata": {
    "_cell_guid": "bbdba89a-5e3b-48ba-a6c0-413814d3cb04",
    "_uuid": "55c1f6c9ec11e4c8d176aed5eb4b2390f15e6730"
   },
   "source": [
    "No surprise here :)"
   ]
  },
  {
   "cell_type": "markdown",
   "metadata": {
    "_cell_guid": "6268799c-f62e-4b30-8be2-2c473c970d69",
    "_uuid": "01b62914b877c749f377c7c008fdb05b79782047"
   },
   "source": [
    "## 4.3 Level 2 Random Forest\n",
    "Now let's try a few more algorithms on level 2, and let's revisit random forest again."
   ]
  },
  {
   "cell_type": "code",
   "execution_count": null,
   "metadata": {
    "_cell_guid": "8b6733a6-c18a-4e3d-af93-805e0ef81392",
    "_uuid": "e9c6354efee0ce3c1a5de6e9f832b650f5305a98",
    "collapsed": true
   },
   "outputs": [],
   "source": [
    "rf_lv2=RandomForestClassifier(n_estimators=200, n_jobs=6, min_samples_split=5, max_depth=7,\n",
    "                          criterion='gini', random_state=0)\n",
    "rf_lv2_outcomes = cross_validate_sklearn(rf_lv2, lv1_train_df, y_train ,lv1_test_df, kf, \n",
    "                                            scale=True, verbose=True)\n",
    "rf_lv2_cv=rf_lv2_outcomes[0]\n",
    "rf_lv2_train_pred=rf_lv2_outcomes[1]\n",
    "rf_lv2_test_pred=rf_lv2_outcomes[2]"
   ]
  },
  {
   "cell_type": "markdown",
   "metadata": {
    "_cell_guid": "d40b2d51-b1e4-458c-ac6c-0fd31905d2ca",
    "_uuid": "886419fc4a42a3bc858db60fbe3e5633b4e4c589"
   },
   "source": [
    "## 4.4 Level 2 Logistic Regression\n",
    "Logistic Regression, take 2"
   ]
  },
  {
   "cell_type": "code",
   "execution_count": null,
   "metadata": {
    "_cell_guid": "b4e9e97c-9c4f-4a63-9153-ed3601b73819",
    "_uuid": "30ab531bf2d5a321add4081306701c82e9c3bd7e",
    "collapsed": true
   },
   "outputs": [],
   "source": [
    "logit_lv2=LogisticRegression(random_state=0, C=0.5)\n",
    "logit_lv2_outcomes = cross_validate_sklearn(logit_lv2, lv1_train_df, y_train ,lv1_test_df, kf, \n",
    "                                            scale=True, verbose=True)\n",
    "logit_lv2_cv=logit_lv2_outcomes[0]\n",
    "logit_lv2_train_pred=logit_lv2_outcomes[1]\n",
    "logit_lv2_test_pred=logit_lv2_outcomes[2]"
   ]
  },
  {
   "cell_type": "markdown",
   "metadata": {
    "_cell_guid": "747b0316-1c2d-4ab0-ba6a-3dafcfcc8f1a",
    "_uuid": "b8345bf7530bd9711c0e65fdf9f53c50b97471b8"
   },
   "source": [
    "Hopefully by now you can see that on level 2, models like random forest and logistic regression are now producing very competivie results thanks to the meta-features from the level 1 OOF output.\n",
    "\n",
    "We are having fun! and why stop in level 2? let's bring on level 3 :)"
   ]
  },
  {
   "cell_type": "markdown",
   "metadata": {
    "_cell_guid": "8852c2bd-2b43-4a7d-9dd3-ce778f2a929a",
    "_uuid": "c5ecea04fe1aea1cd52be7a690102d575782143d"
   },
   "source": [
    "# 5. Level 3 ensemble\n",
    "On level 3, we follow simlar workflow as level 2. First we put the OOF output from level 2 together, and then send them to our chosen algorithms.\n",
    "\n",
    "## 5.1 Generate L2 output dataframe"
   ]
  },
  {
   "cell_type": "code",
   "execution_count": null,
   "metadata": {
    "_cell_guid": "1caef4a6-1442-4726-bb7f-036269081f58",
    "_uuid": "a713188485f975e95dd6658543bee663f8345f35",
    "collapsed": true
   },
   "outputs": [],
   "source": [
    "lv2_columns=['rf_lf2', 'logit_lv2', 'xgb_lv2','lgb_lv2']\n",
    "train_lv2_pred_list=[rf_lv2_train_pred, logit_lv2_train_pred, xgb_lv2_train_pred, lgb_lv2_train_pred]\n",
    "\n",
    "test_lv2_pred_list=[rf_lv2_test_pred, logit_lv2_test_pred, xgb_lv2_test_pred, lgb_lv2_test_pred]\n",
    "\n",
    "lv2_train=pd.DataFrame(columns=lv2_columns)\n",
    "lv2_test=pd.DataFrame(columns=lv2_columns)\n",
    "\n",
    "for i in range(0,len(lv2_columns)):\n",
    "    lv2_train[lv2_columns[i]]=train_lv2_pred_list[i]\n",
    "    lv2_test[lv2_columns[i]]=test_lv2_pred_list[i]"
   ]
  },
  {
   "cell_type": "markdown",
   "metadata": {
    "_cell_guid": "2a030814-31af-4c2c-af35-2fa7f744542b",
    "_uuid": "fbb448bb4c32e56f735b81f4ec7a6da8db0cec2a"
   },
   "source": [
    "## 5.2 Level 3 XGB \n",
    "On this level, let's just stay with our trusted weapon XGB"
   ]
  },
  {
   "cell_type": "code",
   "execution_count": null,
   "metadata": {
    "_cell_guid": "10cb2832-1656-4c37-86d3-11362caa0634",
    "_uuid": "f912148397cdfd344bc59e38e382fd826fea88a5",
    "collapsed": true
   },
   "outputs": [],
   "source": [
    "xgb_lv3_params = {\n",
    "    \"booster\"  :  \"gbtree\", \n",
    "    \"objective\"         :  \"binary:logistic\",\n",
    "    \"tree_method\": \"hist\",\n",
    "    \"eval_metric\": \"auc\",\n",
    "    \"eta\": 0.1,\n",
    "    \"max_depth\": 2,\n",
    "    \"min_child_weight\": 10,\n",
    "    \"gamma\": 0.70,\n",
    "    \"subsample\": 0.76,\n",
    "    \"colsample_bytree\": 0.95,\n",
    "    \"nthread\": 6,\n",
    "    \"seed\": 0,\n",
    "    'silent': 1\n",
    "}\n",
    "\n",
    "\n",
    "\n",
    "xgb_lv3_outcomes=cross_validate_xgb(xgb_lv3_params, lv2_train, y_train, lv2_test, kf, \n",
    "                                          verbose=True, verbose_eval=False, use_rank=True)\n",
    "\n",
    "xgb_lv3_cv=xgb_lv3_outcomes[0]\n",
    "xgb_lv3_train_pred=xgb_lv3_outcomes[1]\n",
    "xgb_lv3_test_pred=xgb_lv3_outcomes[2]"
   ]
  },
  {
   "cell_type": "markdown",
   "metadata": {
    "_cell_guid": "e22a2531-e21b-4229-95cc-bf3a6372b7d3",
    "_uuid": "0cde91e2cb27af09f6b9b1109ec42a47a8048822"
   },
   "source": [
    "This is slightly better than the XGB ouput at level 2, but not by much, as we are now seeing diminsing return as the level improve. Let's try tp pair this with something linear."
   ]
  },
  {
   "cell_type": "markdown",
   "metadata": {
    "_cell_guid": "189928ad-4717-40a1-a20c-91d5c242f031",
    "_uuid": "d96cc5187f65fd9d0bf107dca2fab040c869dbe2"
   },
   "source": [
    "## 5.3 Level 3 Logistic Regression\n",
    "and of course that something linear is going to be Logistic Regression"
   ]
  },
  {
   "cell_type": "code",
   "execution_count": null,
   "metadata": {
    "_cell_guid": "c6c59493-5d23-484c-9800-25945fba96f7",
    "_uuid": "be5fcaecf1a0ce03aa4753c39675e9e0209fae23",
    "collapsed": true
   },
   "outputs": [],
   "source": [
    "logit_lv3=LogisticRegression(random_state=0, C=0.5)\n",
    "logit_lv3_outcomes = cross_validate_sklearn(logit_lv3, lv2_train, y_train ,lv2_test, kf, \n",
    "                                            scale=True, verbose=True)\n",
    "logit_lv3_cv=logit_lv3_outcomes[0]\n",
    "logit_lv3_train_pred=logit_lv3_outcomes[1]\n",
    "logit_lv3_test_pred=logit_lv3_outcomes[2]"
   ]
  },
  {
   "cell_type": "markdown",
   "metadata": {
    "_cell_guid": "5c9abe3b-a91c-4ab8-8bef-9400d5e746f5",
    "_uuid": "c72e8ec5d706b66399a5be477e5501669546396c"
   },
   "source": [
    "At this level, we don't see that much different between XGB and Logistic Regression anymore."
   ]
  },
  {
   "cell_type": "markdown",
   "metadata": {
    "_cell_guid": "ab978446-19e1-4880-b4d2-cd1e2e1078c2",
    "_uuid": "debb2660300f3223e2ec021cbfa441540382d30e"
   },
   "source": [
    "## 5.4 Average L3 outputs & Submission Generation"
   ]
  },
  {
   "cell_type": "markdown",
   "metadata": {
    "_cell_guid": "c421c411-48a7-4b84-8ace-c39a8a09972f",
    "_uuid": "c27711e0b7df061f4251467ad6cc09283b71136c"
   },
   "source": [
    "We can always still do a simple weight average, to bring the two together and see if there any extra juice to be squeezed"
   ]
  },
  {
   "cell_type": "code",
   "execution_count": null,
   "metadata": {
    "_cell_guid": "9bb75479-d071-4039-87fe-9f8a78a12385",
    "_uuid": "9c25c0745c45d928e644ee84a423506e1fc82372",
    "collapsed": true
   },
   "outputs": [],
   "source": [
    "weight_avg=logit_lv3_train_pred*0.5+ xgb_lv3_train_pred*0.5\n",
    "print(auc_to_gini_norm(roc_auc_score(y_train, weight_avg)))"
   ]
  },
  {
   "cell_type": "markdown",
   "metadata": {
    "_cell_guid": "71118e45-2e0a-436a-91b6-3c5beafddc6b",
    "_uuid": "de8e259cfd8dcb0148c3d862bd176084bccf9346"
   },
   "source": [
    "Well, for training score, we manage to arravie at 0.28443.\n",
    "We can now try to apply the same weight distribution to generate our submission."
   ]
  },
  {
   "cell_type": "code",
   "execution_count": null,
   "metadata": {
    "_cell_guid": "2a801102-6347-41da-a83c-e4f78b243573",
    "_uuid": "2864a9fc9a80dda125a0a97968ac7946a5e35c54",
    "collapsed": true
   },
   "outputs": [],
   "source": [
    "submission=sample_submission.copy()\n",
    "submission['target']=logit_lv3_test_pred*0.5+ xgb_lv3_test_pred*0.5\n",
    "filename='stacking_demonstration.csv.gz'\n",
    "submission.to_csv(filename,compression='gzip', index=False)"
   ]
  },
  {
   "cell_type": "markdown",
   "metadata": {
    "_cell_guid": "406abac2-7dbd-44ec-a500-c055ebfdeca1",
    "_uuid": "e30ac3c97ec245f2ce1e86a35b194413beaa8375"
   },
   "source": [
    "# 6 After Thought"
   ]
  },
  {
   "cell_type": "markdown",
   "metadata": {
    "_cell_guid": "efe73d8e-14e6-44f3-926b-d7431f70f103",
    "_uuid": "cb84aef1f0b410a6ef434c8a975b17ef67c935f4"
   },
   "source": [
    "So I hope this three-level stacking guide is useful to demonstrate how you can capture more information from the training data, and hopefully this can generate to better test prediction. Well I use the word \"hopefully\" here as we all know the dataset in this competition is pretty noisy.   and in truth I am not sure if stacking beyong 2 level would bring much benefit, but then we will learn from the highflyers who survive the shake up!\n",
    "\n",
    "My personal likely strategy to approach stacking is probably:\n",
    "* go with a 2-level approach, and weight average on level 2\n",
    "* applying the same stacking routine to several different random seed. \n",
    "* weigh average the above\n",
    "\n",
    "I seriously think robust CV is the key for this competition, and always be suspicious of all things shared on kernel. Alternatively, perhaps with 1 day to go, someone will share a leak or a 0.291 script to send us into a frenzy? One can always hope...\n",
    "\n",
    "Enjoy every bit of these last days - May all the insured drivers never have to claim! :)\n"
   ]
  }
 ],
 "metadata": {
  "kernelspec": {
   "display_name": "Python 3",
   "language": "python",
   "name": "python3"
  },
  "language_info": {
   "codemirror_mode": {
    "name": "ipython",
    "version": 3
   },
   "file_extension": ".py",
   "mimetype": "text/x-python",
   "name": "python",
   "nbconvert_exporter": "python",
   "pygments_lexer": "ipython3",
   "version": "3.6.2"
  }
 },
 "nbformat": 4,
 "nbformat_minor": 2
}
