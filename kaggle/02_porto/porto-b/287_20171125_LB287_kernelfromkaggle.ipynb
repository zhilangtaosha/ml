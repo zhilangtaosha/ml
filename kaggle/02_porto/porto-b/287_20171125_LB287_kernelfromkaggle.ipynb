{
 "cells": [
  {
   "cell_type": "code",
   "execution_count": 1,
   "metadata": {
    "_cell_guid": "ce51fab9-ab99-4a32-b20f-e1d5f3e495a4",
    "_uuid": "64e96e6415e0907fe61a30fb7160fdd919816394",
    "collapsed": false
   },
   "outputs": [
    {
     "name": "stdout",
     "output_type": "stream",
     "text": [
      "20171117.ipynb\n",
      "20171120\n",
      "20171121\n",
      "20171123\n",
      "20171124\n",
      "20171124_LB287_Mix.ipynb\n",
      "20171124_strat20_LGBM_999.ipynb\n",
      "20171125_LB287_kernelfromkaggle.ipynb\n",
      "20171125_kagglemix_rev3.csv\n",
      "20171125_work.ipynb\n",
      "279\n",
      "280\n",
      "283\n",
      "283_XGB\n",
      "284\n",
      "DL_TF_NN2.ipynb\n",
      "LB287_Mix.ipynb\n",
      "StackingLB285.ipynb\n",
      "XGBoostCV_LB284.ipynb\n",
      "catboost_feature_importance.png\n",
      "input\n",
      "learn_error.tsv\n",
      "meta.tsv\n",
      "old\n",
      "plotly\n",
      "test\n",
      "test_error.tsv\n",
      "time_left.tsv\n",
      "train\n",
      "xgb_submit.csv\n",
      "xgb_valid.csv\n",
      "提出csv\n",
      "ランキング\n",
      "\n"
     ]
    }
   ],
   "source": [
    "# This Python 3 environment comes with many helpful analytics libraries installed\n",
    "# It is defined by the kaggle/python docker image: https://github.com/kaggle/docker-python\n",
    "# For example, here's several helpful packages to load in \n",
    "\n",
    "import numpy as np # linear algebra\n",
    "import pandas as pd # data processing, CSV file I/O (e.g. pd.read_csv)\n",
    "\n",
    "# Input data files are available in the \"../input/\" directory.\n",
    "# For example, running this (by clicking run or pressing Shift+Enter) will list the files in the input directory\n",
    "\n",
    "from subprocess import check_output\n",
    "print(check_output([\"ls\", \"/Users/wolheelee/python/kaggle/PortoSeguroSafeDriverPrediction\"]).decode(\"utf8\"))\n",
    "\n",
    "# Any results you write to the current directory are saved as output."
   ]
  },
  {
   "cell_type": "code",
   "execution_count": 2,
   "metadata": {
    "_cell_guid": "9877d530-d0e6-4268-84b5-a1aa29f19c8b",
    "_uuid": "4cceda5f1827757fee54746fc7b4b1ab15c07fa1",
    "collapsed": true
   },
   "outputs": [],
   "source": [
    "from sklearn.model_selection import StratifiedKFold\n",
    "from sklearn.model_selection import cross_val_score\n",
    "\n",
    "from lightgbm import LGBMClassifier\n",
    "from sklearn.linear_model import LogisticRegression\n",
    "from sklearn.ensemble import GradientBoostingClassifier, RandomForestClassifier, ExtraTreesClassifier, AdaBoostClassifier\n",
    "\n",
    "from rgf import *     # https://github.com/fukatani/rgf_python\n",
    "\n",
    "train = pd.read_csv('/Users/wolheelee/python/kaggle/PortoSeguroSafeDriverPrediction/input/train.csv')\n",
    "test = pd.read_csv('/Users/wolheelee/python/kaggle/PortoSeguroSafeDriverPrediction/input/test.csv')\n"
   ]
  },
  {
   "cell_type": "code",
   "execution_count": 3,
   "metadata": {
    "_cell_guid": "3616c450-7be0-4be5-a684-2c9cae049c4e",
    "_uuid": "6d2eb41e27dd875e9c49c7cccc8aaeab6306ddae",
    "collapsed": false
   },
   "outputs": [
    {
     "name": "stdout",
     "output_type": "stream",
     "text": [
      "(595212, 198) (892816, 198)\n"
     ]
    }
   ],
   "source": [
    "# The lgbm part of the code is infuenced by https://www.kaggle.com/yekenot/simple-stacker-lb-0-284\n",
    "# with a little modification\n",
    "# The output of this model is available under Input datasets section\n",
    "# Preprocessing \n",
    "id_test = test['id'].values\n",
    "target_train = train['target'].values\n",
    "\n",
    "train = train.drop(['target','id'], axis = 1)\n",
    "test = test.drop(['id'], axis = 1)\n",
    "\n",
    "col_to_drop = train.columns[train.columns.str.startswith('ps_calc_')]\n",
    "train = train.drop(col_to_drop, axis=1)  \n",
    "test = test.drop(col_to_drop, axis=1)  \n",
    "\n",
    "train = train.replace(-1, np.nan)\n",
    "test = test.replace(-1, np.nan)\n",
    "\n",
    "cat_features = [a for a in train.columns if a.endswith('cat')]\n",
    "\n",
    "for column in cat_features:\n",
    "\ttemp = pd.get_dummies(pd.Series(train[column]))\n",
    "\ttrain = pd.concat([train,temp],axis=1)\n",
    "\ttrain = train.drop([column],axis=1)\n",
    "    \n",
    "for column in cat_features:\n",
    "\ttemp = pd.get_dummies(pd.Series(test[column]))\n",
    "\ttest = pd.concat([test,temp],axis=1)\n",
    "\ttest = test.drop([column],axis=1)\n",
    "\n",
    "print(train.values.shape, test.values.shape)\n"
   ]
  },
  {
   "cell_type": "code",
   "execution_count": 4,
   "metadata": {
    "_cell_guid": "5c5c18da-2e43-4e46-b50b-ec1f4d3a3516",
    "_uuid": "92f0e9db0afea6020fb89343ef6bc154d06ed510",
    "collapsed": true
   },
   "outputs": [],
   "source": [
    "class Ensemble(object):\n",
    "    def __init__(self, n_splits, stacker, base_models):\n",
    "        self.n_splits = n_splits\n",
    "        self.stacker = stacker\n",
    "        self.base_models = base_models\n",
    "\n",
    "    def fit_predict(self, X, y, T):\n",
    "        X = np.array(X)\n",
    "        y = np.array(y)\n",
    "        T = np.array(T)\n",
    "\n",
    "        folds = list(StratifiedKFold(n_splits=self.n_splits, shuffle=True, random_state=2016).split(X, y))\n",
    "\n",
    "        S_train = np.zeros((X.shape[0], len(self.base_models)))\n",
    "        S_test = np.zeros((T.shape[0], len(self.base_models)))\n",
    "        for i, clf in enumerate(self.base_models):\n",
    "\n",
    "            S_test_i = np.zeros((T.shape[0], self.n_splits))\n",
    "\n",
    "            for j, (train_idx, test_idx) in enumerate(folds):\n",
    "                X_train = X[train_idx]\n",
    "                y_train = y[train_idx]\n",
    "                X_holdout = X[test_idx]\n",
    "#                y_holdout = y[test_idx]\n",
    "\n",
    "                print (\"Fit %s fold %d\" % (str(clf).split('(')[0], j+1))\n",
    "                clf.fit(X_train, y_train)\n",
    "#                cross_score = cross_val_score(clf, X_train, y_train, cv=3, scoring='roc_auc')\n",
    "#                print(\"    cross_score: %.5f\" % (cross_score.mean()))\n",
    "                y_pred = clf.predict_proba(X_holdout)[:,1]                \n",
    "\n",
    "                S_train[test_idx, i] = y_pred\n",
    "                S_test_i[:, j] = clf.predict_proba(T)[:,1]\n",
    "            S_test[:, i] = S_test_i.mean(axis=1)\n",
    "\n",
    "        results = cross_val_score(self.stacker, S_train, y, cv=3, scoring='roc_auc')\n",
    "        print(\"Stacker score: %.5f\" % (results.mean()))\n",
    "\n",
    "        self.stacker.fit(S_train, y)\n",
    "        res = self.stacker.predict_proba(S_test)[:,1]\n",
    "        return res"
   ]
  },
  {
   "cell_type": "code",
   "execution_count": 5,
   "metadata": {
    "_cell_guid": "439bb52e-07ad-4a16-8e1e-e2e24be38a6a",
    "_uuid": "c419c7ee3724ba603192f170076cc7cbbe9b89a5",
    "collapsed": true
   },
   "outputs": [],
   "source": [
    "# LightGBM params\n",
    "lgb_params = {}\n",
    "lgb_params['learning_rate'] = 0.02\n",
    "lgb_params['n_estimators'] = 650\n",
    "lgb_params['max_bin'] = 10\n",
    "lgb_params['subsample'] = 0.8\n",
    "lgb_params['subsample_freq'] = 10\n",
    "lgb_params['colsample_bytree'] = 0.8   \n",
    "lgb_params['min_child_samples'] = 500\n",
    "lgb_params['feature_fraction'] = 0.9\n",
    "lgb_params['num_iterations']=900\n",
    "lgb_params['bagging_freq'] = 1\n",
    "lgb_params['seed'] = 200\n",
    "\n",
    "lgb_params2 = {}\n",
    "lgb_params2['n_estimators'] = 1090\n",
    "lgb_params2['learning_rate'] = 0.02\n",
    "lgb_params2['colsample_bytree'] = 0.3   \n",
    "lgb_params2['subsample'] = 0.7\n",
    "lgb_params2['subsample_freq'] = 2\n",
    "lgb_params2['num_leaves'] = 16\n",
    "lgb_params2['num_iterations']=900\n",
    "lgb_params2['feature_fraction'] = 0.9\n",
    "lgb_params2['bagging_freq'] = 1\n",
    "lgb_params2['seed'] = 200\n",
    "\n",
    "\n",
    "lgb_params3 = {}\n",
    "lgb_params3['n_estimators'] = 1100\n",
    "lgb_params3['max_depth'] = 4\n",
    "lgb_params3['num_iterations']=900\n",
    "lgb_params3['learning_rate'] = 0.02\n",
    "lgb_params3['feature_fraction'] = 0.9\n",
    "lgb_params3['bagging_freq'] = 1\n",
    "lgb_params3['seed'] = 200"
   ]
  },
  {
   "cell_type": "code",
   "execution_count": 6,
   "metadata": {
    "_cell_guid": "a4b8ffcc-74a3-4877-9f6f-a1290478cd47",
    "_uuid": "f89c8c9afd176f62169f2218d3bfb628c4adb63e",
    "collapsed": true
   },
   "outputs": [],
   "source": [
    "lgb_model = LGBMClassifier(**lgb_params)\n",
    "\n",
    "lgb_model2 = LGBMClassifier(**lgb_params2)\n",
    "\n",
    "lgb_model3 = LGBMClassifier(**lgb_params3)"
   ]
  },
  {
   "cell_type": "code",
   "execution_count": 7,
   "metadata": {
    "_cell_guid": "fb731ac0-5019-4354-b351-074dbb1161e9",
    "_kg_hide-output": true,
    "_uuid": "6879edbcebec166584b455f838459631a35cfad7",
    "collapsed": false,
    "scrolled": false
   },
   "outputs": [
    {
     "name": "stderr",
     "output_type": "stream",
     "text": [
      "/Users/wolheelee/.pyenv/versions/anaconda3-4.3.0/lib/python3.6/site-packages/lightgbm/sklearn.py:282: LGBMDeprecationWarning: The `seed` parameter is deprecated and will be removed in next version. Please use `random_state` instead.\n",
      "  'Please use `random_state` instead.', LGBMDeprecationWarning)\n",
      "/Users/wolheelee/.pyenv/versions/anaconda3-4.3.0/lib/python3.6/site-packages/lightgbm/sklearn.py:282: LGBMDeprecationWarning: The `seed` parameter is deprecated and will be removed in next version. Please use `random_state` instead.\n",
      "  'Please use `random_state` instead.', LGBMDeprecationWarning)\n",
      "/Users/wolheelee/.pyenv/versions/anaconda3-4.3.0/lib/python3.6/site-packages/lightgbm/engine.py:98: UserWarning: Found `num_iterations` in params. Will use it instead of argument\n",
      "  warnings.warn(\"Found `{}` in params. Will use it instead of argument\".format(alias))\n"
     ]
    },
    {
     "name": "stdout",
     "output_type": "stream",
     "text": [
      "Fit LGBMClassifier fold 1\n"
     ]
    },
    {
     "name": "stderr",
     "output_type": "stream",
     "text": [
      "/Users/wolheelee/.pyenv/versions/anaconda3-4.3.0/lib/python3.6/site-packages/lightgbm/sklearn.py:282: LGBMDeprecationWarning: The `seed` parameter is deprecated and will be removed in next version. Please use `random_state` instead.\n",
      "  'Please use `random_state` instead.', LGBMDeprecationWarning)\n",
      "/Users/wolheelee/.pyenv/versions/anaconda3-4.3.0/lib/python3.6/site-packages/lightgbm/sklearn.py:282: LGBMDeprecationWarning: The `seed` parameter is deprecated and will be removed in next version. Please use `random_state` instead.\n",
      "  'Please use `random_state` instead.', LGBMDeprecationWarning)\n",
      "/Users/wolheelee/.pyenv/versions/anaconda3-4.3.0/lib/python3.6/site-packages/lightgbm/engine.py:98: UserWarning: Found `num_iterations` in params. Will use it instead of argument\n",
      "  warnings.warn(\"Found `{}` in params. Will use it instead of argument\".format(alias))\n"
     ]
    },
    {
     "name": "stdout",
     "output_type": "stream",
     "text": [
      "Fit LGBMClassifier fold 2\n"
     ]
    },
    {
     "name": "stderr",
     "output_type": "stream",
     "text": [
      "/Users/wolheelee/.pyenv/versions/anaconda3-4.3.0/lib/python3.6/site-packages/lightgbm/sklearn.py:282: LGBMDeprecationWarning: The `seed` parameter is deprecated and will be removed in next version. Please use `random_state` instead.\n",
      "  'Please use `random_state` instead.', LGBMDeprecationWarning)\n",
      "/Users/wolheelee/.pyenv/versions/anaconda3-4.3.0/lib/python3.6/site-packages/lightgbm/sklearn.py:282: LGBMDeprecationWarning: The `seed` parameter is deprecated and will be removed in next version. Please use `random_state` instead.\n",
      "  'Please use `random_state` instead.', LGBMDeprecationWarning)\n",
      "/Users/wolheelee/.pyenv/versions/anaconda3-4.3.0/lib/python3.6/site-packages/lightgbm/engine.py:98: UserWarning: Found `num_iterations` in params. Will use it instead of argument\n",
      "  warnings.warn(\"Found `{}` in params. Will use it instead of argument\".format(alias))\n"
     ]
    },
    {
     "name": "stdout",
     "output_type": "stream",
     "text": [
      "Fit LGBMClassifier fold 3\n"
     ]
    },
    {
     "name": "stderr",
     "output_type": "stream",
     "text": [
      "/Users/wolheelee/.pyenv/versions/anaconda3-4.3.0/lib/python3.6/site-packages/lightgbm/sklearn.py:282: LGBMDeprecationWarning: The `seed` parameter is deprecated and will be removed in next version. Please use `random_state` instead.\n",
      "  'Please use `random_state` instead.', LGBMDeprecationWarning)\n",
      "/Users/wolheelee/.pyenv/versions/anaconda3-4.3.0/lib/python3.6/site-packages/lightgbm/sklearn.py:282: LGBMDeprecationWarning: The `seed` parameter is deprecated and will be removed in next version. Please use `random_state` instead.\n",
      "  'Please use `random_state` instead.', LGBMDeprecationWarning)\n",
      "/Users/wolheelee/.pyenv/versions/anaconda3-4.3.0/lib/python3.6/site-packages/lightgbm/engine.py:98: UserWarning: Found `num_iterations` in params. Will use it instead of argument\n",
      "  warnings.warn(\"Found `{}` in params. Will use it instead of argument\".format(alias))\n"
     ]
    },
    {
     "name": "stdout",
     "output_type": "stream",
     "text": [
      "Fit LGBMClassifier fold 4\n"
     ]
    },
    {
     "name": "stderr",
     "output_type": "stream",
     "text": [
      "/Users/wolheelee/.pyenv/versions/anaconda3-4.3.0/lib/python3.6/site-packages/lightgbm/sklearn.py:282: LGBMDeprecationWarning: The `seed` parameter is deprecated and will be removed in next version. Please use `random_state` instead.\n",
      "  'Please use `random_state` instead.', LGBMDeprecationWarning)\n",
      "/Users/wolheelee/.pyenv/versions/anaconda3-4.3.0/lib/python3.6/site-packages/lightgbm/sklearn.py:282: LGBMDeprecationWarning: The `seed` parameter is deprecated and will be removed in next version. Please use `random_state` instead.\n",
      "  'Please use `random_state` instead.', LGBMDeprecationWarning)\n",
      "/Users/wolheelee/.pyenv/versions/anaconda3-4.3.0/lib/python3.6/site-packages/lightgbm/engine.py:98: UserWarning: Found `num_iterations` in params. Will use it instead of argument\n",
      "  warnings.warn(\"Found `{}` in params. Will use it instead of argument\".format(alias))\n"
     ]
    },
    {
     "name": "stdout",
     "output_type": "stream",
     "text": [
      "Fit LGBMClassifier fold 5\n"
     ]
    },
    {
     "name": "stderr",
     "output_type": "stream",
     "text": [
      "/Users/wolheelee/.pyenv/versions/anaconda3-4.3.0/lib/python3.6/site-packages/lightgbm/sklearn.py:282: LGBMDeprecationWarning: The `seed` parameter is deprecated and will be removed in next version. Please use `random_state` instead.\n",
      "  'Please use `random_state` instead.', LGBMDeprecationWarning)\n",
      "/Users/wolheelee/.pyenv/versions/anaconda3-4.3.0/lib/python3.6/site-packages/lightgbm/sklearn.py:282: LGBMDeprecationWarning: The `seed` parameter is deprecated and will be removed in next version. Please use `random_state` instead.\n",
      "  'Please use `random_state` instead.', LGBMDeprecationWarning)\n",
      "/Users/wolheelee/.pyenv/versions/anaconda3-4.3.0/lib/python3.6/site-packages/lightgbm/engine.py:98: UserWarning: Found `num_iterations` in params. Will use it instead of argument\n",
      "  warnings.warn(\"Found `{}` in params. Will use it instead of argument\".format(alias))\n"
     ]
    },
    {
     "name": "stdout",
     "output_type": "stream",
     "text": [
      "Fit LGBMClassifier fold 6\n"
     ]
    },
    {
     "name": "stderr",
     "output_type": "stream",
     "text": [
      "/Users/wolheelee/.pyenv/versions/anaconda3-4.3.0/lib/python3.6/site-packages/lightgbm/sklearn.py:282: LGBMDeprecationWarning: The `seed` parameter is deprecated and will be removed in next version. Please use `random_state` instead.\n",
      "  'Please use `random_state` instead.', LGBMDeprecationWarning)\n",
      "/Users/wolheelee/.pyenv/versions/anaconda3-4.3.0/lib/python3.6/site-packages/lightgbm/sklearn.py:282: LGBMDeprecationWarning: The `seed` parameter is deprecated and will be removed in next version. Please use `random_state` instead.\n",
      "  'Please use `random_state` instead.', LGBMDeprecationWarning)\n",
      "/Users/wolheelee/.pyenv/versions/anaconda3-4.3.0/lib/python3.6/site-packages/lightgbm/engine.py:98: UserWarning: Found `num_iterations` in params. Will use it instead of argument\n",
      "  warnings.warn(\"Found `{}` in params. Will use it instead of argument\".format(alias))\n"
     ]
    },
    {
     "name": "stdout",
     "output_type": "stream",
     "text": [
      "Fit LGBMClassifier fold 1\n"
     ]
    },
    {
     "name": "stderr",
     "output_type": "stream",
     "text": [
      "/Users/wolheelee/.pyenv/versions/anaconda3-4.3.0/lib/python3.6/site-packages/lightgbm/sklearn.py:282: LGBMDeprecationWarning: The `seed` parameter is deprecated and will be removed in next version. Please use `random_state` instead.\n",
      "  'Please use `random_state` instead.', LGBMDeprecationWarning)\n",
      "/Users/wolheelee/.pyenv/versions/anaconda3-4.3.0/lib/python3.6/site-packages/lightgbm/sklearn.py:282: LGBMDeprecationWarning: The `seed` parameter is deprecated and will be removed in next version. Please use `random_state` instead.\n",
      "  'Please use `random_state` instead.', LGBMDeprecationWarning)\n",
      "/Users/wolheelee/.pyenv/versions/anaconda3-4.3.0/lib/python3.6/site-packages/lightgbm/engine.py:98: UserWarning: Found `num_iterations` in params. Will use it instead of argument\n",
      "  warnings.warn(\"Found `{}` in params. Will use it instead of argument\".format(alias))\n"
     ]
    },
    {
     "name": "stdout",
     "output_type": "stream",
     "text": [
      "Fit LGBMClassifier fold 2\n"
     ]
    },
    {
     "name": "stderr",
     "output_type": "stream",
     "text": [
      "/Users/wolheelee/.pyenv/versions/anaconda3-4.3.0/lib/python3.6/site-packages/lightgbm/sklearn.py:282: LGBMDeprecationWarning: The `seed` parameter is deprecated and will be removed in next version. Please use `random_state` instead.\n",
      "  'Please use `random_state` instead.', LGBMDeprecationWarning)\n",
      "/Users/wolheelee/.pyenv/versions/anaconda3-4.3.0/lib/python3.6/site-packages/lightgbm/sklearn.py:282: LGBMDeprecationWarning: The `seed` parameter is deprecated and will be removed in next version. Please use `random_state` instead.\n",
      "  'Please use `random_state` instead.', LGBMDeprecationWarning)\n",
      "/Users/wolheelee/.pyenv/versions/anaconda3-4.3.0/lib/python3.6/site-packages/lightgbm/engine.py:98: UserWarning: Found `num_iterations` in params. Will use it instead of argument\n",
      "  warnings.warn(\"Found `{}` in params. Will use it instead of argument\".format(alias))\n"
     ]
    },
    {
     "name": "stdout",
     "output_type": "stream",
     "text": [
      "Fit LGBMClassifier fold 3\n"
     ]
    },
    {
     "name": "stderr",
     "output_type": "stream",
     "text": [
      "/Users/wolheelee/.pyenv/versions/anaconda3-4.3.0/lib/python3.6/site-packages/lightgbm/sklearn.py:282: LGBMDeprecationWarning: The `seed` parameter is deprecated and will be removed in next version. Please use `random_state` instead.\n",
      "  'Please use `random_state` instead.', LGBMDeprecationWarning)\n",
      "/Users/wolheelee/.pyenv/versions/anaconda3-4.3.0/lib/python3.6/site-packages/lightgbm/sklearn.py:282: LGBMDeprecationWarning: The `seed` parameter is deprecated and will be removed in next version. Please use `random_state` instead.\n",
      "  'Please use `random_state` instead.', LGBMDeprecationWarning)\n",
      "/Users/wolheelee/.pyenv/versions/anaconda3-4.3.0/lib/python3.6/site-packages/lightgbm/engine.py:98: UserWarning: Found `num_iterations` in params. Will use it instead of argument\n",
      "  warnings.warn(\"Found `{}` in params. Will use it instead of argument\".format(alias))\n"
     ]
    },
    {
     "name": "stdout",
     "output_type": "stream",
     "text": [
      "Fit LGBMClassifier fold 4\n"
     ]
    },
    {
     "name": "stderr",
     "output_type": "stream",
     "text": [
      "/Users/wolheelee/.pyenv/versions/anaconda3-4.3.0/lib/python3.6/site-packages/lightgbm/sklearn.py:282: LGBMDeprecationWarning: The `seed` parameter is deprecated and will be removed in next version. Please use `random_state` instead.\n",
      "  'Please use `random_state` instead.', LGBMDeprecationWarning)\n",
      "/Users/wolheelee/.pyenv/versions/anaconda3-4.3.0/lib/python3.6/site-packages/lightgbm/sklearn.py:282: LGBMDeprecationWarning: The `seed` parameter is deprecated and will be removed in next version. Please use `random_state` instead.\n",
      "  'Please use `random_state` instead.', LGBMDeprecationWarning)\n",
      "/Users/wolheelee/.pyenv/versions/anaconda3-4.3.0/lib/python3.6/site-packages/lightgbm/engine.py:98: UserWarning: Found `num_iterations` in params. Will use it instead of argument\n",
      "  warnings.warn(\"Found `{}` in params. Will use it instead of argument\".format(alias))\n"
     ]
    },
    {
     "name": "stdout",
     "output_type": "stream",
     "text": [
      "Fit LGBMClassifier fold 5\n"
     ]
    },
    {
     "name": "stderr",
     "output_type": "stream",
     "text": [
      "/Users/wolheelee/.pyenv/versions/anaconda3-4.3.0/lib/python3.6/site-packages/lightgbm/sklearn.py:282: LGBMDeprecationWarning: The `seed` parameter is deprecated and will be removed in next version. Please use `random_state` instead.\n",
      "  'Please use `random_state` instead.', LGBMDeprecationWarning)\n",
      "/Users/wolheelee/.pyenv/versions/anaconda3-4.3.0/lib/python3.6/site-packages/lightgbm/sklearn.py:282: LGBMDeprecationWarning: The `seed` parameter is deprecated and will be removed in next version. Please use `random_state` instead.\n",
      "  'Please use `random_state` instead.', LGBMDeprecationWarning)\n",
      "/Users/wolheelee/.pyenv/versions/anaconda3-4.3.0/lib/python3.6/site-packages/lightgbm/engine.py:98: UserWarning: Found `num_iterations` in params. Will use it instead of argument\n",
      "  warnings.warn(\"Found `{}` in params. Will use it instead of argument\".format(alias))\n"
     ]
    },
    {
     "name": "stdout",
     "output_type": "stream",
     "text": [
      "Fit LGBMClassifier fold 6\n"
     ]
    },
    {
     "name": "stderr",
     "output_type": "stream",
     "text": [
      "/Users/wolheelee/.pyenv/versions/anaconda3-4.3.0/lib/python3.6/site-packages/lightgbm/sklearn.py:282: LGBMDeprecationWarning: The `seed` parameter is deprecated and will be removed in next version. Please use `random_state` instead.\n",
      "  'Please use `random_state` instead.', LGBMDeprecationWarning)\n",
      "/Users/wolheelee/.pyenv/versions/anaconda3-4.3.0/lib/python3.6/site-packages/lightgbm/sklearn.py:282: LGBMDeprecationWarning: The `seed` parameter is deprecated and will be removed in next version. Please use `random_state` instead.\n",
      "  'Please use `random_state` instead.', LGBMDeprecationWarning)\n",
      "/Users/wolheelee/.pyenv/versions/anaconda3-4.3.0/lib/python3.6/site-packages/lightgbm/engine.py:98: UserWarning: Found `num_iterations` in params. Will use it instead of argument\n",
      "  warnings.warn(\"Found `{}` in params. Will use it instead of argument\".format(alias))\n"
     ]
    },
    {
     "name": "stdout",
     "output_type": "stream",
     "text": [
      "Fit LGBMClassifier fold 1\n"
     ]
    },
    {
     "name": "stderr",
     "output_type": "stream",
     "text": [
      "/Users/wolheelee/.pyenv/versions/anaconda3-4.3.0/lib/python3.6/site-packages/lightgbm/sklearn.py:282: LGBMDeprecationWarning: The `seed` parameter is deprecated and will be removed in next version. Please use `random_state` instead.\n",
      "  'Please use `random_state` instead.', LGBMDeprecationWarning)\n",
      "/Users/wolheelee/.pyenv/versions/anaconda3-4.3.0/lib/python3.6/site-packages/lightgbm/sklearn.py:282: LGBMDeprecationWarning: The `seed` parameter is deprecated and will be removed in next version. Please use `random_state` instead.\n",
      "  'Please use `random_state` instead.', LGBMDeprecationWarning)\n",
      "/Users/wolheelee/.pyenv/versions/anaconda3-4.3.0/lib/python3.6/site-packages/lightgbm/engine.py:98: UserWarning: Found `num_iterations` in params. Will use it instead of argument\n",
      "  warnings.warn(\"Found `{}` in params. Will use it instead of argument\".format(alias))\n"
     ]
    },
    {
     "name": "stdout",
     "output_type": "stream",
     "text": [
      "Fit LGBMClassifier fold 2\n"
     ]
    },
    {
     "name": "stderr",
     "output_type": "stream",
     "text": [
      "/Users/wolheelee/.pyenv/versions/anaconda3-4.3.0/lib/python3.6/site-packages/lightgbm/sklearn.py:282: LGBMDeprecationWarning: The `seed` parameter is deprecated and will be removed in next version. Please use `random_state` instead.\n",
      "  'Please use `random_state` instead.', LGBMDeprecationWarning)\n",
      "/Users/wolheelee/.pyenv/versions/anaconda3-4.3.0/lib/python3.6/site-packages/lightgbm/sklearn.py:282: LGBMDeprecationWarning: The `seed` parameter is deprecated and will be removed in next version. Please use `random_state` instead.\n",
      "  'Please use `random_state` instead.', LGBMDeprecationWarning)\n",
      "/Users/wolheelee/.pyenv/versions/anaconda3-4.3.0/lib/python3.6/site-packages/lightgbm/engine.py:98: UserWarning: Found `num_iterations` in params. Will use it instead of argument\n",
      "  warnings.warn(\"Found `{}` in params. Will use it instead of argument\".format(alias))\n"
     ]
    },
    {
     "name": "stdout",
     "output_type": "stream",
     "text": [
      "Fit LGBMClassifier fold 3\n"
     ]
    },
    {
     "name": "stderr",
     "output_type": "stream",
     "text": [
      "/Users/wolheelee/.pyenv/versions/anaconda3-4.3.0/lib/python3.6/site-packages/lightgbm/sklearn.py:282: LGBMDeprecationWarning: The `seed` parameter is deprecated and will be removed in next version. Please use `random_state` instead.\n",
      "  'Please use `random_state` instead.', LGBMDeprecationWarning)\n",
      "/Users/wolheelee/.pyenv/versions/anaconda3-4.3.0/lib/python3.6/site-packages/lightgbm/sklearn.py:282: LGBMDeprecationWarning: The `seed` parameter is deprecated and will be removed in next version. Please use `random_state` instead.\n",
      "  'Please use `random_state` instead.', LGBMDeprecationWarning)\n",
      "/Users/wolheelee/.pyenv/versions/anaconda3-4.3.0/lib/python3.6/site-packages/lightgbm/engine.py:98: UserWarning: Found `num_iterations` in params. Will use it instead of argument\n",
      "  warnings.warn(\"Found `{}` in params. Will use it instead of argument\".format(alias))\n"
     ]
    },
    {
     "name": "stdout",
     "output_type": "stream",
     "text": [
      "Fit LGBMClassifier fold 4\n"
     ]
    },
    {
     "name": "stderr",
     "output_type": "stream",
     "text": [
      "/Users/wolheelee/.pyenv/versions/anaconda3-4.3.0/lib/python3.6/site-packages/lightgbm/sklearn.py:282: LGBMDeprecationWarning: The `seed` parameter is deprecated and will be removed in next version. Please use `random_state` instead.\n",
      "  'Please use `random_state` instead.', LGBMDeprecationWarning)\n",
      "/Users/wolheelee/.pyenv/versions/anaconda3-4.3.0/lib/python3.6/site-packages/lightgbm/sklearn.py:282: LGBMDeprecationWarning: The `seed` parameter is deprecated and will be removed in next version. Please use `random_state` instead.\n",
      "  'Please use `random_state` instead.', LGBMDeprecationWarning)\n",
      "/Users/wolheelee/.pyenv/versions/anaconda3-4.3.0/lib/python3.6/site-packages/lightgbm/engine.py:98: UserWarning: Found `num_iterations` in params. Will use it instead of argument\n",
      "  warnings.warn(\"Found `{}` in params. Will use it instead of argument\".format(alias))\n"
     ]
    },
    {
     "name": "stdout",
     "output_type": "stream",
     "text": [
      "Fit LGBMClassifier fold 5\n"
     ]
    },
    {
     "name": "stderr",
     "output_type": "stream",
     "text": [
      "/Users/wolheelee/.pyenv/versions/anaconda3-4.3.0/lib/python3.6/site-packages/lightgbm/sklearn.py:282: LGBMDeprecationWarning: The `seed` parameter is deprecated and will be removed in next version. Please use `random_state` instead.\n",
      "  'Please use `random_state` instead.', LGBMDeprecationWarning)\n",
      "/Users/wolheelee/.pyenv/versions/anaconda3-4.3.0/lib/python3.6/site-packages/lightgbm/sklearn.py:282: LGBMDeprecationWarning: The `seed` parameter is deprecated and will be removed in next version. Please use `random_state` instead.\n",
      "  'Please use `random_state` instead.', LGBMDeprecationWarning)\n",
      "/Users/wolheelee/.pyenv/versions/anaconda3-4.3.0/lib/python3.6/site-packages/lightgbm/engine.py:98: UserWarning: Found `num_iterations` in params. Will use it instead of argument\n",
      "  warnings.warn(\"Found `{}` in params. Will use it instead of argument\".format(alias))\n"
     ]
    },
    {
     "name": "stdout",
     "output_type": "stream",
     "text": [
      "Fit LGBMClassifier fold 6\n",
      "Stacker score: 0.64457\n"
     ]
    }
   ],
   "source": [
    "log_model = LogisticRegression()\n",
    "       \n",
    "stack = Ensemble(n_splits=6,\n",
    "        stacker = log_model,\n",
    "        base_models = (lgb_model, lgb_model2, lgb_model3))        \n",
    "        \n",
    "y_pred = stack.fit_predict(train, target_train, test)        \n",
    "\n",
    "sub_1 = pd.DataFrame()\n",
    "sub_1['id'] = id_test\n",
    "sub_1['target'] = y_pred"
   ]
  },
  {
   "cell_type": "code",
   "execution_count": 11,
   "metadata": {
    "_cell_guid": "24ad6727-da97-4561-ade1-186b5df4cff7",
    "_uuid": "8de47079736e03e1e9a26132f4999daf547d68a1",
    "collapsed": false
   },
   "outputs": [],
   "source": [
    "# All these datasets are from different kaggle kernels\n",
    "stacked_1 = pd.read_csv('/Users/wolheelee/python/kaggle/PortoSeguroSafeDriverPrediction/input/kaggleportosegurosubmissions/stacked_1.csv')\n",
    "xgb_submit = pd.read_csv('/Users/wolheelee/python/kaggle/PortoSeguroSafeDriverPrediction/input/kaggleportosegurosubmissions/xgb_submit.csv')\n",
    "Froza_and_Pascal = pd.read_csv('/Users/wolheelee/python/kaggle/PortoSeguroSafeDriverPrediction/input/kaggleportosegurosubmissions/Froza_and_Pascal.csv')\n",
    "rgf_submit = pd.read_csv('/Users/wolheelee/python/kaggle/PortoSeguroSafeDriverPrediction/input/kaggleportosegurosubmissions/rgf_submit.csv')\n",
    "gpari = pd.read_csv('/Users/wolheelee/python/kaggle/PortoSeguroSafeDriverPrediction/input/kaggleportosegurosubmissions/gpari.csv')\n",
    "\n",
    "# Ensemble and create submission \n",
    "\n",
    "sub = pd.DataFrame()\n",
    "sub['id'] = stacked_1['id']\n",
    "sub['target'] = np.exp(np.mean(\n",
    "\t[\t\n",
    "    sub_1['target'].apply(lambda x: np.log(x)),\\\n",
    "    Froza_and_Pascal['target'].apply(lambda x: np.log(x)),\\\n",
    "    rgf_submit['target'].apply(lambda x: np.log(x)),\\\n",
    "    gpari['target'].apply(lambda x: np.log(x)),\\\n",
    "\tstacked_1['target'].apply(lambda x: np.log(x)),\\\n",
    "\txgb_submit['target'].apply(lambda x: np.log(x))\\\n",
    "\t], axis =0))\n",
    "\n",
    "sub.to_csv('sub.csv', index = False, compression = 'gzip')"
   ]
  },
  {
   "cell_type": "code",
   "execution_count": 12,
   "metadata": {
    "_cell_guid": "3c15d915-e97d-4ff9-b19f-65675f03f8fd",
    "_uuid": "97ac9ad3a0c3bd681c06f47c12baf2731ce9b0c8",
    "collapsed": false
   },
   "outputs": [
    {
     "data": {
      "text/html": [
       "<div>\n",
       "<style scoped>\n",
       "    .dataframe tbody tr th:only-of-type {\n",
       "        vertical-align: middle;\n",
       "    }\n",
       "\n",
       "    .dataframe tbody tr th {\n",
       "        vertical-align: top;\n",
       "    }\n",
       "\n",
       "    .dataframe thead th {\n",
       "        text-align: right;\n",
       "    }\n",
       "</style>\n",
       "<table border=\"1\" class=\"dataframe\">\n",
       "  <thead>\n",
       "    <tr style=\"text-align: right;\">\n",
       "      <th></th>\n",
       "      <th>id</th>\n",
       "      <th>target</th>\n",
       "    </tr>\n",
       "  </thead>\n",
       "  <tbody>\n",
       "    <tr>\n",
       "      <th>0</th>\n",
       "      <td>0</td>\n",
       "      <td>0.045288</td>\n",
       "    </tr>\n",
       "    <tr>\n",
       "      <th>1</th>\n",
       "      <td>1</td>\n",
       "      <td>0.043682</td>\n",
       "    </tr>\n",
       "    <tr>\n",
       "      <th>2</th>\n",
       "      <td>2</td>\n",
       "      <td>0.040265</td>\n",
       "    </tr>\n",
       "    <tr>\n",
       "      <th>3</th>\n",
       "      <td>3</td>\n",
       "      <td>0.029925</td>\n",
       "    </tr>\n",
       "    <tr>\n",
       "      <th>4</th>\n",
       "      <td>4</td>\n",
       "      <td>0.057016</td>\n",
       "    </tr>\n",
       "    <tr>\n",
       "      <th>5</th>\n",
       "      <td>5</td>\n",
       "      <td>0.069973</td>\n",
       "    </tr>\n",
       "    <tr>\n",
       "      <th>6</th>\n",
       "      <td>6</td>\n",
       "      <td>0.032872</td>\n",
       "    </tr>\n",
       "    <tr>\n",
       "      <th>7</th>\n",
       "      <td>8</td>\n",
       "      <td>0.061785</td>\n",
       "    </tr>\n",
       "    <tr>\n",
       "      <th>8</th>\n",
       "      <td>10</td>\n",
       "      <td>0.076607</td>\n",
       "    </tr>\n",
       "    <tr>\n",
       "      <th>9</th>\n",
       "      <td>11</td>\n",
       "      <td>0.088624</td>\n",
       "    </tr>\n",
       "    <tr>\n",
       "      <th>10</th>\n",
       "      <td>12</td>\n",
       "      <td>0.049617</td>\n",
       "    </tr>\n",
       "    <tr>\n",
       "      <th>11</th>\n",
       "      <td>14</td>\n",
       "      <td>0.040532</td>\n",
       "    </tr>\n",
       "    <tr>\n",
       "      <th>12</th>\n",
       "      <td>15</td>\n",
       "      <td>0.066310</td>\n",
       "    </tr>\n",
       "    <tr>\n",
       "      <th>13</th>\n",
       "      <td>18</td>\n",
       "      <td>0.068881</td>\n",
       "    </tr>\n",
       "    <tr>\n",
       "      <th>14</th>\n",
       "      <td>21</td>\n",
       "      <td>0.071989</td>\n",
       "    </tr>\n",
       "    <tr>\n",
       "      <th>15</th>\n",
       "      <td>23</td>\n",
       "      <td>0.041352</td>\n",
       "    </tr>\n",
       "    <tr>\n",
       "      <th>16</th>\n",
       "      <td>24</td>\n",
       "      <td>0.042247</td>\n",
       "    </tr>\n",
       "    <tr>\n",
       "      <th>17</th>\n",
       "      <td>25</td>\n",
       "      <td>0.083272</td>\n",
       "    </tr>\n",
       "    <tr>\n",
       "      <th>18</th>\n",
       "      <td>27</td>\n",
       "      <td>0.030328</td>\n",
       "    </tr>\n",
       "    <tr>\n",
       "      <th>19</th>\n",
       "      <td>29</td>\n",
       "      <td>0.086970</td>\n",
       "    </tr>\n",
       "    <tr>\n",
       "      <th>20</th>\n",
       "      <td>30</td>\n",
       "      <td>0.054989</td>\n",
       "    </tr>\n",
       "    <tr>\n",
       "      <th>21</th>\n",
       "      <td>31</td>\n",
       "      <td>0.081201</td>\n",
       "    </tr>\n",
       "    <tr>\n",
       "      <th>22</th>\n",
       "      <td>32</td>\n",
       "      <td>0.086928</td>\n",
       "    </tr>\n",
       "    <tr>\n",
       "      <th>23</th>\n",
       "      <td>33</td>\n",
       "      <td>0.029627</td>\n",
       "    </tr>\n",
       "    <tr>\n",
       "      <th>24</th>\n",
       "      <td>37</td>\n",
       "      <td>0.044303</td>\n",
       "    </tr>\n",
       "    <tr>\n",
       "      <th>25</th>\n",
       "      <td>38</td>\n",
       "      <td>0.049450</td>\n",
       "    </tr>\n",
       "    <tr>\n",
       "      <th>26</th>\n",
       "      <td>39</td>\n",
       "      <td>0.123759</td>\n",
       "    </tr>\n",
       "    <tr>\n",
       "      <th>27</th>\n",
       "      <td>40</td>\n",
       "      <td>0.064142</td>\n",
       "    </tr>\n",
       "    <tr>\n",
       "      <th>28</th>\n",
       "      <td>41</td>\n",
       "      <td>0.043500</td>\n",
       "    </tr>\n",
       "    <tr>\n",
       "      <th>29</th>\n",
       "      <td>42</td>\n",
       "      <td>0.033067</td>\n",
       "    </tr>\n",
       "    <tr>\n",
       "      <th>...</th>\n",
       "      <td>...</td>\n",
       "      <td>...</td>\n",
       "    </tr>\n",
       "    <tr>\n",
       "      <th>892786</th>\n",
       "      <td>1487982</td>\n",
       "      <td>0.031993</td>\n",
       "    </tr>\n",
       "    <tr>\n",
       "      <th>892787</th>\n",
       "      <td>1487984</td>\n",
       "      <td>0.059759</td>\n",
       "    </tr>\n",
       "    <tr>\n",
       "      <th>892788</th>\n",
       "      <td>1487985</td>\n",
       "      <td>0.056577</td>\n",
       "    </tr>\n",
       "    <tr>\n",
       "      <th>892789</th>\n",
       "      <td>1487986</td>\n",
       "      <td>0.058823</td>\n",
       "    </tr>\n",
       "    <tr>\n",
       "      <th>892790</th>\n",
       "      <td>1487987</td>\n",
       "      <td>0.054244</td>\n",
       "    </tr>\n",
       "    <tr>\n",
       "      <th>892791</th>\n",
       "      <td>1487989</td>\n",
       "      <td>0.044521</td>\n",
       "    </tr>\n",
       "    <tr>\n",
       "      <th>892792</th>\n",
       "      <td>1487991</td>\n",
       "      <td>0.048435</td>\n",
       "    </tr>\n",
       "    <tr>\n",
       "      <th>892793</th>\n",
       "      <td>1487993</td>\n",
       "      <td>0.063935</td>\n",
       "    </tr>\n",
       "    <tr>\n",
       "      <th>892794</th>\n",
       "      <td>1487995</td>\n",
       "      <td>0.041439</td>\n",
       "    </tr>\n",
       "    <tr>\n",
       "      <th>892795</th>\n",
       "      <td>1487997</td>\n",
       "      <td>0.057869</td>\n",
       "    </tr>\n",
       "    <tr>\n",
       "      <th>892796</th>\n",
       "      <td>1487998</td>\n",
       "      <td>0.090635</td>\n",
       "    </tr>\n",
       "    <tr>\n",
       "      <th>892797</th>\n",
       "      <td>1487999</td>\n",
       "      <td>0.096722</td>\n",
       "    </tr>\n",
       "    <tr>\n",
       "      <th>892798</th>\n",
       "      <td>1488000</td>\n",
       "      <td>0.060491</td>\n",
       "    </tr>\n",
       "    <tr>\n",
       "      <th>892799</th>\n",
       "      <td>1488002</td>\n",
       "      <td>0.122240</td>\n",
       "    </tr>\n",
       "    <tr>\n",
       "      <th>892800</th>\n",
       "      <td>1488003</td>\n",
       "      <td>0.042420</td>\n",
       "    </tr>\n",
       "    <tr>\n",
       "      <th>892801</th>\n",
       "      <td>1488004</td>\n",
       "      <td>0.051115</td>\n",
       "    </tr>\n",
       "    <tr>\n",
       "      <th>892802</th>\n",
       "      <td>1488006</td>\n",
       "      <td>0.045888</td>\n",
       "    </tr>\n",
       "    <tr>\n",
       "      <th>892803</th>\n",
       "      <td>1488007</td>\n",
       "      <td>0.055408</td>\n",
       "    </tr>\n",
       "    <tr>\n",
       "      <th>892804</th>\n",
       "      <td>1488010</td>\n",
       "      <td>0.068727</td>\n",
       "    </tr>\n",
       "    <tr>\n",
       "      <th>892805</th>\n",
       "      <td>1488012</td>\n",
       "      <td>0.058772</td>\n",
       "    </tr>\n",
       "    <tr>\n",
       "      <th>892806</th>\n",
       "      <td>1488014</td>\n",
       "      <td>0.044804</td>\n",
       "    </tr>\n",
       "    <tr>\n",
       "      <th>892807</th>\n",
       "      <td>1488015</td>\n",
       "      <td>0.043060</td>\n",
       "    </tr>\n",
       "    <tr>\n",
       "      <th>892808</th>\n",
       "      <td>1488018</td>\n",
       "      <td>0.042639</td>\n",
       "    </tr>\n",
       "    <tr>\n",
       "      <th>892809</th>\n",
       "      <td>1488019</td>\n",
       "      <td>0.031890</td>\n",
       "    </tr>\n",
       "    <tr>\n",
       "      <th>892810</th>\n",
       "      <td>1488020</td>\n",
       "      <td>0.037956</td>\n",
       "    </tr>\n",
       "    <tr>\n",
       "      <th>892811</th>\n",
       "      <td>1488022</td>\n",
       "      <td>0.126593</td>\n",
       "    </tr>\n",
       "    <tr>\n",
       "      <th>892812</th>\n",
       "      <td>1488023</td>\n",
       "      <td>0.067648</td>\n",
       "    </tr>\n",
       "    <tr>\n",
       "      <th>892813</th>\n",
       "      <td>1488024</td>\n",
       "      <td>0.059381</td>\n",
       "    </tr>\n",
       "    <tr>\n",
       "      <th>892814</th>\n",
       "      <td>1488025</td>\n",
       "      <td>0.040244</td>\n",
       "    </tr>\n",
       "    <tr>\n",
       "      <th>892815</th>\n",
       "      <td>1488026</td>\n",
       "      <td>0.052784</td>\n",
       "    </tr>\n",
       "  </tbody>\n",
       "</table>\n",
       "<p>892816 rows × 2 columns</p>\n",
       "</div>"
      ],
      "text/plain": [
       "             id    target\n",
       "0             0  0.045288\n",
       "1             1  0.043682\n",
       "2             2  0.040265\n",
       "3             3  0.029925\n",
       "4             4  0.057016\n",
       "5             5  0.069973\n",
       "6             6  0.032872\n",
       "7             8  0.061785\n",
       "8            10  0.076607\n",
       "9            11  0.088624\n",
       "10           12  0.049617\n",
       "11           14  0.040532\n",
       "12           15  0.066310\n",
       "13           18  0.068881\n",
       "14           21  0.071989\n",
       "15           23  0.041352\n",
       "16           24  0.042247\n",
       "17           25  0.083272\n",
       "18           27  0.030328\n",
       "19           29  0.086970\n",
       "20           30  0.054989\n",
       "21           31  0.081201\n",
       "22           32  0.086928\n",
       "23           33  0.029627\n",
       "24           37  0.044303\n",
       "25           38  0.049450\n",
       "26           39  0.123759\n",
       "27           40  0.064142\n",
       "28           41  0.043500\n",
       "29           42  0.033067\n",
       "...         ...       ...\n",
       "892786  1487982  0.031993\n",
       "892787  1487984  0.059759\n",
       "892788  1487985  0.056577\n",
       "892789  1487986  0.058823\n",
       "892790  1487987  0.054244\n",
       "892791  1487989  0.044521\n",
       "892792  1487991  0.048435\n",
       "892793  1487993  0.063935\n",
       "892794  1487995  0.041439\n",
       "892795  1487997  0.057869\n",
       "892796  1487998  0.090635\n",
       "892797  1487999  0.096722\n",
       "892798  1488000  0.060491\n",
       "892799  1488002  0.122240\n",
       "892800  1488003  0.042420\n",
       "892801  1488004  0.051115\n",
       "892802  1488006  0.045888\n",
       "892803  1488007  0.055408\n",
       "892804  1488010  0.068727\n",
       "892805  1488012  0.058772\n",
       "892806  1488014  0.044804\n",
       "892807  1488015  0.043060\n",
       "892808  1488018  0.042639\n",
       "892809  1488019  0.031890\n",
       "892810  1488020  0.037956\n",
       "892811  1488022  0.126593\n",
       "892812  1488023  0.067648\n",
       "892813  1488024  0.059381\n",
       "892814  1488025  0.040244\n",
       "892815  1488026  0.052784\n",
       "\n",
       "[892816 rows x 2 columns]"
      ]
     },
     "execution_count": 12,
     "metadata": {},
     "output_type": "execute_result"
    }
   ],
   "source": [
    "sub"
   ]
  }
 ],
 "metadata": {
  "kernelspec": {
   "display_name": "Python 3",
   "language": "python",
   "name": "python3"
  },
  "language_info": {
   "codemirror_mode": {
    "name": "ipython",
    "version": 3
   },
   "file_extension": ".py",
   "mimetype": "text/x-python",
   "name": "python",
   "nbconvert_exporter": "python",
   "pygments_lexer": "ipython3",
   "version": "3.6.0"
  }
 },
 "nbformat": 4,
 "nbformat_minor": 1
}
