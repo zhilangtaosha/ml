{
 "cells": [
  {
   "cell_type": "code",
   "execution_count": 20,
   "metadata": {},
   "outputs": [],
   "source": [
    "from time import time\n",
    "import numpy as np\n",
    "import pandas as pd\n",
    "import matplotlib.pyplot as plt\n",
    "from sklearn.model_selection import GridSearchCV\n",
    "from sklearn import model_selection\n",
    "from sklearn.metrics import mean_squared_error\n",
    "from sklearn.pipeline import Pipeline\n",
    "from sklearn import linear_model\n",
    "from sklearn.preprocessing import LabelEncoder\n",
    "from sklearn.preprocessing import OneHotEncoder\n",
    "from sklearn.feature_extraction import DictVectorizer\n",
    "from scipy.stats import skew\n",
    "\n",
    "import seaborn as sns\n",
    "%matplotlib inline\n",
    "\n",
    "import warnings\n",
    "warnings.filterwarnings(\"ignore\")\n",
    "\n",
    "# =================================================\n",
    "# Import dataset\n",
    "# =================================================\n",
    "# Concatenate train and test (adding a flag) to\n",
    "# factorize data preparation steps\n",
    "train = pd.read_csv(\"../../../../mltestdata/04_house_prices/train.csv\", index_col=0)\n",
    "test = pd.read_csv(\"../../../../mltestdata/04_house_prices/test.csv\", index_col=0)\n",
    "train['train_test'] = 1\n",
    "test['train_test'] = 0\n",
    "y = np.log(train['SalePrice'])\n",
    "x = pd.concat([train.drop(['SalePrice'], axis=1), test], axis=0)\n"
   ]
  },
  {
   "cell_type": "code",
   "execution_count": 21,
   "metadata": {},
   "outputs": [],
   "source": [
    "# =================================================\n",
    "# Data preparation\n",
    "# =================================================\n",
    "# Cast categorical features\n",
    "categorical_feats = x.columns[x.dtypes == 'object'].tolist()\n",
    "for col in categorical_feats:\n",
    "    x[col].fillna('No', inplace=True)\n",
    "    x[col] = x[col].astype(\"category\")\n",
    "# Fill Nan with median for numerical features\n",
    "nan_feats = x.columns[~(x.dtypes == 'object') & (x.isnull().any())].tolist()\n",
    "for col in nan_feats:\n",
    "    x[col].fillna(x[col].median(), inplace=True)\n",
    "# One-hot encoding\n",
    "x_dummified = pd.get_dummies(x[categorical_feats])\n",
    "for col in categorical_feats:\n",
    "    del x[col]\n",
    "x[x_dummified.columns] = x_dummified\n",
    "# Unskew feature\n",
    "numeric_feats = x.columns[x.dtypes != \"object\"].tolist()\n",
    "skewed_feats = x[numeric_feats].apply(lambda c: skew(c.dropna())) #compute skewness\n",
    "skewed_feats = skewed_feats[skewed_feats > 0.75]\n",
    "skewed_feats = skewed_feats.index\n",
    "x[skewed_feats] = np.log1p(x[skewed_feats])\n",
    "\n"
   ]
  },
  {
   "cell_type": "code",
   "execution_count": 22,
   "metadata": {},
   "outputs": [],
   "source": [
    "# =================================================\n",
    "# Grid search\n",
    "# =================================================\n",
    "# Search `alpha` regression parameters\n",
    "x_train = x[x.train_test == 1]"
   ]
  },
  {
   "cell_type": "code",
   "execution_count": 23,
   "metadata": {},
   "outputs": [
    {
     "name": "stdout",
     "output_type": "stream",
     "text": [
      "Compute alpha = 1e-05 - 0.13304254311140573\n",
      "Compute alpha = 1.6681005372000593e-05 - 0.131286532530758\n",
      "Compute alpha = 2.782559402207126e-05 - 0.12949308441768723\n",
      "Compute alpha = 4.641588833612782e-05 - 0.1271591364412418\n",
      "Compute alpha = 7.742636826811278e-05 - 0.12486688948886923\n",
      "Compute alpha = 0.0001291549665014884 - 0.12441477534625664\n",
      "Compute alpha = 0.00021544346900318823 - 0.12601251242628392\n",
      "Compute alpha = 0.00035938136638046257 - 0.13116254429061594\n",
      "Compute alpha = 0.0005994842503189409 - 0.1424102187764055\n",
      "Compute alpha = 0.001 - 0.15890375339348178\n"
     ]
    },
    {
     "data": {
      "image/png": "[encoded data removed]",
      "text/plain": [
       "<matplotlib.figure.Figure at 0x10d1bfb00>"
      ]
     },
     "metadata": {},
     "output_type": "display_data"
    }
   ],
   "source": [
    "lasso = linear_model.Lasso(max_iter=1e2, normalize=True)\n",
    "alphas = np.logspace(-5, -3, 10)\n",
    "scores = []\n",
    "scores_std = []\n",
    "for alpha in alphas:\n",
    "    lasso.alpha = alpha\n",
    "    this_scores = np.sqrt(-model_selection.cross_val_score(lasso, x_train, y, cv=5, scoring='mean_squared_error'))\n",
    "    print('Compute alpha = {} - {}'.format(alpha, np.mean(this_scores)))\n",
    "    scores.append(np.mean(this_scores))\n",
    "    scores_std.append(np.std(this_scores))\n",
    "plt.figure(figsize=(4, 3))\n",
    "plt.semilogx(alphas, scores)\n",
    "plt.semilogx(alphas, np.array(scores) + np.array(scores_std) / np.sqrt(len(x_train)), 'b--')\n",
    "plt.semilogx(alphas, np.array(scores) - np.array(scores_std) / np.sqrt(len(x_train)), 'b--')\n",
    "plt.ylabel('CV score')\n",
    "plt.xlabel('alpha')\n",
    "plt.axhline(np.max(scores), linestyle='--', color='.5')\n",
    "#plt.savefig('lasso_lars.png')\n",
    "\n",
    "# =================================================\n",
    "# Train, apply & submit\n",
    "# =================================================\n",
    "lasso.alpha = 0.0001291549665014884\n",
    "lasso.fit(x_train, y) \n",
    "y_pred = lasso.predict(x[x.train_test == 0])\n",
    "pd.DataFrame({'Id' : test.index, 'SalePrice': np.exp(y_pred)}).to_csv('submit_lasso.csv', index=False)"
   ]
  },
  {
   "cell_type": "code",
   "execution_count": 25,
   "metadata": {},
   "outputs": [
    {
     "data": {
      "text/plain": [
       "[0.13304254311140573,\n",
       " 0.131286532530758,\n",
       " 0.12949308441768723,\n",
       " 0.1271591364412418,\n",
       " 0.12486688948886923,\n",
       " 0.12441477534625664,\n",
       " 0.12601251242628392,\n",
       " 0.13116254429061594,\n",
       " 0.1424102187764055,\n",
       " 0.15890375339348178]"
      ]
     },
     "execution_count": 25,
     "metadata": {},
     "output_type": "execute_result"
    }
   ],
   "source": [
    "scores"
   ]
  },
  {
   "cell_type": "code",
   "execution_count": 26,
   "metadata": {},
   "outputs": [
    {
     "data": {
      "text/plain": [
       "[0.017904706819851193,\n",
       " 0.017516067477632003,\n",
       " 0.017131427110629711,\n",
       " 0.016682756918267257,\n",
       " 0.016633274001793739,\n",
       " 0.016810416893363267,\n",
       " 0.017004096544524273,\n",
       " 0.016452358788956015,\n",
       " 0.013804786310467792,\n",
       " 0.010314985623068654]"
      ]
     },
     "execution_count": 26,
     "metadata": {},
     "output_type": "execute_result"
    }
   ],
   "source": [
    "scores_std"
   ]
  },
  {
   "cell_type": "code",
   "execution_count": null,
   "metadata": {},
   "outputs": [],
   "source": []
  }
 ],
 "metadata": {
  "kernelspec": {
   "display_name": "Python 3",
   "language": "python",
   "name": "python3"
  },
  "language_info": {
   "codemirror_mode": {
    "name": "ipython",
    "version": 3
   },
   "file_extension": ".py",
   "mimetype": "text/x-python",
   "name": "python",
   "nbconvert_exporter": "python",
   "pygments_lexer": "ipython3",
   "version": "3.6.2"
  }
 },
 "nbformat": 4,
 "nbformat_minor": 2
}
