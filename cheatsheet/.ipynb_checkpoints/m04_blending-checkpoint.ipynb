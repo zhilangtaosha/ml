{
 "cells": [
  {
   "cell_type": "code",
   "execution_count": null,
   "metadata": {},
   "outputs": [],
   "source": [
    "sub = pd.DataFrame()\n",
    "sub8['id'] = sub1['id']\n",
    "sub8['visitors'] = 0.4*sub1['visitors']+0.1*sub2['visitors']+0.25*sub3['visitors']+0.25*sub4['visitors']"
   ]
  },
  {
   "cell_type": "code",
   "execution_count": null,
   "metadata": {},
   "outputs": [],
   "source": []
  },
  {
   "cell_type": "code",
   "execution_count": null,
   "metadata": {},
   "outputs": [],
   "source": [
    "# All these datasets are from different kaggle kernels\n",
    "stacked_1 = pd.read_csv('/Users/wolheelee/python/kaggle/PortoSeguroSafeDriverPrediction/input/kaggleportosegurosubmissions/stacked_1.csv')\n",
    "xgb_submit = pd.read_csv('/Users/wolheelee/python/kaggle/PortoSeguroSafeDriverPrediction/input/kaggleportosegurosubmissions/xgb_submit.csv')\n",
    "Froza_and_Pascal = pd.read_csv('/Users/wolheelee/python/kaggle/PortoSeguroSafeDriverPrediction/input/kaggleportosegurosubmissions/Froza_and_Pascal.csv')\n",
    "rgf_submit = pd.read_csv('/Users/wolheelee/python/kaggle/PortoSeguroSafeDriverPrediction/input/kaggleportosegurosubmissions/rgf_submit.csv')\n",
    "gpari = pd.read_csv('/Users/wolheelee/python/kaggle/PortoSeguroSafeDriverPrediction/input/kaggleportosegurosubmissions/gpari.csv')\n",
    "\n",
    "# Ensemble and create submission \n",
    "\n",
    "sub = pd.DataFrame()\n",
    "sub['id'] = stacked_1['id']\n",
    "sub['target'] = np.exp(np.mean(\n",
    "\t[\t\n",
    "    sub_1['target'].apply(lambda x: np.log(x)),\\\n",
    "    Froza_and_Pascal['target'].apply(lambda x: np.log(x)),\\\n",
    "    rgf_submit['target'].apply(lambda x: np.log(x)),\\\n",
    "    gpari['target'].apply(lambda x: np.log(x)),\\\n",
    "\tstacked_1['target'].apply(lambda x: np.log(x)),\\\n",
    "\txgb_submit['target'].apply(lambda x: np.log(x))\\\n",
    "\t], axis =0))\n",
    "\n",
    "sub.to_csv('sub.csv', index = False, compression = 'gzip')\n"
   ]
  }
 ],
 "metadata": {
  "kernelspec": {
   "display_name": "Python 3",
   "language": "python",
   "name": "python3"
  },
  "language_info": {
   "codemirror_mode": {
    "name": "ipython",
    "version": 3
   },
   "file_extension": ".py",
   "mimetype": "text/x-python",
   "name": "python",
   "nbconvert_exporter": "python",
   "pygments_lexer": "ipython3",
   "version": "3.6.2"
  }
 },
 "nbformat": 4,
 "nbformat_minor": 2
}
