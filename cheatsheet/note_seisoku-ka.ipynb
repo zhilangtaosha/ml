{
 "cells": [
  {
   "cell_type": "code",
   "execution_count": 1,
   "metadata": {},
   "outputs": [
    {
     "data": {
      "image/png": "[encoded data removed]",
      "text/plain": [
       "<matplotlib.figure.Figure at 0x102bb9cf8>"
      ]
     },
     "metadata": {},
     "output_type": "display_data"
    }
   ],
   "source": [
    "import numpy as np\n",
    "import matplotlib.pyplot as plt\n",
    "\n",
    "\n",
    "def g(x):\n",
    "    return 0.1 * (x ** 3 + x ** 2 + x)\n",
    "\n",
    "train_x = np.linspace(-2,2,8)\n",
    "train_y = g(train_x) + np.random.randn(train_x.size) * 0.05\n",
    "\n",
    "x = np.linspace(-2, 2, 100)\n",
    "plt.plot(train_x, train_y, 'o')\n",
    "plt.plot(x, g(x), linestyle='dashed')\n",
    "plt.ylim(-1,2)\n",
    "plt.show()"
   ]
  },
  {
   "cell_type": "code",
   "execution_count": 2,
   "metadata": {},
   "outputs": [],
   "source": [
    "mu = train_x.mean()\n",
    "sigma = train_x.std()\n",
    "\n",
    "def standardize(x):\n",
    "    return (x - mu) / sigma\n",
    "\n",
    "train_z = standardize(train_x)\n",
    "\n",
    "def to_matrix(x):\n",
    "    return np.vstack([\n",
    "        np.ones(x.size),\n",
    "        x,\n",
    "        x ** 2,\n",
    "        x ** 3,\n",
    "        x ** 4,\n",
    "        x ** 5,\n",
    "        x ** 6,\n",
    "        x ** 7,\n",
    "        x ** 8,\n",
    "        x ** 9,\n",
    "        x ** 10,\n",
    "    ]).T\n",
    "\n",
    "X = to_matrix(train_z)\n",
    "\n",
    "theta = np.random.randn(X.shape[1])\n",
    "\n",
    "def f(x):\n",
    "    return np.dot(x, theta)"
   ]
  },
  {
   "cell_type": "markdown",
   "metadata": {},
   "source": [
    "# No regularization"
   ]
  },
  {
   "cell_type": "code",
   "execution_count": 3,
   "metadata": {},
   "outputs": [
    {
     "data": {
      "image/png": "[encoded data removed]",
      "text/plain": [
       "<matplotlib.figure.Figure at 0x1040e8dd8>"
      ]
     },
     "metadata": {},
     "output_type": "display_data"
    }
   ],
   "source": [
    "# 目的関数\n",
    "def E(x, y):\n",
    "    return 0.5 * np.sum((y - f(x)) **2)\n",
    "\n",
    "# 学習率\n",
    "ETA =1e-4\n",
    "\n",
    "diff = 1\n",
    "\n",
    "# 学習率\n",
    "error = E(X, train_y)\n",
    "while diff > 1e-6:\n",
    "    theta = theta - ETA * np.dot(f(X) - train_y, X)\n",
    "    current_error = E(X, train_y)\n",
    "    diff = error - current_error\n",
    "    error = current_error\n",
    "    \n",
    "    \n",
    "z = standardize(x)\n",
    "plt.plot(train_z, train_y, 'o')\n",
    "plt.plot(z, f(to_matrix(z)))\n",
    "plt.show()"
   ]
  },
  {
   "cell_type": "markdown",
   "metadata": {},
   "source": [
    "# Use regularization"
   ]
  },
  {
   "cell_type": "code",
   "execution_count": 4,
   "metadata": {},
   "outputs": [
    {
     "data": {
      "image/png": "[encoded data removed]",
      "text/plain": [
       "<matplotlib.figure.Figure at 0x1041a1be0>"
      ]
     },
     "metadata": {},
     "output_type": "display_data"
    }
   ],
   "source": [
    "# 正則化なしのパラメータを保存して、再度初期化\n",
    "\n",
    "theta1 = theta\n",
    "theta = np.random.randn(X.shape[1])\n",
    "\n",
    "# 正則化定数\n",
    "LAMBDA = 1 \n",
    "diff = 1\n",
    "\n",
    "# 学習率\n",
    "error = E(X, train_y)\n",
    "while diff > 1e-6:\n",
    "    reg_term = LAMBDA * np.hstack([0, theta[1:]])\n",
    "    \n",
    "    theta = theta - ETA * np.dot(f(X) - train_y, X)\n",
    "    current_error = E(X, train_y)\n",
    "    diff = error - current_error\n",
    "    error = current_error\n",
    "    \n",
    "    \n",
    "z = standardize(x)\n",
    "plt.plot(train_z, train_y, 'o')\n",
    "plt.plot(z, f(to_matrix(z)))\n",
    "plt.show()"
   ]
  },
  {
   "cell_type": "markdown",
   "metadata": {},
   "source": [
    "# Comparison"
   ]
  },
  {
   "cell_type": "code",
   "execution_count": 5,
   "metadata": {},
   "outputs": [
    {
     "data": {
      "image/png": "[encoded data removed]",
      "text/plain": [
       "<matplotlib.figure.Figure at 0x102bb9be0>"
      ]
     },
     "metadata": {},
     "output_type": "display_data"
    }
   ],
   "source": [
    "theta2 = theta\n",
    "\n",
    "plt.plot(train_z, train_y, 'o')\n",
    "\n",
    "theta = theta1\n",
    "plt.plot(z, f(to_matrix(z)),linestyle='dashed')\n",
    "\n",
    "theta = theta2\n",
    "plt.plot(z,f(to_matrix(z)))\n",
    "\n",
    "plt.show()"
   ]
  },
  {
   "cell_type": "markdown",
   "metadata": {},
   "source": [
    "# まとめ"
   ]
  },
  {
   "cell_type": "markdown",
   "metadata": {},
   "source": [
    "#### L1 正則化の利点は？\n",
    "\n",
    "L1 normalization を用いたmodelを学習させると、paramter の最適解として、疎 sparseな解が得られます。\n",
    "sparseとは、具体的に\n",
    "\n",
    "```\n",
    "w=(0,5,0,0,2,0,...,0)\n",
    "```\n",
    "\n",
    "のように、成分のほとんどが0であるベクトルや行列の状態を表します。\n",
    "\n",
    "L1 normalization をして0となる成分が、irrelevant feature にあたります。\n",
    "\n",
    "L1 normalization の使い時は、無関係な次元の数　＞　サンプル数となる場合です。使って、特徴量を減らしましょう。"
   ]
  },
  {
   "cell_type": "code",
   "execution_count": 9,
   "metadata": {},
   "outputs": [],
   "source": [
    "# wineのデータの読み込み\n",
    "import pandas as pd\n",
    "from sklearn.model_selection import train_test_split\n",
    "\n",
    "df_wine = pd.read_csv('https://archive.ics.uci.edu/ml/machine-learning-databases/wine/wine.data', header=None)\n",
    "df_wine.columns = ['Class label', 'Alcohol', 'Malic acid', 'Ash',\n",
    "                   'Alcalinity of ash', 'Magnesium', 'Total phenols',\n",
    "                   'Flavanoids', 'Nonflavanoid phenols', 'Proanthocyanins',\n",
    "                   'Color intensity', 'Hue', 'OD280/OD315 of diluted wines',\n",
    "                   'Proline']\n",
    "X, y = df_wine.iloc[:, 1:].values, df_wine.iloc[:, 0].values\n",
    "\n",
    "# train/test split\n",
    "X_train, X_test, y_train, y_test = train_test_split(X, y, test_size=0.3, random_state=0)\n",
    "\n",
    "# Feature scaling\n",
    "from sklearn.preprocessing import StandardScaler\n",
    "\n",
    "sc = StandardScaler()\n",
    "sc.fit(X_train)\n",
    "X_train_std = sc.transform(X_train)\n",
    "X_test_std = sc.transform(X_test)"
   ]
  },
  {
   "cell_type": "markdown",
   "metadata": {},
   "source": [
    "#### L1正則化したロジスティック回帰を学習させます。"
   ]
  },
  {
   "cell_type": "code",
   "execution_count": 10,
   "metadata": {},
   "outputs": [
    {
     "name": "stdout",
     "output_type": "stream",
     "text": [
      "train acc 0.983870967742\n",
      "test acc 0.981481481481\n"
     ]
    }
   ],
   "source": [
    "from sklearn.linear_model import LogisticRegression\n",
    "lr = LogisticRegression(penalty='l1', C=0.1)\n",
    "lr.fit(X_train_std, y_train)\n",
    "\n",
    "print('train acc', lr.score(X_train_std, y_train))\n",
    "print('test acc', lr.score(X_test_std, y_test))"
   ]
  },
  {
   "cell_type": "markdown",
   "metadata": {},
   "source": [
    "train, testの精度ともに高く、離れていないことから、L1正則化により、over-fittingが回避できていることがわかります。"
   ]
  },
  {
   "cell_type": "code",
   "execution_count": 11,
   "metadata": {},
   "outputs": [
    {
     "data": {
      "text/html": [
       "<div>\n",
       "<style>\n",
       "    .dataframe thead tr:only-child th {\n",
       "        text-align: right;\n",
       "    }\n",
       "\n",
       "    .dataframe thead th {\n",
       "        text-align: left;\n",
       "    }\n",
       "\n",
       "    .dataframe tbody tr th {\n",
       "        vertical-align: top;\n",
       "    }\n",
       "</style>\n",
       "<table border=\"1\" class=\"dataframe\">\n",
       "  <thead>\n",
       "    <tr style=\"text-align: right;\">\n",
       "      <th></th>\n",
       "      <th>0</th>\n",
       "      <th>1</th>\n",
       "      <th>2</th>\n",
       "      <th>3</th>\n",
       "      <th>4</th>\n",
       "      <th>5</th>\n",
       "      <th>6</th>\n",
       "      <th>7</th>\n",
       "      <th>8</th>\n",
       "      <th>9</th>\n",
       "      <th>10</th>\n",
       "      <th>11</th>\n",
       "      <th>12</th>\n",
       "    </tr>\n",
       "  </thead>\n",
       "  <tbody>\n",
       "    <tr>\n",
       "      <th>0</th>\n",
       "      <td>0.280306</td>\n",
       "      <td>0.000000</td>\n",
       "      <td>0.000000</td>\n",
       "      <td>-0.027947</td>\n",
       "      <td>0.0</td>\n",
       "      <td>0.0</td>\n",
       "      <td>0.710120</td>\n",
       "      <td>0.0</td>\n",
       "      <td>0.0</td>\n",
       "      <td>0.000000</td>\n",
       "      <td>0.000000</td>\n",
       "      <td>0.000000</td>\n",
       "      <td>1.236261</td>\n",
       "    </tr>\n",
       "    <tr>\n",
       "      <th>1</th>\n",
       "      <td>-0.644045</td>\n",
       "      <td>-0.068789</td>\n",
       "      <td>-0.057221</td>\n",
       "      <td>0.000000</td>\n",
       "      <td>0.0</td>\n",
       "      <td>0.0</td>\n",
       "      <td>0.000000</td>\n",
       "      <td>0.0</td>\n",
       "      <td>0.0</td>\n",
       "      <td>-0.926666</td>\n",
       "      <td>0.060233</td>\n",
       "      <td>0.000000</td>\n",
       "      <td>-0.371003</td>\n",
       "    </tr>\n",
       "    <tr>\n",
       "      <th>2</th>\n",
       "      <td>0.000000</td>\n",
       "      <td>0.061556</td>\n",
       "      <td>0.000000</td>\n",
       "      <td>0.000000</td>\n",
       "      <td>0.0</td>\n",
       "      <td>0.0</td>\n",
       "      <td>-0.635657</td>\n",
       "      <td>0.0</td>\n",
       "      <td>0.0</td>\n",
       "      <td>0.498010</td>\n",
       "      <td>-0.358128</td>\n",
       "      <td>-0.571625</td>\n",
       "      <td>0.000000</td>\n",
       "    </tr>\n",
       "  </tbody>\n",
       "</table>\n",
       "</div>"
      ],
      "text/plain": [
       "         0         1         2         3    4    5         6    7    8   \\\n",
       "0  0.280306  0.000000  0.000000 -0.027947  0.0  0.0  0.710120  0.0  0.0   \n",
       "1 -0.644045 -0.068789 -0.057221  0.000000  0.0  0.0  0.000000  0.0  0.0   \n",
       "2  0.000000  0.061556  0.000000  0.000000  0.0  0.0 -0.635657  0.0  0.0   \n",
       "\n",
       "         9         10        11        12  \n",
       "0  0.000000  0.000000  0.000000  1.236261  \n",
       "1 -0.926666  0.060233  0.000000 -0.371003  \n",
       "2  0.498010 -0.358128 -0.571625  0.000000  "
      ]
     },
     "execution_count": 11,
     "metadata": {},
     "output_type": "execute_result"
    }
   ],
   "source": [
    "# sparseな解の確認\n",
    "pd.DataFrame(lr.coef_) # 見やすさのためDataFrameに変換\n",
    "# jupyter notebook で実行してください。"
   ]
  },
  {
   "cell_type": "code",
   "execution_count": 12,
   "metadata": {},
   "outputs": [
    {
     "data": {
      "text/html": [
       "<div>\n",
       "<style>\n",
       "    .dataframe thead tr:only-child th {\n",
       "        text-align: right;\n",
       "    }\n",
       "\n",
       "    .dataframe thead th {\n",
       "        text-align: left;\n",
       "    }\n",
       "\n",
       "    .dataframe tbody tr th {\n",
       "        vertical-align: top;\n",
       "    }\n",
       "</style>\n",
       "<table border=\"1\" class=\"dataframe\">\n",
       "  <thead>\n",
       "    <tr style=\"text-align: right;\">\n",
       "      <th></th>\n",
       "      <th>0</th>\n",
       "      <th>1</th>\n",
       "      <th>2</th>\n",
       "      <th>3</th>\n",
       "      <th>4</th>\n",
       "      <th>5</th>\n",
       "      <th>6</th>\n",
       "      <th>7</th>\n",
       "      <th>8</th>\n",
       "      <th>9</th>\n",
       "      <th>10</th>\n",
       "      <th>11</th>\n",
       "      <th>12</th>\n",
       "    </tr>\n",
       "  </thead>\n",
       "  <tbody>\n",
       "    <tr>\n",
       "      <th>count</th>\n",
       "      <td>3.000000</td>\n",
       "      <td>3.000000</td>\n",
       "      <td>3.000000</td>\n",
       "      <td>3.000000</td>\n",
       "      <td>3.0</td>\n",
       "      <td>3.0</td>\n",
       "      <td>3.000000</td>\n",
       "      <td>3.0</td>\n",
       "      <td>3.0</td>\n",
       "      <td>3.000000</td>\n",
       "      <td>3.000000</td>\n",
       "      <td>3.000000</td>\n",
       "      <td>3.000000</td>\n",
       "    </tr>\n",
       "    <tr>\n",
       "      <th>mean</th>\n",
       "      <td>-0.121246</td>\n",
       "      <td>-0.002411</td>\n",
       "      <td>-0.019074</td>\n",
       "      <td>-0.009316</td>\n",
       "      <td>0.0</td>\n",
       "      <td>0.0</td>\n",
       "      <td>0.024821</td>\n",
       "      <td>0.0</td>\n",
       "      <td>0.0</td>\n",
       "      <td>-0.142886</td>\n",
       "      <td>-0.099298</td>\n",
       "      <td>-0.190542</td>\n",
       "      <td>0.288419</td>\n",
       "    </tr>\n",
       "    <tr>\n",
       "      <th>std</th>\n",
       "      <td>0.473953</td>\n",
       "      <td>0.065206</td>\n",
       "      <td>0.033037</td>\n",
       "      <td>0.016135</td>\n",
       "      <td>0.0</td>\n",
       "      <td>0.0</td>\n",
       "      <td>0.673232</td>\n",
       "      <td>0.0</td>\n",
       "      <td>0.0</td>\n",
       "      <td>0.723006</td>\n",
       "      <td>0.226167</td>\n",
       "      <td>0.330028</td>\n",
       "      <td>0.841554</td>\n",
       "    </tr>\n",
       "    <tr>\n",
       "      <th>min</th>\n",
       "      <td>-0.644045</td>\n",
       "      <td>-0.068789</td>\n",
       "      <td>-0.057221</td>\n",
       "      <td>-0.027947</td>\n",
       "      <td>0.0</td>\n",
       "      <td>0.0</td>\n",
       "      <td>-0.635657</td>\n",
       "      <td>0.0</td>\n",
       "      <td>0.0</td>\n",
       "      <td>-0.926666</td>\n",
       "      <td>-0.358128</td>\n",
       "      <td>-0.571625</td>\n",
       "      <td>-0.371003</td>\n",
       "    </tr>\n",
       "    <tr>\n",
       "      <th>25%</th>\n",
       "      <td>-0.322022</td>\n",
       "      <td>-0.034394</td>\n",
       "      <td>-0.028611</td>\n",
       "      <td>-0.013973</td>\n",
       "      <td>0.0</td>\n",
       "      <td>0.0</td>\n",
       "      <td>-0.317829</td>\n",
       "      <td>0.0</td>\n",
       "      <td>0.0</td>\n",
       "      <td>-0.463333</td>\n",
       "      <td>-0.179064</td>\n",
       "      <td>-0.285813</td>\n",
       "      <td>-0.185502</td>\n",
       "    </tr>\n",
       "    <tr>\n",
       "      <th>50%</th>\n",
       "      <td>0.000000</td>\n",
       "      <td>0.000000</td>\n",
       "      <td>0.000000</td>\n",
       "      <td>0.000000</td>\n",
       "      <td>0.0</td>\n",
       "      <td>0.0</td>\n",
       "      <td>0.000000</td>\n",
       "      <td>0.0</td>\n",
       "      <td>0.0</td>\n",
       "      <td>0.000000</td>\n",
       "      <td>0.000000</td>\n",
       "      <td>0.000000</td>\n",
       "      <td>0.000000</td>\n",
       "    </tr>\n",
       "    <tr>\n",
       "      <th>75%</th>\n",
       "      <td>0.140153</td>\n",
       "      <td>0.030778</td>\n",
       "      <td>0.000000</td>\n",
       "      <td>0.000000</td>\n",
       "      <td>0.0</td>\n",
       "      <td>0.0</td>\n",
       "      <td>0.355060</td>\n",
       "      <td>0.0</td>\n",
       "      <td>0.0</td>\n",
       "      <td>0.249005</td>\n",
       "      <td>0.030117</td>\n",
       "      <td>0.000000</td>\n",
       "      <td>0.618130</td>\n",
       "    </tr>\n",
       "    <tr>\n",
       "      <th>max</th>\n",
       "      <td>0.280306</td>\n",
       "      <td>0.061556</td>\n",
       "      <td>0.000000</td>\n",
       "      <td>0.000000</td>\n",
       "      <td>0.0</td>\n",
       "      <td>0.0</td>\n",
       "      <td>0.710120</td>\n",
       "      <td>0.0</td>\n",
       "      <td>0.0</td>\n",
       "      <td>0.498010</td>\n",
       "      <td>0.060233</td>\n",
       "      <td>0.000000</td>\n",
       "      <td>1.236261</td>\n",
       "    </tr>\n",
       "  </tbody>\n",
       "</table>\n",
       "</div>"
      ],
      "text/plain": [
       "             0         1         2         3    4    5         6    7    8   \\\n",
       "count  3.000000  3.000000  3.000000  3.000000  3.0  3.0  3.000000  3.0  3.0   \n",
       "mean  -0.121246 -0.002411 -0.019074 -0.009316  0.0  0.0  0.024821  0.0  0.0   \n",
       "std    0.473953  0.065206  0.033037  0.016135  0.0  0.0  0.673232  0.0  0.0   \n",
       "min   -0.644045 -0.068789 -0.057221 -0.027947  0.0  0.0 -0.635657  0.0  0.0   \n",
       "25%   -0.322022 -0.034394 -0.028611 -0.013973  0.0  0.0 -0.317829  0.0  0.0   \n",
       "50%    0.000000  0.000000  0.000000  0.000000  0.0  0.0  0.000000  0.0  0.0   \n",
       "75%    0.140153  0.030778  0.000000  0.000000  0.0  0.0  0.355060  0.0  0.0   \n",
       "max    0.280306  0.061556  0.000000  0.000000  0.0  0.0  0.710120  0.0  0.0   \n",
       "\n",
       "             9         10        11        12  \n",
       "count  3.000000  3.000000  3.000000  3.000000  \n",
       "mean  -0.142886 -0.099298 -0.190542  0.288419  \n",
       "std    0.723006  0.226167  0.330028  0.841554  \n",
       "min   -0.926666 -0.358128 -0.571625 -0.371003  \n",
       "25%   -0.463333 -0.179064 -0.285813 -0.185502  \n",
       "50%    0.000000  0.000000  0.000000  0.000000  \n",
       "75%    0.249005  0.030117  0.000000  0.618130  \n",
       "max    0.498010  0.060233  0.000000  1.236261  "
      ]
     },
     "execution_count": 12,
     "metadata": {},
     "output_type": "execute_result"
    }
   ],
   "source": [
    "pd.DataFrame(lr.coef_).describe()"
   ]
  },
  {
   "cell_type": "markdown",
   "metadata": {},
   "source": [
    "#### regularization parameter C を変えると sparsity がどう変わるのか、見てみましょう。\n",
    "sparsityとは、sparse性のことです。"
   ]
  },
  {
   "cell_type": "code",
   "execution_count": 14,
   "metadata": {},
   "outputs": [
    {
     "data": {
      "image/png": "[encoded data removed]",
      "text/plain": [
       "<matplotlib.figure.Figure at 0x103f6ebe0>"
      ]
     },
     "metadata": {},
     "output_type": "display_data"
    }
   ],
   "source": [
    "import numpy as np\n",
    "import matplotlib.pyplot as plt\n",
    "%matplotlib inline\n",
    "\n",
    "\n",
    "weights, params = [], []\n",
    "\n",
    "for c in np.arange(-4.0, 6.0):\n",
    "    lr = LogisticRegression(penalty='l1', C=10**c, random_state=0)\n",
    "    lr.fit(X_train_std, y_train)\n",
    "    weights.append(lr.coef_[1])\n",
    "    params.append(10**c)\n",
    "\n",
    "w_abs = np.abs(weights)\n",
    "\n",
    "plt.figure(figsize=(10,5))\n",
    "\n",
    "feat_labels = df_wine.columns[1:]\n",
    "# 平均を大きい順にしたときのindex\n",
    "indices = np.argsort(np.mean(w_abs, axis=0))[::-1]\n",
    "\n",
    "for i in indices:\n",
    "    plt.plot(params, w_abs[:, i], label=feat_labels[i])\n",
    "\n",
    "plt.axhline(0, color='black', linestyle='--', linewidth=1)\n",
    "plt.xlim([10**(-5), 10**5])\n",
    "plt.ylabel('absolute value of w_i')\n",
    "plt.xlabel('regularization parameter C')\n",
    "plt.xscale('log')\n",
    "plt.legend()\n",
    "plt.show()"
   ]
  },
  {
   "cell_type": "markdown",
   "metadata": {},
   "source": [
    "- Cが小さくなる = 正則化効果が大きくなる ほど、sparsity は強くなる\n",
    "- 各成分の絶対値（Fig3の縦軸）に対し、任意の閾値を設けることにより、feature selection を行います。\n",
    "絶対値が大きいほど、重要な特徴量なのでした。"
   ]
  },
  {
   "cell_type": "markdown",
   "metadata": {},
   "source": [
    "### Randome Forest"
   ]
  },
  {
   "cell_type": "code",
   "execution_count": 15,
   "metadata": {},
   "outputs": [
    {
     "data": {
      "text/plain": [
       "RandomForestClassifier(bootstrap=True, class_weight=None, criterion='gini',\n",
       "            max_depth=None, max_features='auto', max_leaf_nodes=None,\n",
       "            min_impurity_decrease=0.0, min_impurity_split=None,\n",
       "            min_samples_leaf=1, min_samples_split=2,\n",
       "            min_weight_fraction_leaf=0.0, n_estimators=10000, n_jobs=1,\n",
       "            oob_score=False, random_state=0, verbose=0, warm_start=False)"
      ]
     },
     "execution_count": 15,
     "metadata": {},
     "output_type": "execute_result"
    }
   ],
   "source": [
    "# Random Forest\n",
    "from sklearn.ensemble import RandomForestClassifier\n",
    "\n",
    "forest = RandomForestClassifier(n_estimators=10000, random_state=0, n_jobs=1)\n",
    "# tree, forestは、standardization 不要\n",
    "forest.fit(X_train, y_train)"
   ]
  },
  {
   "cell_type": "code",
   "execution_count": 16,
   "metadata": {},
   "outputs": [
    {
     "data": {
      "text/plain": [
       "array([ 0.10658906,  0.02539968,  0.01391619,  0.03203319,  0.02207807,\n",
       "        0.0607176 ,  0.15094795,  0.01464516,  0.02235112,  0.18248262,\n",
       "        0.07824279,  0.1319868 ,  0.15860977])"
      ]
     },
     "execution_count": 16,
     "metadata": {},
     "output_type": "execute_result"
    }
   ],
   "source": [
    "forest.feature_importances_"
   ]
  },
  {
   "cell_type": "code",
   "execution_count": 17,
   "metadata": {},
   "outputs": [
    {
     "data": {
      "image/png": "[encoded data removed]",
      "text/plain": [
       "<matplotlib.figure.Figure at 0x10913f048>"
      ]
     },
     "metadata": {},
     "output_type": "display_data"
    }
   ],
   "source": [
    "importances = forest.feature_importances_\n",
    "# 大きい順にしたときのindexたち\n",
    "indices = np.argsort(importances)[::-1]\n",
    "\n",
    "plt.figure(figsize=(10,6))\n",
    "plt.bar(range(X_train.shape[1]), importances[indices])\n",
    "plt.xticks(range(X_train.shape[1]), feat_labels[indices], rotation=90)\n",
    "plt.tight_layout()\n",
    "plt.show()"
   ]
  },
  {
   "cell_type": "markdown",
   "metadata": {},
   "source": [
    "### Feature Seleciton まとめ\n",
    "- feature selection\n",
    " - 特徴量を選択することにより、次元を減らす\n",
    " - 目的\n",
    "  - over-fitting回避\n",
    "  - 計算量削減\n",
    "- 不要な特徴量\n",
    " - irrelevant feature\n",
    " - redundant feature\n",
    "- filter\n",
    " - 評価指標: 1つの特徴量　に対し計算できる、簡単な数値\n",
    "  - e.g. 分散\n",
    " - 計算コスト: 少\n",
    " - 効果: 小\n",
    " - 削れる特徴量: irrelevantはよく削れる\n",
    " - 学んだ手法・ライブラリ\n",
    "  - VarianceThreshold\n",
    "  - SelectKBest\n",
    " - その他\n",
    "  - wrapperの前処理として使う\n",
    "- wrapper\n",
    " - 評価指標: 特徴量の組み合わせ　に対する、モデルのvalidation performance\n",
    "  - e.g LogisticRegression, SVMのaccuracy\n",
    " - 計算コスト: 大\n",
    " - 効果: 大\n",
    " - 削れる特徴量: redundantも\n",
    " - 学んだ手法・ライブラリ\n",
    "  - RFE(全探索)\n",
    "  - SBS(greedy backward search)\n",
    " - その他\n",
    "  - 効率のいい探索アルゴリズム\n",
    "  - データが少ないとover-fittingしやすい\n",
    "- embedded\n",
    "  - 評価指標: model内の評価指標\n",
    "   - L1: 解の各成分の絶対値\n",
    "   - random forest: information gain\n",
    "  - 計算コスト: 中\n",
    "  - 効果: 中\n",
    "  - 学んだ手法・ライブラリ\n",
    "   - L1 normalization\n",
    "   - RandomForest"
   ]
  },
  {
   "cell_type": "code",
   "execution_count": null,
   "metadata": {},
   "outputs": [],
   "source": []
  }
 ],
 "metadata": {
  "kernelspec": {
   "display_name": "Python 3",
   "language": "python",
   "name": "python3"
  },
  "language_info": {
   "codemirror_mode": {
    "name": "ipython",
    "version": 3
   },
   "file_extension": ".py",
   "mimetype": "text/x-python",
   "name": "python",
   "nbconvert_exporter": "python",
   "pygments_lexer": "ipython3",
   "version": "3.6.2"
  }
 },
 "nbformat": 4,
 "nbformat_minor": 2
}
