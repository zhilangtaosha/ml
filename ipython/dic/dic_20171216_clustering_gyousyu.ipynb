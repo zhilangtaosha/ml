{
 "cells": [
  {
   "cell_type": "markdown",
   "metadata": {},
   "source": [
    "# 凝集型"
   ]
  },
  {
   "cell_type": "code",
   "execution_count": 1,
   "metadata": {},
   "outputs": [
    {
     "data": {
      "image/png": "[encoded data removed]",
      "text/plain": [
       "<matplotlib.figure.Figure at 0x109061390>"
      ]
     },
     "metadata": {},
     "output_type": "display_data"
    }
   ],
   "source": [
    "import pandas as pd\n",
    "import numpy as np\n",
    "import matplotlib.pyplot as plt\n",
    "variables = ['X', 'Y']\n",
    "name = ['a', 'b', 'c', 'd', 'e', 'f', 'g']\n",
    "X = np.array(([1,4.5],[2,3.9],[1.5,3],[4,4.2],[6,5],[5.2,3],[5.8,2.3]))\n",
    "df = pd.DataFrame(X, columns=variables, index=name)\n",
    "fig, ax = plt.subplots()\n",
    "df.plot(0,1,kind='scatter',ax=ax)\n",
    "for k, v in df.iterrows():\n",
    "    ax.annotate(k,xy=(v[0],v[1]),size=20)\n",
    "plt.grid()\n",
    "plt.show()"
   ]
  },
  {
   "cell_type": "code",
   "execution_count": 2,
   "metadata": {},
   "outputs": [
    {
     "name": "stdout",
     "output_type": "stream",
     "text": [
      "          a         b         c         d         e         f         g\n",
      "a  0.000000  1.166190  1.581139  3.014963  5.024938  4.459821  5.280152\n",
      "b  1.166190  0.000000  1.029563  2.022375  4.148494  3.324154  4.123106\n",
      "c  1.581139  1.029563  0.000000  2.773085  4.924429  3.700000  4.356604\n",
      "d  3.014963  2.022375  2.773085  0.000000  2.154066  1.697056  2.617250\n",
      "e  5.024938  4.148494  4.924429  2.154066  0.000000  2.154066  2.707397\n",
      "f  4.459821  3.324154  3.700000  1.697056  2.154066  0.000000  0.921954\n",
      "g  5.280152  4.123106  4.356604  2.617250  2.707397  0.921954  0.000000\n"
     ]
    }
   ],
   "source": [
    "from scipy.spatial.distance import pdist, squareform\n",
    "row_dist = pd.DataFrame(squareform(pdist(df, metric='euclidean')), columns=name, index=name)\n",
    "print(row_dist)"
   ]
  },
  {
   "cell_type": "markdown",
   "metadata": {},
   "source": [
    "例えばfとgは0.921954で、この中で一番小さい値なので、最初にクラスタリングします。"
   ]
  },
  {
   "cell_type": "markdown",
   "metadata": {},
   "source": [
    "## 樹状図"
   ]
  },
  {
   "cell_type": "code",
   "execution_count": 3,
   "metadata": {},
   "outputs": [
    {
     "data": {
      "image/png": "[encoded data removed]",
      "text/plain": [
       "<matplotlib.figure.Figure at 0x10cab2cc0>"
      ]
     },
     "metadata": {},
     "output_type": "display_data"
    }
   ],
   "source": [
    "from scipy.spatial.distance import pdist, squareform\n",
    "from scipy.cluster.hierarchy import linkage\n",
    "from scipy.cluster.hierarchy import dendrogram\n",
    "row_clusters = linkage(pdist(df, metric='euclidean'), method='complete')\n",
    "row_dender = dendrogram(row_clusters, labels=name)\n",
    "plt.show()"
   ]
  },
  {
   "cell_type": "code",
   "execution_count": 4,
   "metadata": {},
   "outputs": [
    {
     "name": "stdout",
     "output_type": "stream",
     "text": [
      "Cluster labels:['a', 'b', 'c', 'd', 'e', 'f', 'g']\n"
     ]
    }
   ],
   "source": [
    "from sklearn.cluster import AgglomerativeClustering\n",
    "complete = AgglomerativeClustering(n_clusters=2, affinity='euclidean', linkage='complete')\n",
    "y_complete = complete.fit_predict(X)\n",
    "print('Cluster labels:'+str(name))"
   ]
  },
  {
   "cell_type": "code",
   "execution_count": 5,
   "metadata": {},
   "outputs": [
    {
     "data": {
      "image/png": "[encoded data removed]",
      "text/plain": [
       "<matplotlib.figure.Figure at 0x10dfd4518>"
      ]
     },
     "metadata": {},
     "output_type": "display_data"
    }
   ],
   "source": [
    "fig, ax = plt.subplots()\n",
    "plt.title('complete linkage method')\n",
    "df.plot(0,1,kind='scatter',ax=ax, c=y_complete, cmap=plt.cm.rainbow)\n",
    "for k, v in df.iterrows():\n",
    "    ax.annotate(k,xy=(v[0],v[1]),size=20)\n",
    "plt.grid()\n",
    "plt.show()"
   ]
  },
  {
   "cell_type": "code",
   "execution_count": null,
   "metadata": {},
   "outputs": [],
   "source": []
  }
 ],
 "metadata": {
  "kernelspec": {
   "display_name": "Python 3",
   "language": "python",
   "name": "python3"
  },
  "language_info": {
   "codemirror_mode": {
    "name": "ipython",
    "version": 3
   },
   "file_extension": ".py",
   "mimetype": "text/x-python",
   "name": "python",
   "nbconvert_exporter": "python",
   "pygments_lexer": "ipython3",
   "version": "3.6.2"
  }
 },
 "nbformat": 4,
 "nbformat_minor": 2
}
