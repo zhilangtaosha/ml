{
 "cells": [
  {
   "cell_type": "markdown",
   "metadata": {},
   "source": [
    "#### L1 正則化の利点は？\n",
    "\n",
    "L1 normalization を用いたmodelを学習させると、paramter の最適解として、疎 sparseな解が得られます。\n",
    "sparseとは、具体的に\n",
    "\n",
    "```\n",
    "w=(0,5,0,0,2,0,...,0)\n",
    "```\n",
    "\n",
    "のように、成分のほとんどが0であるベクトルや行列の状態を表します。\n",
    "\n",
    "L1 normalization をして0となる成分が、irrelevant feature にあたります。\n",
    "\n",
    "L1 normalization の使い時は、無関係な次元の数　＞　サンプル数となる場合です。使って、特徴量を減らしましょう。"
   ]
  },
  {
   "cell_type": "code",
   "execution_count": 2,
   "metadata": {},
   "outputs": [],
   "source": [
    "# wineのデータの読み込み\n",
    "import pandas as pd\n",
    "from sklearn.model_selection import train_test_split\n",
    "\n",
    "df_wine = pd.read_csv('https://archive.ics.uci.edu/ml/machine-learning-databases/wine/wine.data', header=None)\n",
    "df_wine.columns = ['Class label', 'Alcohol', 'Malic acid', 'Ash',\n",
    "                   'Alcalinity of ash', 'Magnesium', 'Total phenols',\n",
    "                   'Flavanoids', 'Nonflavanoid phenols', 'Proanthocyanins',\n",
    "                   'Color intensity', 'Hue', 'OD280/OD315 of diluted wines',\n",
    "                   'Proline']\n",
    "X, y = df_wine.iloc[:, 1:].values, df_wine.iloc[:, 0].values\n",
    "\n",
    "# train/test split\n",
    "X_train, X_test, y_train, y_test = train_test_split(X, y, test_size=0.3, random_state=0)\n",
    "\n",
    "# Feature scaling\n",
    "from sklearn.preprocessing import StandardScaler\n",
    "\n",
    "sc = StandardScaler()\n",
    "sc.fit(X_train)\n",
    "X_train_std = sc.transform(X_train)\n",
    "X_test_std = sc.transform(X_test)"
   ]
  },
  {
   "cell_type": "markdown",
   "metadata": {},
   "source": [
    "#### L1正則化したロジスティック回帰を学習させます。"
   ]
  },
  {
   "cell_type": "code",
   "execution_count": 3,
   "metadata": {},
   "outputs": [
    {
     "name": "stdout",
     "output_type": "stream",
     "text": [
      "train acc 0.983870967742\n",
      "test acc 0.981481481481\n"
     ]
    }
   ],
   "source": [
    "from sklearn.linear_model import LogisticRegression\n",
    "lr = LogisticRegression(penalty='l1', C=0.1)\n",
    "lr.fit(X_train_std, y_train)\n",
    "\n",
    "print('train acc', lr.score(X_train_std, y_train))\n",
    "print('test acc', lr.score(X_test_std, y_test))"
   ]
  },
  {
   "cell_type": "markdown",
   "metadata": {},
   "source": [
    "train, testの精度ともに高く、離れていないことから、L1正則化により、over-fittingが回避できていることがわかります。"
   ]
  },
  {
   "cell_type": "code",
   "execution_count": 4,
   "metadata": {},
   "outputs": [
    {
     "data": {
      "text/html": [
       "<div>\n",
       "<style>\n",
       "    .dataframe thead tr:only-child th {\n",
       "        text-align: right;\n",
       "    }\n",
       "\n",
       "    .dataframe thead th {\n",
       "        text-align: left;\n",
       "    }\n",
       "\n",
       "    .dataframe tbody tr th {\n",
       "        vertical-align: top;\n",
       "    }\n",
       "</style>\n",
       "<table border=\"1\" class=\"dataframe\">\n",
       "  <thead>\n",
       "    <tr style=\"text-align: right;\">\n",
       "      <th></th>\n",
       "      <th>0</th>\n",
       "      <th>1</th>\n",
       "      <th>2</th>\n",
       "      <th>3</th>\n",
       "      <th>4</th>\n",
       "      <th>5</th>\n",
       "      <th>6</th>\n",
       "      <th>7</th>\n",
       "      <th>8</th>\n",
       "      <th>9</th>\n",
       "      <th>10</th>\n",
       "      <th>11</th>\n",
       "      <th>12</th>\n",
       "    </tr>\n",
       "  </thead>\n",
       "  <tbody>\n",
       "    <tr>\n",
       "      <th>0</th>\n",
       "      <td>0.279961</td>\n",
       "      <td>0.000000</td>\n",
       "      <td>0.000000</td>\n",
       "      <td>-0.027974</td>\n",
       "      <td>0.0</td>\n",
       "      <td>0.0</td>\n",
       "      <td>0.709905</td>\n",
       "      <td>0.0</td>\n",
       "      <td>0.0</td>\n",
       "      <td>0.000000</td>\n",
       "      <td>0.000000</td>\n",
       "      <td>0.00000</td>\n",
       "      <td>1.236894</td>\n",
       "    </tr>\n",
       "    <tr>\n",
       "      <th>1</th>\n",
       "      <td>-0.644029</td>\n",
       "      <td>-0.068817</td>\n",
       "      <td>-0.057187</td>\n",
       "      <td>0.000000</td>\n",
       "      <td>0.0</td>\n",
       "      <td>0.0</td>\n",
       "      <td>0.000000</td>\n",
       "      <td>0.0</td>\n",
       "      <td>0.0</td>\n",
       "      <td>-0.926648</td>\n",
       "      <td>0.060215</td>\n",
       "      <td>0.00000</td>\n",
       "      <td>-0.371045</td>\n",
       "    </tr>\n",
       "    <tr>\n",
       "      <th>2</th>\n",
       "      <td>0.000000</td>\n",
       "      <td>0.061469</td>\n",
       "      <td>0.000000</td>\n",
       "      <td>0.000000</td>\n",
       "      <td>0.0</td>\n",
       "      <td>0.0</td>\n",
       "      <td>-0.637013</td>\n",
       "      <td>0.0</td>\n",
       "      <td>0.0</td>\n",
       "      <td>0.498548</td>\n",
       "      <td>-0.358139</td>\n",
       "      <td>-0.57013</td>\n",
       "      <td>0.000000</td>\n",
       "    </tr>\n",
       "  </tbody>\n",
       "</table>\n",
       "</div>"
      ],
      "text/plain": [
       "         0         1         2         3    4    5         6    7    8   \\\n",
       "0  0.279961  0.000000  0.000000 -0.027974  0.0  0.0  0.709905  0.0  0.0   \n",
       "1 -0.644029 -0.068817 -0.057187  0.000000  0.0  0.0  0.000000  0.0  0.0   \n",
       "2  0.000000  0.061469  0.000000  0.000000  0.0  0.0 -0.637013  0.0  0.0   \n",
       "\n",
       "         9         10       11        12  \n",
       "0  0.000000  0.000000  0.00000  1.236894  \n",
       "1 -0.926648  0.060215  0.00000 -0.371045  \n",
       "2  0.498548 -0.358139 -0.57013  0.000000  "
      ]
     },
     "execution_count": 4,
     "metadata": {},
     "output_type": "execute_result"
    }
   ],
   "source": [
    "# sparseな解の確認\n",
    "pd.DataFrame(lr.coef_) # 見やすさのためDataFrameに変換\n",
    "# jupyter notebook で実行してください。"
   ]
  },
  {
   "cell_type": "code",
   "execution_count": 6,
   "metadata": {},
   "outputs": [
    {
     "data": {
      "text/html": [
       "<div>\n",
       "<style>\n",
       "    .dataframe thead tr:only-child th {\n",
       "        text-align: right;\n",
       "    }\n",
       "\n",
       "    .dataframe thead th {\n",
       "        text-align: left;\n",
       "    }\n",
       "\n",
       "    .dataframe tbody tr th {\n",
       "        vertical-align: top;\n",
       "    }\n",
       "</style>\n",
       "<table border=\"1\" class=\"dataframe\">\n",
       "  <thead>\n",
       "    <tr style=\"text-align: right;\">\n",
       "      <th></th>\n",
       "      <th>0</th>\n",
       "      <th>1</th>\n",
       "      <th>2</th>\n",
       "      <th>3</th>\n",
       "      <th>4</th>\n",
       "      <th>5</th>\n",
       "      <th>6</th>\n",
       "      <th>7</th>\n",
       "      <th>8</th>\n",
       "      <th>9</th>\n",
       "      <th>10</th>\n",
       "      <th>11</th>\n",
       "      <th>12</th>\n",
       "    </tr>\n",
       "  </thead>\n",
       "  <tbody>\n",
       "    <tr>\n",
       "      <th>count</th>\n",
       "      <td>3.000000</td>\n",
       "      <td>3.000000</td>\n",
       "      <td>3.000000</td>\n",
       "      <td>3.000000</td>\n",
       "      <td>3.0</td>\n",
       "      <td>3.0</td>\n",
       "      <td>3.000000</td>\n",
       "      <td>3.0</td>\n",
       "      <td>3.0</td>\n",
       "      <td>3.000000</td>\n",
       "      <td>3.000000</td>\n",
       "      <td>3.000000</td>\n",
       "      <td>3.000000</td>\n",
       "    </tr>\n",
       "    <tr>\n",
       "      <th>mean</th>\n",
       "      <td>-0.121356</td>\n",
       "      <td>-0.002449</td>\n",
       "      <td>-0.019062</td>\n",
       "      <td>-0.009325</td>\n",
       "      <td>0.0</td>\n",
       "      <td>0.0</td>\n",
       "      <td>0.024297</td>\n",
       "      <td>0.0</td>\n",
       "      <td>0.0</td>\n",
       "      <td>-0.142700</td>\n",
       "      <td>-0.099308</td>\n",
       "      <td>-0.190043</td>\n",
       "      <td>0.288616</td>\n",
       "    </tr>\n",
       "    <tr>\n",
       "      <th>std</th>\n",
       "      <td>0.473798</td>\n",
       "      <td>0.065178</td>\n",
       "      <td>0.033017</td>\n",
       "      <td>0.016151</td>\n",
       "      <td>0.0</td>\n",
       "      <td>0.0</td>\n",
       "      <td>0.673788</td>\n",
       "      <td>0.0</td>\n",
       "      <td>0.0</td>\n",
       "      <td>0.723234</td>\n",
       "      <td>0.226167</td>\n",
       "      <td>0.329165</td>\n",
       "      <td>0.841927</td>\n",
       "    </tr>\n",
       "    <tr>\n",
       "      <th>min</th>\n",
       "      <td>-0.644029</td>\n",
       "      <td>-0.068817</td>\n",
       "      <td>-0.057187</td>\n",
       "      <td>-0.027974</td>\n",
       "      <td>0.0</td>\n",
       "      <td>0.0</td>\n",
       "      <td>-0.637013</td>\n",
       "      <td>0.0</td>\n",
       "      <td>0.0</td>\n",
       "      <td>-0.926648</td>\n",
       "      <td>-0.358139</td>\n",
       "      <td>-0.570130</td>\n",
       "      <td>-0.371045</td>\n",
       "    </tr>\n",
       "    <tr>\n",
       "      <th>25%</th>\n",
       "      <td>-0.322015</td>\n",
       "      <td>-0.034409</td>\n",
       "      <td>-0.028594</td>\n",
       "      <td>-0.013987</td>\n",
       "      <td>0.0</td>\n",
       "      <td>0.0</td>\n",
       "      <td>-0.318507</td>\n",
       "      <td>0.0</td>\n",
       "      <td>0.0</td>\n",
       "      <td>-0.463324</td>\n",
       "      <td>-0.179070</td>\n",
       "      <td>-0.285065</td>\n",
       "      <td>-0.185523</td>\n",
       "    </tr>\n",
       "    <tr>\n",
       "      <th>50%</th>\n",
       "      <td>0.000000</td>\n",
       "      <td>0.000000</td>\n",
       "      <td>0.000000</td>\n",
       "      <td>0.000000</td>\n",
       "      <td>0.0</td>\n",
       "      <td>0.0</td>\n",
       "      <td>0.000000</td>\n",
       "      <td>0.0</td>\n",
       "      <td>0.0</td>\n",
       "      <td>0.000000</td>\n",
       "      <td>0.000000</td>\n",
       "      <td>0.000000</td>\n",
       "      <td>0.000000</td>\n",
       "    </tr>\n",
       "    <tr>\n",
       "      <th>75%</th>\n",
       "      <td>0.139980</td>\n",
       "      <td>0.030735</td>\n",
       "      <td>0.000000</td>\n",
       "      <td>0.000000</td>\n",
       "      <td>0.0</td>\n",
       "      <td>0.0</td>\n",
       "      <td>0.354953</td>\n",
       "      <td>0.0</td>\n",
       "      <td>0.0</td>\n",
       "      <td>0.249274</td>\n",
       "      <td>0.030108</td>\n",
       "      <td>0.000000</td>\n",
       "      <td>0.618447</td>\n",
       "    </tr>\n",
       "    <tr>\n",
       "      <th>max</th>\n",
       "      <td>0.279961</td>\n",
       "      <td>0.061469</td>\n",
       "      <td>0.000000</td>\n",
       "      <td>0.000000</td>\n",
       "      <td>0.0</td>\n",
       "      <td>0.0</td>\n",
       "      <td>0.709905</td>\n",
       "      <td>0.0</td>\n",
       "      <td>0.0</td>\n",
       "      <td>0.498548</td>\n",
       "      <td>0.060215</td>\n",
       "      <td>0.000000</td>\n",
       "      <td>1.236894</td>\n",
       "    </tr>\n",
       "  </tbody>\n",
       "</table>\n",
       "</div>"
      ],
      "text/plain": [
       "             0         1         2         3    4    5         6    7    8   \\\n",
       "count  3.000000  3.000000  3.000000  3.000000  3.0  3.0  3.000000  3.0  3.0   \n",
       "mean  -0.121356 -0.002449 -0.019062 -0.009325  0.0  0.0  0.024297  0.0  0.0   \n",
       "std    0.473798  0.065178  0.033017  0.016151  0.0  0.0  0.673788  0.0  0.0   \n",
       "min   -0.644029 -0.068817 -0.057187 -0.027974  0.0  0.0 -0.637013  0.0  0.0   \n",
       "25%   -0.322015 -0.034409 -0.028594 -0.013987  0.0  0.0 -0.318507  0.0  0.0   \n",
       "50%    0.000000  0.000000  0.000000  0.000000  0.0  0.0  0.000000  0.0  0.0   \n",
       "75%    0.139980  0.030735  0.000000  0.000000  0.0  0.0  0.354953  0.0  0.0   \n",
       "max    0.279961  0.061469  0.000000  0.000000  0.0  0.0  0.709905  0.0  0.0   \n",
       "\n",
       "             9         10        11        12  \n",
       "count  3.000000  3.000000  3.000000  3.000000  \n",
       "mean  -0.142700 -0.099308 -0.190043  0.288616  \n",
       "std    0.723234  0.226167  0.329165  0.841927  \n",
       "min   -0.926648 -0.358139 -0.570130 -0.371045  \n",
       "25%   -0.463324 -0.179070 -0.285065 -0.185523  \n",
       "50%    0.000000  0.000000  0.000000  0.000000  \n",
       "75%    0.249274  0.030108  0.000000  0.618447  \n",
       "max    0.498548  0.060215  0.000000  1.236894  "
      ]
     },
     "execution_count": 6,
     "metadata": {},
     "output_type": "execute_result"
    }
   ],
   "source": [
    "pd.DataFrame(lr.coef_).describe()"
   ]
  },
  {
   "cell_type": "markdown",
   "metadata": {},
   "source": [
    "#### regularization parameter C を変えると sparsity がどう変わるのか、見てみましょう。\n",
    "sparsityとは、sparse性のことです。"
   ]
  },
  {
   "cell_type": "code",
   "execution_count": 7,
   "metadata": {},
   "outputs": [
    {
     "data": {
      "image/png": "[encoded data removed]",
      "text/plain": [
       "<matplotlib.figure.Figure at 0x115814710>"
      ]
     },
     "metadata": {},
     "output_type": "display_data"
    }
   ],
   "source": [
    "import numpy as np\n",
    "import matplotlib.pyplot as plt\n",
    "%matplotlib inline\n",
    "\n",
    "\n",
    "weights, params = [], []\n",
    "\n",
    "for c in np.arange(-4.0, 6.0):\n",
    "    lr = LogisticRegression(penalty='l1', C=10**c, random_state=0)\n",
    "    lr.fit(X_train_std, y_train)\n",
    "    weights.append(lr.coef_[1])\n",
    "    params.append(10**c)\n",
    "\n",
    "w_abs = np.abs(weights)\n",
    "\n",
    "plt.figure(figsize=(10,5))\n",
    "\n",
    "feat_labels = df_wine.columns[1:]\n",
    "# 平均を大きい順にしたときのindex\n",
    "indices = np.argsort(np.mean(w_abs, axis=0))[::-1]\n",
    "\n",
    "for i in indices:\n",
    "    plt.plot(params, w_abs[:, i], label=feat_labels[i])\n",
    "\n",
    "plt.axhline(0, color='black', linestyle='--', linewidth=1)\n",
    "plt.xlim([10**(-5), 10**5])\n",
    "plt.ylabel('absolute value of w_i')\n",
    "plt.xlabel('regularization parameter C')\n",
    "plt.xscale('log')\n",
    "plt.legend()\n",
    "plt.show()"
   ]
  },
  {
   "cell_type": "markdown",
   "metadata": {},
   "source": [
    "- Cが小さくなる = 正則化効果が大きくなる ほど、sparsity は強くなる\n",
    "- 各成分の絶対値（Fig3の縦軸）に対し、任意の閾値を設けることにより、feature selection を行います。\n",
    "絶対値が大きいほど、重要な特徴量なのでした。"
   ]
  },
  {
   "cell_type": "markdown",
   "metadata": {},
   "source": [
    "### Randome Forest"
   ]
  },
  {
   "cell_type": "code",
   "execution_count": 3,
   "metadata": {},
   "outputs": [
    {
     "data": {
      "text/plain": [
       "RandomForestClassifier(bootstrap=True, class_weight=None, criterion='gini',\n",
       "            max_depth=None, max_features='auto', max_leaf_nodes=None,\n",
       "            min_impurity_decrease=0.0, min_impurity_split=None,\n",
       "            min_samples_leaf=1, min_samples_split=2,\n",
       "            min_weight_fraction_leaf=0.0, n_estimators=10000, n_jobs=1,\n",
       "            oob_score=False, random_state=0, verbose=0, warm_start=False)"
      ]
     },
     "execution_count": 3,
     "metadata": {},
     "output_type": "execute_result"
    }
   ],
   "source": [
    "# Random Forest\n",
    "from sklearn.ensemble import RandomForestClassifier\n",
    "\n",
    "forest = RandomForestClassifier(n_estimators=10000, random_state=0, n_jobs=1)\n",
    "# tree, forestは、standardization 不要\n",
    "forest.fit(X_train, y_train)"
   ]
  },
  {
   "cell_type": "code",
   "execution_count": 4,
   "metadata": {},
   "outputs": [
    {
     "data": {
      "text/plain": [
       "array([ 0.10658906,  0.02539968,  0.01391619,  0.03203319,  0.02207807,\n",
       "        0.0607176 ,  0.15094795,  0.01464516,  0.02235112,  0.18248262,\n",
       "        0.07824279,  0.1319868 ,  0.15860977])"
      ]
     },
     "execution_count": 4,
     "metadata": {},
     "output_type": "execute_result"
    }
   ],
   "source": [
    "forest.feature_importances_"
   ]
  },
  {
   "cell_type": "code",
   "execution_count": 5,
   "metadata": {},
   "outputs": [
    {
     "ename": "NameError",
     "evalue": "name 'np' is not defined",
     "output_type": "error",
     "traceback": [
      "\u001b[0;31m---------------------------------------------------------------------------\u001b[0m",
      "\u001b[0;31mNameError\u001b[0m                                 Traceback (most recent call last)",
      "\u001b[0;32m<ipython-input-5-c2093e75ffdf>\u001b[0m in \u001b[0;36m<module>\u001b[0;34m()\u001b[0m\n\u001b[1;32m      1\u001b[0m \u001b[0mmportances\u001b[0m \u001b[0;34m=\u001b[0m \u001b[0mforest\u001b[0m\u001b[0;34m.\u001b[0m\u001b[0mfeature_importances_\u001b[0m\u001b[0;34m\u001b[0m\u001b[0m\n\u001b[1;32m      2\u001b[0m \u001b[0;31m# 大きい順にしたときのindexたち\u001b[0m\u001b[0;34m\u001b[0m\u001b[0;34m\u001b[0m\u001b[0m\n\u001b[0;32m----> 3\u001b[0;31m \u001b[0mindices\u001b[0m \u001b[0;34m=\u001b[0m \u001b[0mnp\u001b[0m\u001b[0;34m.\u001b[0m\u001b[0margsort\u001b[0m\u001b[0;34m(\u001b[0m\u001b[0mimportances\u001b[0m\u001b[0;34m)\u001b[0m\u001b[0;34m[\u001b[0m\u001b[0;34m:\u001b[0m\u001b[0;34m:\u001b[0m\u001b[0;34m-\u001b[0m\u001b[0;36m1\u001b[0m\u001b[0;34m]\u001b[0m\u001b[0;34m\u001b[0m\u001b[0m\n\u001b[0m\u001b[1;32m      4\u001b[0m \u001b[0;34m\u001b[0m\u001b[0m\n\u001b[1;32m      5\u001b[0m \u001b[0mplt\u001b[0m\u001b[0;34m.\u001b[0m\u001b[0mfigure\u001b[0m\u001b[0;34m(\u001b[0m\u001b[0mfigsize\u001b[0m\u001b[0;34m=\u001b[0m\u001b[0;34m(\u001b[0m\u001b[0;36m10\u001b[0m\u001b[0;34m,\u001b[0m\u001b[0;36m6\u001b[0m\u001b[0;34m)\u001b[0m\u001b[0;34m)\u001b[0m\u001b[0;34m\u001b[0m\u001b[0m\n",
      "\u001b[0;31mNameError\u001b[0m: name 'np' is not defined"
     ]
    }
   ],
   "source": [
    "mportances = forest.feature_importances_\n",
    "# 大きい順にしたときのindexたち\n",
    "indices = np.argsort(importances)[::-1]\n",
    "\n",
    "plt.figure(figsize=(10,6))\n",
    "plt.bar(range(X_train.shape[1]), importances[indices])\n",
    "plt.xticks(range(X_train.shape[1]), feat_labels[indices], rotation=90)\n",
    "plt.tight_layout()\n",
    "plt.show()"
   ]
  },
  {
   "cell_type": "markdown",
   "metadata": {},
   "source": [
    "### Feature Seleciton まとめ\n",
    "- feature selection\n",
    " - 特徴量を選択することにより、次元を減らす\n",
    " - 目的\n",
    "  - over-fitting回避\n",
    "  - 計算量削減\n",
    "- 不要な特徴量\n",
    " - irrelevant feature\n",
    " - redundant feature\n",
    "- filter\n",
    " - 評価指標: 1つの特徴量　に対し計算できる、簡単な数値\n",
    "  - e.g. 分散\n",
    " - 計算コスト: 少\n",
    " - 効果: 小\n",
    " - 削れる特徴量: irrelevantはよく削れる\n",
    " - 学んだ手法・ライブラリ\n",
    "  - VarianceThreshold\n",
    "  - SelectKBest\n",
    " - その他\n",
    "  - wrapperの前処理として使う\n",
    "- wrapper\n",
    " - 評価指標: 特徴量の組み合わせ　に対する、モデルのvalidation performance\n",
    "  - e.g LogisticRegression, SVMのaccuracy\n",
    " - 計算コスト: 大\n",
    " - 効果: 大\n",
    " - 削れる特徴量: redundantも\n",
    " - 学んだ手法・ライブラリ\n",
    "  - RFE(全探索)\n",
    "  - SBS(greedy backward search)\n",
    " - その他\n",
    "  - 効率のいい探索アルゴリズム\n",
    "  - データが少ないとover-fittingしやすい\n",
    "- embedded\n",
    "  - 評価指標: model内の評価指標\n",
    "   - L1: 解の各成分の絶対値\n",
    "   - random forest: information gain\n",
    "  - 計算コスト: 中\n",
    "  - 効果: 中\n",
    "  - 学んだ手法・ライブラリ\n",
    "   - L1 normalization\n",
    "   - RandomForest"
   ]
  }
 ],
 "metadata": {
  "kernelspec": {
   "display_name": "Python 3",
   "language": "python",
   "name": "python3"
  },
  "language_info": {
   "codemirror_mode": {
    "name": "ipython",
    "version": 3
   },
   "file_extension": ".py",
   "mimetype": "text/x-python",
   "name": "python",
   "nbconvert_exporter": "python",
   "pygments_lexer": "ipython3",
   "version": "3.6.2"
  }
 },
 "nbformat": 4,
 "nbformat_minor": 2
}
