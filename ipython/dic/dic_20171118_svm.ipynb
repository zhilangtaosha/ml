{
 "cells": [
  {
   "cell_type": "markdown",
   "metadata": {},
   "source": [
    "# SVM test"
   ]
  },
  {
   "cell_type": "code",
   "execution_count": 1,
   "metadata": {},
   "outputs": [
    {
     "data": {
      "image/png": "[encoded data removed]",
      "text/plain": [
       "<matplotlib.figure.Figure at 0x10f3e7a20>"
      ]
     },
     "metadata": {},
     "output_type": "display_data"
    }
   ],
   "source": [
    "import numpy as np\n",
    "import matplotlib.pyplot as plt\n",
    "X=np.zeros((10,2))\n",
    "X[0]=[1,5]\n",
    "X[1]=[1.5,4.7]\n",
    "X[2]=[1.7,3.8]\n",
    "X[3]=[1.8,5.7]\n",
    "X[4]=[2,3.3]\n",
    "X[5]=[2,0.5]\n",
    "X[6]=[2.4,1]\n",
    "X[7]=[3,0.7]\n",
    "X[8]=[3.6,0.9]\n",
    "X[9]=[3.8,0.45]\n",
    "y=np.array([0,0,0,0,0,1,1,1,1,1])\n",
    "\n",
    "plt.figure(figsize =(5,5))\n",
    "plt.scatter(X[:,0], X[:,1], c=y , marker='o', s=50)\n",
    "plt.grid()\n",
    "plt.show()"
   ]
  },
  {
   "cell_type": "code",
   "execution_count": 2,
   "metadata": {},
   "outputs": [
    {
     "data": {
      "text/plain": [
       "SVC(C=1.0, cache_size=200, class_weight=None, coef0=0.0,\n",
       "  decision_function_shape='ovr', degree=3, gamma='auto', kernel='linear',\n",
       "  max_iter=-1, probability=False, random_state=None, shrinking=True,\n",
       "  tol=0.001, verbose=False)"
      ]
     },
     "execution_count": 2,
     "metadata": {},
     "output_type": "execute_result"
    }
   ],
   "source": [
    "from sklearn.svm import SVC\n",
    "svm =SVC(kernel='linear')\n",
    "svm.fit(X, y)"
   ]
  },
  {
   "cell_type": "code",
   "execution_count": 3,
   "metadata": {},
   "outputs": [
    {
     "data": {
      "image/png": "[encoded data removed]",
      "text/plain": [
       "<matplotlib.figure.Figure at 0x114c0aeb8>"
      ]
     },
     "metadata": {},
     "output_type": "display_data"
    }
   ],
   "source": [
    "def plot_regions(X, y, classifier, resolution=0.01):\n",
    "    import matplotlib.pyplot as plt\n",
    "    from matplotlib.colors import ListedColormap\n",
    "    markers = ('s', 'x')\n",
    "    colors = ('blue', 'red')\n",
    "    cmap = ListedColormap(colors[:len(np.unique(y))])\n",
    "\n",
    "    x1_min, x1_max = X[:, 0].min() - 1, X[:, 0].max() + 1\n",
    "    x2_min, x2_max = X[:, 1].min() - 1, X[:, 1].max() + 1\n",
    "    xx1, xx2 = np.meshgrid(np.arange(x1_min, x1_max, resolution),\n",
    "                           np.arange(x2_min, x2_max, resolution))\n",
    "    Z = classifier.predict(np.array([xx1.ravel(), xx2.ravel()]).T)\n",
    "    Z = Z.reshape(xx1.shape)\n",
    "    plt.contourf(xx1, xx2, Z, alpha=0.4, cmap=cmap)\n",
    "    plt.xlim(xx1.min(), xx1.max())\n",
    "    plt.ylim(xx2.min(), xx2.max())\n",
    "\n",
    "    for idx, cl in enumerate(np.unique(y)):\n",
    "        plt.scatter(x=X[y == cl, 0], y=X[y == cl, 1],\n",
    "                    alpha=0.8, c=cmap(idx),\n",
    "                    marker=markers[idx], label=cl)\n",
    "\n",
    "\n",
    "plot_regions(X,y,classifier=svm)\n",
    "plt.show()"
   ]
  },
  {
   "cell_type": "code",
   "execution_count": 4,
   "metadata": {},
   "outputs": [
    {
     "name": "stdout",
     "output_type": "stream",
     "text": [
      "[0]\n"
     ]
    }
   ],
   "source": [
    "print(svm.predict([[1, 5]]))"
   ]
  },
  {
   "cell_type": "markdown",
   "metadata": {},
   "source": [
    "# 許容"
   ]
  },
  {
   "cell_type": "code",
   "execution_count": 6,
   "metadata": {},
   "outputs": [
    {
     "data": {
      "image/png": "[encoded data removed]",
      "text/plain": [
       "<matplotlib.figure.Figure at 0x114c0ae48>"
      ]
     },
     "metadata": {},
     "output_type": "display_data"
    }
   ],
   "source": [
    "X=np.zeros((11,2))\n",
    "X[0]=[1,5]\n",
    "X[1]=[1.5,4.7]\n",
    "X[2]=[1.7,3.8]\n",
    "X[3]=[1.8,5.7]\n",
    "X[4]=[2,3.3]\n",
    "X[5]=[2,0.5]\n",
    "X[6]=[2.4,1]\n",
    "X[7]=[3,0.7]\n",
    "X[8]=[3.6,0.9]\n",
    "X[9]=[3.8,0.45]\n",
    "X[10]=[4,1]\n",
    "y=np.array([1,1,1,1,1,0,0,0,0,0,1])\n",
    "svm =SVC(kernel='linear', C=1.0)\n",
    "svm.fit(X,y)\n",
    "plot_regions(X,y,classifier=svm)\n",
    "plt.show()"
   ]
  },
  {
   "cell_type": "markdown",
   "metadata": {},
   "source": [
    "# 明らかに分けられないケース"
   ]
  },
  {
   "cell_type": "code",
   "execution_count": 8,
   "metadata": {},
   "outputs": [
    {
     "data": {
      "image/png": "[encoded data removed]",
      "text/plain": [
       "<matplotlib.figure.Figure at 0x117c7abe0>"
      ]
     },
     "metadata": {},
     "output_type": "display_data"
    }
   ],
   "source": [
    "X=np.zeros((11,2))\n",
    "X[0]=[1,5]\n",
    "X[1]=[1.5,4.7]\n",
    "X[2]=[1.7,3.8]\n",
    "X[3]=[1.8,5.7]\n",
    "X[4]=[2,3.3]\n",
    "X[5]=[2,0.5]\n",
    "X[6]=[2.4,1]\n",
    "X[7]=[3,0.7]\n",
    "X[8]=[3.6,0.9]\n",
    "X[9]=[3.8,0.45]\n",
    "X[10]=[3,0.2]\n",
    "y=np.array([1,1,1,1,1,0,0,0,0,0,1])\n",
    "plt.figure(figsize =(5,5))\n",
    "plt.scatter(X[:,0], X[:,1], c=y , marker='o', s=50)\n",
    "plt.grid()\n",
    "plt.show()"
   ]
  },
  {
   "cell_type": "code",
   "execution_count": 9,
   "metadata": {},
   "outputs": [
    {
     "data": {
      "image/png": "[encoded data removed]",
      "text/plain": [
       "<matplotlib.figure.Figure at 0x114be9e48>"
      ]
     },
     "metadata": {},
     "output_type": "display_data"
    },
    {
     "data": {
      "image/png": "[encoded data removed]",
      "text/plain": [
       "<matplotlib.figure.Figure at 0x116970588>"
      ]
     },
     "metadata": {},
     "output_type": "display_data"
    }
   ],
   "source": [
    "svm =SVC(kernel='linear', C=10**10)\n",
    "svm.fit(X,y)\n",
    "plot_regions(X,y,classifier=svm)\n",
    "plt.show()\n",
    "\n",
    "svm =SVC(kernel='linear', C=1.0)\n",
    "svm.fit(X,y)\n",
    "plot_regions(X,y,classifier=svm)\n",
    "plt.show()"
   ]
  },
  {
   "cell_type": "code",
   "execution_count": null,
   "metadata": {},
   "outputs": [],
   "source": []
  },
  {
   "cell_type": "code",
   "execution_count": null,
   "metadata": {},
   "outputs": [],
   "source": []
  },
  {
   "cell_type": "code",
   "execution_count": null,
   "metadata": {},
   "outputs": [],
   "source": []
  },
  {
   "cell_type": "code",
   "execution_count": null,
   "metadata": {},
   "outputs": [],
   "source": []
  }
 ],
 "metadata": {
  "kernelspec": {
   "display_name": "Python 3",
   "language": "python",
   "name": "python3"
  },
  "language_info": {
   "codemirror_mode": {
    "name": "ipython",
    "version": 3
   },
   "file_extension": ".py",
   "mimetype": "text/x-python",
   "name": "python",
   "nbconvert_exporter": "python",
   "pygments_lexer": "ipython3",
   "version": "3.6.2"
  }
 },
 "nbformat": 4,
 "nbformat_minor": 2
}
