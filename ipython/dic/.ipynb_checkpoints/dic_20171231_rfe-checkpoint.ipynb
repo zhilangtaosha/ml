{
 "cells": [
  {
   "cell_type": "markdown",
   "metadata": {},
   "source": [
    "# Feature Selection 3 wrapper method"
   ]
  },
  {
   "cell_type": "code",
   "execution_count": 3,
   "metadata": {},
   "outputs": [],
   "source": [
    "# data読み込み\n",
    "import pandas as pd\n",
    "# ワインのデータ\n",
    "# 1つの目的変数（0列目）、ワインのクラス（３種類）\n",
    "# 13個の特徴量\n",
    "# 178サンプルのデータ\n",
    "df_wine = pd.read_csv('https://archive.ics.uci.edu/ml/machine-learning-databases/wine/wine.data', header=None)\n",
    "X = df_wine.iloc[:, 1:].values\n",
    "y = df_wine.iloc[:, 0].values\n",
    "\n",
    "# Split data into train/test\n",
    "from sklearn.model_selection import train_test_split\n",
    "X_train, X_test, y_train, y_test = train_test_split(X, y, test_size=0.3, random_state=13)"
   ]
  },
  {
   "cell_type": "code",
   "execution_count": 4,
   "metadata": {},
   "outputs": [
    {
     "data": {
      "text/html": [
       "<div>\n",
       "<style>\n",
       "    .dataframe thead tr:only-child th {\n",
       "        text-align: right;\n",
       "    }\n",
       "\n",
       "    .dataframe thead th {\n",
       "        text-align: left;\n",
       "    }\n",
       "\n",
       "    .dataframe tbody tr th {\n",
       "        vertical-align: top;\n",
       "    }\n",
       "</style>\n",
       "<table border=\"1\" class=\"dataframe\">\n",
       "  <thead>\n",
       "    <tr style=\"text-align: right;\">\n",
       "      <th></th>\n",
       "      <th>0</th>\n",
       "      <th>1</th>\n",
       "      <th>2</th>\n",
       "      <th>3</th>\n",
       "      <th>4</th>\n",
       "      <th>5</th>\n",
       "      <th>6</th>\n",
       "      <th>7</th>\n",
       "      <th>8</th>\n",
       "      <th>9</th>\n",
       "      <th>10</th>\n",
       "      <th>11</th>\n",
       "      <th>12</th>\n",
       "      <th>13</th>\n",
       "    </tr>\n",
       "  </thead>\n",
       "  <tbody>\n",
       "    <tr>\n",
       "      <th>0</th>\n",
       "      <td>1</td>\n",
       "      <td>14.23</td>\n",
       "      <td>1.71</td>\n",
       "      <td>2.43</td>\n",
       "      <td>15.6</td>\n",
       "      <td>127</td>\n",
       "      <td>2.80</td>\n",
       "      <td>3.06</td>\n",
       "      <td>0.28</td>\n",
       "      <td>2.29</td>\n",
       "      <td>5.64</td>\n",
       "      <td>1.04</td>\n",
       "      <td>3.92</td>\n",
       "      <td>1065</td>\n",
       "    </tr>\n",
       "    <tr>\n",
       "      <th>1</th>\n",
       "      <td>1</td>\n",
       "      <td>13.20</td>\n",
       "      <td>1.78</td>\n",
       "      <td>2.14</td>\n",
       "      <td>11.2</td>\n",
       "      <td>100</td>\n",
       "      <td>2.65</td>\n",
       "      <td>2.76</td>\n",
       "      <td>0.26</td>\n",
       "      <td>1.28</td>\n",
       "      <td>4.38</td>\n",
       "      <td>1.05</td>\n",
       "      <td>3.40</td>\n",
       "      <td>1050</td>\n",
       "    </tr>\n",
       "    <tr>\n",
       "      <th>2</th>\n",
       "      <td>1</td>\n",
       "      <td>13.16</td>\n",
       "      <td>2.36</td>\n",
       "      <td>2.67</td>\n",
       "      <td>18.6</td>\n",
       "      <td>101</td>\n",
       "      <td>2.80</td>\n",
       "      <td>3.24</td>\n",
       "      <td>0.30</td>\n",
       "      <td>2.81</td>\n",
       "      <td>5.68</td>\n",
       "      <td>1.03</td>\n",
       "      <td>3.17</td>\n",
       "      <td>1185</td>\n",
       "    </tr>\n",
       "    <tr>\n",
       "      <th>3</th>\n",
       "      <td>1</td>\n",
       "      <td>14.37</td>\n",
       "      <td>1.95</td>\n",
       "      <td>2.50</td>\n",
       "      <td>16.8</td>\n",
       "      <td>113</td>\n",
       "      <td>3.85</td>\n",
       "      <td>3.49</td>\n",
       "      <td>0.24</td>\n",
       "      <td>2.18</td>\n",
       "      <td>7.80</td>\n",
       "      <td>0.86</td>\n",
       "      <td>3.45</td>\n",
       "      <td>1480</td>\n",
       "    </tr>\n",
       "    <tr>\n",
       "      <th>4</th>\n",
       "      <td>1</td>\n",
       "      <td>13.24</td>\n",
       "      <td>2.59</td>\n",
       "      <td>2.87</td>\n",
       "      <td>21.0</td>\n",
       "      <td>118</td>\n",
       "      <td>2.80</td>\n",
       "      <td>2.69</td>\n",
       "      <td>0.39</td>\n",
       "      <td>1.82</td>\n",
       "      <td>4.32</td>\n",
       "      <td>1.04</td>\n",
       "      <td>2.93</td>\n",
       "      <td>735</td>\n",
       "    </tr>\n",
       "  </tbody>\n",
       "</table>\n",
       "</div>"
      ],
      "text/plain": [
       "   0      1     2     3     4    5     6     7     8     9     10    11    12  \\\n",
       "0   1  14.23  1.71  2.43  15.6  127  2.80  3.06  0.28  2.29  5.64  1.04  3.92   \n",
       "1   1  13.20  1.78  2.14  11.2  100  2.65  2.76  0.26  1.28  4.38  1.05  3.40   \n",
       "2   1  13.16  2.36  2.67  18.6  101  2.80  3.24  0.30  2.81  5.68  1.03  3.17   \n",
       "3   1  14.37  1.95  2.50  16.8  113  3.85  3.49  0.24  2.18  7.80  0.86  3.45   \n",
       "4   1  13.24  2.59  2.87  21.0  118  2.80  2.69  0.39  1.82  4.32  1.04  2.93   \n",
       "\n",
       "     13  \n",
       "0  1065  \n",
       "1  1050  \n",
       "2  1185  \n",
       "3  1480  \n",
       "4   735  "
      ]
     },
     "execution_count": 4,
     "metadata": {},
     "output_type": "execute_result"
    }
   ],
   "source": [
    "df_wine.head()"
   ]
  },
  {
   "cell_type": "markdown",
   "metadata": {},
   "source": [
    "実装条件のまとめ\n",
    "- dataset: ワインのデータ\n",
    "- feature: 13次元\n",
    "- label: 1次元(3種類のワイン)\n",
    "- task: Classification（13個の特徴量からワインの種類に分類）\n",
    "- model: LogisticRegression\n",
    "- feature selection: wrapper method: RFE\n",
    "- 評価指標: modelの精度"
   ]
  },
  {
   "cell_type": "code",
   "execution_count": 5,
   "metadata": {},
   "outputs": [],
   "source": [
    "# model building\n",
    "from sklearn.linear_model import LogisticRegression\n",
    "lr = LogisticRegression()\n",
    "\n",
    "# feature selection\n",
    "# 特徴量1つだけ削除\n",
    "from sklearn.feature_selection import RFE\n",
    "rfe = RFE(estimator=lr, n_features_to_select=12)\n",
    "X_train_rfe = rfe.fit_transform(X_train,y_train)"
   ]
  },
  {
   "cell_type": "code",
   "execution_count": 6,
   "metadata": {},
   "outputs": [
    {
     "name": "stdout",
     "output_type": "stream",
     "text": [
      "[ True  True  True  True False  True  True  True  True  True  True  True\n",
      "  True]\n",
      "(array([4]),)\n"
     ]
    }
   ],
   "source": [
    "# which feature eliminated\n",
    "import numpy as np\n",
    "print(rfe.support_)\n",
    "print(np.where(np.invert(rfe.support_)))"
   ]
  },
  {
   "cell_type": "code",
   "execution_count": 7,
   "metadata": {},
   "outputs": [
    {
     "name": "stdout",
     "output_type": "stream",
     "text": [
      "all features | without 5th feature\n",
      "train: 0.967741935484 | 0.975806451613\n",
      "test: 0.925925925926 | 0.925925925926\n"
     ]
    }
   ],
   "source": [
    "# check performance\n",
    "from sklearn.metrics import accuracy_score\n",
    "lr.fit(X_train,y_train)\n",
    "acc_train = accuracy_score(y_train, lr.predict(X_train))\n",
    "acc = accuracy_score(y_test, lr.predict(X_test))\n",
    "\n",
    "lr.fit(X_train_rfe,y_train)\n",
    "X_test_rfe = X_test[:,rfe.support_]\n",
    "acc_rfe_train = accuracy_score(y_train, lr.predict(X_train_rfe))\n",
    "acc_rfe = accuracy_score(y_test, lr.predict(X_test_rfe))\n",
    "print('all features | without 5th feature')\n",
    "print('train:', acc_train, '|', acc_rfe_train)\n",
    "print('test:', acc, '|', acc_rfe)\n"
   ]
  },
  {
   "cell_type": "code",
   "execution_count": 8,
   "metadata": {},
   "outputs": [
    {
     "data": {
      "image/png": "[encoded data removed]",
      "text/plain": [
       "<matplotlib.figure.Figure at 0x1093800f0>"
      ]
     },
     "metadata": {},
     "output_type": "display_data"
    }
   ],
   "source": [
    "# 特徴量による精度の変化\n",
    "acc_rfe_train=[]\n",
    "acc_rfe=[]\n",
    "n_features = []\n",
    "for i in range(1,13+1):\n",
    "    rfe = RFE(lr, i)\n",
    "    X_train_rfe = rfe.fit_transform(X_train,y_train)\n",
    "    X_test_rfe = X_test[:,rfe.support_]\n",
    "    lr.fit(X_train_rfe,y_train)\n",
    "    acc_rfe_train.append(accuracy_score(y_train, lr.predict(X_train_rfe)))\n",
    "    acc_rfe.append(accuracy_score(y_test, lr.predict(X_test_rfe)))\n",
    "    n_features.append(X_train_rfe.shape[1])\n",
    "\n",
    "import matplotlib.pyplot as plt\n",
    "plt.plot(n_features, acc_rfe, label='test', marker='o')\n",
    "plt.plot(n_features, acc_rfe_train, label='train', marker='o')\n",
    "plt.legend()\n",
    "plt.grid()\n",
    "plt.xticks(range(1,13+1))\n",
    "plt.ylabel('Accuracy')\n",
    "plt.xlabel('Number of features')\n",
    "plt.show()"
   ]
  },
  {
   "cell_type": "markdown",
   "metadata": {},
   "source": [
    "このグラフから、今回の場合は特徴量を全て使うよりも、特徴量が8〜11個に選択したのときの方がtestの精度が高いことが分かる。次元が下がったことにより、次元の呪いが緩和され、汎化能力が上がったと考えられる。"
   ]
  },
  {
   "cell_type": "code",
   "execution_count": 9,
   "metadata": {},
   "outputs": [
    {
     "name": "stdout",
     "output_type": "stream",
     "text": [
      "(array([ 1,  2,  3,  5,  6,  9, 10, 11]),)\n",
      "all 13 features | only 8 features\n",
      "train: 0.967741935484 | 0.91935483871\n",
      "test: 0.925925925926 | 0.962962962963\n"
     ]
    }
   ],
   "source": [
    "# feature selection 8つ選択\n",
    "\n",
    "rfe = RFE(estimator = lr, n_features_to_select = 8)\n",
    "X_train_rfe = rfe.fit_transform(X_train, y_train)\n",
    "print(np.where(rfe.support_))\n",
    "X_test_rfe = X_test[:, rfe.support_]\n",
    "rfe.fit(X_train_rfe, y_train)\n",
    "acc_rfe_train = accuracy_score(y_train, rfe.predict(X_train_rfe))\n",
    "acc_rfe = accuracy_score(y_test, rfe.predict(X_test_rfe))\n",
    "\n",
    "print('all 13 features | only 8 features')\n",
    "print('train:', acc_train, '|', acc_rfe_train)\n",
    "print('test:', acc, '|', acc_rfe)\n"
   ]
  },
  {
   "cell_type": "code",
   "execution_count": 10,
   "metadata": {},
   "outputs": [
    {
     "name": "stdout",
     "output_type": "stream",
     "text": [
      "13\n"
     ]
    }
   ],
   "source": [
    "import itertools\n",
    "#並べる対象\n",
    "s = range(13)\n",
    "#並べてリスト化\n",
    "c = list(itertools.combinations(s,12));\n",
    "#組み合わせの数\n",
    "print (len(c))"
   ]
  },
  {
   "cell_type": "code",
   "execution_count": 12,
   "metadata": {},
   "outputs": [
    {
     "name": "stdout",
     "output_type": "stream",
     "text": [
      "8191\n"
     ]
    }
   ],
   "source": [
    "n=0\n",
    "for i in range(1,14):\n",
    "    n += len(list(itertools.combinations(s,i)));\n",
    "print (n)"
   ]
  },
  {
   "cell_type": "markdown",
   "metadata": {},
   "source": [
    "# SBS Sequential Backword Selection"
   ]
  },
  {
   "cell_type": "code",
   "execution_count": 90,
   "metadata": {},
   "outputs": [],
   "source": [
    "from sklearn.preprocessing import StandardScaler\n",
    "import matplotlib.pyplot as plt\n",
    "from sklearn.neighbors import KNeighborsClassifier\n",
    "import pandas as pd\n",
    "from sklearn.base import clone\n",
    "from itertools import combinations\n",
    "import numpy as np\n",
    "from sklearn.model_selection import train_test_split\n",
    "from sklearn.metrics import accuracy_score\n",
    "\n",
    "class SBS():\n",
    "    def __init__(self, estimator, k_features, scoring=accuracy_score,\n",
    "                 test_size=0.25, random_state=1):\n",
    "        self.scoring = scoring\n",
    "        self.estimator = clone(estimator)\n",
    "        self.k_features = k_features\n",
    "        self.test_size = test_size\n",
    "        self.random_state = random_state\n",
    "\n",
    "    def fit(self, X, y):\n",
    "\n",
    "        X_train, X_test, y_train, y_test = \\\n",
    "            train_test_split(X, y, test_size=self.test_size,\n",
    "                             random_state=self.random_state)\n",
    "    \n",
    "        dim = X_train.shape[1]                                   # Count of Dimension\n",
    "        self.indices_ = tuple(range(dim))                        # Index of featuring\n",
    "        self.subsets_ = [self.indices_]                          # ただlistに追加しただけ。\n",
    "        score = self._calc_score(X_train, y_train,\n",
    "                                 X_test, y_test, self.indices_)\n",
    "        self.scores_ = [score]\n",
    "\n",
    "        while dim > self.k_features:\n",
    "            scores = []\n",
    "            subsets = []\n",
    "\n",
    "            for p in combinations(self.indices_, r=dim - 1):      # self.indices_からr個の組み合わせ\n",
    "                score = self._calc_score(X_train, y_train,\n",
    "                                         X_test, y_test, p)\n",
    "                scores.append(score)\n",
    "                subsets.append(p)\n",
    "\n",
    "            best = np.argmax(scores)                              # 配列の最大要素のインデックスを返す\n",
    "            self.indices_ = subsets[best]                         # indices_を更新することで、実質不要な特徴量を削除している。\n",
    "            self.subsets_.append(self.indices_)\n",
    "            dim -= 1\n",
    "            print(\"subsets[best]\",subsets[best])\n",
    "            print(\"scores[best]\",scores[best])\n",
    "            print(\"self.indices_\",self.indices_)\n",
    "            print(\"self.subsets_\",self.subsets_)\n",
    "            print(\"self.scores_\",self.scores_)\n",
    "            print(\"_\"*30)\n",
    "            self.scores_.append(scores[best])\n",
    "        self.k_score_ = self.scores_[-1]\n",
    "        print(\"self.score_\",self.scores_)\n",
    "  \n",
    "        return self\n",
    "\n",
    "    def transform(self, X):\n",
    "        return X[:, self.indices_]                             # indices_のカラムだけ、全行抜く。\n",
    "\n",
    "    def _calc_score(self, X_train, y_train, X_test, y_test, indices):\n",
    "        self.estimator.fit(X_train[:, indices], y_train)                   # indices_のカラムだけ、全行抜く。\n",
    "        y_pred = self.estimator.predict(X_test[:, indices])\n",
    "        score = self.scoring(y_test, y_pred)\n",
    "        return score"
   ]
  },
  {
   "cell_type": "code",
   "execution_count": 91,
   "metadata": {},
   "outputs": [],
   "source": [
    "# データの読み込みと train/test split\n",
    "df_wine = pd.read_csv('https://archive.ics.uci.edu/'\n",
    "                      'ml/machine-learning-databases/wine/wine.data',\n",
    "                      header=None)\n",
    "X, y = df_wine.iloc[:, 1:].values, df_wine.iloc[:, 0].values\n",
    "\n",
    "X_train, X_test, y_train, y_test = \\\n",
    "    train_test_split(X, y, test_size=0.3, random_state=0)"
   ]
  },
  {
   "cell_type": "code",
   "execution_count": 92,
   "metadata": {},
   "outputs": [
    {
     "name": "stdout",
     "output_type": "stream",
     "text": [
      "subsets[best] (0, 1, 2, 3, 5, 6, 7, 8, 9, 10, 11, 12)\n",
      "scores[best] 0.967741935484\n",
      "self.indices_ (0, 1, 2, 3, 5, 6, 7, 8, 9, 10, 11, 12)\n",
      "self.subsets_ [(0, 1, 2, 3, 4, 5, 6, 7, 8, 9, 10, 11, 12), (0, 1, 2, 3, 5, 6, 7, 8, 9, 10, 11, 12)]\n",
      "self.scores_ [0.93548387096774188]\n",
      "______________________________\n",
      "subsets[best] (0, 1, 2, 3, 6, 7, 8, 9, 10, 11, 12)\n",
      "scores[best] 1.0\n",
      "self.indices_ (0, 1, 2, 3, 6, 7, 8, 9, 10, 11, 12)\n",
      "self.subsets_ [(0, 1, 2, 3, 4, 5, 6, 7, 8, 9, 10, 11, 12), (0, 1, 2, 3, 5, 6, 7, 8, 9, 10, 11, 12), (0, 1, 2, 3, 6, 7, 8, 9, 10, 11, 12)]\n",
      "self.scores_ [0.93548387096774188, 0.967741935483871]\n",
      "______________________________\n",
      "subsets[best] (0, 1, 2, 3, 6, 7, 8, 9, 10, 12)\n",
      "scores[best] 1.0\n",
      "self.indices_ (0, 1, 2, 3, 6, 7, 8, 9, 10, 12)\n",
      "self.subsets_ [(0, 1, 2, 3, 4, 5, 6, 7, 8, 9, 10, 11, 12), (0, 1, 2, 3, 5, 6, 7, 8, 9, 10, 11, 12), (0, 1, 2, 3, 6, 7, 8, 9, 10, 11, 12), (0, 1, 2, 3, 6, 7, 8, 9, 10, 12)]\n",
      "self.scores_ [0.93548387096774188, 0.967741935483871, 1.0]\n",
      "______________________________\n",
      "subsets[best] (0, 1, 2, 3, 6, 7, 8, 10, 12)\n",
      "scores[best] 1.0\n",
      "self.indices_ (0, 1, 2, 3, 6, 7, 8, 10, 12)\n",
      "self.subsets_ [(0, 1, 2, 3, 4, 5, 6, 7, 8, 9, 10, 11, 12), (0, 1, 2, 3, 5, 6, 7, 8, 9, 10, 11, 12), (0, 1, 2, 3, 6, 7, 8, 9, 10, 11, 12), (0, 1, 2, 3, 6, 7, 8, 9, 10, 12), (0, 1, 2, 3, 6, 7, 8, 10, 12)]\n",
      "self.scores_ [0.93548387096774188, 0.967741935483871, 1.0, 1.0]\n",
      "______________________________\n",
      "subsets[best] (0, 1, 2, 3, 6, 8, 10, 12)\n",
      "scores[best] 1.0\n",
      "self.indices_ (0, 1, 2, 3, 6, 8, 10, 12)\n",
      "self.subsets_ [(0, 1, 2, 3, 4, 5, 6, 7, 8, 9, 10, 11, 12), (0, 1, 2, 3, 5, 6, 7, 8, 9, 10, 11, 12), (0, 1, 2, 3, 6, 7, 8, 9, 10, 11, 12), (0, 1, 2, 3, 6, 7, 8, 9, 10, 12), (0, 1, 2, 3, 6, 7, 8, 10, 12), (0, 1, 2, 3, 6, 8, 10, 12)]\n",
      "self.scores_ [0.93548387096774188, 0.967741935483871, 1.0, 1.0, 1.0]\n",
      "______________________________\n",
      "subsets[best] (0, 1, 3, 6, 8, 10, 12)\n",
      "scores[best] 1.0\n",
      "self.indices_ (0, 1, 3, 6, 8, 10, 12)\n",
      "self.subsets_ [(0, 1, 2, 3, 4, 5, 6, 7, 8, 9, 10, 11, 12), (0, 1, 2, 3, 5, 6, 7, 8, 9, 10, 11, 12), (0, 1, 2, 3, 6, 7, 8, 9, 10, 11, 12), (0, 1, 2, 3, 6, 7, 8, 9, 10, 12), (0, 1, 2, 3, 6, 7, 8, 10, 12), (0, 1, 2, 3, 6, 8, 10, 12), (0, 1, 3, 6, 8, 10, 12)]\n",
      "self.scores_ [0.93548387096774188, 0.967741935483871, 1.0, 1.0, 1.0, 1.0]\n",
      "______________________________\n",
      "subsets[best] (0, 1, 3, 6, 10, 12)\n",
      "scores[best] 1.0\n",
      "self.indices_ (0, 1, 3, 6, 10, 12)\n",
      "self.subsets_ [(0, 1, 2, 3, 4, 5, 6, 7, 8, 9, 10, 11, 12), (0, 1, 2, 3, 5, 6, 7, 8, 9, 10, 11, 12), (0, 1, 2, 3, 6, 7, 8, 9, 10, 11, 12), (0, 1, 2, 3, 6, 7, 8, 9, 10, 12), (0, 1, 2, 3, 6, 7, 8, 10, 12), (0, 1, 2, 3, 6, 8, 10, 12), (0, 1, 3, 6, 8, 10, 12), (0, 1, 3, 6, 10, 12)]\n",
      "self.scores_ [0.93548387096774188, 0.967741935483871, 1.0, 1.0, 1.0, 1.0, 1.0]\n",
      "______________________________\n",
      "subsets[best] (0, 1, 3, 10, 12)\n",
      "scores[best] 1.0\n",
      "self.indices_ (0, 1, 3, 10, 12)\n",
      "self.subsets_ [(0, 1, 2, 3, 4, 5, 6, 7, 8, 9, 10, 11, 12), (0, 1, 2, 3, 5, 6, 7, 8, 9, 10, 11, 12), (0, 1, 2, 3, 6, 7, 8, 9, 10, 11, 12), (0, 1, 2, 3, 6, 7, 8, 9, 10, 12), (0, 1, 2, 3, 6, 7, 8, 10, 12), (0, 1, 2, 3, 6, 8, 10, 12), (0, 1, 3, 6, 8, 10, 12), (0, 1, 3, 6, 10, 12), (0, 1, 3, 10, 12)]\n",
      "self.scores_ [0.93548387096774188, 0.967741935483871, 1.0, 1.0, 1.0, 1.0, 1.0, 1.0]\n",
      "______________________________\n",
      "subsets[best] (0, 1, 10, 12)\n",
      "scores[best] 0.935483870968\n",
      "self.indices_ (0, 1, 10, 12)\n",
      "self.subsets_ [(0, 1, 2, 3, 4, 5, 6, 7, 8, 9, 10, 11, 12), (0, 1, 2, 3, 5, 6, 7, 8, 9, 10, 11, 12), (0, 1, 2, 3, 6, 7, 8, 9, 10, 11, 12), (0, 1, 2, 3, 6, 7, 8, 9, 10, 12), (0, 1, 2, 3, 6, 7, 8, 10, 12), (0, 1, 2, 3, 6, 8, 10, 12), (0, 1, 3, 6, 8, 10, 12), (0, 1, 3, 6, 10, 12), (0, 1, 3, 10, 12), (0, 1, 10, 12)]\n",
      "self.scores_ [0.93548387096774188, 0.967741935483871, 1.0, 1.0, 1.0, 1.0, 1.0, 1.0, 1.0]\n",
      "______________________________\n",
      "subsets[best] (0, 1, 10)\n",
      "scores[best] 0.967741935484\n",
      "self.indices_ (0, 1, 10)\n",
      "self.subsets_ [(0, 1, 2, 3, 4, 5, 6, 7, 8, 9, 10, 11, 12), (0, 1, 2, 3, 5, 6, 7, 8, 9, 10, 11, 12), (0, 1, 2, 3, 6, 7, 8, 9, 10, 11, 12), (0, 1, 2, 3, 6, 7, 8, 9, 10, 12), (0, 1, 2, 3, 6, 7, 8, 10, 12), (0, 1, 2, 3, 6, 8, 10, 12), (0, 1, 3, 6, 8, 10, 12), (0, 1, 3, 6, 10, 12), (0, 1, 3, 10, 12), (0, 1, 10, 12), (0, 1, 10)]\n",
      "self.scores_ [0.93548387096774188, 0.967741935483871, 1.0, 1.0, 1.0, 1.0, 1.0, 1.0, 1.0, 0.93548387096774188]\n",
      "______________________________\n",
      "subsets[best] (0, 10)\n",
      "scores[best] 0.870967741935\n",
      "self.indices_ (0, 10)\n",
      "self.subsets_ [(0, 1, 2, 3, 4, 5, 6, 7, 8, 9, 10, 11, 12), (0, 1, 2, 3, 5, 6, 7, 8, 9, 10, 11, 12), (0, 1, 2, 3, 6, 7, 8, 9, 10, 11, 12), (0, 1, 2, 3, 6, 7, 8, 9, 10, 12), (0, 1, 2, 3, 6, 7, 8, 10, 12), (0, 1, 2, 3, 6, 8, 10, 12), (0, 1, 3, 6, 8, 10, 12), (0, 1, 3, 6, 10, 12), (0, 1, 3, 10, 12), (0, 1, 10, 12), (0, 1, 10), (0, 10)]\n",
      "self.scores_ [0.93548387096774188, 0.967741935483871, 1.0, 1.0, 1.0, 1.0, 1.0, 1.0, 1.0, 0.93548387096774188, 0.967741935483871]\n",
      "______________________________\n",
      "subsets[best] (0,)\n",
      "scores[best] 0.838709677419\n",
      "self.indices_ (0,)\n",
      "self.subsets_ [(0, 1, 2, 3, 4, 5, 6, 7, 8, 9, 10, 11, 12), (0, 1, 2, 3, 5, 6, 7, 8, 9, 10, 11, 12), (0, 1, 2, 3, 6, 7, 8, 9, 10, 11, 12), (0, 1, 2, 3, 6, 7, 8, 9, 10, 12), (0, 1, 2, 3, 6, 7, 8, 10, 12), (0, 1, 2, 3, 6, 8, 10, 12), (0, 1, 3, 6, 8, 10, 12), (0, 1, 3, 6, 10, 12), (0, 1, 3, 10, 12), (0, 1, 10, 12), (0, 1, 10), (0, 10), (0,)]\n",
      "self.scores_ [0.93548387096774188, 0.967741935483871, 1.0, 1.0, 1.0, 1.0, 1.0, 1.0, 1.0, 0.93548387096774188, 0.967741935483871, 0.87096774193548387]\n",
      "______________________________\n",
      "self.score_ [0.93548387096774188, 0.967741935483871, 1.0, 1.0, 1.0, 1.0, 1.0, 1.0, 1.0, 0.93548387096774188, 0.967741935483871, 0.87096774193548387, 0.83870967741935487]\n"
     ]
    },
    {
     "data": {
      "image/png": "[encoded data removed]",
      "text/plain": [
       "<matplotlib.figure.Figure at 0x10a3b5128>"
      ]
     },
     "metadata": {},
     "output_type": "display_data"
    },
    {
     "name": "stdout",
     "output_type": "stream",
     "text": [
      "Selected top 5 features:\n",
      " Int64Index([1, 2, 4, 11, 13], dtype='int64')\n",
      "\n",
      "Performance using all features:\n",
      "\n",
      "Training accuracy: 0.983870967742\n",
      "Test accuracy: 0.944444444444\n",
      "\n",
      "Performance using the top 5 features:\n",
      "\n",
      "Training accuracy: 0.959677419355\n",
      "Test accuracy: 0.962962962963\n"
     ]
    }
   ],
   "source": [
    "# Feature scaling for kNN\n",
    "sc = StandardScaler()\n",
    "sc.fit(X_train)\n",
    "X_train_std = sc.transform(X_train)\n",
    "X_test_std = sc.transform(X_test)\n",
    "\n",
    "knn = KNeighborsClassifier(n_neighbors=2)\n",
    "sbs = SBS(knn, k_features=1)\n",
    "sbs.fit(X_train_std, y_train)\n",
    "\n",
    "k_feat = [len(k) for k in sbs.subsets_]\n",
    "\n",
    "plt.plot(k_feat, sbs.scores_, marker='o')\n",
    "plt.ylabel('Accuracy')\n",
    "plt.xlabel('Number of features')\n",
    "plt.xticks(range(1,13+1))\n",
    "plt.grid()\n",
    "plt.show()\n",
    "\n",
    "k5 = list(sbs.subsets_[8])\n",
    "print('Selected top 5 features:\\n', df_wine.columns[1:][k5])\n",
    "\n",
    "knn.fit(X_train_std, y_train)\n",
    "print('\\nPerformance using all features:\\n')\n",
    "print('Training accuracy:', knn.score(X_train_std, y_train))\n",
    "print('Test accuracy:', knn.score(X_test_std, y_test))\n",
    "\n",
    "knn.fit(X_train_std[:, k5], y_train)\n",
    "print('\\nPerformance using the top 5 features:\\n')\n",
    "print('Training accuracy:', knn.score(X_train_std[:, k5], y_train))\n",
    "print('Test accuracy:', knn.score(X_test_std[:, k5], y_test))"
   ]
  },
  {
   "cell_type": "code",
   "execution_count": null,
   "metadata": {},
   "outputs": [],
   "source": []
  },
  {
   "cell_type": "code",
   "execution_count": 86,
   "metadata": {},
   "outputs": [
    {
     "data": {
      "text/plain": [
       "0.83870967741935487"
      ]
     },
     "execution_count": 86,
     "metadata": {},
     "output_type": "execute_result"
    }
   ],
   "source": [
    "sbs.k_score_"
   ]
  },
  {
   "cell_type": "code",
   "execution_count": null,
   "metadata": {},
   "outputs": [],
   "source": []
  },
  {
   "cell_type": "code",
   "execution_count": null,
   "metadata": {},
   "outputs": [],
   "source": []
  }
 ],
 "metadata": {
  "kernelspec": {
   "display_name": "Python 3",
   "language": "python",
   "name": "python3"
  },
  "language_info": {
   "codemirror_mode": {
    "name": "ipython",
    "version": 3
   },
   "file_extension": ".py",
   "mimetype": "text/x-python",
   "name": "python",
   "nbconvert_exporter": "python",
   "pygments_lexer": "ipython3",
   "version": "3.6.2"
  }
 },
 "nbformat": 4,
 "nbformat_minor": 2
}
