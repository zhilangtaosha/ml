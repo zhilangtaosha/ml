{
 "cells": [
  {
   "cell_type": "code",
   "execution_count": 1,
   "metadata": {},
   "outputs": [
    {
     "name": "stderr",
     "output_type": "stream",
     "text": [
      "C:\\Users\\suzukiry\\AppData\\Local\\Continuum\\Anaconda3\\lib\\site-packages\\sklearn\\cross_validation.py:44: DeprecationWarning: This module was deprecated in version 0.18 in favor of the model_selection module into which all the refactored classes and functions are moved. Also note that the interface of the new CV iterators are different from that of this module. This module will be removed in 0.20.\n",
      "  \"This module will be removed in 0.20.\", DeprecationWarning)\n"
     ]
    },
    {
     "name": "stdout",
     "output_type": "stream",
     "text": [
      "[  5.00000000e+00   9.00000000e-05   1.07818939e+01]\n"
     ]
    }
   ],
   "source": [
    "from sklearn import cross_validation\n",
    "from sklearn.datasets import load_boston\n",
    "\n",
    "import pandas as pd\n",
    "import numpy as np\n",
    "\n",
    "from sklearn.linear_model import Ridge\n",
    "from sklearn.preprocessing import PolynomialFeatures\n",
    "\n",
    "from sklearn.metrics import mean_squared_error\n",
    "\n",
    "\n",
    "boston = load_boston()\n",
    "X=pd.DataFrame(boston.data[:100,:], columns=boston.feature_names)\n",
    "y=boston.target[:100]\n",
    "x=X['LSTAT'].values\n",
    "\n",
    "np.random.seed(0) # 乱数のシード設定\n",
    "indices = np.random.permutation(len(x))\n",
    "x = x[indices] # データの順序をランダムに並び替え\n",
    "y = y[indices]\n",
    "n_fold = 10 # 交差検定の回数\n",
    "k_fold = cross_validation.KFold(n=len(x),n_folds = n_fold)\n",
    "\n",
    "dim=np.arange(1,11)# グリッドサーチの候補となるハイパーパラメータを考えます。次元は１～１1までを調べます。\n",
    "lambda_=np.arange(1,30,2)/1e5#ハイパーパラメータを格納しています。\n",
    "\n",
    "i = 0\n",
    "L=len(dim)*len(lambda_)\n",
    "score = np.zeros((L,3))\n",
    "tmp=[]\n",
    "for d in dim:\n",
    "    degree_=PolynomialFeatures(degree=d)\n",
    "    for l in lambda_:\n",
    "        lin_ = Ridge(normalize=True,alpha=l)\n",
    "        for train, test in k_fold:\n",
    "            x_=degree_.fit_transform(x[train,None])\n",
    "            x_test=degree_.fit_transform(x[test,None])\n",
    "            #normalize=Trueは入力データを正規化してトレーニングすることを意味します。\n",
    "            lin_.fit(x_,y[train])\n",
    "\n",
    "            tmp.append(mean_squared_error(y[test],lin_.predict(x_test)))\n",
    "\n",
    "        score[i,0] = d\n",
    "        score[i,1] = l\n",
    "        score[i,2] = sum(tmp) / len(tmp)\n",
    "        i+=1\n",
    "        tmp=[]\n",
    "\n",
    "print(score[np.argmin(score[:,-1])])"
   ]
  },
  {
   "cell_type": "code",
   "execution_count": null,
   "metadata": {
    "collapsed": true
   },
   "outputs": [],
   "source": []
  },
  {
   "cell_type": "code",
   "execution_count": null,
   "metadata": {
    "collapsed": true
   },
   "outputs": [],
   "source": []
  },
  {
   "cell_type": "code",
   "execution_count": null,
   "metadata": {
    "collapsed": true
   },
   "outputs": [],
   "source": []
  },
  {
   "cell_type": "code",
   "execution_count": null,
   "metadata": {
    "collapsed": true
   },
   "outputs": [],
   "source": []
  },
  {
   "cell_type": "code",
   "execution_count": null,
   "metadata": {
    "collapsed": true
   },
   "outputs": [],
   "source": []
  }
 ],
 "metadata": {
  "kernelspec": {
   "display_name": "Python 3",
   "language": "python",
   "name": "python3"
  },
  "language_info": {
   "codemirror_mode": {
    "name": "ipython",
    "version": 3
   },
   "file_extension": ".py",
   "mimetype": "text/x-python",
   "name": "python",
   "nbconvert_exporter": "python",
   "pygments_lexer": "ipython3",
   "version": "3.6.2"
  }
 },
 "nbformat": 4,
 "nbformat_minor": 2
}
