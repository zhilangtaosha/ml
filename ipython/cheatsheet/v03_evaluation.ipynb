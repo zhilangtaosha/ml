{
 "cells": [
  {
   "cell_type": "markdown",
   "metadata": {},
   "source": [
    "# 前処理"
   ]
  },
  {
   "cell_type": "code",
   "execution_count": 61,
   "metadata": {},
   "outputs": [],
   "source": [
    "import pandas as pd\n",
    "from sklearn.feature_extraction.text import TfidfVectorizer, CountVectorizer\n",
    "\n",
    "df = pd.read_csv('../../../mltestdata/SMSSpamCollection', sep='\\t', names = [\"label\", \"message\"])\n",
    "df['label'] = df['label'].map({'ham':0,'spam':1}).astype(int)"
   ]
  },
  {
   "cell_type": "code",
   "execution_count": 62,
   "metadata": {},
   "outputs": [],
   "source": [
    "from sklearn.model_selection import train_test_split\n",
    "from sklearn.naive_bayes import MultinomialNB\n",
    "from sklearn.metrics import classification_report\n",
    "\n",
    "X_train, X_test, y_train, y_test = train_test_split(df['message'],df['label'],test_size=0.2,random_state=1)"
   ]
  },
  {
   "cell_type": "code",
   "execution_count": 63,
   "metadata": {},
   "outputs": [],
   "source": [
    "tf_vectorizer = CountVectorizer()\n",
    "tf_vectorizer.fit(X_train)\n",
    "tf_vectorizer.vocabulary_\n",
    "\n",
    "X_train= tf_vectorizer.transform(X_train)\n",
    "X_test = tf_vectorizer.transform(X_test)\n",
    "\n",
    "clf = MultinomialNB()\n",
    "clf.fit(X_train, y_train)\n",
    "\n",
    "y_pred = clf.predict(X_test)"
   ]
  },
  {
   "cell_type": "markdown",
   "metadata": {},
   "source": [
    "* * * * * "
   ]
  },
  {
   "cell_type": "markdown",
   "metadata": {},
   "source": [
    "悲しいかな、性能評価で何が何を意味しているかわからないので、まとめる。。。\n",
    "\n",
    "まず一言で言うと、__性能指標とは、y_testとy_predictを比較すること！__ のようです。"
   ]
  },
  {
   "cell_type": "markdown",
   "metadata": {},
   "source": [
    "# 分類の評価方法編\n",
    "* * * \n",
    "## Accuracy / Precision / Recall / f1\n",
    "例は上記の迷惑メールフィルタを使います。これを理解するにはsklearn.metricsが大いに役立ちそう。\n",
    "下の混同行列を例に考えるとよし。なので、先にこちらかを実行。"
   ]
  },
  {
   "cell_type": "markdown",
   "metadata": {},
   "source": [
    "### (sklearn.metrics) confusion_matrix"
   ]
  },
  {
   "cell_type": "code",
   "execution_count": 44,
   "metadata": {},
   "outputs": [
    {
     "name": "stdout",
     "output_type": "stream",
     "text": [
      "[[965   3]\n",
      " [  8 139]]\n"
     ]
    }
   ],
   "source": [
    "from sklearn.metrics import confusion_matrix\n",
    "import matplotlib.pyplot as plt\n",
    "%matplotlib inline\n",
    "confmat = confusion_matrix(y_test, y_pred)\n",
    "print(confmat)"
   ]
  },
  {
   "cell_type": "code",
   "execution_count": 45,
   "metadata": {},
   "outputs": [
    {
     "data": {
      "image/png": "[encoded data removed]",
      "text/plain": [
       "<matplotlib.figure.Figure at 0x11453e1d0>"
      ]
     },
     "metadata": {},
     "output_type": "display_data"
    }
   ],
   "source": [
    "fig, ax = plt.subplots(figsize=(2.5,2.5))\n",
    "ax.matshow(confmat, cmap=plt.cm.Blues, alpha=0.3)\n",
    "for i in range(confmat.shape[0]):\n",
    "    for j in range(confmat.shape[1]):\n",
    "        ax.text(x=j,y=i,s=confmat[i,j],va='center',ha='center')\n",
    "plt.xlabel('predicted label')\n",
    "plt.ylabel('true label')\n",
    "plt.show()"
   ]
  },
  {
   "cell_type": "markdown",
   "metadata": {},
   "source": [
    "### (sklearn.metrics) accuracy_score / precision_score / recall_score / f1_score"
   ]
  },
  {
   "cell_type": "code",
   "execution_count": 55,
   "metadata": {},
   "outputs": [
    {
     "name": "stdout",
     "output_type": "stream",
     "text": [
      "Accuracy score:  0.9901345291479821\n",
      "Precision score:  0.9788732394366197\n",
      "Recall score:  0.9455782312925171\n",
      "F1 score:  0.9619377162629758\n"
     ]
    }
   ],
   "source": [
    "from sklearn.metrics import accuracy_score, precision_score, recall_score, f1_score\n",
    "print('Accuracy score: ', format(accuracy_score(y_test, y_pred)))\n",
    "print('Precision score: ', format(precision_score(y_test, y_pred)))\n",
    "print('Recall score: ', format(recall_score(y_test, y_pred)))\n",
    "print('F1 score: ', format(f1_score(y_test, y_pred)))"
   ]
  },
  {
   "cell_type": "markdown",
   "metadata": {},
   "source": [
    "読み方注意。\n",
    "- 縦に読むと、一行目が分類0、二行目が分類1を指している。\n",
    "- 横に読むと、どこに誤って分類されてしまったかを見る。一行目は０に正しく965個分類できて、１に3個誤って分類された事がわかる。\n",
    "\n",
    "この図を元にやりましょうか。"
   ]
  },
  {
   "cell_type": "markdown",
   "metadata": {},
   "source": [
    "##### Accuracy\n",
    "これは単純に正答率。　\n",
    "1-誤分類率なので、誤分類率を求め手から、引き算。\n",
    "\n",
    "```\n",
    "     (3+8)/(965+3+8+139)=0.00986547\n",
    "```\n",
    "\n",
    "そして引き算。\n",
    "```\n",
    "     1 - 0.00986547 = 0.99013...\n",
    "```\n",
    "__(sklearn.metrics) accuracy_score__ で求める事ができる。\n"
   ]
  },
  {
   "cell_type": "markdown",
   "metadata": {},
   "source": [
    "##### Precision\n",
    "適合率と言う指標。陽性のクラスと予測したサンプルのうち、実際に陽性と判断されたものの割合。 \n",
    "混同行列を使うと、Predictを中心に考える事。　Predictに対して、実際（True）はどうかな、と見ていく。\n",
    "\n",
    "* ここ要注意だったのですが、関数に __The best value is 1 and the worst value is 0.__ と文言があるので、ライブラリを使って求めるので、混同行列のフォーカスは１の方にして、計算をします。\n",
    "\n",
    "```\n",
    "     (139)/(139+3) = 0.97887324\n",
    "```\n",
    "\n",
    "##### Recall\n",
    "再現率という指標。\n",
    "混同行列を使うと、Trueを中心に考える事。　Trueに対して、予測（Predict）はどうかな、と見ていく。\n",
    "\n",
    "```\n",
    "     (139)/(139+8) = 0.94557823\n",
    "```\n",
    "\n",
    "##### F1\n",
    "適合率と再現率の調和平均している指標。確かPrecisionだけとか、Recallだけ、とかだと偏りが出ちゃうんだったような。\n",
    "\n",
    "```\n",
    "     F1 = 2 * (PRE * REC) / (PRE + REC)\n",
    "\n",
    "     2 * (0.97887324 * 0.94557823) / (0.97887324 + 0.94557823) = 0.9619377158661894\n",
    "```\n",
    "\n",
    "おー、一緒だ。"
   ]
  },
  {
   "cell_type": "markdown",
   "metadata": {},
   "source": [
    "あと注意点を以下に。\n",
    "\n",
    "RecallやPrecisionを見る事になるが、実際にはどの評価関数を重要視するかが大事。\n",
    "\n",
    "Recallの場合、True label大事になので、分類したい事（迷惑メールなど）をより検出することに、重きを置いているといえる。\n",
    "Precisionの場合、Predicted label大事になので、逆に本来の分類（迷惑メールなど）がきちんと本来の分類に分ける事ができているかということに重きを置いている事になる、と。 \n",
    "\n",
    "迷惑メールの場合、スパムで無いメールをスパムと認識しては困るので、Precisionを重要視するなど、評価する評価関数の使い分けが必要になってくる。\n"
   ]
  },
  {
   "cell_type": "markdown",
   "metadata": {},
   "source": [
    "### (sklearn.metrics) classification_report"
   ]
  },
  {
   "cell_type": "markdown",
   "metadata": {},
   "source": [
    "これも便利。"
   ]
  },
  {
   "cell_type": "code",
   "execution_count": 60,
   "metadata": {},
   "outputs": [
    {
     "name": "stdout",
     "output_type": "stream",
     "text": [
      "             precision    recall  f1-score   support\n",
      "\n",
      "          0       0.99      1.00      0.99       968\n",
      "          1       0.98      0.95      0.96       147\n",
      "\n",
      "avg / total       0.99      0.99      0.99      1115\n",
      "\n"
     ]
    }
   ],
   "source": [
    "print(classification_report(y_test, y_pred))"
   ]
  },
  {
   "cell_type": "markdown",
   "metadata": {},
   "source": [
    "* * * \n",
    "## 決定係数"
   ]
  },
  {
   "cell_type": "markdown",
   "metadata": {},
   "source": [
    "相関係数がrで、その二乗が決定係数。1に近いほど、回帰直線の式が成立して、yはxから完全に __決定__ されるから決定係数なんですね。"
   ]
  },
  {
   "cell_type": "markdown",
   "metadata": {},
   "source": [
    "* * *\n",
    "## p値\n",
    "一筋縄でわからないので、必要が出たら勉強します。"
   ]
  },
  {
   "cell_type": "code",
   "execution_count": null,
   "metadata": {},
   "outputs": [],
   "source": []
  },
  {
   "cell_type": "markdown",
   "metadata": {},
   "source": [
    "# YieFan"
   ]
  },
  {
   "cell_type": "markdown",
   "metadata": {},
   "source": [
    "Personally, I am doing a bit more than this, I do this:\n",
    "\n",
    "First of all, introduce a new feature, and then do the following evaluation:\n",
    "Do this 20 times with different random setting:\n",
    "1. Train_test_split (70%/30%) -> local train (70% of original train), local val (30% of original train)\n",
    "2. Perform 5-fold CV on local train(70% of original train) -> generate out-of-fold prediction for local train (70% of original train) and local validation (30% of original train)\n",
    "3. Calculate AUC/Gini with (Y of local val, oof prediction of local val) -> Validation score for the local val (30% of original train)\n",
    "\n",
    "As I said above,  I repeat steps 1-2-3 20 times, and then I average the validation scores of (output of step 3).\n",
    "\n",
    "Now if the validation score improve compare to the validation score for data without the new feature, I proceed to second round of validation, this time I for the train_test_split with (50%/50%) setting.\n",
    "\n",
    "Only features that improve validation score in both rounds i.e. (70%/30%) and (50%/50%) setting, I will consider them to be useful \n",
    "\n",
    "So far, none of the features share on the kernel pass this test:joy:\n",
    "Maybe I am being too strict, but I am gonna stick with it -> there is always the next competition!"
   ]
  },
  {
   "cell_type": "markdown",
   "metadata": {},
   "source": [
    "I am doing it this way also partly because I have a good work station, so if your laptop/PC is too slow to do this, just do simple repeated k-fold "
   ]
  },
  {
   "cell_type": "code",
   "execution_count": null,
   "metadata": {},
   "outputs": [],
   "source": []
  }
 ],
 "metadata": {
  "kernelspec": {
   "display_name": "Python 3",
   "language": "python",
   "name": "python3"
  },
  "language_info": {
   "codemirror_mode": {
    "name": "ipython",
    "version": 3
   },
   "file_extension": ".py",
   "mimetype": "text/x-python",
   "name": "python",
   "nbconvert_exporter": "python",
   "pygments_lexer": "ipython3",
   "version": "3.6.2"
  }
 },
 "nbformat": 4,
 "nbformat_minor": 2
}
