{
 "cells": [
  {
   "cell_type": "code",
   "execution_count": 1,
   "metadata": {},
   "outputs": [
    {
     "name": "stdout",
     "output_type": "stream",
     "text": [
      "1\n",
      "-1\n"
     ]
    }
   ],
   "source": [
    "from sklearn.ensemble import RandomForestClassifier\n",
    "\n",
    "trainingdata = [[1, 1], [2, 2], [-1, -1], [-2, -2]]\n",
    "traininglabel = [1, 1, -1, -1]\n",
    "testdata = [[3, 3], [-3, -3]]\n",
    "\n",
    "model = RandomForestClassifier()\n",
    "model.fit(trainingdata, traininglabel)\n",
    "output = model.predict(testdata)\n",
    "\n",
    "for label in output: print(label)"
   ]
  },
  {
   "cell_type": "code",
   "execution_count": null,
   "metadata": {
    "collapsed": true
   },
   "outputs": [],
   "source": [
    "* * * \n",
    "# あとで調べる\n",
    "- [] 'Support Vector Machines'\n",
    "- [] 'KNN'\n",
    "- [x] 'Logistic Regression'\n",
    "- [x] 'Random Forest'\n",
    "- [] 'Naive Bayes'\n",
    "- [x] 'Perceptron'\n",
    "- [] 'Stochastic Gradient Decent'\n",
    "- [] 'Linear SVC'\n",
    "- [x] 'Decision Tree'"
   ]
  },
  {
   "cell_type": "code",
   "execution_count": null,
   "metadata": {
    "collapsed": true
   },
   "outputs": [],
   "source": [
    "（あとで調べる）ニューラルネットワーク\n",
    "- 概要\n",
    "- 長所\n",
    "    1. \n",
    "    2. \n",
    "    3. \n",
    "- 短所\n",
    "    1. \n",
    "    2. \n",
    "    3. \n"
   ]
  },
  {
   "cell_type": "code",
   "execution_count": null,
   "metadata": {
    "collapsed": true
   },
   "outputs": [],
   "source": [
    "（あとで調べる）サポートベクターマシン\n",
    "- 概要\n",
    "- 長所\n",
    "    1. Performs similarly to logistic regression when linear separation\n",
    "    2. Performs well with non-linear boundary depending on the kernel used\n",
    "    3. Handle high dimensional data well\n",
    "- 短所\n",
    "    1. Susceptible to overfitting/training issues depending on kernel\n",
    "    2. \n",
    "    3. "
   ]
  },
  {
   "cell_type": "code",
   "execution_count": null,
   "metadata": {
    "collapsed": true
   },
   "outputs": [],
   "source": [
    "（あとで調べる）ナイーブベイズ\n",
    "- 概要：\n",
    "- 長所\n",
    "    1. Computationally fast\n",
    "    2. Simple to implement\n",
    "    3. Works well with high dimensions\n",
    "- 短所\n",
    "    1. Relies on independence assumption and will perform badly if this assumption is not met\n",
    "    "
   ]
  },
  {
   "cell_type": "code",
   "execution_count": null,
   "metadata": {
    "collapsed": true
   },
   "outputs": [],
   "source": []
  },
  {
   "cell_type": "code",
   "execution_count": null,
   "metadata": {
    "collapsed": true
   },
   "outputs": [],
   "source": []
  }
 ],
 "metadata": {
  "kernelspec": {
   "display_name": "Python 3",
   "language": "python",
   "name": "python3"
  },
  "language_info": {
   "codemirror_mode": {
    "name": "ipython",
    "version": 3
   },
   "file_extension": ".py",
   "mimetype": "text/x-python",
   "name": "python",
   "nbconvert_exporter": "python",
   "pygments_lexer": "ipython3",
   "version": "3.6.2"
  }
 },
 "nbformat": 4,
 "nbformat_minor": 2
}
