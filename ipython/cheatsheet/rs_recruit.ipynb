{
 "cells": [
  {
   "cell_type": "markdown",
   "metadata": {},
   "source": [
    "# Data Exploration"
   ]
  },
  {
   "cell_type": "code",
   "execution_count": 1,
   "metadata": {},
   "outputs": [],
   "source": [
    "import pandas as pd\n",
    "import numpy as np\n",
    "import matplotlib.pyplot as plt\n",
    "import seaborn as sns\n",
    "%matplotlib inline"
   ]
  },
  {
   "cell_type": "code",
   "execution_count": 2,
   "metadata": {},
   "outputs": [],
   "source": [
    "a_reserve = pd.read_csv(\"../../../mltestdata/05_recruit/air_reserve.csv\")\n",
    "a_store = pd.read_csv(\"../../../mltestdata/05_recruit/air_store_info.csv\")\n",
    "a_visit = pd.read_csv(\"../../../mltestdata/05_recruit/air_visit_data.csv\")\n",
    "date_info = pd.read_csv(\"../../../mltestdata/05_recruit/date_info.csv\")\n",
    "h_reserve = pd.read_csv(\"../../../mltestdata/05_recruit/hpg_reserve.csv\")\n",
    "h_store = pd.read_csv(\"../../../mltestdata/05_recruit/hpg_store_info.csv\")\n",
    "store_id = pd.read_csv(\"../../../mltestdata/05_recruit/store_id_relation.csv\")"
   ]
  },
  {
   "cell_type": "code",
   "execution_count": 3,
   "metadata": {},
   "outputs": [
    {
     "name": "stdout",
     "output_type": "stream",
     "text": [
      "           air_store_id       visit_datetime     reserve_datetime  \\\n",
      "0  air_877f79706adbfb06  2016-01-01 19:00:00  2016-01-01 16:00:00   \n",
      "1  air_db4b38ebe7a7ceff  2016-01-01 19:00:00  2016-01-01 19:00:00   \n",
      "2  air_db4b38ebe7a7ceff  2016-01-01 19:00:00  2016-01-01 19:00:00   \n",
      "3  air_877f79706adbfb06  2016-01-01 20:00:00  2016-01-01 16:00:00   \n",
      "4  air_db80363d35f10926  2016-01-01 20:00:00  2016-01-01 01:00:00   \n",
      "\n",
      "   reserve_visitors  \n",
      "0                 1  \n",
      "1                 3  \n",
      "2                 6  \n",
      "3                 2  \n",
      "4                 5  \n",
      "air_store_id        92378\n",
      "visit_datetime      92378\n",
      "reserve_datetime    92378\n",
      "reserve_visitors    92378\n",
      "dtype: int64\n",
      "       reserve_visitors\n",
      "count      92378.000000\n",
      "mean           4.481749\n",
      "std            4.919669\n",
      "min            1.000000\n",
      "25%            2.000000\n",
      "50%            3.000000\n",
      "75%            5.000000\n",
      "max          100.000000\n"
     ]
    }
   ],
   "source": [
    "print(a_reserve.head())\n",
    "print(a_reserve.count())\n",
    "print(a_reserve.describe())"
   ]
  },
  {
   "cell_type": "code",
   "execution_count": 4,
   "metadata": {},
   "outputs": [
    {
     "name": "stdout",
     "output_type": "stream",
     "text": [
      "           air_store_id  air_genre_name                 air_area_name  \\\n",
      "0  air_0f0cdeee6c9bf3d7  Italian/French  Hyōgo-ken Kōbe-shi Kumoidōri   \n",
      "1  air_7cc17a324ae5c7dc  Italian/French  Hyōgo-ken Kōbe-shi Kumoidōri   \n",
      "2  air_fee8dcf4d619598e  Italian/French  Hyōgo-ken Kōbe-shi Kumoidōri   \n",
      "3  air_a17f0778617c76e2  Italian/French  Hyōgo-ken Kōbe-shi Kumoidōri   \n",
      "4  air_83db5aff8f50478e  Italian/French  Tōkyō-to Minato-ku Shibakōen   \n",
      "\n",
      "    latitude   longitude  \n",
      "0  34.695124  135.197852  \n",
      "1  34.695124  135.197852  \n",
      "2  34.695124  135.197852  \n",
      "3  34.695124  135.197852  \n",
      "4  35.658068  139.751599  \n",
      "air_store_id      829\n",
      "air_genre_name    829\n",
      "air_area_name     829\n",
      "latitude          829\n",
      "longitude         829\n",
      "dtype: int64\n",
      "         latitude   longitude\n",
      "count  829.000000  829.000000\n",
      "mean    35.647042  137.415311\n",
      "std      2.084659    3.650971\n",
      "min     33.211967  130.195555\n",
      "25%     34.695124  135.341564\n",
      "50%     35.658068  139.685474\n",
      "75%     35.694003  139.751599\n",
      "max     44.020632  144.273398\n"
     ]
    }
   ],
   "source": [
    "print(a_store.head())\n",
    "print(a_store.count())\n",
    "print(a_store.describe())"
   ]
  },
  {
   "cell_type": "code",
   "execution_count": 5,
   "metadata": {},
   "outputs": [
    {
     "name": "stdout",
     "output_type": "stream",
     "text": [
      "           air_store_id  visit_date  visitors\n",
      "0  air_ba937bf13d40fb24  2016-01-13        25\n",
      "1  air_ba937bf13d40fb24  2016-01-14        32\n",
      "2  air_ba937bf13d40fb24  2016-01-15        29\n",
      "3  air_ba937bf13d40fb24  2016-01-16        22\n",
      "4  air_ba937bf13d40fb24  2016-01-18         6\n",
      "air_store_id    252108\n",
      "visit_date      252108\n",
      "visitors        252108\n",
      "dtype: int64\n",
      "            visitors\n",
      "count  252108.000000\n",
      "mean       20.973761\n",
      "std        16.757007\n",
      "min         1.000000\n",
      "25%         9.000000\n",
      "50%        17.000000\n",
      "75%        29.000000\n",
      "max       877.000000\n"
     ]
    }
   ],
   "source": [
    "print(a_visit.head())\n",
    "print(a_visit.count())\n",
    "print(a_visit.describe())"
   ]
  },
  {
   "cell_type": "code",
   "execution_count": 9,
   "metadata": {},
   "outputs": [
    {
     "data": {
      "text/html": [
       "<div>\n",
       "<style>\n",
       "    .dataframe thead tr:only-child th {\n",
       "        text-align: right;\n",
       "    }\n",
       "\n",
       "    .dataframe thead th {\n",
       "        text-align: left;\n",
       "    }\n",
       "\n",
       "    .dataframe tbody tr th {\n",
       "        vertical-align: top;\n",
       "    }\n",
       "</style>\n",
       "<table border=\"1\" class=\"dataframe\">\n",
       "  <thead>\n",
       "    <tr style=\"text-align: right;\">\n",
       "      <th></th>\n",
       "      <th>air_store_id</th>\n",
       "      <th>visit_date</th>\n",
       "      <th>visitors</th>\n",
       "    </tr>\n",
       "  </thead>\n",
       "  <tbody>\n",
       "    <tr>\n",
       "      <th>252103</th>\n",
       "      <td>air_24e8414b9b07decb</td>\n",
       "      <td>2017-04-18</td>\n",
       "      <td>6</td>\n",
       "    </tr>\n",
       "    <tr>\n",
       "      <th>252104</th>\n",
       "      <td>air_24e8414b9b07decb</td>\n",
       "      <td>2017-04-19</td>\n",
       "      <td>6</td>\n",
       "    </tr>\n",
       "    <tr>\n",
       "      <th>252105</th>\n",
       "      <td>air_24e8414b9b07decb</td>\n",
       "      <td>2017-04-20</td>\n",
       "      <td>7</td>\n",
       "    </tr>\n",
       "    <tr>\n",
       "      <th>252106</th>\n",
       "      <td>air_24e8414b9b07decb</td>\n",
       "      <td>2017-04-21</td>\n",
       "      <td>8</td>\n",
       "    </tr>\n",
       "    <tr>\n",
       "      <th>252107</th>\n",
       "      <td>air_24e8414b9b07decb</td>\n",
       "      <td>2017-04-22</td>\n",
       "      <td>5</td>\n",
       "    </tr>\n",
       "  </tbody>\n",
       "</table>\n",
       "</div>"
      ],
      "text/plain": [
       "                air_store_id  visit_date  visitors\n",
       "252103  air_24e8414b9b07decb  2017-04-18         6\n",
       "252104  air_24e8414b9b07decb  2017-04-19         6\n",
       "252105  air_24e8414b9b07decb  2017-04-20         7\n",
       "252106  air_24e8414b9b07decb  2017-04-21         8\n",
       "252107  air_24e8414b9b07decb  2017-04-22         5"
      ]
     },
     "execution_count": 9,
     "metadata": {},
     "output_type": "execute_result"
    }
   ],
   "source": [
    "a_visit.tail()"
   ]
  },
  {
   "cell_type": "code",
   "execution_count": 6,
   "metadata": {},
   "outputs": [
    {
     "name": "stdout",
     "output_type": "stream",
     "text": [
      "           hpg_store_id       visit_datetime     reserve_datetime  \\\n",
      "0  hpg_c63f6f42e088e50f  2016-01-01 11:00:00  2016-01-01 09:00:00   \n",
      "1  hpg_dac72789163a3f47  2016-01-01 13:00:00  2016-01-01 06:00:00   \n",
      "2  hpg_c8e24dcf51ca1eb5  2016-01-01 16:00:00  2016-01-01 14:00:00   \n",
      "3  hpg_24bb207e5fd49d4a  2016-01-01 17:00:00  2016-01-01 11:00:00   \n",
      "4  hpg_25291c542ebb3bc2  2016-01-01 17:00:00  2016-01-01 03:00:00   \n",
      "\n",
      "   reserve_visitors  \n",
      "0                 1  \n",
      "1                 3  \n",
      "2                 2  \n",
      "3                 5  \n",
      "4                13  \n",
      "hpg_store_id        2000320\n",
      "visit_datetime      2000320\n",
      "reserve_datetime    2000320\n",
      "reserve_visitors    2000320\n",
      "dtype: int64\n",
      "       reserve_visitors\n",
      "count      2.000320e+06\n",
      "mean       5.073785e+00\n",
      "std        5.416172e+00\n",
      "min        1.000000e+00\n",
      "25%        2.000000e+00\n",
      "50%        3.000000e+00\n",
      "75%        6.000000e+00\n",
      "max        1.000000e+02\n"
     ]
    }
   ],
   "source": [
    "print(h_reserve.head())\n",
    "print(h_reserve.count())\n",
    "print(h_reserve.describe())"
   ]
  },
  {
   "cell_type": "code",
   "execution_count": 7,
   "metadata": {},
   "outputs": [
    {
     "name": "stdout",
     "output_type": "stream",
     "text": [
      "           hpg_store_id  hpg_genre_name                  hpg_area_name  \\\n",
      "0  hpg_6622b62385aec8bf  Japanese style  Tōkyō-to Setagaya-ku Taishidō   \n",
      "1  hpg_e9e068dd49c5fa00  Japanese style  Tōkyō-to Setagaya-ku Taishidō   \n",
      "2  hpg_2976f7acb4b3a3bc  Japanese style  Tōkyō-to Setagaya-ku Taishidō   \n",
      "3  hpg_e51a522e098f024c  Japanese style  Tōkyō-to Setagaya-ku Taishidō   \n",
      "4  hpg_e3d0e1519894f275  Japanese style  Tōkyō-to Setagaya-ku Taishidō   \n",
      "\n",
      "    latitude   longitude  \n",
      "0  35.643675  139.668221  \n",
      "1  35.643675  139.668221  \n",
      "2  35.643675  139.668221  \n",
      "3  35.643675  139.668221  \n",
      "4  35.643675  139.668221  \n",
      "hpg_store_id      4690\n",
      "hpg_genre_name    4690\n",
      "hpg_area_name     4690\n",
      "latitude          4690\n",
      "longitude         4690\n",
      "dtype: int64\n",
      "          latitude    longitude\n",
      "count  4690.000000  4690.000000\n",
      "mean     35.810261   137.675816\n",
      "std       2.138755     3.197233\n",
      "min      33.311645   130.339313\n",
      "25%      34.692109   135.498859\n",
      "50%      35.659214   139.495733\n",
      "75%      35.703381   139.737998\n",
      "max      43.774846   143.714585\n"
     ]
    }
   ],
   "source": [
    "print(h_store.head())\n",
    "print(h_store.count())\n",
    "print(h_store.describe())"
   ]
  },
  {
   "cell_type": "code",
   "execution_count": 8,
   "metadata": {},
   "outputs": [
    {
     "name": "stdout",
     "output_type": "stream",
     "text": [
      "           air_store_id          hpg_store_id\n",
      "0  air_63b13c56b7201bd9  hpg_4bc649e72e2a239a\n",
      "1  air_a24bf50c3e90d583  hpg_c34b496d0305a809\n",
      "2  air_c7f78b4f3cba33ff  hpg_cd8ae0d9bbd58ff9\n",
      "3  air_947eb2cae4f3e8f2  hpg_de24ea49dc25d6b8\n",
      "4  air_965b2e0cf4119003  hpg_653238a84804d8e7\n",
      "air_store_id    150\n",
      "hpg_store_id    150\n",
      "dtype: int64\n",
      "                air_store_id          hpg_store_id\n",
      "count                    150                   150\n",
      "unique                   150                   150\n",
      "top     air_5acc13d655a6e8b2  hpg_a85b37424291216b\n",
      "freq                       1                     1\n"
     ]
    }
   ],
   "source": [
    "print(store_id.head())\n",
    "print(store_id.count())\n",
    "print(store_id.describe())"
   ]
  },
  {
   "cell_type": "code",
   "execution_count": null,
   "metadata": {},
   "outputs": [],
   "source": []
  },
  {
   "cell_type": "code",
   "execution_count": null,
   "metadata": {},
   "outputs": [],
   "source": []
  },
  {
   "cell_type": "code",
   "execution_count": null,
   "metadata": {},
   "outputs": [],
   "source": []
  }
 ],
 "metadata": {
  "kernelspec": {
   "display_name": "Python 3",
   "language": "python",
   "name": "python3"
  },
  "language_info": {
   "codemirror_mode": {
    "name": "ipython",
    "version": 3
   },
   "file_extension": ".py",
   "mimetype": "text/x-python",
   "name": "python",
   "nbconvert_exporter": "python",
   "pygments_lexer": "ipython3",
   "version": "3.6.2"
  }
 },
 "nbformat": 4,
 "nbformat_minor": 2
}
