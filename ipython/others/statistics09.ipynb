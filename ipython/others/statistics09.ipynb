{
 "cells": [
  {
   "cell_type": "code",
   "execution_count": 2,
   "metadata": {
    "collapsed": false
   },
   "outputs": [
    {
     "name": "stderr",
     "output_type": "stream",
     "text": [
      "/Users/suzukiry/.pyenv/versions/anaconda3-4.3.0/lib/python3.6/site-packages/numexpr/cpuinfo.py:76: UserWarning: [Errno 2] No such file or directory: 'sysctl'\n",
      "  stacklevel=stacklevel + 1):\n"
     ]
    },
    {
     "data": {
      "text/html": [
       "<div>\n",
       "<table border=\"1\" class=\"dataframe\">\n",
       "  <thead>\n",
       "    <tr style=\"text-align: right;\">\n",
       "      <th></th>\n",
       "      <th>性別</th>\n",
       "      <th>数学</th>\n",
       "      <th>英語</th>\n",
       "      <th>英語テスト</th>\n",
       "      <th>数学テスト</th>\n",
       "    </tr>\n",
       "  </thead>\n",
       "  <tbody>\n",
       "    <tr>\n",
       "      <th>0</th>\n",
       "      <td>男</td>\n",
       "      <td>好き</td>\n",
       "      <td>好き</td>\n",
       "      <td>61</td>\n",
       "      <td>100</td>\n",
       "    </tr>\n",
       "    <tr>\n",
       "      <th>1</th>\n",
       "      <td>女</td>\n",
       "      <td>嫌い</td>\n",
       "      <td>好き</td>\n",
       "      <td>58</td>\n",
       "      <td>49</td>\n",
       "    </tr>\n",
       "    <tr>\n",
       "      <th>2</th>\n",
       "      <td>女</td>\n",
       "      <td>嫌い</td>\n",
       "      <td>好き</td>\n",
       "      <td>85</td>\n",
       "      <td>67</td>\n",
       "    </tr>\n",
       "    <tr>\n",
       "      <th>3</th>\n",
       "      <td>男</td>\n",
       "      <td>好き</td>\n",
       "      <td>好き</td>\n",
       "      <td>98</td>\n",
       "      <td>77</td>\n",
       "    </tr>\n",
       "    <tr>\n",
       "      <th>4</th>\n",
       "      <td>女</td>\n",
       "      <td>嫌い</td>\n",
       "      <td>嫌い</td>\n",
       "      <td>60</td>\n",
       "      <td>92</td>\n",
       "    </tr>\n",
       "  </tbody>\n",
       "</table>\n",
       "</div>"
      ],
      "text/plain": [
       "  性別  数学  英語  英語テスト  数学テスト\n",
       "0  男  好き  好き     61    100\n",
       "1  女  嫌い  好き     58     49\n",
       "2  女  嫌い  好き     85     67\n",
       "3  男  好き  好き     98     77\n",
       "4  女  嫌い  嫌い     60     92"
      ]
     },
     "execution_count": 2,
     "metadata": {},
     "output_type": "execute_result"
    }
   ],
   "source": [
    "import numpy as np\n",
    "import pandas as pd\n",
    "import matplotlib.pyplot as plt\n",
    "import scipy\n",
    "import seaborn\n",
    "%matplotlib inline\n",
    "\n",
    "df = pd.DataFrame()\n",
    "df['性別'] = np.array(['男','女','女','男','女','男','女','男','女','女','男','男','男','女','男','男','女','男','女','女'])\n",
    "df['数学'] = np.array(['好き','嫌い','嫌い','好き','嫌い','好き','嫌い','好き','嫌い','好き','嫌い','嫌い','嫌い','好き','嫌い','嫌い','好き','好き','好き','嫌い'])\n",
    "df['英語'] = np.array(['好き','好き','好き','好き','嫌い','好き','嫌い','好き','好き','好き','好き','嫌い','嫌い','嫌い','好き','好き','好き','嫌い','嫌い','好き'])\n",
    "df['英語テスト'] = np.array([61,58,85,98,60,76,59,88,82,70,77,67,53,44,100,100,96,89,74,47])\n",
    "df['数学テスト']= np.array([100,49,67,77,92,32,54,59,64,66,62,84,73,78,44,34,100,92,81,82])\n",
    "\n",
    "df.head()"
   ]
  },
  {
   "cell_type": "code",
   "execution_count": 3,
   "metadata": {
    "collapsed": false
   },
   "outputs": [
    {
     "data": {
      "text/plain": [
       "(array([ 2.,  1.,  3.,  1.,  2.,  3.,  1.,  2.,  1.,  4.]),\n",
       " array([  44. ,   49.6,   55.2,   60.8,   66.4,   72. ,   77.6,   83.2,\n",
       "          88.8,   94.4,  100. ]),\n",
       " <a list of 10 Patch objects>)"
      ]
     },
     "execution_count": 3,
     "metadata": {},
     "output_type": "execute_result"
    },
    {
     "data": {
      "image/png": "[encoded data removed]",
      "text/plain": [
       "<matplotlib.figure.Figure at 0x103ca8940>"
      ]
     },
     "metadata": {},
     "output_type": "display_data"
    }
   ],
   "source": [
    "plt.hist(df['英語テスト'],bins=10)"
   ]
  },
  {
   "cell_type": "markdown",
   "metadata": {},
   "source": [
    "### 平均"
   ]
  },
  {
   "cell_type": "code",
   "execution_count": 4,
   "metadata": {
    "collapsed": false
   },
   "outputs": [
    {
     "data": {
      "text/plain": [
       "74.2"
      ]
     },
     "execution_count": 4,
     "metadata": {},
     "output_type": "execute_result"
    }
   ],
   "source": [
    "np.mean(df['英語テスト'])"
   ]
  },
  {
   "cell_type": "markdown",
   "metadata": {},
   "source": [
    "### 中央値\n",
    "データを大きさ順にならべてその真ん中の値。データが偶数個の場合は真ん中の数値２つの平均を中央値にすることが一般的。"
   ]
  },
  {
   "cell_type": "code",
   "execution_count": 5,
   "metadata": {
    "collapsed": false
   },
   "outputs": [
    {
     "data": {
      "text/plain": [
       "75.0"
      ]
     },
     "execution_count": 5,
     "metadata": {},
     "output_type": "execute_result"
    }
   ],
   "source": [
    "np.median(df['英語テスト'])"
   ]
  },
  {
   "cell_type": "markdown",
   "metadata": {},
   "source": [
    "### 最頻値\n",
    "最も頻繁に観測された値のことです。先ほど代表値とは「分布の中心位置を示す値」"
   ]
  },
  {
   "cell_type": "code",
   "execution_count": 6,
   "metadata": {
    "collapsed": false
   },
   "outputs": [
    {
     "data": {
      "text/plain": [
       "ModeResult(mode=array([100]), count=array([2]))"
      ]
     },
     "execution_count": 6,
     "metadata": {},
     "output_type": "execute_result"
    }
   ],
   "source": [
    "scipy.stats.mode(df['英語テスト'])\n"
   ]
  },
  {
   "cell_type": "code",
   "execution_count": null,
   "metadata": {
    "collapsed": true
   },
   "outputs": [],
   "source": [
    "\n"
   ]
  },
  {
   "cell_type": "markdown",
   "metadata": {
    "collapsed": true
   },
   "source": [
    "## 散布度"
   ]
  },
  {
   "cell_type": "code",
   "execution_count": 9,
   "metadata": {
    "collapsed": false
   },
   "outputs": [
    {
     "data": {
      "text/plain": [
       "74.2"
      ]
     },
     "execution_count": 9,
     "metadata": {},
     "output_type": "execute_result"
    }
   ],
   "source": [
    "test_mean_english = np.mean(df['英語テスト'])\n",
    "test_mean_english"
   ]
  },
  {
   "cell_type": "markdown",
   "metadata": {},
   "source": [
    "### 平均からの偏差"
   ]
  },
  {
   "cell_type": "code",
   "execution_count": 10,
   "metadata": {
    "collapsed": false
   },
   "outputs": [
    {
     "data": {
      "text/plain": [
       "array([-13.2, -16.2,  10.8,  23.8, -14.2,   1.8, -15.2,  13.8,   7.8,\n",
       "        -4.2,   2.8,  -7.2, -21.2, -30.2,  25.8,  25.8,  21.8,  14.8,\n",
       "        -0.2, -27.2])"
      ]
     },
     "execution_count": 10,
     "metadata": {},
     "output_type": "execute_result"
    }
   ],
   "source": [
    "deviation_english = np.array(df['英語テスト']) - test_mean_english\n",
    "deviation_english"
   ]
  },
  {
   "cell_type": "markdown",
   "metadata": {
    "collapsed": true
   },
   "source": [
    "### 分散"
   ]
  },
  {
   "cell_type": "code",
   "execution_count": 12,
   "metadata": {
    "collapsed": false
   },
   "outputs": [
    {
     "data": {
      "text/plain": [
       "300.56"
      ]
     },
     "execution_count": 12,
     "metadata": {},
     "output_type": "execute_result"
    }
   ],
   "source": [
    "dispersion= sum(np.power(deviation_english, 2))/20\n",
    "dispersion"
   ]
  },
  {
   "cell_type": "markdown",
   "metadata": {
    "collapsed": true
   },
   "source": [
    "### 分散２"
   ]
  },
  {
   "cell_type": "code",
   "execution_count": 13,
   "metadata": {
    "collapsed": false
   },
   "outputs": [
    {
     "name": "stdout",
     "output_type": "stream",
     "text": [
      "300.56\n"
     ]
    }
   ],
   "source": [
    "variance = np.var(df['英語テスト'])\n",
    "print(variance)"
   ]
  },
  {
   "cell_type": "markdown",
   "metadata": {
    "collapsed": true
   },
   "source": [
    "### 標準偏差"
   ]
  },
  {
   "cell_type": "code",
   "execution_count": 14,
   "metadata": {
    "collapsed": false
   },
   "outputs": [
    {
     "name": "stdout",
     "output_type": "stream",
     "text": [
      "17.3366663462\n"
     ]
    }
   ],
   "source": [
    "standard_deviation= np.sqrt(variance)\n",
    "print(standard_deviation)"
   ]
  },
  {
   "cell_type": "code",
   "execution_count": null,
   "metadata": {
    "collapsed": true
   },
   "outputs": [],
   "source": []
  },
  {
   "cell_type": "markdown",
   "metadata": {},
   "source": [
    "### 標準得点"
   ]
  },
  {
   "cell_type": "code",
   "execution_count": 15,
   "metadata": {
    "collapsed": false
   },
   "outputs": [
    {
     "name": "stdout",
     "output_type": "stream",
     "text": [
      "0    -0.761392\n",
      "1    -0.934436\n",
      "2     0.622957\n",
      "3     1.372813\n",
      "4    -0.819073\n",
      "5     0.103826\n",
      "6    -0.876754\n",
      "7     0.796001\n",
      "8     0.449913\n",
      "9    -0.242261\n",
      "10    0.161507\n",
      "11   -0.415305\n",
      "12   -1.222842\n",
      "13   -1.741973\n",
      "14    1.488175\n",
      "15    1.488175\n",
      "16    1.257451\n",
      "17    0.853682\n",
      "18   -0.011536\n",
      "19   -1.568929\n",
      "Name: 英語テスト, dtype: float64\n"
     ]
    }
   ],
   "source": [
    "z = (df['英語テスト'] - test_mean_english) / standard_deviation\n",
    "print(z)"
   ]
  },
  {
   "cell_type": "code",
   "execution_count": 17,
   "metadata": {
    "collapsed": false
   },
   "outputs": [
    {
     "data": {
      "text/plain": [
       "-1.6653345369377348e-16"
      ]
     },
     "execution_count": 17,
     "metadata": {},
     "output_type": "execute_result"
    }
   ],
   "source": [
    "np.mean(z)"
   ]
  },
  {
   "cell_type": "code",
   "execution_count": 18,
   "metadata": {
    "collapsed": false
   },
   "outputs": [
    {
     "data": {
      "text/plain": [
       "0.99999999999999989"
      ]
     },
     "execution_count": 18,
     "metadata": {},
     "output_type": "execute_result"
    }
   ],
   "source": [
    "np.sqrt(np.mean(np.power((z - np.mean(z)),2)))"
   ]
  },
  {
   "cell_type": "code",
   "execution_count": null,
   "metadata": {
    "collapsed": true
   },
   "outputs": [],
   "source": []
  }
 ],
 "metadata": {
  "kernelspec": {
   "display_name": "Python 3",
   "language": "python",
   "name": "python3"
  },
  "language_info": {
   "codemirror_mode": {
    "name": "ipython",
    "version": 3
   },
   "file_extension": ".py",
   "mimetype": "text/x-python",
   "name": "python",
   "nbconvert_exporter": "python",
   "pygments_lexer": "ipython3",
   "version": "3.6.0"
  }
 },
 "nbformat": 4,
 "nbformat_minor": 2
}
