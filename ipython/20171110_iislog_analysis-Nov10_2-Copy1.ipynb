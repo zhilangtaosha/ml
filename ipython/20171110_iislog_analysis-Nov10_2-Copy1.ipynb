{
 "cells": [
  {
   "cell_type": "markdown",
   "metadata": {},
   "source": [
    "# IIS log トリミング"
   ]
  },
  {
   "cell_type": "markdown",
   "metadata": {},
   "source": [
    "## ファイル整形"
   ]
  },
  {
   "cell_type": "code",
   "execution_count": 1,
   "metadata": {
    "collapsed": true
   },
   "outputs": [],
   "source": [
    "import pandas as pd\n",
    "import numpy as np\n",
    "import re\n",
    "from datetime import datetime"
   ]
  },
  {
   "cell_type": "code",
   "execution_count": 2,
   "metadata": {
    "collapsed": true
   },
   "outputs": [],
   "source": [
    "def input_file(filename):\n",
    "    \"\"\"\n",
    "    This function generates list from text file.\n",
    "    \"\"\"\n",
    "    \n",
    "    # Input from space-delimited file\n",
    "    #filename = './inputfiles-hkg/20171027/501_u_ex171027.log'\n",
    "    f = open(filename, encoding='ascii')\n",
    "    lines = f.readlines() # 1行毎にファイル終端まで全て読む(改行文字も含まれる List型)\n",
    "    f.close()\n",
    "    \n",
    "    return lines"
   ]
  },
  {
   "cell_type": "code",
   "execution_count": 3,
   "metadata": {
    "collapsed": true
   },
   "outputs": [],
   "source": [
    "def irregular_trimming(a):\n",
    "    keyword_i = a.find(r\"AppleWebKit/533.17.9+(KHTML\")\n",
    "\n",
    "    #if \"AppleWebKit/533.17.9+(KHTML\" in a:\n",
    "    end_i = a.find(\",\",keyword_i)\n",
    "    start_i = a.find(\",\",end_i+1)\n",
    "    return a[:end_i] + a[start_i:]"
   ]
  },
  {
   "cell_type": "code",
   "execution_count": 4,
   "metadata": {
    "collapsed": true
   },
   "outputs": [],
   "source": [
    "def preprocess_lines(lines):\n",
    "    # Preprocess file\n",
    "    FIELD_ROW = 4\n",
    "\n",
    "    # Remvoe Header\n",
    "    p_lines = lines[FIELD_ROW-1:]\n",
    "\n",
    "    # Trim Header\n",
    "    p_lines[0] = p_lines[0].replace('#Fields: ','')\n",
    "\n",
    "    # Convert \" \"(space) to \",\" for csv format\n",
    "    # 1. \", => \"_\": Not to be bothered by default \",\"\n",
    "    p_csv_lines = list(map(lambda line: line.replace(\",\",\"_\").replace(\" \",\",\").replace(\",+\",\"+\"), p_lines))\n",
    "\n",
    "    # 追加 あとで複数のキーワードをまとめるようにしましょう\n",
    "    p_csv_lines = list(filter((lambda x: r\"#Software:\" not in x),p_csv_lines))\n",
    "    p_csv_lines = list(filter((lambda x: r\"#Version:\" not in x),p_csv_lines))\n",
    "    p_csv_lines = list(filter((lambda x: r\"#Date:\" not in x),p_csv_lines))\n",
    "    p_csv_lines = list(filter((lambda x: r\"#Fields:\" not in x),p_csv_lines))\n",
    "\n",
    "    # Add an additional column for an irregular data あとでチェック\n",
    "    #p_csv_lines = list(map(lambda l: l[:-1] + \",\" + l[-1:] if l.count(\",-\") == 14 else l, p_csv_lines))\n",
    "\n",
    "    # Trim line with \"AppleWebKit/533.17.9+(KHTML\"あとでチェック\n",
    "    #p_csv_lines = list(map(lambda a: irregular_trimming(a) if \"AppleWebKit/533.17.9+(KHTML\" in a else a, p_csv_lines))\n",
    " \n",
    "    return p_csv_lines"
   ]
  },
  {
   "cell_type": "code",
   "execution_count": null,
   "metadata": {
    "collapsed": true
   },
   "outputs": [],
   "source": [
    "# test"
   ]
  },
  {
   "cell_type": "code",
   "execution_count": null,
   "metadata": {
    "collapsed": true
   },
   "outputs": [],
   "source": [
    "#データフレーム版\n",
    "tdf = pd.DataFrame(dict(A=[5,3,5,6], C=[\"foo\",\"bar\",\"fooXYZbar\", \"bat\"]))\n",
    "tdf"
   ]
  },
  {
   "cell_type": "code",
   "execution_count": null,
   "metadata": {
    "collapsed": true
   },
   "outputs": [],
   "source": [
    "tdf[tdf.C.str.contains(\"XYZ\") == False]"
   ]
  },
  {
   "cell_type": "code",
   "execution_count": null,
   "metadata": {
    "collapsed": true
   },
   "outputs": [],
   "source": [
    "df[ 's-port' ] = df[ 's-port' ].astype(np.float).astype(np.int64)\n",
    "#.astype(int)"
   ]
  },
  {
   "cell_type": "markdown",
   "metadata": {},
   "source": [
    "* * * "
   ]
  },
  {
   "cell_type": "code",
   "execution_count": 5,
   "metadata": {
    "collapsed": true,
    "scrolled": false
   },
   "outputs": [],
   "source": [
    "def output_file(p_csv_lines, filename):\n",
    "    # Output as csv\n",
    "    basename = datetime.now().strftime(\"%Y%m%d-%H%M%S\")\n",
    "\n",
    "    DIVIDED_COUNT = 4\n",
    "\n",
    "    start_point = [ int(( len(p_csv_lines) / DIVIDED_COUNT ) * x) for x in range(1, DIVIDED_COUNT)]\n",
    "    start_point.insert(0,0)\n",
    "\n",
    "    #print(start_point)\n",
    "    for index in range(len(start_point)):\n",
    "\n",
    "        if len(start_point) == index + 1:\n",
    "            print(\"{} - {}\".format(start_point[index],\"\"))\n",
    "            start_i = start_point[index]\n",
    "\n",
    "            output_filename = filename[:filename.find(\".log\")]+ \"_\" + basename + \"_\" + str(index) + '.csv'\n",
    "            f = open(output_filename, 'w')\n",
    "            f.writelines(p_csv_lines[start_i:]) # 1行毎にファイル終端まで全て読む(改行文字も含まれる List型)\n",
    "            f.close()\n",
    "            break\n",
    "\n",
    "        else:\n",
    "            print(\"{} - {}\".format(start_point[index],start_point[index+1]))\n",
    "            start_i = start_point[index]\n",
    "            end_i = start_point[index+1]\n",
    "\n",
    "            output_filename = filename[:filename.find(\".log\")]+ \"_\" + basename + \"_\" + str(index) + '.csv'\n",
    "            f = open(output_filename, 'w')\n",
    "            f.writelines(p_csv_lines[start_i:end_i]) # 1行毎にファイル終端まで全て読む(改行文字も含まれる List型)\n",
    "            f.close()\n"
   ]
  },
  {
   "cell_type": "code",
   "execution_count": null,
   "metadata": {
    "collapsed": true
   },
   "outputs": [],
   "source": [
    "filename = './inputfiles-hkg/20171113_IISLogs/CAS/u_ex171108.log'\n",
    "\n",
    "lines = input_file(filename)\n",
    "lines = preprocess_lines(lines)\n",
    "output_file(lines, filename)"
   ]
  },
  {
   "cell_type": "code",
   "execution_count": null,
   "metadata": {
    "collapsed": true
   },
   "outputs": [],
   "source": [
    "filename = './inputfiles-hkg/20171027/502_u_ex171027.log'\n",
    "\n",
    "lines = input_file(filename)\n",
    "lines = preprocess_lines(lines)\n",
    "output_file(lines, filename)\n",
    "\n",
    "# もしフォーマットからずれていたらエラーを出すとかにしたいね。"
   ]
  },
  {
   "cell_type": "markdown",
   "metadata": {},
   "source": [
    "## 1ファイルの整形"
   ]
  },
  {
   "cell_type": "code",
   "execution_count": 8,
   "metadata": {},
   "outputs": [
    {
     "name": "stdout",
     "output_type": "stream",
     "text": [
      "0 - 280553\n",
      "280553 - 561107\n",
      "561107 - 841661\n",
      "841661 - \n"
     ]
    }
   ],
   "source": [
    "filename = './inputfiles-hkg/20171113_IISLogs/CAS/u_ex171110.log'\n",
    "\n",
    "lines = input_file(filename)\n",
    "lines = preprocess_lines(lines)\n",
    "output_file(lines, filename)"
   ]
  },
  {
   "cell_type": "markdown",
   "metadata": {},
   "source": [
    "## df読み取り"
   ]
  },
  {
   "cell_type": "markdown",
   "metadata": {},
   "source": [
    "### 1110"
   ]
  },
  {
   "cell_type": "code",
   "execution_count": 2,
   "metadata": {
    "collapsed": true
   },
   "outputs": [],
   "source": [
    "df1 = pd.read_csv(\"./inputfiles-hkg/20171113_IISLogs/CAS/u_ex171110_20171114-155553_0.csv\")\n",
    "df1 = df1.append([pd.read_csv(\"./inputfiles-hkg/20171113_IISLogs/CAS501/u_ex171110_20171114-155553_1.csv\", names = list(df1.columns)),\n",
    "                pd.read_csv(\"./inputfiles-hkg/20171113_IISLogs/CAS501/u_ex171110_20171114-155553_2.csv\", names = list(df1.columns)),\n",
    "                pd.read_csv(\"./inputfiles-hkg/20171113_IISLogs/CAS501/u_ex171110_20171114-155553_3.csv\", names = list(df1.columns)),\n",
    "               ], ignore_index=True)"
   ]
  },
  {
   "cell_type": "code",
   "execution_count": 3,
   "metadata": {
    "collapsed": true
   },
   "outputs": [],
   "source": [
    "df2 = pd.read_csv(\"./inputfiles-hkg/20171113_IISLogs/CAS/u_ex171110_20171114-155635_0.csv\")\n",
    "df2 = df2.append([pd.read_csv(\"./inputfiles-hkg/20171113_IISLogs/CAS/u_ex171110_20171114-155635_1.csv\", names = list(df2.columns)),\n",
    "                pd.read_csv(\"./inputfiles-hkg/20171113_IISLogs/CAS/u_ex171110_20171114-155635_2.csv\", names = list(df2.columns)),\n",
    "                    pd.read_csv(\"./inputfiles-hkg/20171113_IISLogs/CAS/u_ex171110_20171114-155635_3.csv\", names = list(df2.columns))\n",
    "               ], ignore_index=True)"
   ]
  },
  {
   "cell_type": "code",
   "execution_count": 4,
   "metadata": {
    "collapsed": true
   },
   "outputs": [],
   "source": [
    "df3 = pd.read_csv(\"./inputfiles-hkg/20171113_IISLogs/CAS/u_ex171110_20171114-155658_0.csv\")\n",
    "df3 = df3.append([pd.read_csv(\"./inputfiles-hkg/20171113_IISLogs/CAS/u_ex171110_20171114-155658_1.csv\", names = list(df3.columns)),\n",
    "                pd.read_csv(\"./inputfiles-hkg/20171113_IISLogs/CAS/u_ex171110_20171114-155658_2.csv\", names = list(df3.columns)),\n",
    "                pd.read_csv(\"./inputfiles-hkg/20171113_IISLogs/CAS/u_ex171110_20171114-155658_3.csv\", names = list(df3.columns))\n",
    "               ], ignore_index=True)"
   ]
  },
  {
   "cell_type": "code",
   "execution_count": 5,
   "metadata": {
    "collapsed": true,
    "scrolled": true
   },
   "outputs": [],
   "source": [
    "df = pd.concat([df1, df2, df3])"
   ]
  },
  {
   "cell_type": "code",
   "execution_count": 7,
   "metadata": {},
   "outputs": [
    {
     "data": {
      "text/plain": [
       "date               4190589\n",
       "time               4190589\n",
       "s-ip               4190589\n",
       "cs-method          4190589\n",
       "cs-uri-stem        4190589\n",
       "cs-uri-query       4190589\n",
       "s-port             4190589\n",
       "cs-username        4190589\n",
       "c-ip               4190589\n",
       "cs(User-Agent)     4190589\n",
       "cs(Referer)        4190589\n",
       "sc-status          4190589\n",
       "sc-substatus       4190589\n",
       "sc-win32-status    4190589\n",
       "time-taken         4190589\n",
       "dtype: int64"
      ]
     },
     "execution_count": 7,
     "metadata": {},
     "output_type": "execute_result"
    }
   ],
   "source": [
    "df.count()"
   ]
  },
  {
   "cell_type": "markdown",
   "metadata": {},
   "source": [
    "## 該当ユーザ抽出"
   ]
  },
  {
   "cell_type": "code",
   "execution_count": 20,
   "metadata": {
    "collapsed": true
   },
   "outputs": [],
   "source": [
    "#ここもだいじ　na=False"
   ]
  },
  {
   "cell_type": "code",
   "execution_count": 21,
   "metadata": {
    "collapsed": true,
    "scrolled": true
   },
   "outputs": [],
   "source": [
    "df_p1 = df[df['cs-username'].str.contains('pppp1', na=False)]"
   ]
  },
  {
   "cell_type": "code",
   "execution_count": 22,
   "metadata": {
    "collapsed": true
   },
   "outputs": [],
   "source": [
    "df_p1.to_csv(\"pppp1_10-oct.csv\")"
   ]
  },
  {
   "cell_type": "code",
   "execution_count": 23,
   "metadata": {},
   "outputs": [
    {
     "data": {
      "text/plain": [
       "date               656\n",
       "time               656\n",
       "s-ip               656\n",
       "cs-method          656\n",
       "cs-uri-stem        656\n",
       "cs-uri-query       656\n",
       "s-port             656\n",
       "cs-username        656\n",
       "c-ip               656\n",
       "cs(User-Agent)     656\n",
       "cs(Referer)        656\n",
       "sc-status          656\n",
       "sc-substatus       656\n",
       "sc-win32-status    656\n",
       "time-taken         656\n",
       "dtype: int64"
      ]
     },
     "execution_count": 23,
     "metadata": {},
     "output_type": "execute_result"
    }
   ],
   "source": [
    "df_p1.count()"
   ]
  },
  {
   "cell_type": "code",
   "execution_count": 11,
   "metadata": {
    "scrolled": true
   },
   "outputs": [
    {
     "data": {
      "text/plain": [
       "0          2017-11-10 00:00:00\n",
       "1          2017-11-10 00:00:00\n",
       "2          2017-11-10 00:00:00\n",
       "3          2017-11-10 00:00:00\n",
       "4          2017-11-10 00:00:00\n",
       "5          2017-11-10 00:00:00\n",
       "6          2017-11-10 00:00:00\n",
       "7          2017-11-10 00:00:00\n",
       "8          2017-11-10 00:00:00\n",
       "9          2017-11-10 00:00:00\n",
       "10         2017-11-10 00:00:00\n",
       "11         2017-11-10 00:00:00\n",
       "12         2017-11-10 00:00:00\n",
       "13         2017-11-10 00:00:00\n",
       "14         2017-11-10 00:00:00\n",
       "15         2017-11-10 00:00:00\n",
       "16         2017-11-10 00:00:00\n",
       "17         2017-11-10 00:00:00\n",
       "18         2017-11-10 00:00:00\n",
       "19         2017-11-10 00:00:00\n",
       "20         2017-11-10 00:00:00\n",
       "21         2017-11-10 00:00:00\n",
       "22         2017-11-10 00:00:00\n",
       "23         2017-11-10 00:00:00\n",
       "24         2017-11-10 00:00:00\n",
       "25         2017-11-10 00:00:00\n",
       "26         2017-11-10 00:00:00\n",
       "27         2017-11-10 00:00:00\n",
       "28         2017-11-10 00:00:00\n",
       "29         2017-11-10 00:00:00\n",
       "                  ...         \n",
       "1122184    2017-11-10 23:59:54\n",
       "1122185    2017-11-10 23:59:54\n",
       "1122186    2017-11-10 23:59:55\n",
       "1122187    2017-11-10 23:59:55\n",
       "1122188    2017-11-10 23:59:55\n",
       "1122189    2017-11-10 23:59:55\n",
       "1122190    2017-11-10 23:59:55\n",
       "1122191    2017-11-10 23:59:55\n",
       "1122192    2017-11-10 23:59:55\n",
       "1122193    2017-11-10 23:59:55\n",
       "1122194    2017-11-10 23:59:55\n",
       "1122195    2017-11-10 23:59:55\n",
       "1122196    2017-11-10 23:59:55\n",
       "1122197    2017-11-10 23:59:55\n",
       "1122198    2017-11-10 23:59:55\n",
       "1122199    2017-11-10 23:59:55\n",
       "1122200    2017-11-10 23:59:55\n",
       "1122201    2017-11-10 23:59:55\n",
       "1122202    2017-11-10 23:59:57\n",
       "1122203    2017-11-10 23:59:57\n",
       "1122204    2017-11-10 23:59:57\n",
       "1122205    2017-11-10 23:59:57\n",
       "1122206    2017-11-10 23:59:57\n",
       "1122207    2017-11-10 23:59:57\n",
       "1122208    2017-11-10 23:59:58\n",
       "1122209    2017-11-10 23:59:58\n",
       "1122210    2017-11-10 23:59:58\n",
       "1122211    2017-11-10 23:59:58\n",
       "1122212    2017-11-10 23:59:58\n",
       "1122213    2017-11-10 23:59:59\n",
       "Length: 4190589, dtype: object"
      ]
     },
     "execution_count": 11,
     "metadata": {},
     "output_type": "execute_result"
    }
   ],
   "source": [
    "datetime = pd.Series(df_p1['date'] + \" \" + df_p1['time'])\n",
    "datetime"
   ]
  },
  {
   "cell_type": "code",
   "execution_count": 12,
   "metadata": {
    "collapsed": true
   },
   "outputs": [],
   "source": [
    "# Create datetime column\n",
    "df_p1['datetime'] = datetime"
   ]
  },
  {
   "cell_type": "code",
   "execution_count": 1,
   "metadata": {
    "scrolled": true
   },
   "outputs": [
    {
     "ename": "NameError",
     "evalue": "name 'df_p1' is not defined",
     "output_type": "error",
     "traceback": [
      "\u001b[0;31m---------------------------------------------------------------------------\u001b[0m",
      "\u001b[0;31mNameError\u001b[0m                                 Traceback (most recent call last)",
      "\u001b[0;32m<ipython-input-1-3496ec93c0c3>\u001b[0m in \u001b[0;36m<module>\u001b[0;34m()\u001b[0m\n\u001b[0;32m----> 1\u001b[0;31m \u001b[0mdf_p1\u001b[0m\u001b[0;34m.\u001b[0m\u001b[0mtail\u001b[0m\u001b[0;34m(\u001b[0m\u001b[0;34m)\u001b[0m\u001b[0;34m\u001b[0m\u001b[0m\n\u001b[0m",
      "\u001b[0;31mNameError\u001b[0m: name 'df_p1' is not defined"
     ]
    }
   ],
   "source": [
    "df_p1.tail()"
   ]
  },
  {
   "cell_type": "markdown",
   "metadata": {},
   "source": [
    "## インデックスを日付に変更"
   ]
  },
  {
   "cell_type": "code",
   "execution_count": 14,
   "metadata": {
    "collapsed": true
   },
   "outputs": [],
   "source": [
    "# Update index\n",
    "df_p1 = df_p1.set_index(datetime)"
   ]
  },
  {
   "cell_type": "code",
   "execution_count": 15,
   "metadata": {},
   "outputs": [
    {
     "data": {
      "text/plain": [
       "DatetimeIndex(['2017-11-10 00:00:00+00:00', '2017-11-10 00:00:00+00:00',\n",
       "               '2017-11-10 00:00:00+00:00', '2017-11-10 00:00:00+00:00',\n",
       "               '2017-11-10 00:00:00+00:00', '2017-11-10 00:00:00+00:00',\n",
       "               '2017-11-10 00:00:00+00:00', '2017-11-10 00:00:00+00:00',\n",
       "               '2017-11-10 00:00:00+00:00', '2017-11-10 00:00:00+00:00',\n",
       "               ...\n",
       "               '2017-11-10 23:59:57+00:00', '2017-11-10 23:59:57+00:00',\n",
       "               '2017-11-10 23:59:57+00:00', '2017-11-10 23:59:57+00:00',\n",
       "               '2017-11-10 23:59:58+00:00', '2017-11-10 23:59:58+00:00',\n",
       "               '2017-11-10 23:59:58+00:00', '2017-11-10 23:59:58+00:00',\n",
       "               '2017-11-10 23:59:58+00:00', '2017-11-10 23:59:59+00:00'],\n",
       "              dtype='datetime64[ns, UTC]', length=4190589, freq=None)"
      ]
     },
     "execution_count": 15,
     "metadata": {},
     "output_type": "execute_result"
    }
   ],
   "source": [
    "df_p1.index = pd.to_datetime(df_p1.index, utc=True)\n",
    "df_p1.index"
   ]
  },
  {
   "cell_type": "code",
   "execution_count": 16,
   "metadata": {
    "collapsed": true
   },
   "outputs": [],
   "source": [
    "df_p1['datetime'] = pd.to_datetime(df_p1['datetime'], utc=True)"
   ]
  },
  {
   "cell_type": "code",
   "execution_count": 17,
   "metadata": {},
   "outputs": [
    {
     "data": {
      "text/plain": [
       "date               4190589\n",
       "time               4190589\n",
       "s-ip               4190589\n",
       "cs-method          4190589\n",
       "cs-uri-stem        4190589\n",
       "cs-uri-query       4190589\n",
       "s-port             4190589\n",
       "cs-username        4190589\n",
       "c-ip               4190589\n",
       "cs(User-Agent)     4190589\n",
       "cs(Referer)        4190589\n",
       "sc-status          4190589\n",
       "sc-substatus       4190589\n",
       "sc-win32-status    4190589\n",
       "time-taken         4190589\n",
       "datetime           4190589\n",
       "dtype: int64"
      ]
     },
     "execution_count": 17,
     "metadata": {},
     "output_type": "execute_result"
    }
   ],
   "source": [
    "df_p1.count()"
   ]
  },
  {
   "cell_type": "code",
   "execution_count": 2,
   "metadata": {
    "scrolled": true
   },
   "outputs": [
    {
     "ename": "NameError",
     "evalue": "name 'df_p1' is not defined",
     "output_type": "error",
     "traceback": [
      "\u001b[0;31m---------------------------------------------------------------------------\u001b[0m",
      "\u001b[0;31mNameError\u001b[0m                                 Traceback (most recent call last)",
      "\u001b[0;32m<ipython-input-2-ae8da764f8d3>\u001b[0m in \u001b[0;36m<module>\u001b[0;34m()\u001b[0m\n\u001b[0;32m----> 1\u001b[0;31m \u001b[0mdf_p1\u001b[0m\u001b[0;34m.\u001b[0m\u001b[0mhead\u001b[0m\u001b[0;34m(\u001b[0m\u001b[0;34m)\u001b[0m\u001b[0;34m\u001b[0m\u001b[0m\n\u001b[0m",
      "\u001b[0;31mNameError\u001b[0m: name 'df_p1' is not defined"
     ]
    }
   ],
   "source": [
    "df_p1.head()"
   ]
  },
  {
   "cell_type": "markdown",
   "metadata": {},
   "source": [
    "## 不要カラムの削除"
   ]
  },
  {
   "cell_type": "code",
   "execution_count": 19,
   "metadata": {
    "collapsed": true,
    "scrolled": true
   },
   "outputs": [],
   "source": [
    "#df_p1 = df_p1.drop(['date','time'], axis=1)"
   ]
  },
  {
   "cell_type": "markdown",
   "metadata": {},
   "source": [
    "# 描画"
   ]
  },
  {
   "cell_type": "code",
   "execution_count": 21,
   "metadata": {
    "collapsed": true
   },
   "outputs": [],
   "source": [
    "import seaborn as sns\n",
    "\n",
    "%matplotlib inline"
   ]
  },
  {
   "cell_type": "code",
   "execution_count": 22,
   "metadata": {},
   "outputs": [
    {
     "data": {
      "text/plain": [
       "Index(['s-ip', 'cs-method', 'cs-uri-stem', 'cs-uri-query', 's-port',\n",
       "       'cs-username', 'c-ip', 'cs(User-Agent)', 'cs(Referer)', 'sc-status',\n",
       "       'sc-substatus', 'sc-win32-status', 'time-taken', 'datetime'],\n",
       "      dtype='object')"
      ]
     },
     "execution_count": 22,
     "metadata": {},
     "output_type": "execute_result"
    }
   ],
   "source": [
    "df_p1.columns"
   ]
  },
  {
   "cell_type": "code",
   "execution_count": 23,
   "metadata": {
    "scrolled": true
   },
   "outputs": [
    {
     "data": {
      "text/plain": [
       "s-ip                       object\n",
       "cs-method                  object\n",
       "cs-uri-stem                object\n",
       "cs-uri-query               object\n",
       "s-port                      int64\n",
       "cs-username                object\n",
       "c-ip                       object\n",
       "cs(User-Agent)             object\n",
       "cs(Referer)                object\n",
       "sc-status                   int64\n",
       "sc-substatus                int64\n",
       "sc-win32-status             int64\n",
       "time-taken                  int64\n",
       "datetime           datetime64[ns]\n",
       "dtype: object"
      ]
     },
     "execution_count": 23,
     "metadata": {},
     "output_type": "execute_result"
    }
   ],
   "source": [
    "df_p1.dtypes"
   ]
  },
  {
   "cell_type": "code",
   "execution_count": null,
   "metadata": {
    "collapsed": true
   },
   "outputs": [],
   "source": [
    "## 時間帯で指定"
   ]
  },
  {
   "cell_type": "code",
   "execution_count": 51,
   "metadata": {
    "collapsed": true
   },
   "outputs": [],
   "source": [
    "tdf = df_p1.between_time(start_time='9:30', end_time='10:30') "
   ]
  },
  {
   "cell_type": "code",
   "execution_count": 53,
   "metadata": {
    "collapsed": true
   },
   "outputs": [],
   "source": [
    "tdf.count()\n",
    "tdf.to_csv(\"all_log_10-Nov_0930-1030.csv\")"
   ]
  },
  {
   "cell_type": "code",
   "execution_count": null,
   "metadata": {
    "collapsed": true
   },
   "outputs": [],
   "source": [
    "## 描画の続き"
   ]
  },
  {
   "cell_type": "code",
   "execution_count": 24,
   "metadata": {
    "scrolled": true
   },
   "outputs": [
    {
     "data": {
      "text/plain": [
       "cs-method     sc-status                           \n",
       "GET           200        2017-11-10 00:00:00+00:00    417\n",
       "                         2017-11-10 00:10:00+00:00    395\n",
       "                         2017-11-10 00:20:00+00:00    414\n",
       "                         2017-11-10 00:30:00+00:00    391\n",
       "                         2017-11-10 00:40:00+00:00    409\n",
       "                         2017-11-10 00:50:00+00:00    385\n",
       "                         2017-11-10 01:00:00+00:00    480\n",
       "                         2017-11-10 01:10:00+00:00    438\n",
       "                         2017-11-10 01:20:00+00:00    419\n",
       "                         2017-11-10 01:30:00+00:00    393\n",
       "                         2017-11-10 01:40:00+00:00    442\n",
       "                         2017-11-10 01:50:00+00:00    388\n",
       "                         2017-11-10 02:00:00+00:00    451\n",
       "                         2017-11-10 02:10:00+00:00    389\n",
       "                         2017-11-10 02:20:00+00:00    554\n",
       "                         2017-11-10 02:30:00+00:00    402\n",
       "                         2017-11-10 02:40:00+00:00    448\n",
       "                         2017-11-10 02:50:00+00:00    395\n",
       "                         2017-11-10 03:00:00+00:00    410\n",
       "                         2017-11-10 03:10:00+00:00    455\n",
       "                         2017-11-10 03:20:00+00:00    407\n",
       "                         2017-11-10 03:30:00+00:00    392\n",
       "                         2017-11-10 03:40:00+00:00    439\n",
       "                         2017-11-10 03:50:00+00:00    392\n",
       "                         2017-11-10 04:00:00+00:00    405\n",
       "                         2017-11-10 04:10:00+00:00    386\n",
       "                         2017-11-10 04:20:00+00:00    408\n",
       "                         2017-11-10 04:30:00+00:00    390\n",
       "                         2017-11-10 04:40:00+00:00    405\n",
       "                         2017-11-10 04:50:00+00:00    385\n",
       "                                                     ... \n",
       "RPC_OUT_DATA  404        2017-11-10 14:00:00+00:00     24\n",
       "                         2017-11-10 14:10:00+00:00     24\n",
       "                         2017-11-10 14:20:00+00:00     24\n",
       "                         2017-11-10 14:30:00+00:00     24\n",
       "                         2017-11-10 14:40:00+00:00     18\n",
       "                         2017-11-10 14:50:00+00:00     18\n",
       "                         2017-11-10 15:00:00+00:00     12\n",
       "                         2017-11-10 15:10:00+00:00     12\n",
       "                         2017-11-10 15:20:00+00:00     12\n",
       "                         2017-11-10 15:30:00+00:00     12\n",
       "                         2017-11-10 15:40:00+00:00     12\n",
       "                         2017-11-10 15:50:00+00:00      6\n",
       "                         2017-11-10 16:00:00+00:00     12\n",
       "                         2017-11-10 16:10:00+00:00     12\n",
       "                         2017-11-10 16:20:00+00:00     12\n",
       "                         2017-11-10 16:30:00+00:00     12\n",
       "                         2017-11-10 16:40:00+00:00     12\n",
       "                         2017-11-10 16:50:00+00:00      9\n",
       "                         2017-11-10 17:00:00+00:00      9\n",
       "                         2017-11-10 17:10:00+00:00     12\n",
       "                         2017-11-10 17:20:00+00:00     12\n",
       "                         2017-11-10 17:30:00+00:00     12\n",
       "                         2017-11-10 17:40:00+00:00     12\n",
       "                         2017-11-10 17:50:00+00:00     12\n",
       "                         2017-11-10 18:00:00+00:00      6\n",
       "                         2017-11-10 18:10:00+00:00     12\n",
       "                         2017-11-10 18:20:00+00:00     12\n",
       "                         2017-11-10 18:30:00+00:00     12\n",
       "                         2017-11-10 18:40:00+00:00     12\n",
       "              500        2017-11-10 00:50:00+00:00      2\n",
       "Name: cs-username, Length: 2692, dtype: int64"
      ]
     },
     "execution_count": 24,
     "metadata": {},
     "output_type": "execute_result"
    }
   ],
   "source": [
    "# 複数指定はlistで。\n",
    "df_p1_grpby = df_p1.groupby([\"cs-method\",\"sc-status\"]).resample('10T')['cs-username'].count()\n",
    "df_p1_grpby"
   ]
  },
  {
   "cell_type": "code",
   "execution_count": 25,
   "metadata": {
    "collapsed": true
   },
   "outputs": [],
   "source": [
    "df_p1_grpby = df_p1_grpby.unstack(['cs-method','sc-status'], fill_value=0)"
   ]
  },
  {
   "cell_type": "code",
   "execution_count": 26,
   "metadata": {},
   "outputs": [
    {
     "data": {
      "text/html": [
       "<div>\n",
       "<style>\n",
       "    .dataframe thead tr:only-child th {\n",
       "        text-align: right;\n",
       "    }\n",
       "\n",
       "    .dataframe thead th {\n",
       "        text-align: left;\n",
       "    }\n",
       "\n",
       "    .dataframe tbody tr th {\n",
       "        vertical-align: top;\n",
       "    }\n",
       "</style>\n",
       "<table border=\"1\" class=\"dataframe\">\n",
       "  <thead>\n",
       "    <tr>\n",
       "      <th>cs-method</th>\n",
       "      <th colspan=\"7\" halign=\"left\">GET</th>\n",
       "      <th colspan=\"2\" halign=\"left\">HEAD</th>\n",
       "      <th>OPTIONS</th>\n",
       "      <th>...</th>\n",
       "      <th colspan=\"2\" halign=\"left\">POST</th>\n",
       "      <th colspan=\"4\" halign=\"left\">RPC_IN_DATA</th>\n",
       "      <th colspan=\"4\" halign=\"left\">RPC_OUT_DATA</th>\n",
       "    </tr>\n",
       "    <tr>\n",
       "      <th>sc-status</th>\n",
       "      <th>200</th>\n",
       "      <th>206</th>\n",
       "      <th>242</th>\n",
       "      <th>302</th>\n",
       "      <th>401</th>\n",
       "      <th>403</th>\n",
       "      <th>404</th>\n",
       "      <th>200</th>\n",
       "      <th>401</th>\n",
       "      <th>200</th>\n",
       "      <th>...</th>\n",
       "      <th>500</th>\n",
       "      <th>503</th>\n",
       "      <th>200</th>\n",
       "      <th>401</th>\n",
       "      <th>404</th>\n",
       "      <th>500</th>\n",
       "      <th>200</th>\n",
       "      <th>401</th>\n",
       "      <th>404</th>\n",
       "      <th>500</th>\n",
       "    </tr>\n",
       "  </thead>\n",
       "  <tbody>\n",
       "    <tr>\n",
       "      <th>2017-11-10 00:00:00+00:00</th>\n",
       "      <td>417.0</td>\n",
       "      <td>NaN</td>\n",
       "      <td>NaN</td>\n",
       "      <td>188.0</td>\n",
       "      <td>212.0</td>\n",
       "      <td>133.0</td>\n",
       "      <td>54.0</td>\n",
       "      <td>NaN</td>\n",
       "      <td>NaN</td>\n",
       "      <td>108.0</td>\n",
       "      <td>...</td>\n",
       "      <td>23.0</td>\n",
       "      <td>NaN</td>\n",
       "      <td>426.0</td>\n",
       "      <td>1104.0</td>\n",
       "      <td>216.0</td>\n",
       "      <td>2.0</td>\n",
       "      <td>395.0</td>\n",
       "      <td>1076.0</td>\n",
       "      <td>216.0</td>\n",
       "      <td>NaN</td>\n",
       "    </tr>\n",
       "    <tr>\n",
       "      <th>2017-11-10 00:10:00+00:00</th>\n",
       "      <td>395.0</td>\n",
       "      <td>NaN</td>\n",
       "      <td>NaN</td>\n",
       "      <td>176.0</td>\n",
       "      <td>290.0</td>\n",
       "      <td>129.0</td>\n",
       "      <td>79.0</td>\n",
       "      <td>NaN</td>\n",
       "      <td>NaN</td>\n",
       "      <td>88.0</td>\n",
       "      <td>...</td>\n",
       "      <td>31.0</td>\n",
       "      <td>NaN</td>\n",
       "      <td>598.0</td>\n",
       "      <td>1472.0</td>\n",
       "      <td>210.0</td>\n",
       "      <td>0.0</td>\n",
       "      <td>564.0</td>\n",
       "      <td>1451.0</td>\n",
       "      <td>210.0</td>\n",
       "      <td>NaN</td>\n",
       "    </tr>\n",
       "    <tr>\n",
       "      <th>2017-11-10 00:20:00+00:00</th>\n",
       "      <td>414.0</td>\n",
       "      <td>NaN</td>\n",
       "      <td>NaN</td>\n",
       "      <td>188.0</td>\n",
       "      <td>353.0</td>\n",
       "      <td>144.0</td>\n",
       "      <td>108.0</td>\n",
       "      <td>NaN</td>\n",
       "      <td>NaN</td>\n",
       "      <td>115.0</td>\n",
       "      <td>...</td>\n",
       "      <td>28.0</td>\n",
       "      <td>NaN</td>\n",
       "      <td>639.0</td>\n",
       "      <td>1595.0</td>\n",
       "      <td>198.0</td>\n",
       "      <td>1.0</td>\n",
       "      <td>590.0</td>\n",
       "      <td>1576.0</td>\n",
       "      <td>198.0</td>\n",
       "      <td>NaN</td>\n",
       "    </tr>\n",
       "    <tr>\n",
       "      <th>2017-11-10 00:30:00+00:00</th>\n",
       "      <td>391.0</td>\n",
       "      <td>NaN</td>\n",
       "      <td>NaN</td>\n",
       "      <td>176.0</td>\n",
       "      <td>489.0</td>\n",
       "      <td>153.0</td>\n",
       "      <td>137.0</td>\n",
       "      <td>NaN</td>\n",
       "      <td>NaN</td>\n",
       "      <td>120.0</td>\n",
       "      <td>...</td>\n",
       "      <td>32.0</td>\n",
       "      <td>NaN</td>\n",
       "      <td>982.0</td>\n",
       "      <td>2322.0</td>\n",
       "      <td>245.0</td>\n",
       "      <td>0.0</td>\n",
       "      <td>896.0</td>\n",
       "      <td>2273.0</td>\n",
       "      <td>222.0</td>\n",
       "      <td>NaN</td>\n",
       "    </tr>\n",
       "    <tr>\n",
       "      <th>2017-11-10 00:40:00+00:00</th>\n",
       "      <td>409.0</td>\n",
       "      <td>NaN</td>\n",
       "      <td>NaN</td>\n",
       "      <td>188.0</td>\n",
       "      <td>776.0</td>\n",
       "      <td>173.0</td>\n",
       "      <td>263.0</td>\n",
       "      <td>NaN</td>\n",
       "      <td>NaN</td>\n",
       "      <td>129.0</td>\n",
       "      <td>...</td>\n",
       "      <td>26.0</td>\n",
       "      <td>NaN</td>\n",
       "      <td>1459.0</td>\n",
       "      <td>3495.0</td>\n",
       "      <td>284.0</td>\n",
       "      <td>0.0</td>\n",
       "      <td>1295.0</td>\n",
       "      <td>3437.0</td>\n",
       "      <td>248.0</td>\n",
       "      <td>NaN</td>\n",
       "    </tr>\n",
       "  </tbody>\n",
       "</table>\n",
       "<p>5 rows × 26 columns</p>\n",
       "</div>"
      ],
      "text/plain": [
       "cs-method                    GET                                     HEAD      \\\n",
       "sc-status                    200 206 242    302    401    403    404  200 401   \n",
       "2017-11-10 00:00:00+00:00  417.0 NaN NaN  188.0  212.0  133.0   54.0  NaN NaN   \n",
       "2017-11-10 00:10:00+00:00  395.0 NaN NaN  176.0  290.0  129.0   79.0  NaN NaN   \n",
       "2017-11-10 00:20:00+00:00  414.0 NaN NaN  188.0  353.0  144.0  108.0  NaN NaN   \n",
       "2017-11-10 00:30:00+00:00  391.0 NaN NaN  176.0  489.0  153.0  137.0  NaN NaN   \n",
       "2017-11-10 00:40:00+00:00  409.0 NaN NaN  188.0  776.0  173.0  263.0  NaN NaN   \n",
       "\n",
       "cs-method                 OPTIONS ...  POST     RPC_IN_DATA                 \\\n",
       "sc-status                     200 ...   500 503         200     401    404   \n",
       "2017-11-10 00:00:00+00:00   108.0 ...  23.0 NaN       426.0  1104.0  216.0   \n",
       "2017-11-10 00:10:00+00:00    88.0 ...  31.0 NaN       598.0  1472.0  210.0   \n",
       "2017-11-10 00:20:00+00:00   115.0 ...  28.0 NaN       639.0  1595.0  198.0   \n",
       "2017-11-10 00:30:00+00:00   120.0 ...  32.0 NaN       982.0  2322.0  245.0   \n",
       "2017-11-10 00:40:00+00:00   129.0 ...  26.0 NaN      1459.0  3495.0  284.0   \n",
       "\n",
       "cs-method                      RPC_OUT_DATA                     \n",
       "sc-status                  500          200     401    404 500  \n",
       "2017-11-10 00:00:00+00:00  2.0        395.0  1076.0  216.0 NaN  \n",
       "2017-11-10 00:10:00+00:00  0.0        564.0  1451.0  210.0 NaN  \n",
       "2017-11-10 00:20:00+00:00  1.0        590.0  1576.0  198.0 NaN  \n",
       "2017-11-10 00:30:00+00:00  0.0        896.0  2273.0  222.0 NaN  \n",
       "2017-11-10 00:40:00+00:00  0.0       1295.0  3437.0  248.0 NaN  \n",
       "\n",
       "[5 rows x 26 columns]"
      ]
     },
     "execution_count": 26,
     "metadata": {},
     "output_type": "execute_result"
    }
   ],
   "source": [
    "df_p1_grpby.head()"
   ]
  },
  {
   "cell_type": "code",
   "execution_count": 27,
   "metadata": {
    "scrolled": true
   },
   "outputs": [
    {
     "data": {
      "text/plain": [
       "MultiIndex(levels=[['GET', 'HEAD', 'OPTIONS', 'POST', 'RPC_IN_DATA', 'RPC_OUT_DATA'], [200, 206, 242, 302, 401, 403, 404, 440, 500, 503]],\n",
       "           labels=[[0, 0, 0, 0, 0, 0, 0, 1, 1, 2, 2, 3, 3, 3, 3, 3, 3, 3, 4, 4, 4, 4, 5, 5, 5, 5], [0, 1, 2, 3, 4, 5, 6, 0, 4, 0, 4, 0, 3, 4, 6, 7, 8, 9, 0, 4, 6, 8, 0, 4, 6, 8]],\n",
       "           names=['cs-method', 'sc-status'])"
      ]
     },
     "execution_count": 27,
     "metadata": {},
     "output_type": "execute_result"
    }
   ],
   "source": [
    "df_p1_grpby.columns"
   ]
  },
  {
   "cell_type": "code",
   "execution_count": 28,
   "metadata": {},
   "outputs": [
    {
     "data": {
      "text/html": [
       "<div>\n",
       "<style>\n",
       "    .dataframe thead tr:only-child th {\n",
       "        text-align: right;\n",
       "    }\n",
       "\n",
       "    .dataframe thead th {\n",
       "        text-align: left;\n",
       "    }\n",
       "\n",
       "    .dataframe tbody tr th {\n",
       "        vertical-align: top;\n",
       "    }\n",
       "</style>\n",
       "<table border=\"1\" class=\"dataframe\">\n",
       "  <thead>\n",
       "    <tr>\n",
       "      <th>cs-method</th>\n",
       "      <th colspan=\"7\" halign=\"left\">GET</th>\n",
       "      <th colspan=\"2\" halign=\"left\">HEAD</th>\n",
       "      <th>OPTIONS</th>\n",
       "      <th>...</th>\n",
       "      <th colspan=\"2\" halign=\"left\">POST</th>\n",
       "      <th colspan=\"4\" halign=\"left\">RPC_IN_DATA</th>\n",
       "      <th colspan=\"4\" halign=\"left\">RPC_OUT_DATA</th>\n",
       "    </tr>\n",
       "    <tr>\n",
       "      <th>sc-status</th>\n",
       "      <th>200</th>\n",
       "      <th>206</th>\n",
       "      <th>242</th>\n",
       "      <th>302</th>\n",
       "      <th>401</th>\n",
       "      <th>403</th>\n",
       "      <th>404</th>\n",
       "      <th>200</th>\n",
       "      <th>401</th>\n",
       "      <th>200</th>\n",
       "      <th>...</th>\n",
       "      <th>500</th>\n",
       "      <th>503</th>\n",
       "      <th>200</th>\n",
       "      <th>401</th>\n",
       "      <th>404</th>\n",
       "      <th>500</th>\n",
       "      <th>200</th>\n",
       "      <th>401</th>\n",
       "      <th>404</th>\n",
       "      <th>500</th>\n",
       "    </tr>\n",
       "  </thead>\n",
       "  <tbody>\n",
       "    <tr>\n",
       "      <th>2017-11-10 00:00:00+00:00</th>\n",
       "      <td>417.0</td>\n",
       "      <td>NaN</td>\n",
       "      <td>NaN</td>\n",
       "      <td>188.0</td>\n",
       "      <td>212.0</td>\n",
       "      <td>133.0</td>\n",
       "      <td>54.0</td>\n",
       "      <td>NaN</td>\n",
       "      <td>NaN</td>\n",
       "      <td>108.0</td>\n",
       "      <td>...</td>\n",
       "      <td>23.0</td>\n",
       "      <td>NaN</td>\n",
       "      <td>426.0</td>\n",
       "      <td>1104.0</td>\n",
       "      <td>216.0</td>\n",
       "      <td>2.0</td>\n",
       "      <td>395.0</td>\n",
       "      <td>1076.0</td>\n",
       "      <td>216.0</td>\n",
       "      <td>NaN</td>\n",
       "    </tr>\n",
       "    <tr>\n",
       "      <th>2017-11-10 00:10:00+00:00</th>\n",
       "      <td>395.0</td>\n",
       "      <td>NaN</td>\n",
       "      <td>NaN</td>\n",
       "      <td>176.0</td>\n",
       "      <td>290.0</td>\n",
       "      <td>129.0</td>\n",
       "      <td>79.0</td>\n",
       "      <td>NaN</td>\n",
       "      <td>NaN</td>\n",
       "      <td>88.0</td>\n",
       "      <td>...</td>\n",
       "      <td>31.0</td>\n",
       "      <td>NaN</td>\n",
       "      <td>598.0</td>\n",
       "      <td>1472.0</td>\n",
       "      <td>210.0</td>\n",
       "      <td>0.0</td>\n",
       "      <td>564.0</td>\n",
       "      <td>1451.0</td>\n",
       "      <td>210.0</td>\n",
       "      <td>NaN</td>\n",
       "    </tr>\n",
       "  </tbody>\n",
       "</table>\n",
       "<p>2 rows × 26 columns</p>\n",
       "</div>"
      ],
      "text/plain": [
       "cs-method                    GET                                    HEAD      \\\n",
       "sc-status                    200 206 242    302    401    403   404  200 401   \n",
       "2017-11-10 00:00:00+00:00  417.0 NaN NaN  188.0  212.0  133.0  54.0  NaN NaN   \n",
       "2017-11-10 00:10:00+00:00  395.0 NaN NaN  176.0  290.0  129.0  79.0  NaN NaN   \n",
       "\n",
       "cs-method                 OPTIONS ...  POST     RPC_IN_DATA                 \\\n",
       "sc-status                     200 ...   500 503         200     401    404   \n",
       "2017-11-10 00:00:00+00:00   108.0 ...  23.0 NaN       426.0  1104.0  216.0   \n",
       "2017-11-10 00:10:00+00:00    88.0 ...  31.0 NaN       598.0  1472.0  210.0   \n",
       "\n",
       "cs-method                      RPC_OUT_DATA                     \n",
       "sc-status                  500          200     401    404 500  \n",
       "2017-11-10 00:00:00+00:00  2.0        395.0  1076.0  216.0 NaN  \n",
       "2017-11-10 00:10:00+00:00  0.0        564.0  1451.0  210.0 NaN  \n",
       "\n",
       "[2 rows x 26 columns]"
      ]
     },
     "execution_count": 28,
     "metadata": {},
     "output_type": "execute_result"
    }
   ],
   "source": [
    "df_p1_grpby.head(2)"
   ]
  },
  {
   "cell_type": "code",
   "execution_count": 29,
   "metadata": {
    "scrolled": true
   },
   "outputs": [
    {
     "data": {
      "text/html": [
       "<div>\n",
       "<style>\n",
       "    .dataframe thead tr:only-child th {\n",
       "        text-align: right;\n",
       "    }\n",
       "\n",
       "    .dataframe thead th {\n",
       "        text-align: left;\n",
       "    }\n",
       "\n",
       "    .dataframe tbody tr th {\n",
       "        vertical-align: top;\n",
       "    }\n",
       "</style>\n",
       "<table border=\"1\" class=\"dataframe\">\n",
       "  <thead>\n",
       "    <tr>\n",
       "      <th>cs-method</th>\n",
       "      <th colspan=\"7\" halign=\"left\">GET</th>\n",
       "      <th colspan=\"2\" halign=\"left\">HEAD</th>\n",
       "      <th>OPTIONS</th>\n",
       "      <th>...</th>\n",
       "      <th colspan=\"2\" halign=\"left\">POST</th>\n",
       "      <th colspan=\"4\" halign=\"left\">RPC_IN_DATA</th>\n",
       "      <th colspan=\"4\" halign=\"left\">RPC_OUT_DATA</th>\n",
       "    </tr>\n",
       "    <tr>\n",
       "      <th>sc-status</th>\n",
       "      <th>200</th>\n",
       "      <th>206</th>\n",
       "      <th>242</th>\n",
       "      <th>302</th>\n",
       "      <th>401</th>\n",
       "      <th>403</th>\n",
       "      <th>404</th>\n",
       "      <th>200</th>\n",
       "      <th>401</th>\n",
       "      <th>200</th>\n",
       "      <th>...</th>\n",
       "      <th>500</th>\n",
       "      <th>503</th>\n",
       "      <th>200</th>\n",
       "      <th>401</th>\n",
       "      <th>404</th>\n",
       "      <th>500</th>\n",
       "      <th>200</th>\n",
       "      <th>401</th>\n",
       "      <th>404</th>\n",
       "      <th>500</th>\n",
       "    </tr>\n",
       "  </thead>\n",
       "  <tbody>\n",
       "    <tr>\n",
       "      <th>2017-11-10 23:10:00+00:00</th>\n",
       "      <td>391.0</td>\n",
       "      <td>NaN</td>\n",
       "      <td>NaN</td>\n",
       "      <td>179.0</td>\n",
       "      <td>68.0</td>\n",
       "      <td>NaN</td>\n",
       "      <td>11.0</td>\n",
       "      <td>NaN</td>\n",
       "      <td>NaN</td>\n",
       "      <td>62.0</td>\n",
       "      <td>...</td>\n",
       "      <td>23.0</td>\n",
       "      <td>NaN</td>\n",
       "      <td>70.0</td>\n",
       "      <td>55.0</td>\n",
       "      <td>NaN</td>\n",
       "      <td>NaN</td>\n",
       "      <td>52.0</td>\n",
       "      <td>37.0</td>\n",
       "      <td>NaN</td>\n",
       "      <td>NaN</td>\n",
       "    </tr>\n",
       "    <tr>\n",
       "      <th>2017-11-10 23:20:00+00:00</th>\n",
       "      <td>401.0</td>\n",
       "      <td>NaN</td>\n",
       "      <td>NaN</td>\n",
       "      <td>185.0</td>\n",
       "      <td>74.0</td>\n",
       "      <td>NaN</td>\n",
       "      <td>8.0</td>\n",
       "      <td>NaN</td>\n",
       "      <td>NaN</td>\n",
       "      <td>40.0</td>\n",
       "      <td>...</td>\n",
       "      <td>22.0</td>\n",
       "      <td>NaN</td>\n",
       "      <td>75.0</td>\n",
       "      <td>47.0</td>\n",
       "      <td>NaN</td>\n",
       "      <td>NaN</td>\n",
       "      <td>57.0</td>\n",
       "      <td>29.0</td>\n",
       "      <td>NaN</td>\n",
       "      <td>NaN</td>\n",
       "    </tr>\n",
       "    <tr>\n",
       "      <th>2017-11-10 23:30:00+00:00</th>\n",
       "      <td>398.0</td>\n",
       "      <td>NaN</td>\n",
       "      <td>NaN</td>\n",
       "      <td>179.0</td>\n",
       "      <td>83.0</td>\n",
       "      <td>NaN</td>\n",
       "      <td>9.0</td>\n",
       "      <td>NaN</td>\n",
       "      <td>NaN</td>\n",
       "      <td>32.0</td>\n",
       "      <td>...</td>\n",
       "      <td>22.0</td>\n",
       "      <td>NaN</td>\n",
       "      <td>44.0</td>\n",
       "      <td>51.0</td>\n",
       "      <td>NaN</td>\n",
       "      <td>NaN</td>\n",
       "      <td>20.0</td>\n",
       "      <td>27.0</td>\n",
       "      <td>NaN</td>\n",
       "      <td>NaN</td>\n",
       "    </tr>\n",
       "    <tr>\n",
       "      <th>2017-11-10 23:40:00+00:00</th>\n",
       "      <td>403.0</td>\n",
       "      <td>NaN</td>\n",
       "      <td>NaN</td>\n",
       "      <td>185.0</td>\n",
       "      <td>72.0</td>\n",
       "      <td>NaN</td>\n",
       "      <td>7.0</td>\n",
       "      <td>NaN</td>\n",
       "      <td>NaN</td>\n",
       "      <td>48.0</td>\n",
       "      <td>...</td>\n",
       "      <td>23.0</td>\n",
       "      <td>NaN</td>\n",
       "      <td>36.0</td>\n",
       "      <td>33.0</td>\n",
       "      <td>NaN</td>\n",
       "      <td>NaN</td>\n",
       "      <td>20.0</td>\n",
       "      <td>17.0</td>\n",
       "      <td>NaN</td>\n",
       "      <td>NaN</td>\n",
       "    </tr>\n",
       "    <tr>\n",
       "      <th>2017-11-10 23:50:00+00:00</th>\n",
       "      <td>396.0</td>\n",
       "      <td>NaN</td>\n",
       "      <td>NaN</td>\n",
       "      <td>179.0</td>\n",
       "      <td>78.0</td>\n",
       "      <td>NaN</td>\n",
       "      <td>6.0</td>\n",
       "      <td>NaN</td>\n",
       "      <td>NaN</td>\n",
       "      <td>27.0</td>\n",
       "      <td>...</td>\n",
       "      <td>22.0</td>\n",
       "      <td>NaN</td>\n",
       "      <td>56.0</td>\n",
       "      <td>66.0</td>\n",
       "      <td>NaN</td>\n",
       "      <td>NaN</td>\n",
       "      <td>36.0</td>\n",
       "      <td>46.0</td>\n",
       "      <td>NaN</td>\n",
       "      <td>NaN</td>\n",
       "    </tr>\n",
       "  </tbody>\n",
       "</table>\n",
       "<p>5 rows × 26 columns</p>\n",
       "</div>"
      ],
      "text/plain": [
       "cs-method                    GET                                HEAD      \\\n",
       "sc-status                    200 206 242    302   401 403   404  200 401   \n",
       "2017-11-10 23:10:00+00:00  391.0 NaN NaN  179.0  68.0 NaN  11.0  NaN NaN   \n",
       "2017-11-10 23:20:00+00:00  401.0 NaN NaN  185.0  74.0 NaN   8.0  NaN NaN   \n",
       "2017-11-10 23:30:00+00:00  398.0 NaN NaN  179.0  83.0 NaN   9.0  NaN NaN   \n",
       "2017-11-10 23:40:00+00:00  403.0 NaN NaN  185.0  72.0 NaN   7.0  NaN NaN   \n",
       "2017-11-10 23:50:00+00:00  396.0 NaN NaN  179.0  78.0 NaN   6.0  NaN NaN   \n",
       "\n",
       "cs-method                 OPTIONS ...  POST     RPC_IN_DATA                \\\n",
       "sc-status                     200 ...   500 503         200   401 404 500   \n",
       "2017-11-10 23:10:00+00:00    62.0 ...  23.0 NaN        70.0  55.0 NaN NaN   \n",
       "2017-11-10 23:20:00+00:00    40.0 ...  22.0 NaN        75.0  47.0 NaN NaN   \n",
       "2017-11-10 23:30:00+00:00    32.0 ...  22.0 NaN        44.0  51.0 NaN NaN   \n",
       "2017-11-10 23:40:00+00:00    48.0 ...  23.0 NaN        36.0  33.0 NaN NaN   \n",
       "2017-11-10 23:50:00+00:00    27.0 ...  22.0 NaN        56.0  66.0 NaN NaN   \n",
       "\n",
       "cs-method                 RPC_OUT_DATA                \n",
       "sc-status                          200   401 404 500  \n",
       "2017-11-10 23:10:00+00:00         52.0  37.0 NaN NaN  \n",
       "2017-11-10 23:20:00+00:00         57.0  29.0 NaN NaN  \n",
       "2017-11-10 23:30:00+00:00         20.0  27.0 NaN NaN  \n",
       "2017-11-10 23:40:00+00:00         20.0  17.0 NaN NaN  \n",
       "2017-11-10 23:50:00+00:00         36.0  46.0 NaN NaN  \n",
       "\n",
       "[5 rows x 26 columns]"
      ]
     },
     "execution_count": 29,
     "metadata": {},
     "output_type": "execute_result"
    }
   ],
   "source": [
    "df_p1_grpby.tail()"
   ]
  },
  {
   "cell_type": "code",
   "execution_count": 31,
   "metadata": {
    "scrolled": false
   },
   "outputs": [
    {
     "data": {
      "text/html": [
       "<div>\n",
       "<style>\n",
       "    .dataframe thead tr:only-child th {\n",
       "        text-align: right;\n",
       "    }\n",
       "\n",
       "    .dataframe thead th {\n",
       "        text-align: left;\n",
       "    }\n",
       "\n",
       "    .dataframe tbody tr th {\n",
       "        vertical-align: top;\n",
       "    }\n",
       "</style>\n",
       "<table border=\"1\" class=\"dataframe\">\n",
       "  <thead>\n",
       "    <tr>\n",
       "      <th>cs-method</th>\n",
       "      <th colspan=\"7\" halign=\"left\">GET</th>\n",
       "    </tr>\n",
       "    <tr>\n",
       "      <th>sc-status</th>\n",
       "      <th>200</th>\n",
       "      <th>206</th>\n",
       "      <th>242</th>\n",
       "      <th>302</th>\n",
       "      <th>401</th>\n",
       "      <th>403</th>\n",
       "      <th>404</th>\n",
       "    </tr>\n",
       "  </thead>\n",
       "  <tbody>\n",
       "    <tr>\n",
       "      <th>2017-11-10 23:10:00+00:00</th>\n",
       "      <td>391.0</td>\n",
       "      <td>NaN</td>\n",
       "      <td>NaN</td>\n",
       "      <td>179.0</td>\n",
       "      <td>68.0</td>\n",
       "      <td>NaN</td>\n",
       "      <td>11.0</td>\n",
       "    </tr>\n",
       "    <tr>\n",
       "      <th>2017-11-10 23:20:00+00:00</th>\n",
       "      <td>401.0</td>\n",
       "      <td>NaN</td>\n",
       "      <td>NaN</td>\n",
       "      <td>185.0</td>\n",
       "      <td>74.0</td>\n",
       "      <td>NaN</td>\n",
       "      <td>8.0</td>\n",
       "    </tr>\n",
       "    <tr>\n",
       "      <th>2017-11-10 23:30:00+00:00</th>\n",
       "      <td>398.0</td>\n",
       "      <td>NaN</td>\n",
       "      <td>NaN</td>\n",
       "      <td>179.0</td>\n",
       "      <td>83.0</td>\n",
       "      <td>NaN</td>\n",
       "      <td>9.0</td>\n",
       "    </tr>\n",
       "    <tr>\n",
       "      <th>2017-11-10 23:40:00+00:00</th>\n",
       "      <td>403.0</td>\n",
       "      <td>NaN</td>\n",
       "      <td>NaN</td>\n",
       "      <td>185.0</td>\n",
       "      <td>72.0</td>\n",
       "      <td>NaN</td>\n",
       "      <td>7.0</td>\n",
       "    </tr>\n",
       "    <tr>\n",
       "      <th>2017-11-10 23:50:00+00:00</th>\n",
       "      <td>396.0</td>\n",
       "      <td>NaN</td>\n",
       "      <td>NaN</td>\n",
       "      <td>179.0</td>\n",
       "      <td>78.0</td>\n",
       "      <td>NaN</td>\n",
       "      <td>6.0</td>\n",
       "    </tr>\n",
       "  </tbody>\n",
       "</table>\n",
       "</div>"
      ],
      "text/plain": [
       "cs-method                    GET                               \n",
       "sc-status                    200 206 242    302   401 403   404\n",
       "2017-11-10 23:10:00+00:00  391.0 NaN NaN  179.0  68.0 NaN  11.0\n",
       "2017-11-10 23:20:00+00:00  401.0 NaN NaN  185.0  74.0 NaN   8.0\n",
       "2017-11-10 23:30:00+00:00  398.0 NaN NaN  179.0  83.0 NaN   9.0\n",
       "2017-11-10 23:40:00+00:00  403.0 NaN NaN  185.0  72.0 NaN   7.0\n",
       "2017-11-10 23:50:00+00:00  396.0 NaN NaN  179.0  78.0 NaN   6.0"
      ]
     },
     "execution_count": 31,
     "metadata": {},
     "output_type": "execute_result"
    }
   ],
   "source": [
    "# 404がint型なのに注意。。。だから''は無し。\n",
    "#df_p1_grpby.loc[:, [('GET', 404)]].tail()\n",
    "df_p1_grpby.loc[:, [('GET')]].tail()"
   ]
  },
  {
   "cell_type": "code",
   "execution_count": 32,
   "metadata": {
    "collapsed": true
   },
   "outputs": [],
   "source": [
    "l_g404_count = list(df_p1_grpby.loc[:, [('GET', 404)]].values.reshape(-1))\n",
    "\n",
    "l_g200_count = list(df_p1_grpby.loc[:, [('GET', 200)]].values.reshape(-1))\n",
    "l_g206_count = list(df_p1_grpby.loc[:, [('GET', 206)]].values.reshape(-1))\n",
    "l_g242_count = list(df_p1_grpby.loc[:, [('GET', 242)]].values.reshape(-1))\n",
    "l_g302_count = list(df_p1_grpby.loc[:, [('GET', 302)]].values.reshape(-1))\n",
    "l_g401_count = list(df_p1_grpby.loc[:, [('GET', 401)]].values.reshape(-1))\n",
    "l_g403_count = list(df_p1_grpby.loc[:, [('GET', 403)]].values.reshape(-1))"
   ]
  },
  {
   "cell_type": "code",
   "execution_count": 33,
   "metadata": {},
   "outputs": [
    {
     "data": {
      "text/html": [
       "<div>\n",
       "<style>\n",
       "    .dataframe thead tr:only-child th {\n",
       "        text-align: right;\n",
       "    }\n",
       "\n",
       "    .dataframe thead th {\n",
       "        text-align: left;\n",
       "    }\n",
       "\n",
       "    .dataframe tbody tr th {\n",
       "        vertical-align: top;\n",
       "    }\n",
       "</style>\n",
       "<table border=\"1\" class=\"dataframe\">\n",
       "  <thead>\n",
       "    <tr>\n",
       "      <th>cs-method</th>\n",
       "      <th colspan=\"2\" halign=\"left\">HEAD</th>\n",
       "    </tr>\n",
       "    <tr>\n",
       "      <th>sc-status</th>\n",
       "      <th>200</th>\n",
       "      <th>401</th>\n",
       "    </tr>\n",
       "  </thead>\n",
       "  <tbody>\n",
       "    <tr>\n",
       "      <th>2017-11-10 23:10:00+00:00</th>\n",
       "      <td>NaN</td>\n",
       "      <td>NaN</td>\n",
       "    </tr>\n",
       "    <tr>\n",
       "      <th>2017-11-10 23:20:00+00:00</th>\n",
       "      <td>NaN</td>\n",
       "      <td>NaN</td>\n",
       "    </tr>\n",
       "    <tr>\n",
       "      <th>2017-11-10 23:30:00+00:00</th>\n",
       "      <td>NaN</td>\n",
       "      <td>NaN</td>\n",
       "    </tr>\n",
       "    <tr>\n",
       "      <th>2017-11-10 23:40:00+00:00</th>\n",
       "      <td>NaN</td>\n",
       "      <td>NaN</td>\n",
       "    </tr>\n",
       "    <tr>\n",
       "      <th>2017-11-10 23:50:00+00:00</th>\n",
       "      <td>NaN</td>\n",
       "      <td>NaN</td>\n",
       "    </tr>\n",
       "  </tbody>\n",
       "</table>\n",
       "</div>"
      ],
      "text/plain": [
       "cs-method                 HEAD    \n",
       "sc-status                  200 401\n",
       "2017-11-10 23:10:00+00:00  NaN NaN\n",
       "2017-11-10 23:20:00+00:00  NaN NaN\n",
       "2017-11-10 23:30:00+00:00  NaN NaN\n",
       "2017-11-10 23:40:00+00:00  NaN NaN\n",
       "2017-11-10 23:50:00+00:00  NaN NaN"
      ]
     },
     "execution_count": 33,
     "metadata": {},
     "output_type": "execute_result"
    }
   ],
   "source": [
    "df_p1_grpby.loc[:, [('HEAD')]].tail()"
   ]
  },
  {
   "cell_type": "code",
   "execution_count": 34,
   "metadata": {
    "collapsed": true
   },
   "outputs": [],
   "source": [
    "l_h200_count = list(df_p1_grpby.loc[:, [('HEAD', 200)]].values.reshape(-1))\n",
    "l_h401_count = list(df_p1_grpby.loc[:, [('HEAD', 401)]].values.reshape(-1))"
   ]
  },
  {
   "cell_type": "code",
   "execution_count": 35,
   "metadata": {},
   "outputs": [
    {
     "data": {
      "text/html": [
       "<div>\n",
       "<style>\n",
       "    .dataframe thead tr:only-child th {\n",
       "        text-align: right;\n",
       "    }\n",
       "\n",
       "    .dataframe thead th {\n",
       "        text-align: left;\n",
       "    }\n",
       "\n",
       "    .dataframe tbody tr th {\n",
       "        vertical-align: top;\n",
       "    }\n",
       "</style>\n",
       "<table border=\"1\" class=\"dataframe\">\n",
       "  <thead>\n",
       "    <tr>\n",
       "      <th>cs-method</th>\n",
       "      <th colspan=\"2\" halign=\"left\">OPTIONS</th>\n",
       "    </tr>\n",
       "    <tr>\n",
       "      <th>sc-status</th>\n",
       "      <th>200</th>\n",
       "      <th>401</th>\n",
       "    </tr>\n",
       "  </thead>\n",
       "  <tbody>\n",
       "    <tr>\n",
       "      <th>2017-11-10 23:10:00+00:00</th>\n",
       "      <td>62.0</td>\n",
       "      <td>79.0</td>\n",
       "    </tr>\n",
       "    <tr>\n",
       "      <th>2017-11-10 23:20:00+00:00</th>\n",
       "      <td>40.0</td>\n",
       "      <td>50.0</td>\n",
       "    </tr>\n",
       "    <tr>\n",
       "      <th>2017-11-10 23:30:00+00:00</th>\n",
       "      <td>32.0</td>\n",
       "      <td>41.0</td>\n",
       "    </tr>\n",
       "    <tr>\n",
       "      <th>2017-11-10 23:40:00+00:00</th>\n",
       "      <td>48.0</td>\n",
       "      <td>57.0</td>\n",
       "    </tr>\n",
       "    <tr>\n",
       "      <th>2017-11-10 23:50:00+00:00</th>\n",
       "      <td>27.0</td>\n",
       "      <td>38.0</td>\n",
       "    </tr>\n",
       "  </tbody>\n",
       "</table>\n",
       "</div>"
      ],
      "text/plain": [
       "cs-method                 OPTIONS      \n",
       "sc-status                     200   401\n",
       "2017-11-10 23:10:00+00:00    62.0  79.0\n",
       "2017-11-10 23:20:00+00:00    40.0  50.0\n",
       "2017-11-10 23:30:00+00:00    32.0  41.0\n",
       "2017-11-10 23:40:00+00:00    48.0  57.0\n",
       "2017-11-10 23:50:00+00:00    27.0  38.0"
      ]
     },
     "execution_count": 35,
     "metadata": {},
     "output_type": "execute_result"
    }
   ],
   "source": [
    "df_p1_grpby.loc[:, [('OPTIONS')]].tail()"
   ]
  },
  {
   "cell_type": "code",
   "execution_count": 36,
   "metadata": {
    "collapsed": true
   },
   "outputs": [],
   "source": [
    "l_o200_count = list(df_p1_grpby.loc[:, [('OPTIONS', 200)]].values.reshape(-1))\n",
    "l_o401_count = list(df_p1_grpby.loc[:, [('OPTIONS', 401)]].values.reshape(-1))"
   ]
  },
  {
   "cell_type": "code",
   "execution_count": 37,
   "metadata": {},
   "outputs": [
    {
     "data": {
      "text/html": [
       "<div>\n",
       "<style>\n",
       "    .dataframe thead tr:only-child th {\n",
       "        text-align: right;\n",
       "    }\n",
       "\n",
       "    .dataframe thead th {\n",
       "        text-align: left;\n",
       "    }\n",
       "\n",
       "    .dataframe tbody tr th {\n",
       "        vertical-align: top;\n",
       "    }\n",
       "</style>\n",
       "<table border=\"1\" class=\"dataframe\">\n",
       "  <thead>\n",
       "    <tr>\n",
       "      <th>cs-method</th>\n",
       "      <th colspan=\"7\" halign=\"left\">POST</th>\n",
       "    </tr>\n",
       "    <tr>\n",
       "      <th>sc-status</th>\n",
       "      <th>200</th>\n",
       "      <th>302</th>\n",
       "      <th>401</th>\n",
       "      <th>404</th>\n",
       "      <th>440</th>\n",
       "      <th>500</th>\n",
       "      <th>503</th>\n",
       "    </tr>\n",
       "  </thead>\n",
       "  <tbody>\n",
       "    <tr>\n",
       "      <th>2017-11-10 23:10:00+00:00</th>\n",
       "      <td>1136.0</td>\n",
       "      <td>67.0</td>\n",
       "      <td>7081.0</td>\n",
       "      <td>3105.0</td>\n",
       "      <td>NaN</td>\n",
       "      <td>23.0</td>\n",
       "      <td>NaN</td>\n",
       "    </tr>\n",
       "    <tr>\n",
       "      <th>2017-11-10 23:20:00+00:00</th>\n",
       "      <td>2087.0</td>\n",
       "      <td>69.0</td>\n",
       "      <td>5314.0</td>\n",
       "      <td>2007.0</td>\n",
       "      <td>NaN</td>\n",
       "      <td>22.0</td>\n",
       "      <td>NaN</td>\n",
       "    </tr>\n",
       "    <tr>\n",
       "      <th>2017-11-10 23:30:00+00:00</th>\n",
       "      <td>1726.0</td>\n",
       "      <td>67.0</td>\n",
       "      <td>8014.0</td>\n",
       "      <td>3405.0</td>\n",
       "      <td>NaN</td>\n",
       "      <td>22.0</td>\n",
       "      <td>NaN</td>\n",
       "    </tr>\n",
       "    <tr>\n",
       "      <th>2017-11-10 23:40:00+00:00</th>\n",
       "      <td>1189.0</td>\n",
       "      <td>69.0</td>\n",
       "      <td>7100.0</td>\n",
       "      <td>3119.0</td>\n",
       "      <td>NaN</td>\n",
       "      <td>23.0</td>\n",
       "      <td>NaN</td>\n",
       "    </tr>\n",
       "    <tr>\n",
       "      <th>2017-11-10 23:50:00+00:00</th>\n",
       "      <td>2555.0</td>\n",
       "      <td>67.0</td>\n",
       "      <td>5737.0</td>\n",
       "      <td>1954.0</td>\n",
       "      <td>NaN</td>\n",
       "      <td>22.0</td>\n",
       "      <td>NaN</td>\n",
       "    </tr>\n",
       "  </tbody>\n",
       "</table>\n",
       "</div>"
      ],
      "text/plain": [
       "cs-method                    POST                                    \n",
       "sc-status                     200   302     401     404 440   500 503\n",
       "2017-11-10 23:10:00+00:00  1136.0  67.0  7081.0  3105.0 NaN  23.0 NaN\n",
       "2017-11-10 23:20:00+00:00  2087.0  69.0  5314.0  2007.0 NaN  22.0 NaN\n",
       "2017-11-10 23:30:00+00:00  1726.0  67.0  8014.0  3405.0 NaN  22.0 NaN\n",
       "2017-11-10 23:40:00+00:00  1189.0  69.0  7100.0  3119.0 NaN  23.0 NaN\n",
       "2017-11-10 23:50:00+00:00  2555.0  67.0  5737.0  1954.0 NaN  22.0 NaN"
      ]
     },
     "execution_count": 37,
     "metadata": {},
     "output_type": "execute_result"
    }
   ],
   "source": [
    "df_p1_grpby.loc[:, [('POST')]].tail()"
   ]
  },
  {
   "cell_type": "code",
   "execution_count": 38,
   "metadata": {
    "collapsed": true
   },
   "outputs": [],
   "source": [
    "l_p200_count = list(df_p1_grpby.loc[:, [('POST', 200)]].values.reshape(-1))\n",
    "\n",
    "l_p302_count = list(df_p1_grpby.loc[:, [('POST', 302)]].values.reshape(-1))\n",
    "l_p401_count = list(df_p1_grpby.loc[:, [('POST', 401)]].values.reshape(-1))\n",
    "l_p404_count = list(df_p1_grpby.loc[:, [('POST', 404)]].values.reshape(-1))\n",
    "l_p440_count = list(df_p1_grpby.loc[:, [('POST', 440)]].values.reshape(-1))\n",
    "l_p500_count = list(df_p1_grpby.loc[:, [('POST', 500)]].values.reshape(-1))\n",
    "l_p503_count = list(df_p1_grpby.loc[:, [('POST', 503)]].values.reshape(-1))"
   ]
  },
  {
   "cell_type": "code",
   "execution_count": 39,
   "metadata": {
    "scrolled": true
   },
   "outputs": [
    {
     "data": {
      "text/html": [
       "<div>\n",
       "<style>\n",
       "    .dataframe thead tr:only-child th {\n",
       "        text-align: right;\n",
       "    }\n",
       "\n",
       "    .dataframe thead th {\n",
       "        text-align: left;\n",
       "    }\n",
       "\n",
       "    .dataframe tbody tr th {\n",
       "        vertical-align: top;\n",
       "    }\n",
       "</style>\n",
       "<table border=\"1\" class=\"dataframe\">\n",
       "  <thead>\n",
       "    <tr>\n",
       "      <th>cs-method</th>\n",
       "      <th colspan=\"4\" halign=\"left\">RPC_IN_DATA</th>\n",
       "    </tr>\n",
       "    <tr>\n",
       "      <th>sc-status</th>\n",
       "      <th>200</th>\n",
       "      <th>401</th>\n",
       "      <th>404</th>\n",
       "      <th>500</th>\n",
       "    </tr>\n",
       "  </thead>\n",
       "  <tbody>\n",
       "    <tr>\n",
       "      <th>2017-11-10 23:10:00+00:00</th>\n",
       "      <td>70.0</td>\n",
       "      <td>55.0</td>\n",
       "      <td>NaN</td>\n",
       "      <td>NaN</td>\n",
       "    </tr>\n",
       "    <tr>\n",
       "      <th>2017-11-10 23:20:00+00:00</th>\n",
       "      <td>75.0</td>\n",
       "      <td>47.0</td>\n",
       "      <td>NaN</td>\n",
       "      <td>NaN</td>\n",
       "    </tr>\n",
       "    <tr>\n",
       "      <th>2017-11-10 23:30:00+00:00</th>\n",
       "      <td>44.0</td>\n",
       "      <td>51.0</td>\n",
       "      <td>NaN</td>\n",
       "      <td>NaN</td>\n",
       "    </tr>\n",
       "    <tr>\n",
       "      <th>2017-11-10 23:40:00+00:00</th>\n",
       "      <td>36.0</td>\n",
       "      <td>33.0</td>\n",
       "      <td>NaN</td>\n",
       "      <td>NaN</td>\n",
       "    </tr>\n",
       "    <tr>\n",
       "      <th>2017-11-10 23:50:00+00:00</th>\n",
       "      <td>56.0</td>\n",
       "      <td>66.0</td>\n",
       "      <td>NaN</td>\n",
       "      <td>NaN</td>\n",
       "    </tr>\n",
       "  </tbody>\n",
       "</table>\n",
       "</div>"
      ],
      "text/plain": [
       "cs-method                 RPC_IN_DATA              \n",
       "sc-status                         200   401 404 500\n",
       "2017-11-10 23:10:00+00:00        70.0  55.0 NaN NaN\n",
       "2017-11-10 23:20:00+00:00        75.0  47.0 NaN NaN\n",
       "2017-11-10 23:30:00+00:00        44.0  51.0 NaN NaN\n",
       "2017-11-10 23:40:00+00:00        36.0  33.0 NaN NaN\n",
       "2017-11-10 23:50:00+00:00        56.0  66.0 NaN NaN"
      ]
     },
     "execution_count": 39,
     "metadata": {},
     "output_type": "execute_result"
    }
   ],
   "source": [
    "df_p1_grpby.loc[:, [('RPC_IN_DATA')]].tail()"
   ]
  },
  {
   "cell_type": "code",
   "execution_count": 40,
   "metadata": {},
   "outputs": [
    {
     "data": {
      "text/html": [
       "<div>\n",
       "<style>\n",
       "    .dataframe thead tr:only-child th {\n",
       "        text-align: right;\n",
       "    }\n",
       "\n",
       "    .dataframe thead th {\n",
       "        text-align: left;\n",
       "    }\n",
       "\n",
       "    .dataframe tbody tr th {\n",
       "        vertical-align: top;\n",
       "    }\n",
       "</style>\n",
       "<table border=\"1\" class=\"dataframe\">\n",
       "  <thead>\n",
       "    <tr>\n",
       "      <th>cs-method</th>\n",
       "      <th colspan=\"4\" halign=\"left\">RPC_OUT_DATA</th>\n",
       "    </tr>\n",
       "    <tr>\n",
       "      <th>sc-status</th>\n",
       "      <th>200</th>\n",
       "      <th>401</th>\n",
       "      <th>404</th>\n",
       "      <th>500</th>\n",
       "    </tr>\n",
       "  </thead>\n",
       "  <tbody>\n",
       "    <tr>\n",
       "      <th>2017-11-10 23:10:00+00:00</th>\n",
       "      <td>52.0</td>\n",
       "      <td>37.0</td>\n",
       "      <td>NaN</td>\n",
       "      <td>NaN</td>\n",
       "    </tr>\n",
       "    <tr>\n",
       "      <th>2017-11-10 23:20:00+00:00</th>\n",
       "      <td>57.0</td>\n",
       "      <td>29.0</td>\n",
       "      <td>NaN</td>\n",
       "      <td>NaN</td>\n",
       "    </tr>\n",
       "    <tr>\n",
       "      <th>2017-11-10 23:30:00+00:00</th>\n",
       "      <td>20.0</td>\n",
       "      <td>27.0</td>\n",
       "      <td>NaN</td>\n",
       "      <td>NaN</td>\n",
       "    </tr>\n",
       "    <tr>\n",
       "      <th>2017-11-10 23:40:00+00:00</th>\n",
       "      <td>20.0</td>\n",
       "      <td>17.0</td>\n",
       "      <td>NaN</td>\n",
       "      <td>NaN</td>\n",
       "    </tr>\n",
       "    <tr>\n",
       "      <th>2017-11-10 23:50:00+00:00</th>\n",
       "      <td>36.0</td>\n",
       "      <td>46.0</td>\n",
       "      <td>NaN</td>\n",
       "      <td>NaN</td>\n",
       "    </tr>\n",
       "  </tbody>\n",
       "</table>\n",
       "</div>"
      ],
      "text/plain": [
       "cs-method                 RPC_OUT_DATA              \n",
       "sc-status                          200   401 404 500\n",
       "2017-11-10 23:10:00+00:00         52.0  37.0 NaN NaN\n",
       "2017-11-10 23:20:00+00:00         57.0  29.0 NaN NaN\n",
       "2017-11-10 23:30:00+00:00         20.0  27.0 NaN NaN\n",
       "2017-11-10 23:40:00+00:00         20.0  17.0 NaN NaN\n",
       "2017-11-10 23:50:00+00:00         36.0  46.0 NaN NaN"
      ]
     },
     "execution_count": 40,
     "metadata": {},
     "output_type": "execute_result"
    }
   ],
   "source": [
    "df_p1_grpby.loc[:, [('RPC_OUT_DATA')]].tail()"
   ]
  },
  {
   "cell_type": "code",
   "execution_count": 41,
   "metadata": {
    "collapsed": true
   },
   "outputs": [],
   "source": [
    "l_in200_count = list(df_p1_grpby.loc[:, [('RPC_IN_DATA', 200)]].values.reshape(-1))\n",
    "l_in401_count = list(df_p1_grpby.loc[:, [('RPC_IN_DATA', 401)]].values.reshape(-1))\n",
    "l_in404_count = list(df_p1_grpby.loc[:, [('RPC_IN_DATA', 404)]].values.reshape(-1))\n",
    "l_in500_count = list(df_p1_grpby.loc[:, [('RPC_IN_DATA', 500)]].values.reshape(-1))\n",
    "\n",
    "l_ou200_count = list(df_p1_grpby.loc[:, [('RPC_OUT_DATA', 200)]].values.reshape(-1))\n",
    "l_ou401_count = list(df_p1_grpby.loc[:, [('RPC_OUT_DATA', 401)]].values.reshape(-1))\n",
    "l_ou404_count = list(df_p1_grpby.loc[:, [('RPC_OUT_DATA', 404)]].values.reshape(-1))\n",
    "l_ou500_count = list(df_p1_grpby.loc[:, [('RPC_OUT_DATA', 500)]].values.reshape(-1))"
   ]
  },
  {
   "cell_type": "code",
   "execution_count": 42,
   "metadata": {
    "collapsed": true
   },
   "outputs": [],
   "source": [
    "import numpy as np"
   ]
  },
  {
   "cell_type": "code",
   "execution_count": 43,
   "metadata": {
    "collapsed": true,
    "scrolled": true
   },
   "outputs": [],
   "source": [
    "df_p1_g = pd.DataFrame(index = df_p1_grpby.loc[:, [('GET', 404)]].index)"
   ]
  },
  {
   "cell_type": "code",
   "execution_count": 44,
   "metadata": {
    "collapsed": true
   },
   "outputs": [],
   "source": [
    "df_p1_g[\"GET_404\"] = l_g404_count\n",
    "df_p1_g[\"GET_200\"] = l_g200_count\n",
    "df_p1_g[\"GET_206\"] = l_g206_count\n",
    "df_p1_g[\"GET_242\"] = l_g242_count\n",
    "df_p1_g[\"GET_302\"] = l_g302_count\n",
    "df_p1_g[\"GET_401\"] = l_g401_count\n",
    "df_p1_g[\"GET_403\"] = l_g403_count\n",
    "\n",
    "df_p1_g[\"HEAD_200\"] = l_h200_count\n",
    "df_p1_g[\"HEAD_401\"] = l_h401_count\n",
    "\n",
    "df_p1_g[\"OPTIONS_200\"] = l_o200_count\n",
    "df_p1_g[\"OPTIONS_401\"] = l_o401_count\n",
    "\n",
    "df_p1_g[\"POST_200\"] = l_p200_count\n",
    "df_p1_g[\"POST_302\"] = l_p302_count\n",
    "df_p1_g[\"POST_401\"] = l_p401_count\n",
    "df_p1_g[\"POST_404\"] = l_p404_count\n",
    "df_p1_g[\"POST_440\"] = l_p440_count\n",
    "df_p1_g[\"POST_500\"] = l_p500_count\n",
    "df_p1_g[\"POST_503\"] = l_p503_count\n",
    "\n",
    "df_p1_g[\"PRC_IN_DATA_200\"] = l_in200_count\n",
    "df_p1_g[\"PRC_IN_DATA_401\"] = l_in401_count\n",
    "df_p1_g[\"PRC_IN_DATA_404\"] = l_in404_count\n",
    "df_p1_g[\"PRC_IN_DATA_500\"] = l_in500_count\n",
    "\n",
    "df_p1_g[\"PRC_OUT_DATA_200\"] = l_ou200_count\n",
    "df_p1_g[\"PRC_OUT_DATA_401\"] = l_ou401_count\n",
    "df_p1_g[\"PRC_OUT_DATA_404\"] = l_ou404_count\n",
    "df_p1_g[\"PRC_OUT_DATA_500\"] = l_ou500_count"
   ]
  },
  {
   "cell_type": "code",
   "execution_count": 46,
   "metadata": {
    "collapsed": true
   },
   "outputs": [],
   "source": [
    "df_p1_g[\"GET_404\"] = l_g404_count\n",
    "df_p1_g[\"POST_200\"] = l_p200_count\n",
    "df_p1_g[\"PRC_IN_DATA_200\"] = l_in200_count\n",
    "df_p1_g[\"PRC_OUT_DATA_200\"] = l_ou200_count"
   ]
  },
  {
   "cell_type": "code",
   "execution_count": 47,
   "metadata": {
    "collapsed": true
   },
   "outputs": [],
   "source": [
    "#df_p1_g[\"datetime\"] = df_p1_g.index"
   ]
  },
  {
   "cell_type": "code",
   "execution_count": 45,
   "metadata": {
    "scrolled": true
   },
   "outputs": [
    {
     "data": {
      "text/html": [
       "<div>\n",
       "<style>\n",
       "    .dataframe thead tr:only-child th {\n",
       "        text-align: right;\n",
       "    }\n",
       "\n",
       "    .dataframe thead th {\n",
       "        text-align: left;\n",
       "    }\n",
       "\n",
       "    .dataframe tbody tr th {\n",
       "        vertical-align: top;\n",
       "    }\n",
       "</style>\n",
       "<table border=\"1\" class=\"dataframe\">\n",
       "  <thead>\n",
       "    <tr style=\"text-align: right;\">\n",
       "      <th></th>\n",
       "      <th>GET_404</th>\n",
       "      <th>GET_200</th>\n",
       "      <th>GET_206</th>\n",
       "      <th>GET_242</th>\n",
       "      <th>GET_302</th>\n",
       "      <th>GET_401</th>\n",
       "      <th>GET_403</th>\n",
       "      <th>HEAD_200</th>\n",
       "      <th>HEAD_401</th>\n",
       "      <th>OPTIONS_200</th>\n",
       "      <th>...</th>\n",
       "      <th>POST_500</th>\n",
       "      <th>POST_503</th>\n",
       "      <th>PRC_IN_DATA_200</th>\n",
       "      <th>PRC_IN_DATA_401</th>\n",
       "      <th>PRC_IN_DATA_404</th>\n",
       "      <th>PRC_IN_DATA_500</th>\n",
       "      <th>PRC_OUT_DATA_200</th>\n",
       "      <th>PRC_OUT_DATA_401</th>\n",
       "      <th>PRC_OUT_DATA_404</th>\n",
       "      <th>PRC_OUT_DATA_500</th>\n",
       "    </tr>\n",
       "  </thead>\n",
       "  <tbody>\n",
       "    <tr>\n",
       "      <th>2017-11-10 00:00:00+00:00</th>\n",
       "      <td>54.0</td>\n",
       "      <td>417.0</td>\n",
       "      <td>NaN</td>\n",
       "      <td>NaN</td>\n",
       "      <td>188.0</td>\n",
       "      <td>212.0</td>\n",
       "      <td>133.0</td>\n",
       "      <td>NaN</td>\n",
       "      <td>NaN</td>\n",
       "      <td>108.0</td>\n",
       "      <td>...</td>\n",
       "      <td>23.0</td>\n",
       "      <td>NaN</td>\n",
       "      <td>426.0</td>\n",
       "      <td>1104.0</td>\n",
       "      <td>216.0</td>\n",
       "      <td>2.0</td>\n",
       "      <td>395.0</td>\n",
       "      <td>1076.0</td>\n",
       "      <td>216.0</td>\n",
       "      <td>NaN</td>\n",
       "    </tr>\n",
       "    <tr>\n",
       "      <th>2017-11-10 00:10:00+00:00</th>\n",
       "      <td>79.0</td>\n",
       "      <td>395.0</td>\n",
       "      <td>NaN</td>\n",
       "      <td>NaN</td>\n",
       "      <td>176.0</td>\n",
       "      <td>290.0</td>\n",
       "      <td>129.0</td>\n",
       "      <td>NaN</td>\n",
       "      <td>NaN</td>\n",
       "      <td>88.0</td>\n",
       "      <td>...</td>\n",
       "      <td>31.0</td>\n",
       "      <td>NaN</td>\n",
       "      <td>598.0</td>\n",
       "      <td>1472.0</td>\n",
       "      <td>210.0</td>\n",
       "      <td>0.0</td>\n",
       "      <td>564.0</td>\n",
       "      <td>1451.0</td>\n",
       "      <td>210.0</td>\n",
       "      <td>NaN</td>\n",
       "    </tr>\n",
       "    <tr>\n",
       "      <th>2017-11-10 00:20:00+00:00</th>\n",
       "      <td>108.0</td>\n",
       "      <td>414.0</td>\n",
       "      <td>NaN</td>\n",
       "      <td>NaN</td>\n",
       "      <td>188.0</td>\n",
       "      <td>353.0</td>\n",
       "      <td>144.0</td>\n",
       "      <td>NaN</td>\n",
       "      <td>NaN</td>\n",
       "      <td>115.0</td>\n",
       "      <td>...</td>\n",
       "      <td>28.0</td>\n",
       "      <td>NaN</td>\n",
       "      <td>639.0</td>\n",
       "      <td>1595.0</td>\n",
       "      <td>198.0</td>\n",
       "      <td>1.0</td>\n",
       "      <td>590.0</td>\n",
       "      <td>1576.0</td>\n",
       "      <td>198.0</td>\n",
       "      <td>NaN</td>\n",
       "    </tr>\n",
       "    <tr>\n",
       "      <th>2017-11-10 00:30:00+00:00</th>\n",
       "      <td>137.0</td>\n",
       "      <td>391.0</td>\n",
       "      <td>NaN</td>\n",
       "      <td>NaN</td>\n",
       "      <td>176.0</td>\n",
       "      <td>489.0</td>\n",
       "      <td>153.0</td>\n",
       "      <td>NaN</td>\n",
       "      <td>NaN</td>\n",
       "      <td>120.0</td>\n",
       "      <td>...</td>\n",
       "      <td>32.0</td>\n",
       "      <td>NaN</td>\n",
       "      <td>982.0</td>\n",
       "      <td>2322.0</td>\n",
       "      <td>245.0</td>\n",
       "      <td>0.0</td>\n",
       "      <td>896.0</td>\n",
       "      <td>2273.0</td>\n",
       "      <td>222.0</td>\n",
       "      <td>NaN</td>\n",
       "    </tr>\n",
       "    <tr>\n",
       "      <th>2017-11-10 00:40:00+00:00</th>\n",
       "      <td>263.0</td>\n",
       "      <td>409.0</td>\n",
       "      <td>NaN</td>\n",
       "      <td>NaN</td>\n",
       "      <td>188.0</td>\n",
       "      <td>776.0</td>\n",
       "      <td>173.0</td>\n",
       "      <td>NaN</td>\n",
       "      <td>NaN</td>\n",
       "      <td>129.0</td>\n",
       "      <td>...</td>\n",
       "      <td>26.0</td>\n",
       "      <td>NaN</td>\n",
       "      <td>1459.0</td>\n",
       "      <td>3495.0</td>\n",
       "      <td>284.0</td>\n",
       "      <td>0.0</td>\n",
       "      <td>1295.0</td>\n",
       "      <td>3437.0</td>\n",
       "      <td>248.0</td>\n",
       "      <td>NaN</td>\n",
       "    </tr>\n",
       "  </tbody>\n",
       "</table>\n",
       "<p>5 rows × 26 columns</p>\n",
       "</div>"
      ],
      "text/plain": [
       "                           GET_404  GET_200  GET_206  GET_242  GET_302  \\\n",
       "2017-11-10 00:00:00+00:00     54.0    417.0      NaN      NaN    188.0   \n",
       "2017-11-10 00:10:00+00:00     79.0    395.0      NaN      NaN    176.0   \n",
       "2017-11-10 00:20:00+00:00    108.0    414.0      NaN      NaN    188.0   \n",
       "2017-11-10 00:30:00+00:00    137.0    391.0      NaN      NaN    176.0   \n",
       "2017-11-10 00:40:00+00:00    263.0    409.0      NaN      NaN    188.0   \n",
       "\n",
       "                           GET_401  GET_403  HEAD_200  HEAD_401  OPTIONS_200  \\\n",
       "2017-11-10 00:00:00+00:00    212.0    133.0       NaN       NaN        108.0   \n",
       "2017-11-10 00:10:00+00:00    290.0    129.0       NaN       NaN         88.0   \n",
       "2017-11-10 00:20:00+00:00    353.0    144.0       NaN       NaN        115.0   \n",
       "2017-11-10 00:30:00+00:00    489.0    153.0       NaN       NaN        120.0   \n",
       "2017-11-10 00:40:00+00:00    776.0    173.0       NaN       NaN        129.0   \n",
       "\n",
       "                                 ...         POST_500  POST_503  \\\n",
       "2017-11-10 00:00:00+00:00        ...             23.0       NaN   \n",
       "2017-11-10 00:10:00+00:00        ...             31.0       NaN   \n",
       "2017-11-10 00:20:00+00:00        ...             28.0       NaN   \n",
       "2017-11-10 00:30:00+00:00        ...             32.0       NaN   \n",
       "2017-11-10 00:40:00+00:00        ...             26.0       NaN   \n",
       "\n",
       "                           PRC_IN_DATA_200  PRC_IN_DATA_401  PRC_IN_DATA_404  \\\n",
       "2017-11-10 00:00:00+00:00            426.0           1104.0            216.0   \n",
       "2017-11-10 00:10:00+00:00            598.0           1472.0            210.0   \n",
       "2017-11-10 00:20:00+00:00            639.0           1595.0            198.0   \n",
       "2017-11-10 00:30:00+00:00            982.0           2322.0            245.0   \n",
       "2017-11-10 00:40:00+00:00           1459.0           3495.0            284.0   \n",
       "\n",
       "                           PRC_IN_DATA_500  PRC_OUT_DATA_200  \\\n",
       "2017-11-10 00:00:00+00:00              2.0             395.0   \n",
       "2017-11-10 00:10:00+00:00              0.0             564.0   \n",
       "2017-11-10 00:20:00+00:00              1.0             590.0   \n",
       "2017-11-10 00:30:00+00:00              0.0             896.0   \n",
       "2017-11-10 00:40:00+00:00              0.0            1295.0   \n",
       "\n",
       "                           PRC_OUT_DATA_401  PRC_OUT_DATA_404  \\\n",
       "2017-11-10 00:00:00+00:00            1076.0             216.0   \n",
       "2017-11-10 00:10:00+00:00            1451.0             210.0   \n",
       "2017-11-10 00:20:00+00:00            1576.0             198.0   \n",
       "2017-11-10 00:30:00+00:00            2273.0             222.0   \n",
       "2017-11-10 00:40:00+00:00            3437.0             248.0   \n",
       "\n",
       "                           PRC_OUT_DATA_500  \n",
       "2017-11-10 00:00:00+00:00               NaN  \n",
       "2017-11-10 00:10:00+00:00               NaN  \n",
       "2017-11-10 00:20:00+00:00               NaN  \n",
       "2017-11-10 00:30:00+00:00               NaN  \n",
       "2017-11-10 00:40:00+00:00               NaN  \n",
       "\n",
       "[5 rows x 26 columns]"
      ]
     },
     "execution_count": 45,
     "metadata": {},
     "output_type": "execute_result"
    }
   ],
   "source": [
    "df_p1_g.head()"
   ]
  },
  {
   "cell_type": "code",
   "execution_count": 46,
   "metadata": {
    "collapsed": true
   },
   "outputs": [],
   "source": [
    "df_p1_g.to_csv(\"all_10-oct_cross-tab.csv\")"
   ]
  },
  {
   "cell_type": "code",
   "execution_count": 48,
   "metadata": {
    "collapsed": true
   },
   "outputs": [],
   "source": [
    "import matplotlib.pyplot as plt\n",
    "import matplotlib\n",
    "plt.style.use('ggplot')"
   ]
  },
  {
   "cell_type": "code",
   "execution_count": 50,
   "metadata": {
    "scrolled": false
   },
   "outputs": [
    {
     "data": {
      "image/png": "[encoded data removed]",
      "text/plain": [
       "<matplotlib.figure.Figure at 0x27a3fe0fa58>"
      ]
     },
     "metadata": {},
     "output_type": "display_data"
    }
   ],
   "source": [
    "title='10-Nov All users'\n",
    "ax = df_p1_g.plot(figsize=(20,10), alpha=0.5, fontsize=15,grid=True, title=title)\n",
    "ax.set(xlabel=\"Time\", ylabel=\"Count of msg\")\n",
    "#ax.set_xlabel(\"Time\")\n",
    "#ax.set_ylabel(\"Count of msg\")\n",
    "ax.grid(True, which='both')\n",
    "plt.savefig(\"10-Nov_all_users.png\")"
   ]
  },
  {
   "cell_type": "code",
   "execution_count": null,
   "metadata": {
    "collapsed": true
   },
   "outputs": [],
   "source": []
  },
  {
   "cell_type": "code",
   "execution_count": null,
   "metadata": {
    "collapsed": true
   },
   "outputs": [],
   "source": []
  },
  {
   "cell_type": "code",
   "execution_count": null,
   "metadata": {
    "collapsed": true
   },
   "outputs": [],
   "source": []
  },
  {
   "cell_type": "code",
   "execution_count": null,
   "metadata": {
    "collapsed": true
   },
   "outputs": [],
   "source": []
  },
  {
   "cell_type": "markdown",
   "metadata": {},
   "source": [
    "# Appendix"
   ]
  },
  {
   "cell_type": "code",
   "execution_count": null,
   "metadata": {
    "collapsed": true
   },
   "outputs": [],
   "source": []
  },
  {
   "cell_type": "code",
   "execution_count": null,
   "metadata": {
    "collapsed": true
   },
   "outputs": [],
   "source": [
    "ax = sns.tsplot(time=\"datetime\", value='GET_404', data=df_p1_g)"
   ]
  },
  {
   "cell_type": "code",
   "execution_count": null,
   "metadata": {
    "collapsed": true
   },
   "outputs": [],
   "source": [
    "var = 'datetime'\n",
    "facet = sns.FacetGrid( df , aspect=4 , row = 'cs-method' , col = None )\n",
    "facet.map( sns.tsplot , var , shade= True )\n",
    "facet.set( xlim=( 0 , df[ var ].max() ) )\n",
    "facet.add_legend()"
   ]
  },
  {
   "cell_type": "code",
   "execution_count": null,
   "metadata": {
    "collapsed": true
   },
   "outputs": [],
   "source": [
    "# Plot distributions of Age of passangers who survived or did not survive\n",
    "plot_distribution( train_df , var = 'Age' , target = 'Survived' , row = 'Sex' )"
   ]
  },
  {
   "cell_type": "code",
   "execution_count": null,
   "metadata": {
    "collapsed": true
   },
   "outputs": [],
   "source": []
  },
  {
   "cell_type": "code",
   "execution_count": null,
   "metadata": {
    "collapsed": true
   },
   "outputs": [],
   "source": []
  },
  {
   "cell_type": "code",
   "execution_count": null,
   "metadata": {
    "collapsed": true
   },
   "outputs": [],
   "source": [
    "ordered_days = tips.day.value_counts().index\n",
    "g = sns.FacetGrid(tips, row=\"cs-method\", row_order=ordered_days,\n",
    "                  size=1.7, aspect=4,)\n",
    "g.map(sns.distplot, \"total_bill\", hist=False, rug=True);"
   ]
  },
  {
   "cell_type": "code",
   "execution_count": null,
   "metadata": {
    "collapsed": true
   },
   "outputs": [],
   "source": [
    "df_p1_g "
   ]
  },
  {
   "cell_type": "code",
   "execution_count": null,
   "metadata": {
    "collapsed": true
   },
   "outputs": [],
   "source": [
    "var = 'datetime'\n",
    "facet = sns.FacetGrid( df_p1_grpby_g , hue='count' , aspect=4 , row = 'cs-method')\n",
    "facet.map( sns.kdeplot , var , shade= True )\n",
    "facet.set( xlim=( 0 , df[ var ].max() ) )\n",
    "facet.add_legend()"
   ]
  },
  {
   "cell_type": "code",
   "execution_count": null,
   "metadata": {
    "collapsed": true,
    "scrolled": true
   },
   "outputs": [],
   "source": [
    "sns.barplot(hue= 'cs-method', data=df_p1_g)"
   ]
  },
  {
   "cell_type": "code",
   "execution_count": null,
   "metadata": {
    "collapsed": true,
    "scrolled": true
   },
   "outputs": [],
   "source": [
    "df_p1_g.plot()"
   ]
  },
  {
   "cell_type": "code",
   "execution_count": null,
   "metadata": {
    "collapsed": true
   },
   "outputs": [],
   "source": [
    "var = 'datetime'\n",
    "facet = sns.FacetGrid( df_p1_g , hue='count' , aspect=4 , row = 'cs-method')\n",
    "facet.map( sns.kdeplot , var , shade= True )\n",
    "facet.set( xlim=( 0 , df[ var ].max() ) )\n",
    "facet.add_legend()"
   ]
  },
  {
   "cell_type": "code",
   "execution_count": null,
   "metadata": {
    "collapsed": true
   },
   "outputs": [],
   "source": []
  },
  {
   "cell_type": "code",
   "execution_count": null,
   "metadata": {
    "collapsed": true
   },
   "outputs": [],
   "source": []
  },
  {
   "cell_type": "code",
   "execution_count": null,
   "metadata": {
    "collapsed": true
   },
   "outputs": [],
   "source": []
  },
  {
   "cell_type": "code",
   "execution_count": null,
   "metadata": {
    "collapsed": true
   },
   "outputs": [],
   "source": []
  },
  {
   "cell_type": "code",
   "execution_count": null,
   "metadata": {
    "collapsed": true
   },
   "outputs": [],
   "source": []
  },
  {
   "cell_type": "code",
   "execution_count": null,
   "metadata": {
    "collapsed": true
   },
   "outputs": [],
   "source": [
    "#var = [x for x in df_p1_grpby_g.index]\n",
    "var = 'datetime'\n",
    "facet = sns.FacetGrid( df_p1_grpby_g , hue='count' , aspect=4 , row = 'cs-method')\n",
    "facet.map( sns.kdeplot , var , shade= True )\n",
    "facet.set( xlim=( 0 , df[ var ].max() ) )\n",
    "facet.add_legend()"
   ]
  },
  {
   "cell_type": "code",
   "execution_count": null,
   "metadata": {
    "collapsed": true,
    "scrolled": true
   },
   "outputs": [],
   "source": [
    "df_p1_grpby = df_p1.groupby(['datetime', 'sc-status', 'cs-method'])\n",
    "df_p1_grpby_g = df_p1_grpby['cs-username'].agg(['count']).reset_index()"
   ]
  },
  {
   "cell_type": "code",
   "execution_count": null,
   "metadata": {
    "collapsed": true
   },
   "outputs": [],
   "source": [
    "df_p1_grpby.head(10)"
   ]
  },
  {
   "cell_type": "code",
   "execution_count": null,
   "metadata": {
    "collapsed": true
   },
   "outputs": [],
   "source": [
    "df_p1_grpby_g.head()"
   ]
  },
  {
   "cell_type": "code",
   "execution_count": null,
   "metadata": {
    "collapsed": true
   },
   "outputs": [],
   "source": [
    "fig = plt.figure(figsize=(20,5))\n",
    "sns.barplot(x=[x for x in df_p1_grpby_g.index], y='count', hue= 'sc-status', data=df_p1_grpby_g)"
   ]
  },
  {
   "cell_type": "code",
   "execution_count": null,
   "metadata": {
    "collapsed": true
   },
   "outputs": [],
   "source": []
  },
  {
   "cell_type": "code",
   "execution_count": null,
   "metadata": {
    "collapsed": true
   },
   "outputs": [],
   "source": []
  },
  {
   "cell_type": "code",
   "execution_count": null,
   "metadata": {
    "collapsed": true,
    "scrolled": false
   },
   "outputs": [],
   "source": [
    "df2 = pd.read_csv(\"./inputfiles-hkg/20171027/502_u_ex171027_20171110-195213_0.csv\")\n",
    "df2 = df.append([pd.read_csv(\"./inputfiles-hkg/20171027/502_u_ex171027_20171110-195213_1.csv\", names = list(df.columns)),\n",
    "                pd.read_csv(\"./inputfiles-hkg/20171027/502_u_ex171027_20171110-195213_2.csv\", names = list(df.columns)),\n",
    "                pd.read_csv(\"./inputfiles-hkg/20171027/502_u_ex171027_20171110-195213_3.csv\", names = list(df.columns))], ignore_index=True)"
   ]
  },
  {
   "cell_type": "code",
   "execution_count": null,
   "metadata": {
    "collapsed": true,
    "scrolled": true
   },
   "outputs": [],
   "source": [
    "df2[df2['cs-username'].str.contains('ppp1', na=False)]"
   ]
  },
  {
   "cell_type": "code",
   "execution_count": null,
   "metadata": {
    "collapsed": true
   },
   "outputs": [],
   "source": []
  },
  {
   "cell_type": "code",
   "execution_count": null,
   "metadata": {
    "collapsed": true
   },
   "outputs": [],
   "source": []
  },
  {
   "cell_type": "code",
   "execution_count": null,
   "metadata": {
    "collapsed": true
   },
   "outputs": [],
   "source": [
    "df3 = pd.read_csv(\"./inputfiles-hkg/20171027/503_u_ex171027_20171110-195235_0.csv\")\n",
    "df3 = df.append([pd.read_csv(\"./inputfiles-hkg/20171027/503_u_ex171027_20171110-195235_1.csv\", names = list(df.columns)),\n",
    "                pd.read_csv(\"./inputfiles-hkg/20171027/503_u_ex171027_20171110-195235_2.csv\", names = list(df.columns)),\n",
    "                pd.read_csv(\"./inputfiles-hkg/20171027/503_u_ex171027_20171110-195235_3.csv\", names = list(df.columns))], ignore_index=True)"
   ]
  },
  {
   "cell_type": "code",
   "execution_count": null,
   "metadata": {
    "collapsed": true,
    "scrolled": true
   },
   "outputs": [],
   "source": [
    "df3[df3['cs-username'].str.contains('ppp1', na=False)]"
   ]
  },
  {
   "cell_type": "code",
   "execution_count": null,
   "metadata": {
    "collapsed": true
   },
   "outputs": [],
   "source": []
  }
 ],
 "metadata": {
  "kernelspec": {
   "display_name": "Python 3",
   "language": "python",
   "name": "python3"
  },
  "language_info": {
   "codemirror_mode": {
    "name": "ipython",
    "version": 3
   },
   "file_extension": ".py",
   "mimetype": "text/x-python",
   "name": "python",
   "nbconvert_exporter": "python",
   "pygments_lexer": "ipython3",
   "version": "3.6.2"
  }
 },
 "nbformat": 4,
 "nbformat_minor": 2
}
