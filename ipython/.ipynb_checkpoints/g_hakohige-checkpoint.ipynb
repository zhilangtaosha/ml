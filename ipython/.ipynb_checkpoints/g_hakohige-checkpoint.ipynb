{
 "cells": [
  {
   "cell_type": "code",
   "execution_count": 1,
   "metadata": {
    "collapsed": true
   },
   "outputs": [],
   "source": [
    "import numpy as np\n",
    "import pandas as pd\n",
    "import matplotlib.pyplot as plt\n",
    "import seaborn as sns\n",
    "import scipy\n",
    "%matplotlib inline\n",
    "\n",
    "df = pd.DataFrame()"
   ]
  },
  {
   "cell_type": "markdown",
   "metadata": {},
   "source": [
    "# データ準備"
   ]
  },
  {
   "cell_type": "code",
   "execution_count": 2,
   "metadata": {},
   "outputs": [
    {
     "data": {
      "text/html": [
       "<div>\n",
       "<style>\n",
       "    .dataframe thead tr:only-child th {\n",
       "        text-align: right;\n",
       "    }\n",
       "\n",
       "    .dataframe thead th {\n",
       "        text-align: left;\n",
       "    }\n",
       "\n",
       "    .dataframe tbody tr th {\n",
       "        vertical-align: top;\n",
       "    }\n",
       "</style>\n",
       "<table border=\"1\" class=\"dataframe\">\n",
       "  <thead>\n",
       "    <tr style=\"text-align: right;\">\n",
       "      <th></th>\n",
       "      <th>math</th>\n",
       "      <th>eng</th>\n",
       "    </tr>\n",
       "  </thead>\n",
       "  <tbody>\n",
       "    <tr>\n",
       "      <th>0</th>\n",
       "      <td>100</td>\n",
       "      <td>77</td>\n",
       "    </tr>\n",
       "    <tr>\n",
       "      <th>1</th>\n",
       "      <td>80</td>\n",
       "      <td>75</td>\n",
       "    </tr>\n",
       "    <tr>\n",
       "      <th>2</th>\n",
       "      <td>79</td>\n",
       "      <td>69</td>\n",
       "    </tr>\n",
       "    <tr>\n",
       "      <th>3</th>\n",
       "      <td>77</td>\n",
       "      <td>61</td>\n",
       "    </tr>\n",
       "    <tr>\n",
       "      <th>4</th>\n",
       "      <td>68</td>\n",
       "      <td>60</td>\n",
       "    </tr>\n",
       "    <tr>\n",
       "      <th>5</th>\n",
       "      <td>65</td>\n",
       "      <td>59</td>\n",
       "    </tr>\n",
       "    <tr>\n",
       "      <th>6</th>\n",
       "      <td>63</td>\n",
       "      <td>52</td>\n",
       "    </tr>\n",
       "    <tr>\n",
       "      <th>7</th>\n",
       "      <td>61</td>\n",
       "      <td>21</td>\n",
       "    </tr>\n",
       "    <tr>\n",
       "      <th>8</th>\n",
       "      <td>60</td>\n",
       "      <td>21</td>\n",
       "    </tr>\n",
       "    <tr>\n",
       "      <th>9</th>\n",
       "      <td>59</td>\n",
       "      <td>13</td>\n",
       "    </tr>\n",
       "  </tbody>\n",
       "</table>\n",
       "</div>"
      ],
      "text/plain": [
       "   math  eng\n",
       "0   100   77\n",
       "1    80   75\n",
       "2    79   69\n",
       "3    77   61\n",
       "4    68   60\n",
       "5    65   59\n",
       "6    63   52\n",
       "7    61   21\n",
       "8    60   21\n",
       "9    59   13"
      ]
     },
     "execution_count": 2,
     "metadata": {},
     "output_type": "execute_result"
    }
   ],
   "source": [
    "df['math'] = np.array([100,80,79,77,68,65,63,61,60,59])\n",
    "df['eng'] = np.array([77,75,69,61,60,59,52,21,21,13])\n",
    "df"
   ]
  },
  {
   "cell_type": "code",
   "execution_count": 5,
   "metadata": {},
   "outputs": [
    {
     "data": {
      "text/plain": [
       "count     10.000000\n",
       "mean      71.200000\n",
       "std       12.890996\n",
       "min       59.000000\n",
       "25%       61.500000\n",
       "50%       66.500000\n",
       "75%       78.500000\n",
       "max      100.000000\n",
       "Name: math, dtype: float64"
      ]
     },
     "execution_count": 5,
     "metadata": {},
     "output_type": "execute_result"
    }
   ],
   "source": [
    "df['math'].describe()"
   ]
  },
  {
   "cell_type": "markdown",
   "metadata": {},
   "source": [
    "# 箱ひげ図"
   ]
  },
  {
   "cell_type": "code",
   "execution_count": 137,
   "metadata": {},
   "outputs": [
    {
     "data": {
      "image/png": "[encoded data removed]",
      "text/plain": [
       "<matplotlib.figure.Figure at 0x1123c9048>"
      ]
     },
     "metadata": {},
     "output_type": "display_data"
    }
   ],
   "source": [
    "# dfで描画すると簡単\n",
    "hige = (df['math'], df['eng'])\n",
    "\n",
    "fig = plt.figure()\n",
    "ax = fig.add_subplot(111)\n",
    "\n",
    "# 箱ひげ図をつくる\n",
    "bp = ax.boxplot(hige)\n",
    "ax.set_xticklabels(['math', 'eng'])\n",
    "\n",
    "plt.title('Box plot')\n",
    "plt.grid()\n",
    "plt.xlabel('Subject')\n",
    "plt.ylabel('Score')\n",
    "plt.title('Box plot')\n",
    "plt.ylim([0,100])\n",
    "plt.show()"
   ]
  },
  {
   "cell_type": "markdown",
   "metadata": {},
   "source": [
    "# 箱ひげの意味"
   ]
  },
  {
   "cell_type": "markdown",
   "metadata": {},
   "source": [
    ">1 A、B、C、Dの4区間のなかに、それぞれ同じ個数だけデータが入っています。\n",
    "\n",
    ">> - D：ひげの上端（最大値）から箱の上端（第三四分位）まで\n",
    ">> - C：箱の上端（第三四分位）から箱の中央の線（中央値）まで\n",
    ">> - B：箱の中央の線（中央値）から箱の下端（第一四分位）まで\n",
    ">> - A：箱の下端（第一四分位）からひげの下端（最小値）まで\n",
    "\n",
    "\n",
    ">2 しかし、同じ個数でもその区間の長さが異なることから、データのばらつき具合を知ることができます。\n",
    "\n",
    ">3 例えば、区間Bと区間Dでは、区間Bの方が区間が短いことからよりデータが集中していることが分かります。\n",
    "\n",
    ">4 また、箱の高さ（区間Bと区間Cを合わせたもの）は全データの半分のデータを表すことから、およそ「57」から「78」の範囲に全体の半分のデータが存在することが読み取れます。\n"
   ]
  },
  {
   "cell_type": "code",
   "execution_count": null,
   "metadata": {
    "collapsed": true
   },
   "outputs": [],
   "source": [
    "> 図をいれる。"
   ]
  },
  {
   "cell_type": "markdown",
   "metadata": {},
   "source": [
    "# チェック"
   ]
  },
  {
   "cell_type": "markdown",
   "metadata": {},
   "source": [
    ">1.A、B、C、Dの4区間のなかに、それぞれ同じ個数だけデータが入っています。"
   ]
  },
  {
   "cell_type": "markdown",
   "metadata": {},
   "source": [
    "### 中央値算出"
   ]
  },
  {
   "cell_type": "code",
   "execution_count": 138,
   "metadata": {},
   "outputs": [
    {
     "name": "stdout",
     "output_type": "stream",
     "text": [
      "ave / math:71.2, eng:50.8\n",
      "med / math:66.5, eng:59.5\n",
      "saihan / math:ModeResult(mode=array([59]), count=array([1])), eng:ModeResult(mode=array([21]), count=array([2]))\n"
     ]
    }
   ],
   "source": [
    "m_mean = df['math'].mean()\n",
    "e_mean = df['eng'].mean()\n",
    "\n",
    "m_med_2 = df['math'].median()\n",
    "e_med_2 = df['eng'].median()\n",
    "\n",
    "m_modal = scipy.stats.mode(df['math'])\n",
    "e_modal = scipy.stats.mode(df['eng'])\n",
    "\n",
    "print('ave / math:{0}, eng:{1}'.format(m_mean, e_mean))\n",
    "print('med / math:{0}, eng:{1}'.format(m_med,e_med))\n",
    "print('saihan / math:{0}, eng:{1}'.format(m_modal,e_modal))"
   ]
  },
  {
   "cell_type": "markdown",
   "metadata": {},
   "source": [
    "### 四分位数"
   ]
  },
  {
   "cell_type": "markdown",
   "metadata": {},
   "source": [
    "__math__"
   ]
  },
  {
   "cell_type": "code",
   "execution_count": null,
   "metadata": {
    "collapsed": true
   },
   "outputs": [],
   "source": [
    "中央値を求める。"
   ]
  },
  {
   "cell_type": "code",
   "execution_count": 139,
   "metadata": {},
   "outputs": [
    {
     "name": "stdout",
     "output_type": "stream",
     "text": [
      "m_med 3 79.0\n",
      "m_med 2 66.5\n",
      "m_med 1 61.0\n"
     ]
    }
   ],
   "source": [
    "m_med_3 = df[df['math'] > m_med_2]['math'].median()\n",
    "m_med_1 = df[df['math'] < m_med_2]['math'].median()\n",
    "\n",
    "print('m_med 3 {0}'.format(m_med_3))\n",
    "print('m_med 2 {0}'.format(m_med_2))\n",
    "print('m_med 1 {0}'.format(m_med_1))\n"
   ]
  },
  {
   "cell_type": "markdown",
   "metadata": {},
   "source": [
    "#### 質問！！！！"
   ]
  },
  {
   "cell_type": "code",
   "execution_count": null,
   "metadata": {
    "collapsed": true
   },
   "outputs": [],
   "source": [
    "それぞれの区間のデータ数を数える"
   ]
  },
  {
   "cell_type": "code",
   "execution_count": 140,
   "metadata": {},
   "outputs": [
    {
     "name": "stdout",
     "output_type": "stream",
     "text": [
      "Grp D:2\n",
      "Grp C:3\n",
      "Grp B:2\n",
      "Grp A:3\n"
     ]
    }
   ],
   "source": [
    "print(\"Grp D:%d\" % len(df[df['math'] > m_med_3]))\n",
    "print(\"Grp C:%d\" % (len(df[m_med_3 >= df['math']]) - len(df[m_med_2 >= df['math']])))\n",
    "print(\"Grp B:%d\" % (len(df[m_med_2 >= df['math']]) - len(df[m_med_1 >= df['math']])))\n",
    "print(\"Grp A:%d\" % len(df[m_med_1 >= df['math']]))"
   ]
  },
  {
   "cell_type": "markdown",
   "metadata": {},
   "source": [
    "__eng__"
   ]
  },
  {
   "cell_type": "code",
   "execution_count": null,
   "metadata": {
    "collapsed": true
   },
   "outputs": [],
   "source": [
    "中央値を求める。"
   ]
  },
  {
   "cell_type": "code",
   "execution_count": 141,
   "metadata": {},
   "outputs": [
    {
     "name": "stdout",
     "output_type": "stream",
     "text": [
      "e_med 3 69.0\n",
      "e_med 2 59.5\n",
      "e_med 1 21.0\n"
     ]
    }
   ],
   "source": [
    "e_med_3 = df[df['eng'] > e_med_2]['eng'].median()\n",
    "e_med_1 = df[df['eng'] < e_med_2]['eng'].median()\n",
    "\n",
    "print('e_med 3 {0}'.format(e_med_3))\n",
    "print('e_med 2 {0}'.format(e_med_2))\n",
    "print('e_med 1 {0}'.format(e_med_1))\n"
   ]
  },
  {
   "cell_type": "code",
   "execution_count": null,
   "metadata": {
    "collapsed": true
   },
   "outputs": [],
   "source": [
    "それぞれの区間のデータ数を数える"
   ]
  },
  {
   "cell_type": "code",
   "execution_count": 142,
   "metadata": {},
   "outputs": [
    {
     "name": "stdout",
     "output_type": "stream",
     "text": [
      "Grp D:2\n",
      "Grp C:3\n",
      "Grp B:2\n",
      "Grp A:3\n"
     ]
    }
   ],
   "source": [
    "print(\"Grp D:%d\" % len(df[df['eng'] > e_med_3]))\n",
    "print(\"Grp C:%d\" % (len(df[e_med_3 >= df['eng']]) - len(df[e_med_2 >= df['eng']])))\n",
    "print(\"Grp B:%d\" % (len(df[e_med_2 >= df['eng']]) - len(df[e_med_1 >= df['eng']])))\n",
    "print(\"Grp A:%d\" % len(df[e_med_1 >= df['eng']]))"
   ]
  },
  {
   "cell_type": "markdown",
   "metadata": {},
   "source": [
    "データ数は区間ごとに同じであることがわかった。それでは次。"
   ]
  },
  {
   "cell_type": "markdown",
   "metadata": {},
   "source": [
    ">   2.しかし、同じ個数でもその区間の長さが異なることから、データのばらつき具合を知ることができます。"
   ]
  },
  {
   "cell_type": "markdown",
   "metadata": {},
   "source": [
    "- mathの100点\n",
    "- engの13点\n",
    "\n",
    "はひげが伸びあがっていることから、視覚的にわかった。"
   ]
  },
  {
   "cell_type": "markdown",
   "metadata": {},
   "source": [
    "> 3.例えば、区間Bと区間Dでは、区間Bの方が区間が短いことからよりデータが集中していることが分かります。\n",
    "\n",
    "> 4.また、箱の高さ（区間Bと区間Cを合わせたもの）は全データの半分のデータを表すことから、およそ「57」から「78」の範囲に全体の半分のデータが存在することが読み取れます。"
   ]
  },
  {
   "cell_type": "markdown",
   "metadata": {},
   "source": [
    "- mathのB\n",
    "- engのC\n",
    "\n",
    "にはデータが集中している。（箱が小さい。）\n",
    "\n",
    "箱全体で半分のデータがあるということが読み取れるのか。いいね、箱ひげ。"
   ]
  },
  {
   "cell_type": "markdown",
   "metadata": {},
   "source": [
    "# 参考"
   ]
  },
  {
   "cell_type": "code",
   "execution_count": null,
   "metadata": {
    "collapsed": true
   },
   "outputs": [],
   "source": [
    "- [4-2. 箱ひげ図の見方](https://bellcurve.jp/statistics/course/5220.html)\n",
    "- [Pythonで箱ひげ図](http://qiita.com/Yuichi801/items/8ffd9fb6c5ec39e206fc)\n",
    "- [](https://mathtrain.jp/hakohige)\n",
    "- [](http://did2memo.net/2017/02/12/how-to-make-hakohigezu/)"
   ]
  },
  {
   "cell_type": "markdown",
   "metadata": {},
   "source": [
    "# あとがき"
   ]
  },
  {
   "cell_type": "code",
   "execution_count": 4,
   "metadata": {},
   "outputs": [
    {
     "data": {
      "text/plain": [
       "count     10.000000\n",
       "mean      71.200000\n",
       "std       12.890996\n",
       "min       59.000000\n",
       "25%       61.500000\n",
       "50%       66.500000\n",
       "75%       78.500000\n",
       "max      100.000000\n",
       "Name: math, dtype: float64"
      ]
     },
     "execution_count": 4,
     "metadata": {},
     "output_type": "execute_result"
    }
   ],
   "source": [
    "df['math'].describe()"
   ]
  },
  {
   "cell_type": "code",
   "execution_count": null,
   "metadata": {
    "collapsed": true
   },
   "outputs": [],
   "source": [
    "describeのxx%は実はこのパーセンタイルでした。"
   ]
  }
 ],
 "metadata": {
  "kernelspec": {
   "display_name": "Python 3",
   "language": "python",
   "name": "python3"
  },
  "language_info": {
   "codemirror_mode": {
    "name": "ipython",
    "version": 3
   },
   "file_extension": ".py",
   "mimetype": "text/x-python",
   "name": "python",
   "nbconvert_exporter": "python",
   "pygments_lexer": "ipython3",
   "version": "3.6.2"
  }
 },
 "nbformat": 4,
 "nbformat_minor": 2
}
