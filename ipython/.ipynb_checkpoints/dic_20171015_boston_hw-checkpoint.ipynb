{
 "cells": [
  {
   "cell_type": "markdown",
   "metadata": {},
   "source": [
    "# 課題 ボストン住宅価格 線形回帰"
   ]
  },
  {
   "cell_type": "markdown",
   "metadata": {},
   "source": [
    "# 線形回帰とは何か\n",
    "以下の観点をすべて含めて記述しましょう。\n",
    "\n",
    "1. 線形回帰とは何か。\n",
    "2. 具体的に言うと？\n",
    "3. 分類と何か違うのか。"
   ]
  },
  {
   "cell_type": "markdown",
   "metadata": {},
   "source": [
    "__回答：__\n",
    "\n",
    "1. 線形回帰とは、あるデータの集合から得た複数のプロット（変数）の関係を定式化すること。y=ax+b （xが独立変数、yが従属変数）など、最適な偏回帰係数（aやb）を求める。\n",
    "2. 削除→~~最小二乗法~~\n",
    "\n",
    "- - - - - \n",
    "（追記 2017/10/16）\n",
    "- どのような回帰のさせ方があるか。\n",
    "    - 単回帰（特徴量を一つだけ用いた回帰）\n",
    "    - 重回帰（特徴量を複数用いた回帰）\n",
    "    - ロジスティック回帰（確率予測や、2クラスに分類することに向いている回帰）\n",
    "\n",
    "- 具体的にどのような流れや知識をもってデータから予測が行われるのか\n",
    "教師ありのケースにおいて、あるデータの集合の説明変数と被説明変数を使い、選んだ回帰モデルのパラメータ（偏回帰係数）を求める。線形回帰モデルでは最小二乗法を用いて推定する。\n",
    "\n",
    "求めたパラメータや説明変数を増やしたり、高次方程式にすることで、学習モデルを目的のモデルに近づける。指標は平均二乗誤差（MSE）や決定係数を使う。\n",
    "\n",
    "MSE：誤差の二乗和の平均値で、学習用データ、検証用データともに小さければモデルの性能が良い\n",
    "決定係数：モデルの性能が良いほど1に近い量になりる（MSEが0の場合に1をとる）。\n",
    "\n",
    "最終的に、上記の指標などを使って条件を満たした学習モデルを選定し、未知のデータから予測を行う。\n",
    "- - - - - \n",
    " \n",
    "3. 分類は与えられるカテゴリに分けること。回帰はデータの予測を行うこと。\n"
   ]
  },
  {
   "cell_type": "markdown",
   "metadata": {},
   "source": [
    "# データを取得する"
   ]
  },
  {
   "cell_type": "markdown",
   "metadata": {},
   "source": [
    "__回答：__"
   ]
  },
  {
   "cell_type": "code",
   "execution_count": 1,
   "metadata": {
    "collapsed": true
   },
   "outputs": [],
   "source": [
    "from sklearn.datasets import load_boston\n",
    "import pandas as pd\n",
    "import matplotlib.pyplot as plt\n",
    "import seaborn as sns\n",
    "from sklearn.model_selection import train_test_split\n",
    "import numpy as np\n",
    "from sklearn.linear_model import LinearRegression\n",
    "from sklearn.metrics import mean_squared_error\n",
    "from sklearn.preprocessing import PolynomialFeatures\n",
    "%matplotlib inline\n",
    "\n",
    "boston = load_boston()"
   ]
  },
  {
   "cell_type": "markdown",
   "metadata": {},
   "source": [
    "# 取得データをDataFrameにする"
   ]
  },
  {
   "cell_type": "code",
   "execution_count": 9,
   "metadata": {
    "collapsed": true
   },
   "outputs": [],
   "source": [
    "X=pd.DataFrame(boston.data[:,:], columns=boston.feature_names)\n",
    "y=pd.DataFrame(boston.target[:])"
   ]
  },
  {
   "cell_type": "markdown",
   "metadata": {},
   "source": [
    "##### チェック\n",
    "* * * "
   ]
  },
  {
   "cell_type": "code",
   "execution_count": 5,
   "metadata": {
    "scrolled": true
   },
   "outputs": [
    {
     "data": {
      "text/html": [
       "<div>\n",
       "<style>\n",
       "    .dataframe thead tr:only-child th {\n",
       "        text-align: right;\n",
       "    }\n",
       "\n",
       "    .dataframe thead th {\n",
       "        text-align: left;\n",
       "    }\n",
       "\n",
       "    .dataframe tbody tr th {\n",
       "        vertical-align: top;\n",
       "    }\n",
       "</style>\n",
       "<table border=\"1\" class=\"dataframe\">\n",
       "  <thead>\n",
       "    <tr style=\"text-align: right;\">\n",
       "      <th></th>\n",
       "      <th>CRIM</th>\n",
       "      <th>ZN</th>\n",
       "      <th>INDUS</th>\n",
       "      <th>CHAS</th>\n",
       "      <th>NOX</th>\n",
       "      <th>RM</th>\n",
       "      <th>AGE</th>\n",
       "      <th>DIS</th>\n",
       "      <th>RAD</th>\n",
       "      <th>TAX</th>\n",
       "      <th>PTRATIO</th>\n",
       "      <th>B</th>\n",
       "      <th>LSTAT</th>\n",
       "    </tr>\n",
       "  </thead>\n",
       "  <tbody>\n",
       "    <tr>\n",
       "      <th>0</th>\n",
       "      <td>0.00632</td>\n",
       "      <td>18.0</td>\n",
       "      <td>2.31</td>\n",
       "      <td>0.0</td>\n",
       "      <td>0.538</td>\n",
       "      <td>6.575</td>\n",
       "      <td>65.2</td>\n",
       "      <td>4.0900</td>\n",
       "      <td>1.0</td>\n",
       "      <td>296.0</td>\n",
       "      <td>15.3</td>\n",
       "      <td>396.90</td>\n",
       "      <td>4.98</td>\n",
       "    </tr>\n",
       "    <tr>\n",
       "      <th>1</th>\n",
       "      <td>0.02731</td>\n",
       "      <td>0.0</td>\n",
       "      <td>7.07</td>\n",
       "      <td>0.0</td>\n",
       "      <td>0.469</td>\n",
       "      <td>6.421</td>\n",
       "      <td>78.9</td>\n",
       "      <td>4.9671</td>\n",
       "      <td>2.0</td>\n",
       "      <td>242.0</td>\n",
       "      <td>17.8</td>\n",
       "      <td>396.90</td>\n",
       "      <td>9.14</td>\n",
       "    </tr>\n",
       "    <tr>\n",
       "      <th>2</th>\n",
       "      <td>0.02729</td>\n",
       "      <td>0.0</td>\n",
       "      <td>7.07</td>\n",
       "      <td>0.0</td>\n",
       "      <td>0.469</td>\n",
       "      <td>7.185</td>\n",
       "      <td>61.1</td>\n",
       "      <td>4.9671</td>\n",
       "      <td>2.0</td>\n",
       "      <td>242.0</td>\n",
       "      <td>17.8</td>\n",
       "      <td>392.83</td>\n",
       "      <td>4.03</td>\n",
       "    </tr>\n",
       "  </tbody>\n",
       "</table>\n",
       "</div>"
      ],
      "text/plain": [
       "      CRIM    ZN  INDUS  CHAS    NOX     RM   AGE     DIS  RAD    TAX  \\\n",
       "0  0.00632  18.0   2.31   0.0  0.538  6.575  65.2  4.0900  1.0  296.0   \n",
       "1  0.02731   0.0   7.07   0.0  0.469  6.421  78.9  4.9671  2.0  242.0   \n",
       "2  0.02729   0.0   7.07   0.0  0.469  7.185  61.1  4.9671  2.0  242.0   \n",
       "\n",
       "   PTRATIO       B  LSTAT  \n",
       "0     15.3  396.90   4.98  \n",
       "1     17.8  396.90   9.14  \n",
       "2     17.8  392.83   4.03  "
      ]
     },
     "execution_count": 5,
     "metadata": {},
     "output_type": "execute_result"
    }
   ],
   "source": [
    "X.head(3)"
   ]
  },
  {
   "cell_type": "code",
   "execution_count": 6,
   "metadata": {},
   "outputs": [
    {
     "data": {
      "text/plain": [
       "False"
      ]
     },
     "execution_count": 6,
     "metadata": {},
     "output_type": "execute_result"
    }
   ],
   "source": [
    "X['LSTAT'].isnull().any()"
   ]
  },
  {
   "cell_type": "code",
   "execution_count": 8,
   "metadata": {
    "scrolled": true
   },
   "outputs": [
    {
     "data": {
      "text/html": [
       "<div>\n",
       "<style>\n",
       "    .dataframe thead tr:only-child th {\n",
       "        text-align: right;\n",
       "    }\n",
       "\n",
       "    .dataframe thead th {\n",
       "        text-align: left;\n",
       "    }\n",
       "\n",
       "    .dataframe tbody tr th {\n",
       "        vertical-align: top;\n",
       "    }\n",
       "</style>\n",
       "<table border=\"1\" class=\"dataframe\">\n",
       "  <thead>\n",
       "    <tr style=\"text-align: right;\">\n",
       "      <th></th>\n",
       "      <th>0</th>\n",
       "    </tr>\n",
       "  </thead>\n",
       "  <tbody>\n",
       "    <tr>\n",
       "      <th>0</th>\n",
       "      <td>24.0</td>\n",
       "    </tr>\n",
       "    <tr>\n",
       "      <th>1</th>\n",
       "      <td>21.6</td>\n",
       "    </tr>\n",
       "    <tr>\n",
       "      <th>2</th>\n",
       "      <td>34.7</td>\n",
       "    </tr>\n",
       "  </tbody>\n",
       "</table>\n",
       "</div>"
      ],
      "text/plain": [
       "      0\n",
       "0  24.0\n",
       "1  21.6\n",
       "2  34.7"
      ]
     },
     "execution_count": 8,
     "metadata": {},
     "output_type": "execute_result"
    }
   ],
   "source": [
    "y.head(3)"
   ]
  },
  {
   "cell_type": "markdown",
   "metadata": {},
   "source": [
    "* * * "
   ]
  },
  {
   "cell_type": "markdown",
   "metadata": {},
   "source": [
    "# 説明変数を’LSTAT’のみにする"
   ]
  },
  {
   "cell_type": "code",
   "execution_count": 10,
   "metadata": {
    "collapsed": true
   },
   "outputs": [],
   "source": [
    "x = X['LSTAT'].values\n",
    "#plt.scatter(X['LSTAT'],y) #同じ"
   ]
  },
  {
   "cell_type": "markdown",
   "metadata": {},
   "source": [
    "# 単回帰と重回帰についての違いを記述せよ"
   ]
  },
  {
   "cell_type": "markdown",
   "metadata": {},
   "source": [
    "__回答：__\n",
    "- 単回帰はxとしてひとつの特徴量のみを扱う回帰。\n",
    "    - 例）身長と体重の関係。x:身長,y:体重\n",
    "- 重回帰は複数のxとして、複数の特徴量を扱う回帰。\n",
    "    - 例）新幹線の利用者。x1:GDP成長率、x2：高速道路の通行料、x3：航空運賃,y:新幹線の利用者数"
   ]
  },
  {
   "cell_type": "markdown",
   "metadata": {},
   "source": [
    "# テストデータに分割する"
   ]
  },
  {
   "cell_type": "code",
   "execution_count": 13,
   "metadata": {
    "collapsed": true
   },
   "outputs": [],
   "source": [
    "X_train, X_test, y_train, y_test = train_test_split(X,y,test_size=0.2,random_state=0)"
   ]
  },
  {
   "cell_type": "markdown",
   "metadata": {},
   "source": [
    "### ※データの形状を確認する\n",
    "* * *"
   ]
  },
  {
   "cell_type": "code",
   "execution_count": 14,
   "metadata": {},
   "outputs": [
    {
     "data": {
      "text/plain": [
       "(102, 13)"
      ]
     },
     "execution_count": 14,
     "metadata": {},
     "output_type": "execute_result"
    }
   ],
   "source": [
    "X_test.shape"
   ]
  },
  {
   "cell_type": "code",
   "execution_count": 15,
   "metadata": {},
   "outputs": [
    {
     "data": {
      "text/plain": [
       "(404, 13)"
      ]
     },
     "execution_count": 15,
     "metadata": {},
     "output_type": "execute_result"
    }
   ],
   "source": [
    "X_train.shape"
   ]
  },
  {
   "cell_type": "code",
   "execution_count": 16,
   "metadata": {
    "scrolled": true
   },
   "outputs": [
    {
     "data": {
      "text/plain": [
       "(102, 1)"
      ]
     },
     "execution_count": 16,
     "metadata": {},
     "output_type": "execute_result"
    }
   ],
   "source": [
    "y_test.shape"
   ]
  },
  {
   "cell_type": "code",
   "execution_count": 18,
   "metadata": {},
   "outputs": [
    {
     "data": {
      "text/html": [
       "<div>\n",
       "<style>\n",
       "    .dataframe thead tr:only-child th {\n",
       "        text-align: right;\n",
       "    }\n",
       "\n",
       "    .dataframe thead th {\n",
       "        text-align: left;\n",
       "    }\n",
       "\n",
       "    .dataframe tbody tr th {\n",
       "        vertical-align: top;\n",
       "    }\n",
       "</style>\n",
       "<table border=\"1\" class=\"dataframe\">\n",
       "  <thead>\n",
       "    <tr style=\"text-align: right;\">\n",
       "      <th></th>\n",
       "      <th>0</th>\n",
       "    </tr>\n",
       "  </thead>\n",
       "  <tbody>\n",
       "    <tr>\n",
       "      <th>329</th>\n",
       "      <td>22.6</td>\n",
       "    </tr>\n",
       "    <tr>\n",
       "      <th>371</th>\n",
       "      <td>50.0</td>\n",
       "    </tr>\n",
       "    <tr>\n",
       "      <th>219</th>\n",
       "      <td>23.0</td>\n",
       "    </tr>\n",
       "  </tbody>\n",
       "</table>\n",
       "</div>"
      ],
      "text/plain": [
       "        0\n",
       "329  22.6\n",
       "371  50.0\n",
       "219  23.0"
      ]
     },
     "execution_count": 18,
     "metadata": {},
     "output_type": "execute_result"
    }
   ],
   "source": [
    "y_test.head(3) # Seriesは行列？"
   ]
  },
  {
   "cell_type": "code",
   "execution_count": 20,
   "metadata": {},
   "outputs": [],
   "source": [
    "#plt.scatter(X_train['LSTAT'],y_train)\n",
    "# 母集団の似た散布図"
   ]
  },
  {
   "cell_type": "markdown",
   "metadata": {},
   "source": [
    "* * *"
   ]
  },
  {
   "cell_type": "markdown",
   "metadata": {},
   "source": [
    "# 学習"
   ]
  },
  {
   "cell_type": "code",
   "execution_count": 23,
   "metadata": {
    "collapsed": true
   },
   "outputs": [
    {
     "data": {
      "text/plain": [
       "LinearRegression(copy_X=True, fit_intercept=True, n_jobs=1, normalize=False)"
      ]
     },
     "execution_count": 23,
     "metadata": {},
     "output_type": "execute_result"
    }
   ],
   "source": [
    "lin_1d = LinearRegression()\n",
    "x_train = X_train.loc[:, ['LSTAT']].as_matrix()\n",
    "lin_1d.fit(x_train, y_train)"
   ]
  },
  {
   "cell_type": "code",
   "execution_count": 24,
   "metadata": {},
   "outputs": [
    {
     "data": {
      "text/plain": [
       "[<matplotlib.lines.Line2D at 0x112002470>]"
      ]
     },
     "execution_count": 24,
     "metadata": {},
     "output_type": "execute_result"
    },
    {
     "data": {
      "image/png": "[encoded data removed]",
      "text/plain": [
       "<matplotlib.figure.Figure at 0x1120024a8>"
      ]
     },
     "metadata": {},
     "output_type": "display_data"
    }
   ],
   "source": [
    "n = np.linspace(np.min(x_train),np.max(x_train), 1000)\n",
    "y_1d_fit=lin_1d.predict(n[:,np.newaxis])\n",
    "\n",
    "plt.scatter(x_train,y_train,label='data')\n",
    "plt.plot(n,y_1d_fit,'r',label='1d_lin')"
   ]
  },
  {
   "cell_type": "code",
   "execution_count": 25,
   "metadata": {},
   "outputs": [
    {
     "data": {
      "text/plain": [
       "array([[ 1.28812629]])"
      ]
     },
     "execution_count": 25,
     "metadata": {},
     "output_type": "execute_result"
    }
   ],
   "source": [
    "lin_1d.predict(35)"
   ]
  },
  {
   "cell_type": "code",
   "execution_count": 28,
   "metadata": {},
   "outputs": [],
   "source": [
    "##### ２乗和誤差"
   ]
  },
  {
   "cell_type": "code",
   "execution_count": 29,
   "metadata": {},
   "outputs": [
    {
     "data": {
      "text/plain": [
       "46.336305360025925"
      ]
     },
     "execution_count": 29,
     "metadata": {},
     "output_type": "execute_result"
    }
   ],
   "source": [
    "x_test = X_test.loc[:, ['LSTAT']].as_matrix()\n",
    "mean_squared_error(y_test, lin_1d.predict(x_test))"
   ]
  },
  {
   "cell_type": "markdown",
   "metadata": {},
   "source": [
    "# 決定係数"
   ]
  },
  {
   "cell_type": "code",
   "execution_count": 27,
   "metadata": {},
   "outputs": [
    {
     "name": "stdout",
     "output_type": "stream",
     "text": [
      "0.430956728462\n"
     ]
    }
   ],
   "source": [
    "print(lin_1d.score(x_test, y_test))"
   ]
  },
  {
   "cell_type": "markdown",
   "metadata": {},
   "source": [
    "# 決定係数とは何か記述せよ\n"
   ]
  },
  {
   "cell_type": "markdown",
   "metadata": {},
   "source": [
    "1. 決定係数とは何か\n",
    "2. もっとも説明変数が、目的変数を説明できる場合、決定係数は何になるか\n",
    "3. どのように求めることができるか"
   ]
  },
  {
   "cell_type": "markdown",
   "metadata": {},
   "source": [
    "__回答：__\n",
    "1. 推定した回帰式がどの程度の説明力を有するかを示す指標。当てはまり具合を表す。\n",
    "2. もっとも説明変数が、目的変数を説明できる場合、決定係数は1になる。\n",
    "3. 実際のデータと推定された回帰式から「全変動」「回帰変動」「残差変動」の3つを求め、以下の式に当てはめる。\n",
    "\n",
    "「全変動」＝「回帰変動」＋「残差変動」\n",
    "つまり「回帰変動が全変動に対してどれだけ多いか＝残差変動が全変動に対してどれだけ少ないか」を表す。\n",
    "したがって決定係数は、下記のように回帰変動を全変動で割ることで求められます。\n",
    "\n",
    "R^2 = 回帰変動 / 全変動 \n",
    "\n",
    "これは下記の式と同じ。\n",
    "\n",
    "R^2 = 1 - （残差変動 / 全変動）\n",
    "\n",
    "なので決定係数は0から1の範囲内となる。\n",
    "[参考](https://bellcurve.jp/statistics/course/9706.html)"
   ]
  },
  {
   "cell_type": "markdown",
   "metadata": {},
   "source": [
    "# 決定係数をいかなる場合も信じても良いか記述せよ(決定係数が高ければ、汎用性があるモデルと言えるか)"
   ]
  },
  {
   "cell_type": "markdown",
   "metadata": {},
   "source": [
    "\n",
    "信じるべきではない。\n",
    "\n",
    "- 決定係数は標本から求めた回帰方程式の当てはまり具合。母集団を意識して自由度を加味した自由度調整済み決定係数のほうが正確。\n",
    "- ただ次の理由で自由度調整済み決定係数も信じるべきではない。（引用）目的や仮説とは一切関係ない変数を、決定係数が上がるからという理由だけで無秩序に分析に加えてしまうと、そのモデルは解釈が難しくなり当初の目的を果たせない。外れ値を含む場合も同様に決定係数に影響を与える。\n",
    "- 使い方には注意。決定係数はあくまで「予測の当てはまりの良さ」を表す指標。分析の目的が「ある変数の値を予測」であること。ある変数の影響の有無が主眼であり予測は重視しない場合には適さない。[参考](http://xica.net/magellan/marketing-idea/stats/about-coefficient-of-determination/)\n",
    "\n",
    "\n"
   ]
  },
  {
   "cell_type": "markdown",
   "metadata": {},
   "source": [
    "# 2,3,4次式の回帰"
   ]
  },
  {
   "cell_type": "markdown",
   "metadata": {},
   "source": [
    "##### prep"
   ]
  },
  {
   "cell_type": "code",
   "execution_count": 30,
   "metadata": {},
   "outputs": [],
   "source": [
    "degree_2=PolynomialFeatures(degree=2)\n",
    "degree_3=PolynomialFeatures(degree=3)\n",
    "degree_4=PolynomialFeatures(degree=4)\n",
    "x_train = X_train.loc[:, ['LSTAT']].as_matrix()\n",
    "x_train_2=degree_2.fit_transform(x_train)\n",
    "x_train_3=degree_3.fit_transform(x_train)\n",
    "x_train_4=degree_4.fit_transform(x_train)"
   ]
  },
  {
   "cell_type": "code",
   "execution_count": 32,
   "metadata": {},
   "outputs": [
    {
     "data": {
      "text/plain": [
       "LinearRegression(copy_X=True, fit_intercept=True, n_jobs=1, normalize=False)"
      ]
     },
     "execution_count": 32,
     "metadata": {},
     "output_type": "execute_result"
    }
   ],
   "source": [
    "lin_2d = LinearRegression()\n",
    "lin_3d = LinearRegression()\n",
    "lin_4d = LinearRegression()\n",
    "\n",
    "lin_2d.fit(x_train_2, y_train)\n",
    "lin_3d.fit(x_train_3, y_train)\n",
    "lin_4d.fit(x_train_4, y_train)"
   ]
  },
  {
   "cell_type": "code",
   "execution_count": 33,
   "metadata": {},
   "outputs": [],
   "source": [
    "x_test = X_test.loc[:, ['LSTAT']].as_matrix()"
   ]
  },
  {
   "cell_type": "code",
   "execution_count": 35,
   "metadata": {},
   "outputs": [],
   "source": [
    "x_test_2 = degree_2.fit_transform(x_test)\n",
    "x_test_3 = degree_3.fit_transform(x_test)\n",
    "x_test_4 = degree_4.fit_transform(x_test)"
   ]
  },
  {
   "cell_type": "markdown",
   "metadata": {},
   "source": [
    "##### 決定係数"
   ]
  },
  {
   "cell_type": "code",
   "execution_count": 36,
   "metadata": {},
   "outputs": [
    {
     "name": "stdout",
     "output_type": "stream",
     "text": [
      "degree 2: 0.522932\n",
      "degree 3: 0.542859\n",
      "degree 4: 0.573799\n"
     ]
    }
   ],
   "source": [
    "print(\"degree 2: %f\" % lin_2d.score(x_test_2, y_test))\n",
    "print(\"degree 3: %f\" % lin_3d.score(x_test_3, y_test))\n",
    "print(\"degree 4: %f\" % lin_4d.score(x_test_4, y_test))"
   ]
  },
  {
   "cell_type": "markdown",
   "metadata": {},
   "source": [
    "##### 誤差関数"
   ]
  },
  {
   "cell_type": "code",
   "execution_count": 37,
   "metadata": {},
   "outputs": [
    {
     "name": "stdout",
     "output_type": "stream",
     "text": [
      "degree 2: 38.846869\n",
      "degree 3: 37.224242\n",
      "degree 4: 34.704869\n"
     ]
    }
   ],
   "source": [
    "print(\"degree 2: %f\" % mean_squared_error(y_test,lin_2d.predict(x_test_2)))\n",
    "print(\"degree 3: %f\" % mean_squared_error(y_test,lin_3d.predict(x_test_3)))\n",
    "print(\"degree 4: %f\" % mean_squared_error(y_test,lin_4d.predict(x_test_4)))\n"
   ]
  },
  {
   "cell_type": "markdown",
   "metadata": {},
   "source": [
    "* * * * *"
   ]
  },
  {
   "cell_type": "markdown",
   "metadata": {},
   "source": [
    "# 次数が大きくなるとどうなるか記述せよ\n",
    "- 説明変数をxとして、次数を増やしていくとどのように数式が変化していくか記述せよ（1次式 ax + b）\n",
    "- 次数を増やすとどのようなメリットが考えられるか\n",
    "- 次数を増やすとどのようなデメリットが考えられるか"
   ]
  },
  {
   "cell_type": "markdown",
   "metadata": {},
   "source": [
    "__回答：__\n",
    "- ax^2+bx+c\n",
    "- 表現力が高くなる\n",
    "- 過学習しやすくなる。"
   ]
  },
  {
   "cell_type": "markdown",
   "metadata": {},
   "source": [
    "* * * *\n",
    "# 重回帰"
   ]
  },
  {
   "cell_type": "markdown",
   "metadata": {},
   "source": [
    "#### 単回帰"
   ]
  },
  {
   "cell_type": "code",
   "execution_count": 49,
   "metadata": {},
   "outputs": [
    {
     "name": "stdout",
     "output_type": "stream",
     "text": [
      "一次式における'LSTAT'の住宅価格への決定係数は0.430957\n"
     ]
    }
   ],
   "source": [
    "# LSTAT\n",
    "x_test = X_test['LSTAT'].values[:,np.newaxis]\n",
    "score_1d = lin_1d.score(x_test, y_test)\n",
    "print(\"一次式における'LSTAT'の住宅価格への決定係数は%f\" % (score_1d))"
   ]
  },
  {
   "cell_type": "markdown",
   "metadata": {},
   "source": [
    "#### 重回帰"
   ]
  },
  {
   "cell_type": "code",
   "execution_count": 38,
   "metadata": {},
   "outputs": [
    {
     "name": "stdout",
     "output_type": "stream",
     "text": [
      "d:3 s:0.7535202032485468 p:('RAD', 'RM', 'LSTAT', 'NOX', 'CHAS')\n",
      "d:3 s:0.7685431811199771 p:('RAD', 'RM', 'LSTAT', 'TAX', 'B', 'DIS')\n",
      "d:3 s:0.7645902503357569 p:('RAD', 'RM', 'ZN', 'LSTAT', 'TAX', 'B', 'DIS')\n",
      "d:3 s:0.7670668028826491 p:('RM', 'PTRATIO', 'LSTAT', 'TAX', 'B', 'INDUS', 'DIS')\n"
     ]
    }
   ],
   "source": [
    "from itertools import chain, combinations\n",
    "dim=[3,4]\n",
    "i = set(list(X.columns))\n",
    "\n",
    "for di in dim:\n",
    "\n",
    "    degree_=PolynomialFeatures(degree=di)\n",
    "\n",
    "    for p in chain.from_iterable(combinations(i, r) for r in range(len(i)+1)):\n",
    "        if len(p) == 0:\n",
    "            continue\n",
    "        else:\n",
    "            x_train = X_train.loc[:, p].as_matrix()\n",
    "            x_train_d = degree_.fit_transform(x_train)\n",
    "\n",
    "            lin_ = LinearRegression(normalize=True)\n",
    "            #normalize=Trueは入力データを正規化してトレーニングすることを意味します。    \n",
    "            lin_.fit(x_train_d,y_train)\n",
    "\n",
    "            x_test = X_test.loc[:, p].as_matrix()\n",
    "            x_test_d = degree_.fit_transform(x_test)\n",
    "\n",
    "            score_d = lin_.score(x_test_d, y_test)\n",
    "\n",
    "            if score_d >= 0.75:\n",
    "                print('d:{0} s:{1} p:{2}'.format(di,score_d, p))"
   ]
  },
  {
   "cell_type": "markdown",
   "metadata": {},
   "source": [
    "# 重回帰について記述せよ"
   ]
  },
  {
   "cell_type": "markdown",
   "metadata": {},
   "source": [
    "- 重回帰は複数のxとして、複数の特徴量を扱う回帰。\n",
    "    - 例）新幹線の利用者。x1:GDP成長率、x2：高速道路の通行料、x3：航空運賃,y:新幹線の利用者数"
   ]
  },
  {
   "cell_type": "markdown",
   "metadata": {},
   "source": [
    "- 説明変数を増やすことでどのようなメリットがあるか\n",
    "- 説明変数を増やすことでどのようなデメリットがあるか"
   ]
  },
  {
   "cell_type": "markdown",
   "metadata": {},
   "source": [
    "__回答：__\n",
    "- (メリット)誤差が小さくできる。予測の精度が上げることができる\n",
    "- (デメリット)[モデルの説明変数は必要以上に増やせば増やすほど学習データのシグナルだけでなくノイズにまでフィットしてしまう](http://tjo.hatenablog.com/entry/2016/04/14/190000)\n",
    "- (デメリット)独立変数X1,X2,....Xnの間に強い相関が認められるものが含まれる場合、重回帰モデルの信頼性を損ねる可能性あり（多重共通性の存在）。\n"
   ]
  }
 ],
 "metadata": {
  "kernelspec": {
   "display_name": "Python 3",
   "language": "python",
   "name": "python3"
  },
  "language_info": {
   "codemirror_mode": {
    "name": "ipython",
    "version": 3
   },
   "file_extension": ".py",
   "mimetype": "text/x-python",
   "name": "python",
   "nbconvert_exporter": "python",
   "pygments_lexer": "ipython3",
   "version": "3.6.2"
  }
 },
 "nbformat": 4,
 "nbformat_minor": 2
}
