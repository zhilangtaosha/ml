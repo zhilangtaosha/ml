{
 "cells": [
  {
   "cell_type": "code",
   "execution_count": 1,
   "metadata": {
    "collapsed": true
   },
   "outputs": [],
   "source": [
    "import numpy as np"
   ]
  },
  {
   "cell_type": "code",
   "execution_count": 6,
   "metadata": {
    "collapsed": true
   },
   "outputs": [],
   "source": [
    "a = np.array([1,2])"
   ]
  },
  {
   "cell_type": "code",
   "execution_count": 7,
   "metadata": {
    "collapsed": true
   },
   "outputs": [],
   "source": [
    "b = np.array([[1, 2, 3], [4, 5, 6]])"
   ]
  },
  {
   "cell_type": "code",
   "execution_count": 11,
   "metadata": {
    "scrolled": true
   },
   "outputs": [
    {
     "data": {
      "text/plain": [
       "array([1, 2])"
      ]
     },
     "execution_count": 11,
     "metadata": {},
     "output_type": "execute_result"
    }
   ],
   "source": [
    "a"
   ]
  },
  {
   "cell_type": "code",
   "execution_count": 65,
   "metadata": {},
   "outputs": [
    {
     "data": {
      "text/plain": [
       "array([[1, 2]])"
      ]
     },
     "execution_count": 65,
     "metadata": {},
     "output_type": "execute_result"
    }
   ],
   "source": [
    "a[None,:]"
   ]
  },
  {
   "cell_type": "code",
   "execution_count": 67,
   "metadata": {},
   "outputs": [
    {
     "data": {
      "text/plain": [
       "2"
      ]
     },
     "execution_count": 67,
     "metadata": {},
     "output_type": "execute_result"
    }
   ],
   "source": [
    "a[None,:].ndim"
   ]
  },
  {
   "cell_type": "code",
   "execution_count": 70,
   "metadata": {},
   "outputs": [
    {
     "data": {
      "text/plain": [
       "array([[1],\n",
       "       [2]])"
      ]
     },
     "execution_count": 70,
     "metadata": {},
     "output_type": "execute_result"
    }
   ],
   "source": [
    "a[:,np.newaxis]"
   ]
  },
  {
   "cell_type": "code",
   "execution_count": 69,
   "metadata": {},
   "outputs": [
    {
     "data": {
      "text/plain": [
       "2"
      ]
     },
     "execution_count": 69,
     "metadata": {},
     "output_type": "execute_result"
    }
   ],
   "source": [
    "a[:,np.newaxis].ndim"
   ]
  },
  {
   "cell_type": "code",
   "execution_count": 71,
   "metadata": {
    "collapsed": true
   },
   "outputs": [],
   "source": [
    "d=np.array(\n",
    "      [[[0, 0, 0, 0],\n",
    "        [1, 1, 1, 1],\n",
    "        [2, 2, 2, 2],\n",
    "        [3, 3, 3, 3]],\n",
    "\n",
    "       [[0, 0, 0, 0],\n",
    "        [1, 1, 1, 1],\n",
    "        [2, 2, 2, 2],\n",
    "        [3, 3, 3, 3]],\n",
    "\n",
    "       [[0, 0, 0, 0],\n",
    "        [1, 1, 1, 1],\n",
    "        [2, 2, 2, 2],\n",
    "        [3, 3, 3, 3]]])"
   ]
  },
  {
   "cell_type": "code",
   "execution_count": 72,
   "metadata": {},
   "outputs": [
    {
     "data": {
      "text/plain": [
       "3"
      ]
     },
     "execution_count": 72,
     "metadata": {},
     "output_type": "execute_result"
    }
   ],
   "source": [
    "d.ndim"
   ]
  },
  {
   "cell_type": "code",
   "execution_count": 12,
   "metadata": {},
   "outputs": [
    {
     "data": {
      "text/plain": [
       "array([[1, 2, 3],\n",
       "       [4, 5, 6]])"
      ]
     },
     "execution_count": 12,
     "metadata": {},
     "output_type": "execute_result"
    }
   ],
   "source": [
    "b"
   ]
  },
  {
   "cell_type": "code",
   "execution_count": 59,
   "metadata": {},
   "outputs": [
    {
     "data": {
      "text/plain": [
       "2"
      ]
     },
     "execution_count": 59,
     "metadata": {},
     "output_type": "execute_result"
    }
   ],
   "source": [
    "b.ndim"
   ]
  },
  {
   "cell_type": "code",
   "execution_count": 26,
   "metadata": {},
   "outputs": [
    {
     "data": {
      "text/plain": [
       "array([[1, 4],\n",
       "       [2, 5],\n",
       "       [3, 6]])"
      ]
     },
     "execution_count": 26,
     "metadata": {},
     "output_type": "execute_result"
    }
   ],
   "source": [
    "b.T"
   ]
  },
  {
   "cell_type": "code",
   "execution_count": 62,
   "metadata": {},
   "outputs": [
    {
     "data": {
      "text/plain": [
       "array([[[1, 2, 3]],\n",
       "\n",
       "       [[4, 5, 6]]])"
      ]
     },
     "execution_count": 62,
     "metadata": {},
     "output_type": "execute_result"
    }
   ],
   "source": [
    "b[:,np.newaxis]"
   ]
  },
  {
   "cell_type": "code",
   "execution_count": 55,
   "metadata": {
    "scrolled": true
   },
   "outputs": [
    {
     "data": {
      "text/plain": [
       "array([[[1, 2, 3]],\n",
       "\n",
       "       [[4, 5, 6]]])"
      ]
     },
     "execution_count": 55,
     "metadata": {},
     "output_type": "execute_result"
    }
   ],
   "source": [
    "b[:,None] #np.newaxisと一緒。"
   ]
  },
  {
   "cell_type": "code",
   "execution_count": 63,
   "metadata": {},
   "outputs": [
    {
     "data": {
      "text/plain": [
       "2"
      ]
     },
     "execution_count": 63,
     "metadata": {},
     "output_type": "execute_result"
    }
   ],
   "source": [
    "b.ndim"
   ]
  },
  {
   "cell_type": "code",
   "execution_count": 60,
   "metadata": {},
   "outputs": [
    {
     "data": {
      "text/plain": [
       "array([[ 0,  1,  2,  3,  4],\n",
       "       [ 5,  6,  7,  8,  9],\n",
       "       [10, 11, 12, 13, 14]])"
      ]
     },
     "execution_count": 60,
     "metadata": {},
     "output_type": "execute_result"
    }
   ],
   "source": [
    "x = np.arange(15).reshape(3,5)\n",
    "x"
   ]
  },
  {
   "cell_type": "code",
   "execution_count": 61,
   "metadata": {},
   "outputs": [
    {
     "data": {
      "text/plain": [
       "2"
      ]
     },
     "execution_count": 61,
     "metadata": {},
     "output_type": "execute_result"
    }
   ],
   "source": [
    "x.ndim"
   ]
  },
  {
   "cell_type": "code",
   "execution_count": null,
   "metadata": {
    "collapsed": true
   },
   "outputs": [],
   "source": []
  },
  {
   "cell_type": "code",
   "execution_count": 13,
   "metadata": {},
   "outputs": [
    {
     "data": {
      "text/plain": [
       "(2,)"
      ]
     },
     "execution_count": 13,
     "metadata": {},
     "output_type": "execute_result"
    }
   ],
   "source": [
    "a.shape"
   ]
  },
  {
   "cell_type": "code",
   "execution_count": 14,
   "metadata": {},
   "outputs": [
    {
     "data": {
      "text/plain": [
       "1"
      ]
     },
     "execution_count": 14,
     "metadata": {},
     "output_type": "execute_result"
    }
   ],
   "source": [
    "a.ndim"
   ]
  },
  {
   "cell_type": "code",
   "execution_count": 15,
   "metadata": {},
   "outputs": [
    {
     "data": {
      "text/plain": [
       "(2, 3)"
      ]
     },
     "execution_count": 15,
     "metadata": {},
     "output_type": "execute_result"
    }
   ],
   "source": [
    "b.shape"
   ]
  },
  {
   "cell_type": "code",
   "execution_count": 16,
   "metadata": {},
   "outputs": [
    {
     "data": {
      "text/plain": [
       "2"
      ]
     },
     "execution_count": 16,
     "metadata": {},
     "output_type": "execute_result"
    }
   ],
   "source": [
    "b.ndim"
   ]
  },
  {
   "cell_type": "markdown",
   "metadata": {},
   "source": [
    "* * * * * "
   ]
  },
  {
   "cell_type": "code",
   "execution_count": 18,
   "metadata": {
    "collapsed": true
   },
   "outputs": [],
   "source": [
    "c = np.arange(6).reshape((3, 2))"
   ]
  },
  {
   "cell_type": "code",
   "execution_count": 20,
   "metadata": {},
   "outputs": [
    {
     "data": {
      "text/plain": [
       "array([[0, 1],\n",
       "       [2, 3],\n",
       "       [4, 5]])"
      ]
     },
     "execution_count": 20,
     "metadata": {},
     "output_type": "execute_result"
    }
   ],
   "source": [
    "c"
   ]
  },
  {
   "cell_type": "code",
   "execution_count": 21,
   "metadata": {},
   "outputs": [
    {
     "data": {
      "text/plain": [
       "(3, 2)"
      ]
     },
     "execution_count": 21,
     "metadata": {},
     "output_type": "execute_result"
    }
   ],
   "source": [
    "c.shape"
   ]
  },
  {
   "cell_type": "code",
   "execution_count": 22,
   "metadata": {},
   "outputs": [
    {
     "data": {
      "text/plain": [
       "2"
      ]
     },
     "execution_count": 22,
     "metadata": {},
     "output_type": "execute_result"
    }
   ],
   "source": [
    "c.ndim"
   ]
  },
  {
   "cell_type": "code",
   "execution_count": 30,
   "metadata": {
    "collapsed": true
   },
   "outputs": [],
   "source": [
    "d = np.array([b.T, c])"
   ]
  },
  {
   "cell_type": "code",
   "execution_count": 31,
   "metadata": {},
   "outputs": [
    {
     "data": {
      "text/plain": [
       "(2, 3, 2)"
      ]
     },
     "execution_count": 31,
     "metadata": {},
     "output_type": "execute_result"
    }
   ],
   "source": [
    "d.shape"
   ]
  },
  {
   "cell_type": "code",
   "execution_count": 32,
   "metadata": {},
   "outputs": [
    {
     "data": {
      "text/plain": [
       "array([[[1, 4],\n",
       "        [2, 5],\n",
       "        [3, 6]],\n",
       "\n",
       "       [[0, 1],\n",
       "        [2, 3],\n",
       "        [4, 5]]])"
      ]
     },
     "execution_count": 32,
     "metadata": {},
     "output_type": "execute_result"
    }
   ],
   "source": [
    "d"
   ]
  },
  {
   "cell_type": "code",
   "execution_count": 34,
   "metadata": {
    "collapsed": true
   },
   "outputs": [
    {
     "data": {
      "text/plain": [
       "True"
      ]
     },
     "execution_count": 34,
     "metadata": {},
     "output_type": "execute_result"
    }
   ],
   "source": [
    "d.sum(axis=0).shape == (3, 2)"
   ]
  },
  {
   "cell_type": "code",
   "execution_count": 35,
   "metadata": {
    "collapsed": true
   },
   "outputs": [
    {
     "data": {
      "text/plain": [
       "True"
      ]
     },
     "execution_count": 35,
     "metadata": {},
     "output_type": "execute_result"
    }
   ],
   "source": [
    "d.sum(axis=1).shape == (2, 2)"
   ]
  },
  {
   "cell_type": "code",
   "execution_count": 36,
   "metadata": {
    "collapsed": true
   },
   "outputs": [
    {
     "data": {
      "text/plain": [
       "True"
      ]
     },
     "execution_count": 36,
     "metadata": {},
     "output_type": "execute_result"
    }
   ],
   "source": [
    "d.sum(axis=2).shape == (2, 3)"
   ]
  },
  {
   "cell_type": "code",
   "execution_count": 37,
   "metadata": {},
   "outputs": [
    {
     "data": {
      "text/plain": [
       "array([[ 1,  5],\n",
       "       [ 4,  8],\n",
       "       [ 7, 11]])"
      ]
     },
     "execution_count": 37,
     "metadata": {},
     "output_type": "execute_result"
    }
   ],
   "source": [
    "d.sum(axis=0)"
   ]
  },
  {
   "cell_type": "code",
   "execution_count": 38,
   "metadata": {},
   "outputs": [
    {
     "data": {
      "text/plain": [
       "array([[ 6, 15],\n",
       "       [ 6,  9]])"
      ]
     },
     "execution_count": 38,
     "metadata": {},
     "output_type": "execute_result"
    }
   ],
   "source": [
    "d.sum(axis=1)"
   ]
  },
  {
   "cell_type": "code",
   "execution_count": 39,
   "metadata": {},
   "outputs": [
    {
     "data": {
      "text/plain": [
       "array([[5, 7, 9],\n",
       "       [1, 5, 9]])"
      ]
     },
     "execution_count": 39,
     "metadata": {},
     "output_type": "execute_result"
    }
   ],
   "source": [
    "d.sum(axis=2)"
   ]
  },
  {
   "cell_type": "code",
   "execution_count": null,
   "metadata": {
    "collapsed": true
   },
   "outputs": [],
   "source": []
  },
  {
   "cell_type": "code",
   "execution_count": 40,
   "metadata": {
    "collapsed": true
   },
   "outputs": [],
   "source": [
    "#今回のデータはアメリカのボストン近郊での住宅の価格に関するデータです。\n",
    "import numpy as np\n",
    "from sklearn.datasets import load_boston\n",
    "boston = load_boston()\n",
    "import pandas as pd\n",
    "X=pd.DataFrame(boston.data[:100,:], columns=boston.feature_names)\n",
    "y=boston.target[:100]"
   ]
  },
  {
   "cell_type": "code",
   "execution_count": 41,
   "metadata": {
    "collapsed": true
   },
   "outputs": [],
   "source": [
    "x=X['LSTAT'].values"
   ]
  },
  {
   "cell_type": "code",
   "execution_count": 42,
   "metadata": {},
   "outputs": [
    {
     "data": {
      "text/plain": [
       "array([  4.98,   9.14,   4.03,   2.94,   5.33,   5.21,  12.43,  19.15,\n",
       "        29.93,  17.1 ,  20.45,  13.27,  15.71,   8.26,  10.26,   8.47,\n",
       "         6.58,  14.67,  11.69,  11.28,  21.02,  13.83,  18.72,  19.88,\n",
       "        16.3 ,  16.51,  14.81,  17.28,  12.8 ,  11.98,  22.6 ,  13.04,\n",
       "        27.71,  18.35,  20.34,   9.68,  11.41,   8.77,  10.13,   4.32,\n",
       "         1.98,   4.84,   5.81,   7.44,   9.55,  10.21,  14.15,  18.8 ,\n",
       "        30.81,  16.2 ,  13.45,   9.43,   5.28,   8.43,  14.8 ,   4.81,\n",
       "         5.77,   3.95,   6.86,   9.22,  13.15,  14.44,   6.73,   9.5 ,\n",
       "         8.05,   4.67,  10.24,   8.1 ,  13.09,   8.79,   6.72,   9.88,\n",
       "         5.52,   7.54,   6.78,   8.94,  11.97,  10.27,  12.34,   9.1 ,\n",
       "         5.29,   7.22,   6.72,   7.51,   9.62,   6.53,  12.86,   8.44,\n",
       "         5.5 ,   5.7 ,   8.81,   8.2 ,   8.16,   6.21,  10.59,   6.65,\n",
       "        11.34,   4.21,   3.57,   6.19])"
      ]
     },
     "execution_count": 42,
     "metadata": {},
     "output_type": "execute_result"
    }
   ],
   "source": [
    "x"
   ]
  },
  {
   "cell_type": "code",
   "execution_count": 43,
   "metadata": {},
   "outputs": [
    {
     "data": {
      "text/plain": [
       "1"
      ]
     },
     "execution_count": 43,
     "metadata": {},
     "output_type": "execute_result"
    }
   ],
   "source": [
    "x.ndim"
   ]
  },
  {
   "cell_type": "code",
   "execution_count": 54,
   "metadata": {
    "scrolled": true
   },
   "outputs": [
    {
     "data": {
      "text/plain": [
       "array([[  4.98],\n",
       "       [  9.14],\n",
       "       [  4.03],\n",
       "       [  2.94],\n",
       "       [  5.33],\n",
       "       [  5.21],\n",
       "       [ 12.43],\n",
       "       [ 19.15],\n",
       "       [ 29.93],\n",
       "       [ 17.1 ],\n",
       "       [ 20.45],\n",
       "       [ 13.27],\n",
       "       [ 15.71],\n",
       "       [  8.26],\n",
       "       [ 10.26],\n",
       "       [  8.47],\n",
       "       [  6.58],\n",
       "       [ 14.67],\n",
       "       [ 11.69],\n",
       "       [ 11.28],\n",
       "       [ 21.02],\n",
       "       [ 13.83],\n",
       "       [ 18.72],\n",
       "       [ 19.88],\n",
       "       [ 16.3 ],\n",
       "       [ 16.51],\n",
       "       [ 14.81],\n",
       "       [ 17.28],\n",
       "       [ 12.8 ],\n",
       "       [ 11.98],\n",
       "       [ 22.6 ],\n",
       "       [ 13.04],\n",
       "       [ 27.71],\n",
       "       [ 18.35],\n",
       "       [ 20.34],\n",
       "       [  9.68],\n",
       "       [ 11.41],\n",
       "       [  8.77],\n",
       "       [ 10.13],\n",
       "       [  4.32],\n",
       "       [  1.98],\n",
       "       [  4.84],\n",
       "       [  5.81],\n",
       "       [  7.44],\n",
       "       [  9.55],\n",
       "       [ 10.21],\n",
       "       [ 14.15],\n",
       "       [ 18.8 ],\n",
       "       [ 30.81],\n",
       "       [ 16.2 ],\n",
       "       [ 13.45],\n",
       "       [  9.43],\n",
       "       [  5.28],\n",
       "       [  8.43],\n",
       "       [ 14.8 ],\n",
       "       [  4.81],\n",
       "       [  5.77],\n",
       "       [  3.95],\n",
       "       [  6.86],\n",
       "       [  9.22],\n",
       "       [ 13.15],\n",
       "       [ 14.44],\n",
       "       [  6.73],\n",
       "       [  9.5 ],\n",
       "       [  8.05],\n",
       "       [  4.67],\n",
       "       [ 10.24],\n",
       "       [  8.1 ],\n",
       "       [ 13.09],\n",
       "       [  8.79],\n",
       "       [  6.72],\n",
       "       [  9.88],\n",
       "       [  5.52],\n",
       "       [  7.54],\n",
       "       [  6.78],\n",
       "       [  8.94],\n",
       "       [ 11.97],\n",
       "       [ 10.27],\n",
       "       [ 12.34],\n",
       "       [  9.1 ],\n",
       "       [  5.29],\n",
       "       [  7.22],\n",
       "       [  6.72],\n",
       "       [  7.51],\n",
       "       [  9.62],\n",
       "       [  6.53],\n",
       "       [ 12.86],\n",
       "       [  8.44],\n",
       "       [  5.5 ],\n",
       "       [  5.7 ],\n",
       "       [  8.81],\n",
       "       [  8.2 ],\n",
       "       [  8.16],\n",
       "       [  6.21],\n",
       "       [ 10.59],\n",
       "       [  6.65],\n",
       "       [ 11.34],\n",
       "       [  4.21],\n",
       "       [  3.57],\n",
       "       [  6.19]])"
      ]
     },
     "execution_count": 54,
     "metadata": {},
     "output_type": "execute_result"
    }
   ],
   "source": [
    "# xをベクトルから行列に変換\n",
    "x[:,None]"
   ]
  },
  {
   "cell_type": "code",
   "execution_count": 46,
   "metadata": {},
   "outputs": [
    {
     "data": {
      "text/plain": [
       "2"
      ]
     },
     "execution_count": 46,
     "metadata": {},
     "output_type": "execute_result"
    }
   ],
   "source": [
    "x[:,None].ndim"
   ]
  },
  {
   "cell_type": "code",
   "execution_count": 52,
   "metadata": {},
   "outputs": [
    {
     "data": {
      "text/plain": [
       "array([[  4.98,   9.14,   4.03,   2.94,   5.33,   5.21,  12.43,  19.15,\n",
       "         29.93,  17.1 ,  20.45,  13.27,  15.71,   8.26,  10.26,   8.47,\n",
       "          6.58,  14.67,  11.69,  11.28,  21.02,  13.83,  18.72,  19.88,\n",
       "         16.3 ,  16.51,  14.81,  17.28,  12.8 ,  11.98,  22.6 ,  13.04,\n",
       "         27.71,  18.35,  20.34,   9.68,  11.41,   8.77,  10.13,   4.32,\n",
       "          1.98,   4.84,   5.81,   7.44,   9.55,  10.21,  14.15,  18.8 ,\n",
       "         30.81,  16.2 ,  13.45,   9.43,   5.28,   8.43,  14.8 ,   4.81,\n",
       "          5.77,   3.95,   6.86,   9.22,  13.15,  14.44,   6.73,   9.5 ,\n",
       "          8.05,   4.67,  10.24,   8.1 ,  13.09,   8.79,   6.72,   9.88,\n",
       "          5.52,   7.54,   6.78,   8.94,  11.97,  10.27,  12.34,   9.1 ,\n",
       "          5.29,   7.22,   6.72,   7.51,   9.62,   6.53,  12.86,   8.44,\n",
       "          5.5 ,   5.7 ,   8.81,   8.2 ,   8.16,   6.21,  10.59,   6.65,\n",
       "         11.34,   4.21,   3.57,   6.19]])"
      ]
     },
     "execution_count": 52,
     "metadata": {},
     "output_type": "execute_result"
    }
   ],
   "source": [
    "x[None,:]\n",
    "# x.transpose()"
   ]
  },
  {
   "cell_type": "code",
   "execution_count": null,
   "metadata": {
    "collapsed": true
   },
   "outputs": [],
   "source": []
  },
  {
   "cell_type": "code",
   "execution_count": 2,
   "metadata": {
    "collapsed": true
   },
   "outputs": [
    {
     "data": {
      "text/plain": [
       "<matplotlib.collections.PathCollection at 0x10be1edd8>"
      ]
     },
     "execution_count": 2,
     "metadata": {},
     "output_type": "execute_result"
    },
    {
     "data": {
      "image/png": "[encoded data removed]",
      "text/plain": [
       "<matplotlib.figure.Figure at 0x10bd7c3c8>"
      ]
     },
     "metadata": {},
     "output_type": "display_data"
    }
   ],
   "source": [
    "from sklearn.datasets import make_blobs\n",
    "\n",
    "X, y = make_blobs(n_samples=200, n_features=2, centers=3, cluster_std=0.6, shuffle=True, random_state=0)\n",
    "#　n_samples:サンプル数　n_features：特徴量（説明変数）の数　centers:クラスタの数　cluster_std:クラスタ内の標準偏差（ばらつき度合い）　shuffle:サンプルをシャッフル　random_state:乱数生成を固定\n",
    "\n",
    "import matplotlib.pyplot as plt\n",
    "%matplotlib inline\n",
    "plt.figure(figsize =(5,5))\n",
    "plt.scatter(X[:,0], X[:,1], c='y' , marker='o', s=50)"
   ]
  },
  {
   "cell_type": "code",
   "execution_count": 4,
   "metadata": {
    "collapsed": true
   },
   "outputs": [
    {
     "data": {
      "text/plain": [
       "array([ 3.44598961,  4.39759671,  4.53068484,  3.26765447,  5.09961887,\n",
       "        2.20755388,  0.55219088,  2.05538289,  4.54498095,  2.68097255,\n",
       "        5.03725437,  2.8221382 ,  4.37679234,  3.64795042,  4.33495456,\n",
       "        2.7842772 ,  0.6178122 ,  0.70606661,  3.26801777,  4.15657798,\n",
       "        3.12767494,  0.40180054,  4.19147702,  4.21078127,  2.30437816,\n",
       "        4.17614316, -0.43637823,  2.05520738,  3.60254338,  2.8534991 ,\n",
       "        3.38204112,  5.37530962,  2.74574995,  3.85531444,  0.01780906,\n",
       "        0.95071691,  4.72773123,  0.83877343, -0.07250997,  2.63109786,\n",
       "        0.65163384,  2.68331024,  3.13117134,  3.69899   ,  4.84741412,\n",
       "        5.02521524,  4.32288566,  2.64585078,  5.46996004,  4.48527047,\n",
       "        4.08614263,  0.71898913,  2.60516867,  4.27191636,  3.52998589,\n",
       "        1.94799775,  1.03697228,  1.08890025,  4.17880807,  5.44132083,\n",
       "        2.10985176,  3.01641891,  4.56078645,  0.75491062,  0.75403615,\n",
       "        3.28318856,  0.93562086,  1.56787343,  1.9238532 ,  1.92566929,\n",
       "       -0.10793862,  4.93645836,  5.41334556,  3.13991579,  4.77028154,\n",
       "        3.21418433,  0.90815116,  0.87230937,  0.69007459,  3.28167398,\n",
       "        2.62926599,  4.06271877,  4.55014643,  1.46435135,  0.79473586,\n",
       "        3.85848832,  4.04094275,  3.01190457,  5.4498263 ,  1.27868252,\n",
       "        2.73050691,  2.20451529, -0.76589199,  3.95647753,  1.08782923,\n",
       "        4.78526116,  3.89290127,  2.50977534,  2.18943582,  1.31451315,\n",
       "        0.07269288,  5.18540259,  3.29009724,  4.08805543,  3.56452854,\n",
       "        4.58145668,  1.2908219 ,  4.53592883,  4.69595848,  1.82347242,\n",
       "        3.59540802,  2.50421275,  0.6207129 ,  3.42941343,  4.12240568,\n",
       "        4.50399192,  3.56289184,  0.9501944 ,  2.24834407,  3.01443916,\n",
       "        0.86612328,  1.18655254,  1.97550822,  3.64414685,  0.65930057,\n",
       "        3.45177657,  3.18844294,  1.01093082,  2.47947561,  4.85711133,\n",
       "        2.32200809,  1.30662037,  0.60167173,  1.16129868,  4.54826443,\n",
       "        0.95610376,  0.49957669,  4.212973  , -0.029199  ,  2.8482199 ,\n",
       "        3.60001708,  2.74966896,  4.18069237,  0.59357385,  0.5070483 ,\n",
       "        4.33748653,  3.4838387 ,  3.91276067,  0.92896271,  4.7096473 ,\n",
       "        0.19680756,  3.64456944,  3.83970849,  2.03478126,  4.38117707,\n",
       "        1.69958043,  1.39176615,  1.14729369,  4.2140066 ,  4.84428322,\n",
       "        2.28187277,  2.76820711,  2.38333321,  2.97449321,  4.19583243,\n",
       "        4.88542535,  0.45484511,  3.13165795,  1.1251547 ,  1.05789418,\n",
       "        3.11530945, -0.06357093,  5.47425256,  1.54543482,  2.64145039,\n",
       "        2.92014479,  3.49513189,  3.15025055,  4.62733684,  1.40428145,\n",
       "        4.88977075,  2.24107546,  1.30380848,  1.13171965, -0.34432736,\n",
       "        3.43116792,  2.43008647,  0.63497163,  5.17635143,  5.1920962 ,\n",
       "        3.12186125,  2.46098693,  1.26389129,  0.48393379,  1.36638252,\n",
       "        0.24970475,  3.91361274,  1.08799459,  3.79132988,  0.06764529])"
      ]
     },
     "execution_count": 4,
     "metadata": {},
     "output_type": "execute_result"
    }
   ],
   "source": [
    "X[:,0] # arrayの0番目の数値\n",
    "X[:,1] # arrayの1番目の数値"
   ]
  },
  {
   "cell_type": "code",
   "execution_count": null,
   "metadata": {
    "collapsed": true
   },
   "outputs": [],
   "source": []
  }
 ],
 "metadata": {
  "kernelspec": {
   "display_name": "Python 3",
   "language": "python",
   "name": "python3"
  },
  "language_info": {
   "codemirror_mode": {
    "name": "ipython",
    "version": 3
   },
   "file_extension": ".py",
   "mimetype": "text/x-python",
   "name": "python",
   "nbconvert_exporter": "python",
   "pygments_lexer": "ipython3",
   "version": "3.6.2"
  }
 },
 "nbformat": 4,
 "nbformat_minor": 2
}
