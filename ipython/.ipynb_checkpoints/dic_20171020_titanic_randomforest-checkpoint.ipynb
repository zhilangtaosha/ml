{
 "cells": [
  {
   "cell_type": "markdown",
   "metadata": {},
   "source": [
    "# 課題 タイタニック生存予測 ランダムフォレスト"
   ]
  },
  {
   "cell_type": "markdown",
   "metadata": {},
   "source": [
    "# 問題定義\n",
    "* * *"
   ]
  },
  {
   "cell_type": "markdown",
   "metadata": {},
   "source": [
    "今回の目的は、タイタニックの生存予測を行う。この生存予測を行うことで、このような事故が起こらないようにアクションを起こしていく。"
   ]
  },
  {
   "cell_type": "markdown",
   "metadata": {},
   "source": [
    "# データ取得/データ読み込み\n",
    "* * *"
   ]
  },
  {
   "cell_type": "code",
   "execution_count": 8,
   "metadata": {
    "collapsed": true
   },
   "outputs": [],
   "source": [
    "import numpy as np\n",
    "import pandas as pd\n",
    "import matplotlib.pyplot as plt\n",
    "import seaborn as sns\n",
    "%matplotlib inline"
   ]
  },
  {
   "cell_type": "code",
   "execution_count": 9,
   "metadata": {
    "collapsed": true,
    "scrolled": false
   },
   "outputs": [],
   "source": [
    "#df = sns.load_dataset(\"titanic\")\n",
    "df = pd.read_csv('testdata/train.csv')\n",
    "\n",
    "data_train = pd.read_csv('testdata/train.csv')\n",
    "data_test = pd.read_csv('testdata/test.csv')"
   ]
  },
  {
   "cell_type": "markdown",
   "metadata": {},
   "source": [
    "## データ確認"
   ]
  },
  {
   "cell_type": "code",
   "execution_count": 10,
   "metadata": {
    "scrolled": true
   },
   "outputs": [
    {
     "data": {
      "text/html": [
       "<div>\n",
       "<style>\n",
       "    .dataframe thead tr:only-child th {\n",
       "        text-align: right;\n",
       "    }\n",
       "\n",
       "    .dataframe thead th {\n",
       "        text-align: left;\n",
       "    }\n",
       "\n",
       "    .dataframe tbody tr th {\n",
       "        vertical-align: top;\n",
       "    }\n",
       "</style>\n",
       "<table border=\"1\" class=\"dataframe\">\n",
       "  <thead>\n",
       "    <tr style=\"text-align: right;\">\n",
       "      <th></th>\n",
       "      <th>PassengerId</th>\n",
       "      <th>Survived</th>\n",
       "      <th>Pclass</th>\n",
       "      <th>Name</th>\n",
       "      <th>Sex</th>\n",
       "      <th>Age</th>\n",
       "      <th>SibSp</th>\n",
       "      <th>Parch</th>\n",
       "      <th>Ticket</th>\n",
       "      <th>Fare</th>\n",
       "      <th>Cabin</th>\n",
       "      <th>Embarked</th>\n",
       "    </tr>\n",
       "  </thead>\n",
       "  <tbody>\n",
       "    <tr>\n",
       "      <th>98</th>\n",
       "      <td>99</td>\n",
       "      <td>1</td>\n",
       "      <td>2</td>\n",
       "      <td>Doling, Mrs. John T (Ada Julia Bone)</td>\n",
       "      <td>female</td>\n",
       "      <td>34.0</td>\n",
       "      <td>0</td>\n",
       "      <td>1</td>\n",
       "      <td>231919</td>\n",
       "      <td>23.000</td>\n",
       "      <td>NaN</td>\n",
       "      <td>S</td>\n",
       "    </tr>\n",
       "    <tr>\n",
       "      <th>748</th>\n",
       "      <td>749</td>\n",
       "      <td>0</td>\n",
       "      <td>1</td>\n",
       "      <td>Marvin, Mr. Daniel Warner</td>\n",
       "      <td>male</td>\n",
       "      <td>19.0</td>\n",
       "      <td>1</td>\n",
       "      <td>0</td>\n",
       "      <td>113773</td>\n",
       "      <td>53.100</td>\n",
       "      <td>D30</td>\n",
       "      <td>S</td>\n",
       "    </tr>\n",
       "    <tr>\n",
       "      <th>416</th>\n",
       "      <td>417</td>\n",
       "      <td>1</td>\n",
       "      <td>2</td>\n",
       "      <td>Drew, Mrs. James Vivian (Lulu Thorne Christian)</td>\n",
       "      <td>female</td>\n",
       "      <td>34.0</td>\n",
       "      <td>1</td>\n",
       "      <td>1</td>\n",
       "      <td>28220</td>\n",
       "      <td>32.500</td>\n",
       "      <td>NaN</td>\n",
       "      <td>S</td>\n",
       "    </tr>\n",
       "    <tr>\n",
       "      <th>148</th>\n",
       "      <td>149</td>\n",
       "      <td>0</td>\n",
       "      <td>2</td>\n",
       "      <td>Navratil, Mr. Michel (\"Louis M Hoffman\")</td>\n",
       "      <td>male</td>\n",
       "      <td>36.5</td>\n",
       "      <td>0</td>\n",
       "      <td>2</td>\n",
       "      <td>230080</td>\n",
       "      <td>26.000</td>\n",
       "      <td>F2</td>\n",
       "      <td>S</td>\n",
       "    </tr>\n",
       "    <tr>\n",
       "      <th>198</th>\n",
       "      <td>199</td>\n",
       "      <td>1</td>\n",
       "      <td>3</td>\n",
       "      <td>Madigan, Miss. Margaret \"Maggie\"</td>\n",
       "      <td>female</td>\n",
       "      <td>NaN</td>\n",
       "      <td>0</td>\n",
       "      <td>0</td>\n",
       "      <td>370370</td>\n",
       "      <td>7.750</td>\n",
       "      <td>NaN</td>\n",
       "      <td>Q</td>\n",
       "    </tr>\n",
       "    <tr>\n",
       "      <th>143</th>\n",
       "      <td>144</td>\n",
       "      <td>0</td>\n",
       "      <td>3</td>\n",
       "      <td>Burke, Mr. Jeremiah</td>\n",
       "      <td>male</td>\n",
       "      <td>19.0</td>\n",
       "      <td>0</td>\n",
       "      <td>0</td>\n",
       "      <td>365222</td>\n",
       "      <td>6.750</td>\n",
       "      <td>NaN</td>\n",
       "      <td>Q</td>\n",
       "    </tr>\n",
       "    <tr>\n",
       "      <th>507</th>\n",
       "      <td>508</td>\n",
       "      <td>1</td>\n",
       "      <td>1</td>\n",
       "      <td>Bradley, Mr. George (\"George Arthur Brayton\")</td>\n",
       "      <td>male</td>\n",
       "      <td>NaN</td>\n",
       "      <td>0</td>\n",
       "      <td>0</td>\n",
       "      <td>111427</td>\n",
       "      <td>26.550</td>\n",
       "      <td>NaN</td>\n",
       "      <td>S</td>\n",
       "    </tr>\n",
       "    <tr>\n",
       "      <th>736</th>\n",
       "      <td>737</td>\n",
       "      <td>0</td>\n",
       "      <td>3</td>\n",
       "      <td>Ford, Mrs. Edward (Margaret Ann Watson)</td>\n",
       "      <td>female</td>\n",
       "      <td>48.0</td>\n",
       "      <td>1</td>\n",
       "      <td>3</td>\n",
       "      <td>W./C. 6608</td>\n",
       "      <td>34.375</td>\n",
       "      <td>NaN</td>\n",
       "      <td>S</td>\n",
       "    </tr>\n",
       "    <tr>\n",
       "      <th>212</th>\n",
       "      <td>213</td>\n",
       "      <td>0</td>\n",
       "      <td>3</td>\n",
       "      <td>Perkin, Mr. John Henry</td>\n",
       "      <td>male</td>\n",
       "      <td>22.0</td>\n",
       "      <td>0</td>\n",
       "      <td>0</td>\n",
       "      <td>A/5 21174</td>\n",
       "      <td>7.250</td>\n",
       "      <td>NaN</td>\n",
       "      <td>S</td>\n",
       "    </tr>\n",
       "  </tbody>\n",
       "</table>\n",
       "</div>"
      ],
      "text/plain": [
       "     PassengerId  Survived  Pclass  \\\n",
       "98            99         1       2   \n",
       "748          749         0       1   \n",
       "416          417         1       2   \n",
       "148          149         0       2   \n",
       "198          199         1       3   \n",
       "143          144         0       3   \n",
       "507          508         1       1   \n",
       "736          737         0       3   \n",
       "212          213         0       3   \n",
       "\n",
       "                                                Name     Sex   Age  SibSp  \\\n",
       "98              Doling, Mrs. John T (Ada Julia Bone)  female  34.0      0   \n",
       "748                        Marvin, Mr. Daniel Warner    male  19.0      1   \n",
       "416  Drew, Mrs. James Vivian (Lulu Thorne Christian)  female  34.0      1   \n",
       "148         Navratil, Mr. Michel (\"Louis M Hoffman\")    male  36.5      0   \n",
       "198                 Madigan, Miss. Margaret \"Maggie\"  female   NaN      0   \n",
       "143                              Burke, Mr. Jeremiah    male  19.0      0   \n",
       "507    Bradley, Mr. George (\"George Arthur Brayton\")    male   NaN      0   \n",
       "736          Ford, Mrs. Edward (Margaret Ann Watson)  female  48.0      1   \n",
       "212                           Perkin, Mr. John Henry    male  22.0      0   \n",
       "\n",
       "     Parch      Ticket    Fare Cabin Embarked  \n",
       "98       1      231919  23.000   NaN        S  \n",
       "748      0      113773  53.100   D30        S  \n",
       "416      1       28220  32.500   NaN        S  \n",
       "148      2      230080  26.000    F2        S  \n",
       "198      0      370370   7.750   NaN        Q  \n",
       "143      0      365222   6.750   NaN        Q  \n",
       "507      0      111427  26.550   NaN        S  \n",
       "736      3  W./C. 6608  34.375   NaN        S  \n",
       "212      0   A/5 21174   7.250   NaN        S  "
      ]
     },
     "execution_count": 10,
     "metadata": {},
     "output_type": "execute_result"
    }
   ],
   "source": [
    "df.sample(frac=0.01, replace=True)"
   ]
  },
  {
   "cell_type": "code",
   "execution_count": 11,
   "metadata": {},
   "outputs": [
    {
     "data": {
      "text/html": [
       "<div>\n",
       "<style>\n",
       "    .dataframe thead tr:only-child th {\n",
       "        text-align: right;\n",
       "    }\n",
       "\n",
       "    .dataframe thead th {\n",
       "        text-align: left;\n",
       "    }\n",
       "\n",
       "    .dataframe tbody tr th {\n",
       "        vertical-align: top;\n",
       "    }\n",
       "</style>\n",
       "<table border=\"1\" class=\"dataframe\">\n",
       "  <thead>\n",
       "    <tr style=\"text-align: right;\">\n",
       "      <th></th>\n",
       "      <th>PassengerId</th>\n",
       "      <th>Survived</th>\n",
       "      <th>Pclass</th>\n",
       "      <th>Age</th>\n",
       "      <th>SibSp</th>\n",
       "      <th>Parch</th>\n",
       "      <th>Fare</th>\n",
       "    </tr>\n",
       "  </thead>\n",
       "  <tbody>\n",
       "    <tr>\n",
       "      <th>count</th>\n",
       "      <td>891.000000</td>\n",
       "      <td>891.000000</td>\n",
       "      <td>891.000000</td>\n",
       "      <td>714.000000</td>\n",
       "      <td>891.000000</td>\n",
       "      <td>891.000000</td>\n",
       "      <td>891.000000</td>\n",
       "    </tr>\n",
       "    <tr>\n",
       "      <th>mean</th>\n",
       "      <td>446.000000</td>\n",
       "      <td>0.383838</td>\n",
       "      <td>2.308642</td>\n",
       "      <td>29.699118</td>\n",
       "      <td>0.523008</td>\n",
       "      <td>0.381594</td>\n",
       "      <td>32.204208</td>\n",
       "    </tr>\n",
       "    <tr>\n",
       "      <th>std</th>\n",
       "      <td>257.353842</td>\n",
       "      <td>0.486592</td>\n",
       "      <td>0.836071</td>\n",
       "      <td>14.526497</td>\n",
       "      <td>1.102743</td>\n",
       "      <td>0.806057</td>\n",
       "      <td>49.693429</td>\n",
       "    </tr>\n",
       "    <tr>\n",
       "      <th>min</th>\n",
       "      <td>1.000000</td>\n",
       "      <td>0.000000</td>\n",
       "      <td>1.000000</td>\n",
       "      <td>0.420000</td>\n",
       "      <td>0.000000</td>\n",
       "      <td>0.000000</td>\n",
       "      <td>0.000000</td>\n",
       "    </tr>\n",
       "    <tr>\n",
       "      <th>25%</th>\n",
       "      <td>223.500000</td>\n",
       "      <td>0.000000</td>\n",
       "      <td>2.000000</td>\n",
       "      <td>20.125000</td>\n",
       "      <td>0.000000</td>\n",
       "      <td>0.000000</td>\n",
       "      <td>7.910400</td>\n",
       "    </tr>\n",
       "    <tr>\n",
       "      <th>50%</th>\n",
       "      <td>446.000000</td>\n",
       "      <td>0.000000</td>\n",
       "      <td>3.000000</td>\n",
       "      <td>28.000000</td>\n",
       "      <td>0.000000</td>\n",
       "      <td>0.000000</td>\n",
       "      <td>14.454200</td>\n",
       "    </tr>\n",
       "    <tr>\n",
       "      <th>75%</th>\n",
       "      <td>668.500000</td>\n",
       "      <td>1.000000</td>\n",
       "      <td>3.000000</td>\n",
       "      <td>38.000000</td>\n",
       "      <td>1.000000</td>\n",
       "      <td>0.000000</td>\n",
       "      <td>31.000000</td>\n",
       "    </tr>\n",
       "    <tr>\n",
       "      <th>max</th>\n",
       "      <td>891.000000</td>\n",
       "      <td>1.000000</td>\n",
       "      <td>3.000000</td>\n",
       "      <td>80.000000</td>\n",
       "      <td>8.000000</td>\n",
       "      <td>6.000000</td>\n",
       "      <td>512.329200</td>\n",
       "    </tr>\n",
       "  </tbody>\n",
       "</table>\n",
       "</div>"
      ],
      "text/plain": [
       "       PassengerId    Survived      Pclass         Age       SibSp  \\\n",
       "count   891.000000  891.000000  891.000000  714.000000  891.000000   \n",
       "mean    446.000000    0.383838    2.308642   29.699118    0.523008   \n",
       "std     257.353842    0.486592    0.836071   14.526497    1.102743   \n",
       "min       1.000000    0.000000    1.000000    0.420000    0.000000   \n",
       "25%     223.500000    0.000000    2.000000   20.125000    0.000000   \n",
       "50%     446.000000    0.000000    3.000000   28.000000    0.000000   \n",
       "75%     668.500000    1.000000    3.000000   38.000000    1.000000   \n",
       "max     891.000000    1.000000    3.000000   80.000000    8.000000   \n",
       "\n",
       "            Parch        Fare  \n",
       "count  891.000000  891.000000  \n",
       "mean     0.381594   32.204208  \n",
       "std      0.806057   49.693429  \n",
       "min      0.000000    0.000000  \n",
       "25%      0.000000    7.910400  \n",
       "50%      0.000000   14.454200  \n",
       "75%      0.000000   31.000000  \n",
       "max      6.000000  512.329200  "
      ]
     },
     "execution_count": 11,
     "metadata": {},
     "output_type": "execute_result"
    }
   ],
   "source": [
    "df.describe()"
   ]
  },
  {
   "cell_type": "code",
   "execution_count": 12,
   "metadata": {},
   "outputs": [
    {
     "data": {
      "image/png": "[encoded data removed]",
      "text/plain": [
       "<matplotlib.figure.Figure at 0x10f7e4a58>"
      ]
     },
     "metadata": {},
     "output_type": "display_data"
    }
   ],
   "source": [
    "plt.figure(figsize=(10,10))\n",
    "sns.heatmap(df.corr(), annot=True)\n",
    "plt.show()"
   ]
  },
  {
   "cell_type": "markdown",
   "metadata": {},
   "source": [
    "# 前処理について記述せよ\n",
    "* * *"
   ]
  },
  {
   "cell_type": "markdown",
   "metadata": {},
   "source": [
    "- __前処理とは何か__\n",
    "\n",
    "前処理とは使うモデルに投入できるようにデータを加工、変換すること。\n",
    "（有益なデータソースを探すところも含まれるのかと）\n",
    "\n",
    "- __なぜ前処理を行う必要があるのか__\n",
    "\n",
    "データの品質を管理するため（投入するデータに基づいて分析結果が左右される。biasが上がる可能性あり。）\n",
    "\n",
    "\n",
    "- __前処理は具体的に何を行うか(3つ以上記述せよ)__\n",
    "\n",
    "    - 分析できるデータフォーマット（配列、データフレーム…）に加工\n",
    "    - 分析可能なデータの型に変換。名義変数の数量化/カテゴリデータの~~連続データ~~<font color=\"RED\">数値データ化</font>（機械学習では~~連続データ~~<font color=\"RED\">数値データ化</font>を前提にしているものが多いため。ダミー変数化。）あとは日付の形式。\n",
    "    - 外れ値や欠損値の補完\n",
    "    - 連続値の離散化/数量変数の離散化（必要であれば）\n",
    "    - 正規化（必要であれば）"
   ]
  },
  {
   "cell_type": "markdown",
   "metadata": {},
   "source": [
    "* * *\n",
    "# [20171028 追記]\n",
    "\n",
    "__(コメント)__\n",
    "\n",
    "カテゴリデータを連続データにするという表現ですが、この表現だと語弊があります。\n",
    "カテゴリデータを数値（整数、one-hot）に変換はしますが、連続データの性質（四則演算ができる性質など）を追加するわけではありません。\n",
    "\n",
    "__(追加確認内容)__\n",
    "\n",
    "カテゴリデータは名義尺度に分類され、数値やone hot表記の表現をとること理解しました。下記尺度の分類の確認内容です。\n",
    "\n",
    "- 数値データ（量的変数） ---定量的（連続的な数値をとる）\n",
    " - 比例尺度 \n",
    "    質量，長さなど\n",
    " - 間隔尺度\n",
    "    摂氏，華氏など（乗除不可） \n",
    "\n",
    "- カテゴリデータ（質的変数） ---定性的（離散的な数値をとる）\n",
    " - 名義尺度\n",
    "    名前，電話番号など \n",
    " - 順序尺度\n",
    "    レースの着順など \n",
    " - 間隔尺度\n",
    "    摂氏，華氏など（乗除不可） \n",
    "\n",
    "機械学習アルゴリズムは数値データを前提としているものが多い。決定木やNativeBayesは数値でないカテゴリカルデータも対応できるが、線形モデルでは対応不可。[The Basics of Encoding Categorical Data for Predictive Models](http://appliedpredictivemodeling.com/blog/2013/10/23/the-basics-of-encoding-categorical-data-for-predictive-models)\n",
    "* * *"
   ]
  },
  {
   "cell_type": "markdown",
   "metadata": {},
   "source": [
    "- __前述した具体的な前処理について、その前処理を行うと何を得ることができるか(記述したそれぞれの前処理例について記述せよ)__\n",
    "\n",
    "    - 分析できるデータフォーマットに加工\n",
    "        - カラムに沿ったデータの整理。分析可能な特徴量を得ることができる。\n",
    "    - 分析可能なデータの型に変換。カテゴリデータを~~連続データ~~<font color=\"RED\">数値データ化</font>にする。（機械学習では~~連続データ~~<font color=\"RED\">数値データ化</font>を前提にしているものが多いため。ダミー変数化。）\n",
    "        - ex) TitanicのSex column. Sex: Male/Female から Male: 1/0に変更。\n",
    "        - 質的変数を量的変数に変換することができる。\n",
    "        - n-1個特徴量を作成する。カテゴリが３つ以上の場合は２個。\n",
    "        \n",
    "    - 外れ値や欠損値の補完\n",
    "        - 外れ値は統計的、空間的、またはクラスタリングに基づく方法で外れ値を排除することができる。排除により、分析の計算結果の歪みを防ぐことができる。\n",
    "        - 欠損値は削除、最尤法、補完をすることで、分析可能なデータセットを得ることができる。データ量も減らすことを避けることができる。\n",
    "\n",
    "    - 連続値の離散化（必要であれば）\n",
    "        - 相関がありそうな特徴量で、欠損値を多く含む場合など、存在するデータを離散化・カテゴリに分け、それらの平均値や中央値を使うことで、誤差を含まない外れ値の補完をすることができる。\n",
    "        \n",
    "    - 正規化（必要であれば）"
   ]
  },
  {
   "cell_type": "markdown",
   "metadata": {},
   "source": [
    "* * *\n",
    "# [20171028 追記]\n",
    "\n",
    "__(コメント)__\n",
    "\n",
    "正規化についての具体例の説明。標準化との違いも説明できてると better です。\n",
    "\n",
    "__(追加確認内容)__\n",
    "- 特徴量の尺度をそろえることを正規化と呼び、正規化と標準化の２つの方法がある。\n",
    "- 正規化とは、特徴量を[0,1]の範囲でスケールし直すこと。\n",
    "- 標準化とは、平均が0、標準偏差が1であるような正規分布としてスケールを合わせること。\n",
    "* * * "
   ]
  },
  {
   "cell_type": "markdown",
   "metadata": {},
   "source": [
    "# 2/前処理について記述せよ\n",
    "\n",
    "\n",
    "* * *\n",
    "__前処理について記述せよの調査により、データを確認する際にどのような点を見るとよいか、3つ以上記述せよ。__"
   ]
  },
  {
   "cell_type": "markdown",
   "metadata": {},
   "source": [
    "- ヒストグラム、平均、標準偏差で関連性の確認\n",
    "- パラメータの相関係数で相関の強さを確認(連続データ、離散データの両方で)\n",
    "- 欠損値の確認（あとで補完が必要かもしれないから）\n",
    "\n",
    "\n",
    "その他メモ\n",
    "    - 線形回帰分析するなら単回帰分析をとりあえず行う（重回帰分析での指標に使う）\n"
   ]
  },
  {
   "cell_type": "markdown",
   "metadata": {},
   "source": [
    "# 前処理を行う\n",
    "* * *"
   ]
  },
  {
   "cell_type": "code",
   "execution_count": 14,
   "metadata": {},
   "outputs": [
    {
     "data": {
      "text/html": [
       "<div>\n",
       "<style>\n",
       "    .dataframe thead tr:only-child th {\n",
       "        text-align: right;\n",
       "    }\n",
       "\n",
       "    .dataframe thead th {\n",
       "        text-align: left;\n",
       "    }\n",
       "\n",
       "    .dataframe tbody tr th {\n",
       "        vertical-align: top;\n",
       "    }\n",
       "</style>\n",
       "<table border=\"1\" class=\"dataframe\">\n",
       "  <thead>\n",
       "    <tr style=\"text-align: right;\">\n",
       "      <th></th>\n",
       "      <th>PassengerId</th>\n",
       "      <th>Survived</th>\n",
       "      <th>Pclass</th>\n",
       "      <th>Sex</th>\n",
       "      <th>Age</th>\n",
       "      <th>SibSp</th>\n",
       "      <th>Parch</th>\n",
       "      <th>Fare</th>\n",
       "      <th>Cabin</th>\n",
       "      <th>Lname</th>\n",
       "      <th>NamePrefix</th>\n",
       "    </tr>\n",
       "  </thead>\n",
       "  <tbody>\n",
       "    <tr>\n",
       "      <th>0</th>\n",
       "      <td>1</td>\n",
       "      <td>0</td>\n",
       "      <td>3</td>\n",
       "      <td>male</td>\n",
       "      <td>Student</td>\n",
       "      <td>1</td>\n",
       "      <td>0</td>\n",
       "      <td>1_quartile</td>\n",
       "      <td>N</td>\n",
       "      <td>Braund,</td>\n",
       "      <td>Mr.</td>\n",
       "    </tr>\n",
       "    <tr>\n",
       "      <th>1</th>\n",
       "      <td>2</td>\n",
       "      <td>1</td>\n",
       "      <td>1</td>\n",
       "      <td>female</td>\n",
       "      <td>Adult</td>\n",
       "      <td>1</td>\n",
       "      <td>0</td>\n",
       "      <td>4_quartile</td>\n",
       "      <td>C</td>\n",
       "      <td>Cumings,</td>\n",
       "      <td>Mrs.</td>\n",
       "    </tr>\n",
       "    <tr>\n",
       "      <th>2</th>\n",
       "      <td>3</td>\n",
       "      <td>1</td>\n",
       "      <td>3</td>\n",
       "      <td>female</td>\n",
       "      <td>Young Adult</td>\n",
       "      <td>0</td>\n",
       "      <td>0</td>\n",
       "      <td>1_quartile</td>\n",
       "      <td>N</td>\n",
       "      <td>Heikkinen,</td>\n",
       "      <td>Miss.</td>\n",
       "    </tr>\n",
       "    <tr>\n",
       "      <th>3</th>\n",
       "      <td>4</td>\n",
       "      <td>1</td>\n",
       "      <td>1</td>\n",
       "      <td>female</td>\n",
       "      <td>Young Adult</td>\n",
       "      <td>1</td>\n",
       "      <td>0</td>\n",
       "      <td>4_quartile</td>\n",
       "      <td>C</td>\n",
       "      <td>Futrelle,</td>\n",
       "      <td>Mrs.</td>\n",
       "    </tr>\n",
       "    <tr>\n",
       "      <th>4</th>\n",
       "      <td>5</td>\n",
       "      <td>0</td>\n",
       "      <td>3</td>\n",
       "      <td>male</td>\n",
       "      <td>Young Adult</td>\n",
       "      <td>0</td>\n",
       "      <td>0</td>\n",
       "      <td>2_quartile</td>\n",
       "      <td>N</td>\n",
       "      <td>Allen,</td>\n",
       "      <td>Mr.</td>\n",
       "    </tr>\n",
       "  </tbody>\n",
       "</table>\n",
       "</div>"
      ],
      "text/plain": [
       "   PassengerId  Survived  Pclass     Sex          Age  SibSp  Parch  \\\n",
       "0            1         0       3    male      Student      1      0   \n",
       "1            2         1       1  female        Adult      1      0   \n",
       "2            3         1       3  female  Young Adult      0      0   \n",
       "3            4         1       1  female  Young Adult      1      0   \n",
       "4            5         0       3    male  Young Adult      0      0   \n",
       "\n",
       "         Fare Cabin       Lname NamePrefix  \n",
       "0  1_quartile     N     Braund,        Mr.  \n",
       "1  4_quartile     C    Cumings,       Mrs.  \n",
       "2  1_quartile     N  Heikkinen,      Miss.  \n",
       "3  4_quartile     C   Futrelle,       Mrs.  \n",
       "4  2_quartile     N      Allen,        Mr.  "
      ]
     },
     "execution_count": 14,
     "metadata": {},
     "output_type": "execute_result"
    }
   ],
   "source": [
    "def simplify_ages(df):\n",
    "    df.Age = df.Age.fillna(-0.5)\n",
    "    bins = (-1, 0, 5, 12, 18, 25, 35, 60, 120)\n",
    "    group_names = ['Unknown', 'Baby', 'Child', 'Teenager', 'Student', 'Young Adult', 'Adult', 'Senior']\n",
    "    categories = pd.cut(df.Age, bins, labels=group_names)\n",
    "    df.Age = categories\n",
    "    return df\n",
    "\n",
    "\n",
    "def simplify_cabins(df):\n",
    "    df.Cabin = df.Cabin.fillna('N')\n",
    "    df.Cabin = df.Cabin.apply(lambda x: x[0])\n",
    "    return df\n",
    "\n",
    "\n",
    "def simplify_fares(df):\n",
    "    df.Fare = df.Fare.fillna(-0.5)\n",
    "    bins = (-1, 0, 8, 15, 31, 1000)\n",
    "    group_names = ['Unknown', '1_quartile', '2_quartile', '3_quartile', '4_quartile']\n",
    "    categories = pd.cut(df.Fare, bins, labels=group_names)\n",
    "    df.Fare = categories\n",
    "    return df\n",
    "\n",
    "\n",
    "def format_name(df):\n",
    "    df['Lname'] = df.Name.apply(lambda x: x.split(' ')[0])\n",
    "    df['NamePrefix'] = df.Name.apply(lambda x: x.split(' ')[1])\n",
    "    return df    \n",
    "\n",
    "\n",
    "def drop_features(df):\n",
    "    return df.drop(['Ticket', 'Name', 'Embarked'], axis=1)\n",
    "\n",
    "\n",
    "def transform_features(df):\n",
    "    df = simplify_ages(df)\n",
    "    df = simplify_cabins(df)\n",
    "    df = simplify_fares(df)\n",
    "    df = format_name(df)\n",
    "    df = drop_features(df)\n",
    "    return df\n",
    "\n",
    "data_train = transform_features(data_train)\n",
    "data_test = transform_features(data_test)\n",
    "data_train.head()"
   ]
  },
  {
   "cell_type": "code",
   "execution_count": 15,
   "metadata": {
    "scrolled": true
   },
   "outputs": [
    {
     "data": {
      "text/html": [
       "<div>\n",
       "<style>\n",
       "    .dataframe thead tr:only-child th {\n",
       "        text-align: right;\n",
       "    }\n",
       "\n",
       "    .dataframe thead th {\n",
       "        text-align: left;\n",
       "    }\n",
       "\n",
       "    .dataframe tbody tr th {\n",
       "        vertical-align: top;\n",
       "    }\n",
       "</style>\n",
       "<table border=\"1\" class=\"dataframe\">\n",
       "  <thead>\n",
       "    <tr style=\"text-align: right;\">\n",
       "      <th></th>\n",
       "      <th>PassengerId</th>\n",
       "      <th>Survived</th>\n",
       "      <th>Pclass</th>\n",
       "      <th>Sex</th>\n",
       "      <th>Age</th>\n",
       "      <th>SibSp</th>\n",
       "      <th>Parch</th>\n",
       "      <th>Fare</th>\n",
       "      <th>Cabin</th>\n",
       "      <th>Lname</th>\n",
       "      <th>NamePrefix</th>\n",
       "    </tr>\n",
       "  </thead>\n",
       "  <tbody>\n",
       "    <tr>\n",
       "      <th>0</th>\n",
       "      <td>1</td>\n",
       "      <td>0</td>\n",
       "      <td>3</td>\n",
       "      <td>1</td>\n",
       "      <td>4</td>\n",
       "      <td>1</td>\n",
       "      <td>0</td>\n",
       "      <td>0</td>\n",
       "      <td>7</td>\n",
       "      <td>100</td>\n",
       "      <td>19</td>\n",
       "    </tr>\n",
       "    <tr>\n",
       "      <th>1</th>\n",
       "      <td>2</td>\n",
       "      <td>1</td>\n",
       "      <td>1</td>\n",
       "      <td>0</td>\n",
       "      <td>0</td>\n",
       "      <td>1</td>\n",
       "      <td>0</td>\n",
       "      <td>3</td>\n",
       "      <td>2</td>\n",
       "      <td>182</td>\n",
       "      <td>20</td>\n",
       "    </tr>\n",
       "    <tr>\n",
       "      <th>2</th>\n",
       "      <td>3</td>\n",
       "      <td>1</td>\n",
       "      <td>3</td>\n",
       "      <td>0</td>\n",
       "      <td>7</td>\n",
       "      <td>0</td>\n",
       "      <td>0</td>\n",
       "      <td>0</td>\n",
       "      <td>7</td>\n",
       "      <td>329</td>\n",
       "      <td>16</td>\n",
       "    </tr>\n",
       "    <tr>\n",
       "      <th>3</th>\n",
       "      <td>4</td>\n",
       "      <td>1</td>\n",
       "      <td>1</td>\n",
       "      <td>0</td>\n",
       "      <td>7</td>\n",
       "      <td>1</td>\n",
       "      <td>0</td>\n",
       "      <td>3</td>\n",
       "      <td>2</td>\n",
       "      <td>267</td>\n",
       "      <td>20</td>\n",
       "    </tr>\n",
       "    <tr>\n",
       "      <th>4</th>\n",
       "      <td>5</td>\n",
       "      <td>0</td>\n",
       "      <td>3</td>\n",
       "      <td>1</td>\n",
       "      <td>7</td>\n",
       "      <td>0</td>\n",
       "      <td>0</td>\n",
       "      <td>1</td>\n",
       "      <td>7</td>\n",
       "      <td>15</td>\n",
       "      <td>19</td>\n",
       "    </tr>\n",
       "  </tbody>\n",
       "</table>\n",
       "</div>"
      ],
      "text/plain": [
       "   PassengerId  Survived  Pclass  Sex  Age  SibSp  Parch  Fare  Cabin  Lname  \\\n",
       "0            1         0       3    1    4      1      0     0      7    100   \n",
       "1            2         1       1    0    0      1      0     3      2    182   \n",
       "2            3         1       3    0    7      0      0     0      7    329   \n",
       "3            4         1       1    0    7      1      0     3      2    267   \n",
       "4            5         0       3    1    7      0      0     1      7     15   \n",
       "\n",
       "   NamePrefix  \n",
       "0          19  \n",
       "1          20  \n",
       "2          16  \n",
       "3          20  \n",
       "4          19  "
      ]
     },
     "execution_count": 15,
     "metadata": {},
     "output_type": "execute_result"
    }
   ],
   "source": [
    "from sklearn import preprocessing\n",
    "def encode_features(df_train, df_test):\n",
    "    features = ['Fare', 'Cabin', 'Age', 'Sex', 'Lname', 'NamePrefix']\n",
    "    df_combined = pd.concat([df_train[features], df_test[features]])\n",
    "\n",
    "    for feature in features:\n",
    "        le = preprocessing.LabelEncoder()\n",
    "        le = le.fit(df_combined[feature])\n",
    "        df_train[feature] = le.transform(df_train[feature])\n",
    "        df_test[feature] = le.transform(df_test[feature])\n",
    "    return df_train, df_test\n",
    "\n",
    "data_train, data_test = encode_features(data_train, data_test)\n",
    "data_train.head()"
   ]
  },
  {
   "cell_type": "code",
   "execution_count": 74,
   "metadata": {},
   "outputs": [
    {
     "data": {
      "text/plain": [
       "PassengerId    int64\n",
       "Survived       int64\n",
       "Pclass         int64\n",
       "Sex            int64\n",
       "Age            int64\n",
       "SibSp          int64\n",
       "Parch          int64\n",
       "Fare           int64\n",
       "Cabin          int64\n",
       "Lname          int64\n",
       "NamePrefix     int64\n",
       "dtype: object"
      ]
     },
     "execution_count": 74,
     "metadata": {},
     "output_type": "execute_result"
    }
   ],
   "source": [
    "data_train.dtypes"
   ]
  },
  {
   "cell_type": "code",
   "execution_count": 16,
   "metadata": {
    "collapsed": true
   },
   "outputs": [],
   "source": [
    "# df[\"Age\"].value_counts()\n",
    "# data_train[\"Age\"].value_counts()"
   ]
  },
  {
   "cell_type": "code",
   "execution_count": 17,
   "metadata": {
    "collapsed": true
   },
   "outputs": [],
   "source": [
    "# data_train.sample(frac=0.01, replace=True)"
   ]
  },
  {
   "cell_type": "markdown",
   "metadata": {},
   "source": [
    "# 前処理の内容について記述せよ\n",
    "- 以下の観点をすべて含めて記述しましょう。\n",
    "- 以上のメソッドがそれぞれ何を行っているか記述せよ\n",
    "- それぞれなぜそのようなことを行っているか記述せよ(それによって得られるメリットまで考察すること)\n",
    "\n",
    "simplify_ages\n",
    "- binsで設定した区間ごとに、group_namesで設定した名前で階級分けをする。df.Ageを階級に置き換える。\n",
    "- メリット\n",
    "    - 下記[引用](https://www.msi.co.jp/bayolink/pdf/discretization.pdf)。\n",
    "    > 一般的にベイジアンネットモデルは状態の数が増えると、確率推論の精度も悪くなります。ノードの状態の最適な個数はモデルの目的や学習データのサイズによって大きく異なりますが、5 個前後に設定するケースが多いようです。\n",
    "\n",
    "simplify_cabins\n",
    "- NaNを\"N\"に置き換え、各値の頭文字一文字に変更。\n",
    "- メリット\n",
    "    - カテゴリ化ができ、データが見やすくなる。\n",
    "\n",
    "simplify_fares\n",
    "- binsで設定した区間ごとに、group_namesで設定した名前で階級分けをする。df.Fareを階級に置き換える。\n",
    "- メリットはsimplify_agesと同じ。\n",
    "\n",
    "format_name\n",
    "- Name属性を' '(スペース)で分けた0番目の配列をLname、1番目の配列をNamePrefixとして新しい特徴量を追加する。\n",
    "- メリット\n",
    "    - 新しい特徴量から分析の幅を広げることができる。\n",
    "\n",
    "drop_features\n",
    "- 'Ticket', 'Name', 'Embarked'のカラムを削除する。\n",
    "- メリット\n",
    "    - 不要データ、分析済みのデータを削除し、データセットを扱いやすくする。\n",
    "\n",
    "encode_features\n",
    "- すでに上記でビンニングしていたカテゴリデータを数値に変更する。\n",
    "- メリット\n",
    "    - ２種類の離散データが格納されているカラムについてはダミー変数化ができる。\n",
    "    - データ記述の簡略 ([引用](https://www.slideshare.net/tetsuroito/tokyor-lt-r))\n",
    "    - 離散化されたデータしか扱えない手法にも対応できるようにするため。\n",
    "- デメリット\n",
    "    - 順序付けが勝手にされる。[labelencorder](https://datascience.stackexchange.com/questions/9443/when-to-use-one-hot-encoding-vs-labelencoder-vs-dictvectorizor)"
   ]
  },
  {
   "cell_type": "markdown",
   "metadata": {},
   "source": [
    "# モデル選択について記述せよ\n",
    "* * * \n",
    "今回使用するモデルは決定していますが、モデル選択をする際の演習を行いましょう。\n",
    "\n",
    "- 今回は、生存予測（分類）を行いますが、この分類について使用できそうな手法を4つ以上しらべて記述せよ。\n",
    "- その手法の概要をそれぞれ記述せよ\n",
    "- その手法の長所/短所をそれぞれ3つずつ、記述したすべての手法において記述せよ"
   ]
  },
  {
   "cell_type": "markdown",
   "metadata": {},
   "source": [
    "## ロジスティック回帰\n",
    "- 概要: 識別モデル。予測結果が0から1までを取るような目的変数。従属変数に２値しか取りえない値を説明変数を用いてその発生確率を説明・予測する多変量解析。\n",
    "- 長所\n",
    "    1. ~~線形回帰。ホワイトボックス性高い、説明が明瞭。~~\n",
    "    2. バリアンスが低い\n",
    "    3. 発生確率を求めることができる\n",
    "    4. 決定境界を引く際に有効\n",
    "- 短所\n",
    "    1. ~~線形性であること~~  ___(20171028追記) 対象が線形分離問題であること___、説明変数同士が独立であることなど仮定が求められる。\n",
    "    2. バイアス（予想精度）が高い\n",
    "    3. 大量のカテゴリデータは正しく扱えない可能性あり([Doesn’t handle large number of categorical features/variables well](https://www.edvancer.in/logistic-regression-vs-decision-trees-vs-svm-part2/))\n",
    "    4. ___(20171028追記)* [[参考slide.14](https://www.slideshare.net/sakura-mike/ss-65379598)]のように目的関数を高次方程式にすることで線形非分離問題へも対応可だが、___非線形の場合は非線形変換が必要で精度が下がる可能性あり。([Doesn’t perform well when feature space is too large/Relies on transformations for non-linear features](https://www.edvancer.in/logistic-regression-vs-decision-trees-vs-svm-part2/))\n",
    "\n",
    "\n",
    "\n",
    "([参考1](https://datumstudio.jp/blog/%E6%A9%9F%E6%A2%B0%E5%AD%A6%E7%BF%92%E3%81%AB%E3%81%8A%E3%81%91%E3%82%8B%E3%83%A2%E3%83%87%E3%83%AB%E3%81%AE%E9%81%B8%E6%8A%9E%E6%96%B9%E6%B3%95%E3%81%AB%E3%81%A4%E3%81%84%E3%81%A6))\n",
    "([参考2](https://github.com/ctufts/Cheat_Sheets/wiki/Classification-Model-Pros-and-Cons))\n"
   ]
  },
  {
   "cell_type": "markdown",
   "metadata": {},
   "source": [
    "* * *\n",
    "# [20171028 追記]\n",
    "\n",
    "__(コメント)__\n",
    "\n",
    "varianceが低い/biasが高いとどういったことがそれぞれ起きますでしょうか？（確認）\n",
    "\n",
    "__(追加確認内容)__\n",
    "\n",
    "- varianceが低い/biasが高い場合は、訓練データが偏っていても、その偏りに引きずれることはないが、真のデータと結果にずれがある。\n",
    "\n",
    "- Varianceはアルゴリズムの良し悪しを決めるスペック。\n",
    "- Var高だと、過学習気味。汎化性能が低い。（モデルが複雑になると教師データに偏りがある場合に結果が偏る可能性がある。）\n",
    "- Biasは真のデータと学習モデルの結果のデータとのズレ。\n",
    "- Bias高だと、未学習気味。真のデータと結果が異なっている。（モデルが単純な場合は教師データに偏りがあっても引きずられる度合いは低いが、真のデータとモデルの結果データとはズレがある。）\n",
    "\n",
    "* * *\n"
   ]
  },
  {
   "cell_type": "markdown",
   "metadata": {},
   "source": [
    "* * *\n",
    "# [20171028 追記]\n",
    "\n",
    "__(コメント)__\n",
    "\n",
    "線形/非線形モデル、線形回帰、線形分離可能/不可能問題　という言葉の定義\n",
    "これらが曖昧にされてるイメージがあります。線形モデルと線形分離可能の「線形」の意味は異なります。「何に対して」それぞれ線形なのか調べてください。\n",
    "\n",
    "決定木の長所で、非線形属性も取り扱えるとありますが、これは、線形分離不可能問題にも対応しているということでしょうか？もしそうなら、ロジスティック回帰などの線形モデルも、2次以上の項を特徴量としていれれば、線形分離不可能問題にも対応できます。\n",
    "\n",
    "__(追加確認内容)__\n",
    "\n",
    "- 線形\n",
    "\n",
    "    - 「線形」というのは、「目的変数」と「説明変数」の関係性が線形（変数と変数の関係が直線的）であること。モデル内の各項が加法であり、項を乗算するパラメータが1つだけ含まれている場合は線形。\n",
    "    - （式例）　応答 = 定数 + パラメータ * 予測変数 + ... + パラメータ * 予測変数\n",
    "    -  非線形形状としては、凹、凸、指数的な増加または減少、シグモイド(S)、および漸近曲線など。例えば「exp」とか「log」とかの関係性が入ると、「線形モデル」ではなくなる。\n",
    "\n",
    "- 線形モデル\n",
    "    - 応答 = 定数 + パラメータ * 予測変数 + ... + パラメータ * 予測変数のように線形結合の目的関数をモデル化したもので直線になる。\n",
    "\n",
    "- 非線形モデル\n",
    "    - 非線形モデルは曲線。（例）多項式回帰\n",
    "\n",
    "- 線形回帰\n",
    "    - 目的関数をあるモデル（コスト関数）に当てはめて、パラメータを求めるまでが線形回帰。\n",
    "    - 多項式回帰での x に対しては線形ではないが、係数 β （パラメータ）に対しては線形であるため、線形回帰の問題に分類される。[[参考](https://ja.wikipedia.org/wiki/%E7%B7%9A%E5%BD%A2%E5%9B%9E%E5%B8%B0)]\n",
    "\n",
    "\n",
    "\n",
    "- 線形分離可能/線形分離不可能\n",
    "    - 線形分離可能とは、線形モデルによってクラス1と0に分離できること。線形分離不可能は線形モデルで分離できないこと。[[参考](https://qiita.com/imaimai1125/items/2a126cf04e64432f1bfd)]\n",
    "\n",
    "* * * "
   ]
  },
  {
   "cell_type": "markdown",
   "metadata": {},
   "source": [
    "## decision tree/決定木(コピー済み)\n",
    "- 概要：\n",
    "    - 識別関数。\n",
    "    - CART（Classification and Regression Tree）法というアルゴリズムを使い、目的変数を最もよく「分類」する、説明変数の分岐を生成する。\n",
    "    - 目的変数を「最もよく」分類する基準として、CART法ではいくつかの方法があるが、良く使われるのは、ジニ係数、エントロピー（どれだけ情報が整理されたか。低い→better）、分類誤差。\n",
    "    - エントロピー低→情報ゲイン増。情報ゲインが最大となる質問を各ノードで探し、リーフノードを入れ替え、目的変数を最もよく分類するルートノードを生成する。\n",
    "    - 分類木は属するカテゴリを、回帰木は連続的な数値を求める。\n",
    "\n",
    "- 長所\n",
    "    1. ~~ホワイトボックス性高い、解釈が容易。~~\n",
    "    2. 非線形分類器として使える。[[Ref](https://www.gixo.jp/blog/3980/)]\n",
    "    3. 説明変数のエンコード等を検討する必要がないこと。目的変数、説明変数ともにカテゴリ変数と量的変数のどちらも使用可能。[[Ref](https://webcache.googleusercontent.com/search?q=cache:3uVzQK6NgI4J:https://assign-navi.jp/magazine/consultant/c41.html+&cd=1&hl=en&ct=clnk&gl=us)]\n",
    "    4. データのスケールに対して普遍（スケーリングが不要）\n",
    "    5. accuracyが高い[[Ref2 slide.33](https://www.slideshare.net/kangdaeki/machine-learning-decision-tree)]\n",
    "    6. ノイズに強い。\n",
    "\n",
    "- 短所\n",
    "    1. 予想精度低。訓練データにかなり依存。決定木はアルゴリズムの性質上、モデルが学習データからうける影響が大きくバリアンスが高い学習モデル([Ref5](http://d.hatena.ne.jp/shakezo/20121221/1356089207))\n",
    "    2. 不安定→モデルとしてのロバスト性（頑健性）が弱く、適切でない説明変数が入ると、その変数にモデル全体が引っ張られてしまうこと。（訓練データにない範囲に関しては「新しい」答えを生成することができません。）\n",
    "    3. XORパターンには適用が難しいケースあり\n",
    "\n",
    "    \n",
    "\n"
   ]
  },
  {
   "cell_type": "markdown",
   "metadata": {},
   "source": [
    "* * * \n",
    "メモ([引用元](https://github.com/ctufts/Cheat_Sheets/blob/master/Classification_Model_Pros_And_Cons.md))\n",
    "\n",
    "\n",
    "__Regular (not bagged or boosted)__\n",
    "- Pros\n",
    "    1. easy to interpret visually when the trees only contain several levels\n",
    "    2. Can easily handle qualitative (categorical) features\n",
    "    3. Works well with decision boundaries parellel to the feature axis\n",
    "- Cons\n",
    "    1. prone to overfitting\n",
    "    2. possible issues with diagonal decision boundaries\n",
    "\n",
    "__Bagged Trees : train multiple trees using bootstrapped data to reduce variance and prevent overfitting__\n",
    "- Pros\n",
    "    1. reduces variance in comparison to regular decision trees\n",
    "    2. Can provide variable importance measures\n",
    "        - classification: Gini index\n",
    "        - regression: RSS\n",
    "    3. Can easily handle qualitative (categorical) features\n",
    "    4. Out of bag (OOB) estimates can be used for model validation\n",
    "- Cons\n",
    "    1. Not as easy to visually interpret\n",
    "    2. Does not reduce variance if the features are correlated\n",
    "\n",
    "__Boosted Trees : Similar to bagging, but learns sequentially and builds off previous trees__\n",
    "- Pros\n",
    "    1. Somewhat more interpretable than bagged trees/random forest as the user can define the size of each tree resulting in a collection of stumps (1 level) which can be viewed as an additive model\n",
    "    2. Can easily handle qualitative (categorical) features\n",
    "- Cons\n",
    "    1. Unlike bagging and random forests, can overfit if number of trees is too large\n",
    "\n",
    "* * * "
   ]
  },
  {
   "cell_type": "markdown",
   "metadata": {},
   "source": [
    "## decision foreset/ランダムフォレスト（コピー済み）\n",
    "- 概要：\n",
    "    - 識別関数。\n",
    "    - 決定木ベースの集団学習アルゴリズムのひとつ。\n",
    "    - 全教師データからランダムにとったデータで学習を行う。([Ref4](https://www.slideshare.net/teppeibaba5/ss-37143977))\n",
    "    - 説明変数もランダムにすることで、baggingで問題となる各識別器の結果が似てしまう欠点を改善する。\n",
    "    \n",
    "- 長所\n",
    "    1. 説明変数の依存が少ない。ノイズに強い。\n",
    "    2. 学習が高速→並列に処理できる（それぞれの木で訓練ができる）\n",
    "    3. 集団学習ではvarianceが低い。\n",
    "    4. RFではクロスバリデーション必要なし。out-of-bag (oob) エラー計算がその代わりとなる。\n",
    "    5. 少ないパラメータでチューニング可（木の数自体がもっとも重要）\n",
    "    6. 非線形も取り扱える\n",
    "    7. データ量が多くても高速に処理。\n",
    "       \n",
    "- 短所\n",
    "    1. 学習データの説明変数をランダムで抽出するため、データ変数がすくないとうまく学習できない。\n",
    "    2. コンピューティングの複雑性は木の数に応じてリニアに増える。変数の数が多いと計算量がリニアに増える。\n",
    "    3. 視覚的な解釈が簡単ではない。\n",
    "\n",
    "\n",
    "([Ref](https://www.slideshare.net/DanielCahall/cahall-final-intern-presentation))\n",
    "([Ref2](http://rstudio-pubs-static.s3.amazonaws.com/4239_fcb292ade17648b097a9806fbe026e74.html))\n",
    "([Ref3](https://www.edvancer.in/logistic-regression-vs-decision-trees-vs-svm-part2/))\n"
   ]
  },
  {
   "cell_type": "markdown",
   "metadata": {},
   "source": [
    "## 平均化パーセプトロン\n",
    "- 概要：学習事例を受け取り、重みベクトルを更新する、という処理を反復した後に重みベクトルと入力ベクトルを足してその値が0以上ならクラス1、0未満はクラス2として分類する。平均化パーセプトロンは過去の反復で学習した重みベクトルの平均を使う。\n",
    "- 長所\n",
    "    1. 実装が簡単\n",
    "    2. よい測定精度が出ることが多い\n",
    "    3. 迷惑メール判定などオンライン学習に向いている([参考](http://www.nttdata.com/jp/ja/insights/trend_keyword/2014110601.html))\n",
    "- 短所\n",
    "    1. 線形分離可能なデータにしか適用できない。\n",
    "    2. 各反復における重みベクトルを保持する必要があり、メモリ的に学習が非効率である。→問題を考慮した実装方法にすること。\n",
    "    3. 過学習しやすい。\n"
   ]
  },
  {
   "cell_type": "markdown",
   "metadata": {},
   "source": [
    "# モデル選択の基準\n",
    "* * * \n",
    "下記の参考資料を元に、どのような視点からモデルを選択すれば良いか、最低でも3つ以上の視点を記述すること(他の参考資料でも構わない、その場合参考資料を明記すること)"
   ]
  },
  {
   "cell_type": "markdown",
   "metadata": {},
   "source": [
    "1. 「予測精度」([参考](https://datumstudio.jp/blog/機械学習におけるモデルの選択方法について))\n",
    "2. 「中身のわかりやすさ」(同上)\n",
    "3. 訓練・テストデータの分布([P29](https://www.slideshare.net/canard0328/ss-44288984))\n",
    "4. カテゴリの予測([参考](http://scikit-learn.org/stable/tutorial/machine_learning_map/))\n",
    "5. 教師データの有り無し(同上)\n",
    "6. 数量の予測か(同上)\n",
    "\n",
    "メモ([参考](https://datumstudio.jp/blog/機械学習におけるモデルの選択方法について))：\n",
    "- 説明変数の予測値への寄与を大雑把に知りたい：線形判別/回帰\n",
    "- 予測値の正確性が命：ディープラーニング、サポートベクタマシン/回帰\n",
    "- 予測精度が実用的で因果関係の類推も行いたい：CART(ランダムフォレスト)\n",
    "\n"
   ]
  },
  {
   "cell_type": "markdown",
   "metadata": {},
   "source": [
    "# モデル選択におけるデータ可視化\n",
    "# データ可視化の結果について考察せよ\n",
    "* * *"
   ]
  },
  {
   "cell_type": "code",
   "execution_count": 18,
   "metadata": {
    "collapsed": true
   },
   "outputs": [],
   "source": [
    "import matplotlib.pyplot as plt\n",
    "import seaborn as sns\n",
    "%matplotlib inline"
   ]
  },
  {
   "cell_type": "code",
   "execution_count": 19,
   "metadata": {
    "scrolled": true
   },
   "outputs": [
    {
     "data": {
      "image/png": "[encoded data removed]",
      "text/plain": [
       "<matplotlib.figure.Figure at 0x10fd0be48>"
      ]
     },
     "metadata": {},
     "output_type": "display_data"
    }
   ],
   "source": [
    "sns.barplot(x=\"Age\", y=\"Survived\", hue=\"Sex\", data=data_train);"
   ]
  },
  {
   "cell_type": "code",
   "execution_count": 20,
   "metadata": {},
   "outputs": [
    {
     "data": {
      "image/png": "[encoded data removed]",
      "text/plain": [
       "<matplotlib.figure.Figure at 0x10b8dc438>"
      ]
     },
     "metadata": {},
     "output_type": "display_data"
    }
   ],
   "source": [
    "sns.pointplot(x=\"Pclass\", y=\"Survived\", hue=\"Sex\", data=df,\n",
    "              palette={\"male\": \"blue\", \"female\": \"pink\"},\n",
    "              markers=[\"*\", \"o\"], linestyles=[\"-\", \"--\"]);"
   ]
  },
  {
   "cell_type": "markdown",
   "metadata": {},
   "source": [
    "__上記の２つの可視化から分かったことについて考察せよ。__\n",
    "\n",
    "図1\n",
    "- 年齢のグループごとにSurvivedの結果に差があることがわかる。\n",
    "- 特に男女ともにAgeグループ1の生存率が高め。Ageグループ3の女性の生存率はすべて1（信頼区間無し）。\n",
    "- 全体のグループを通して、女性の生存率のほうが高い。\n",
    "\n",
    "図2\n",
    "- 性別とPclassのクロス集計結果でSurvivedの結果に差がある。\n",
    "- 男性はどのPclassに限らず、生存率が低い\n",
    "- 女性はどのPclassでも、男性より生存率が高い。\n",
    "- 特にPclass 1の生存率が高い。\n",
    "\n",
    "__上記の考察結果から、モデル選択を考える場合、どのようなことが考えられるか__\n",
    "- 複数の特徴量のクロス集計で生存率が変わることがわかる。各特徴量で分解を行える、決定木が有力。"
   ]
  },
  {
   "cell_type": "markdown",
   "metadata": {},
   "source": [
    "# データセットの分割\n",
    "* * *"
   ]
  },
  {
   "cell_type": "code",
   "execution_count": 21,
   "metadata": {
    "collapsed": true
   },
   "outputs": [],
   "source": [
    "from sklearn.model_selection import train_test_split\n",
    "\n",
    "X = data_train.drop(['Survived', 'PassengerId'], axis=1)\n",
    "y = data_train['Survived']\n",
    "\n",
    "X_train, X_test, y_train, y_test = train_test_split(X,y,test_size=0.2,random_state=0)"
   ]
  },
  {
   "cell_type": "markdown",
   "metadata": {},
   "source": [
    "# ランダムフォレストについて記述せよ\n",
    "* * *"
   ]
  },
  {
   "cell_type": "markdown",
   "metadata": {},
   "source": [
    "- 決定木とはどのような手法か(前出の回答のコピー)\n",
    "    - 識別関数。\n",
    "    - CART（Classification and Regression Tree）法というアルゴリズムを使い、目的変数を最もよく「分類」する、説明変数の分岐を生成する。\n",
    "    - 目的変数を「最もよく」分類する基準として、CART法ではいくつかの方法があるが、良く使われるのは、ジニ係数、エントロピー（どれだけ情報が整理されたか。低い→better）、分類誤差。\n",
    "    - エントロピー低→情報ゲイン増。情報ゲインが最大となる質問を各ノードで探し、リーフノードを入れ替え、目的変数を最もよく分類するルートノードを生成する。\n",
    "\n",
    "- ランダムフォレストとはどのような手法か(前出の回答のコピー)\n",
    "    - 識別関数。\n",
    "    - 決定木ベースの集団学習アルゴリズムのひとつ。\n",
    "    - 全教師データからランダムにとったデータで学習を行う。([Ref4](https://www.slideshare.net/teppeibaba5/ss-37143977))\n",
    "    - 説明変数もランダムにすることで、baggingで問題となる各識別器の結果が似てしまう欠点を改善する。\n",
    "    \n",
    "\n",
    "- ランダムフォレストの長所と短所をそれぞれ3つ以上挙げてください。(前出の回答のコピー)\n",
    "    - 長所\n",
    "        1. 説明変数の依存が少ない。ノイズに強い。\n",
    "        2. 学習が高速→並列に処理できる（それぞれの木で訓練ができる）\n",
    "        3. 集団学習ではvarianceが低い。\n",
    "        4. RFではクロスバリデーション必要なし。out-of-bag (oob) エラー計算がその代わりとなる。\n",
    "        5. 少ないパラメータでチューニング可（木の数自体がもっとも重要）\n",
    "        6. 非線形も取り扱える\n",
    "        7. データ量が多くても高速に処理。\n",
    "\n",
    "    - 短所\n",
    "        1. 学習データの説明変数をランダムで抽出するため、データ変数がすくないとうまく学習できない。\n",
    "        2. コンピューティングの複雑性は木の数に応じてリニアに増える。変数の数が多いと計算量がリニアに増える。\n",
    "        3. 視覚的な解釈が簡単ではない。\n",
    "\n",
    "- 今回の目的からランダムフォレストの手法が適する理由を考察し、記述せよ\n",
    "    - 複数の特徴量のクロス集計で生存率が変わることがわかる。各特徴量で分解を行える、決定木が有力(前出の回答のコピー)。決定木よりも、バリアンスが低いため良い結果が得られる可能性が高い。よってランダムフォレストを採用す使う。\n"
   ]
  },
  {
   "cell_type": "markdown",
   "metadata": {},
   "source": [
    "# 学習\n",
    "* * *"
   ]
  },
  {
   "cell_type": "code",
   "execution_count": 22,
   "metadata": {},
   "outputs": [
    {
     "data": {
      "text/plain": [
       "RandomForestClassifier(bootstrap=True, class_weight=None, criterion='gini',\n",
       "            max_depth=None, max_features='auto', max_leaf_nodes=None,\n",
       "            min_impurity_decrease=0.0, min_impurity_split=None,\n",
       "            min_samples_leaf=1, min_samples_split=2,\n",
       "            min_weight_fraction_leaf=0.0, n_estimators=10, n_jobs=1,\n",
       "            oob_score=False, random_state=None, verbose=0,\n",
       "            warm_start=False)"
      ]
     },
     "execution_count": 22,
     "metadata": {},
     "output_type": "execute_result"
    }
   ],
   "source": [
    "from sklearn.ensemble import RandomForestClassifier\n",
    "# from sklearn.datasets import make_classification これなに？\n",
    "\n",
    "clf = RandomForestClassifier()\n",
    "clf.fit(X_train, y_train)"
   ]
  },
  {
   "cell_type": "markdown",
   "metadata": {},
   "source": [
    "# accuracyを求めよ\n",
    "* * *"
   ]
  },
  {
   "cell_type": "code",
   "execution_count": 23,
   "metadata": {},
   "outputs": [
    {
     "name": "stdout",
     "output_type": "stream",
     "text": [
      "0.798882681564\n"
     ]
    }
   ],
   "source": [
    "from sklearn.metrics import accuracy_score\n",
    "\n",
    "predictions = clf.predict(X_test)\n",
    "print(accuracy_score(y_test, predictions))"
   ]
  },
  {
   "cell_type": "markdown",
   "metadata": {},
   "source": [
    "# 精度を高める\n",
    "* * *"
   ]
  },
  {
   "cell_type": "markdown",
   "metadata": {},
   "source": [
    "すでに75%以上の精度のため特になし（あとで上げる）"
   ]
  },
  {
   "cell_type": "markdown",
   "metadata": {},
   "source": [
    "# ハイパーパラメータについて\n",
    "* * *"
   ]
  },
  {
   "cell_type": "markdown",
   "metadata": {},
   "source": [
    "- ハイパーパラメーターとは何か\n",
    "    - モデリングの前に人間が決めるパラメータで、ランダムフォレストではnum_trees、random_state、max_depthなど。（広義には単回帰(y=ax+b)でいうxもハイパーパラメータ）\n",
    "    - パラメータはハイパーパラメータのもと機械学習で決まるパラメータで単回帰(y=ax+b)でいうaとb。\n",
    "\n",
    "- ランダムフォレストにおいてどのようなハイパーパラメーターがあるか4つ以上記述せよ\n",
    "    - n_estimators\n",
    "    - max_features\n",
    "    - max_depth\n",
    "    - min_samples_leaf\n",
    "        \n",
    "- 記述したハイパーパラメーターにおいて、それぞれどのような値が存在するか記述せよ（そのハイパーパラメーターを変化させるとどのようなことが起きるかも記述すること）\n",
    "    - n_estimators\n",
    "        - いくつ決定木を作成するか。パターンを列挙。\n",
    "        - 入力値：integer, optional (default=10)\n",
    "        - 多ければ多いほど精度が良くなる(=計算時間とのトレードオフ)。\n",
    "    - max_features\n",
    "        - 各決定木で分類に使用する説明変数の数。目的変数のサンプリング時に、いくつの目的変数をサンプリングするかのパターンを列挙。\n",
    "        - 入力値：int, float, string or None, optional (default=”auto”)\n",
    "            - stringの入力候補は、auto”(\"sqrt”)はn_featuresの平方根、\"log2”はlog2(n_features)、\"None\"だとn_featuresをそのまま使う、など。\n",
    "        - 1つの説明変数で精度が低い場合は、数を増やすと精度が上がる可能性がある。\n",
    "    - max_depth\n",
    "        - どの深さの決定木を作成するか\n",
    "        - 入力値：integer or None, optional (default=None)\n",
    "        - 深ければ深いほど（数が大きいほど）複雑な分岐になる(=過学習を起こしやすい)\n",
    "    - min_samples_leaf: 決定木の葉に分類されるサンプル数を決めるパラメータ\n",
    "        - 決定木の葉に分類されるサンプル数\n",
    "        - 入力値：int, float, optional (default=2)\n",
    "        - 数が大きいほど木の深さが浅くなる。→過学習を防ぐ\n",
    "\n",
    "\n",
    "[[Ref](https://qiita.com/kenchin110100/items/24cbb1bcab80c7a6115c)]\n",
    "[[Ref2](http://ohke.hateblo.jp/entry/2017/08/04/230000)]\n"
   ]
  },
  {
   "cell_type": "markdown",
   "metadata": {},
   "source": [
    "# チューニング"
   ]
  },
  {
   "cell_type": "code",
   "execution_count": 24,
   "metadata": {},
   "outputs": [
    {
     "data": {
      "text/plain": [
       "RandomForestClassifier(bootstrap=True, class_weight=None, criterion='gini',\n",
       "            max_depth=2, max_features='auto', max_leaf_nodes=None,\n",
       "            min_impurity_decrease=0.0, min_impurity_split=None,\n",
       "            min_samples_leaf=1, min_samples_split=2,\n",
       "            min_weight_fraction_leaf=0.0, n_estimators=4, n_jobs=1,\n",
       "            oob_score=False, random_state=None, verbose=0,\n",
       "            warm_start=False)"
      ]
     },
     "execution_count": 24,
     "metadata": {},
     "output_type": "execute_result"
    }
   ],
   "source": [
    "from sklearn.ensemble import RandomForestClassifier\n",
    "\n",
    "clf = RandomForestClassifier(\n",
    "    n_estimators = 4,\n",
    "    max_features = 'auto',\n",
    "    criterion = 'gini',\n",
    "    max_depth = 2,\n",
    "    min_samples_split = 2,\n",
    "    min_samples_leaf = 1)\n",
    "\n",
    "clf.fit(X_train, y_train) #0.793296089385 と下がった。"
   ]
  },
  {
   "cell_type": "code",
   "execution_count": 30,
   "metadata": {
    "scrolled": true
   },
   "outputs": [
    {
     "data": {
      "text/plain": [
       "RandomForestClassifier(bootstrap=True, class_weight=None, criterion='gini',\n",
       "            max_depth=2, max_features='auto', max_leaf_nodes=None,\n",
       "            min_impurity_decrease=0.0, min_impurity_split=None,\n",
       "            min_samples_leaf=1, min_samples_split=2,\n",
       "            min_weight_fraction_leaf=0.0, n_estimators=9, n_jobs=1,\n",
       "            oob_score=False, random_state=None, verbose=0,\n",
       "            warm_start=False)"
      ]
     },
     "execution_count": 30,
     "metadata": {},
     "output_type": "execute_result"
    }
   ],
   "source": [
    "# n_estimatorsのみを変更\n",
    "from sklearn.ensemble import RandomForestClassifier\n",
    "\n",
    "clf = RandomForestClassifier(\n",
    "    n_estimators = 9, # 6より9の方が結果がよかった。\n",
    "    max_features = 'auto',\n",
    "    criterion = 'gini',\n",
    "    max_depth = 2,\n",
    "    min_samples_split = 2,\n",
    "    min_samples_leaf = 1)\n",
    "\n",
    "clf.fit(X_train, y_train) #0.804469273743"
   ]
  },
  {
   "cell_type": "code",
   "execution_count": 31,
   "metadata": {},
   "outputs": [
    {
     "name": "stdout",
     "output_type": "stream",
     "text": [
      "0.826815642458\n"
     ]
    }
   ],
   "source": [
    "from sklearn.metrics import accuracy_score\n",
    "\n",
    "predictions = clf.predict(X_test)\n",
    "print(accuracy_score(y_test, predictions))"
   ]
  },
  {
   "cell_type": "markdown",
   "metadata": {},
   "source": [
    "- 検証とは何か\n",
    "学習モデルを評価すること。\n",
    "\n",
    "- なぜ検証を行う必要があるのか(Accuracyだけではダメな理由も含めること)\n",
    "学習モデルが過学習・未学習しているかなどの精度の確認する必要がある。\n",
    "\n",
    "Accuracyは過学習や未学習の精度を含んでいるため、評価の信頼性が比較的低い、かつ汎化性能が検証できない\n",
    "\n",
    "> パラメータ値を得るために学習に使用した訓練データを性能評価に使用すると過適応（Overfitting）、あるいは未適応（Underfitting）の状態を含んだ見積り値になるため、汎化性能を検証できない。\n",
    ">[機械学習における学習方法と性能評価の基礎知識](http://www.buildinsider.net/small/bookthinkingmachines/0103)\n",
    "\n",
    "過学習の確認・改善は下記を使う。\n",
    "    - 正則化\n",
    "    - 交差検証によるパラメータチューニング\n",
    "    - 学習曲線を確認\n",
    "\n",
    "- 主な検証方法について2つ以上記述せよ\n",
    "    - K-Fold Cross-Validation\n",
    "    - ROC曲線(Receiver Operating Characteristic)\n",
    "    - AUC (Area Under the Curve)\n"
   ]
  },
  {
   "cell_type": "markdown",
   "metadata": {},
   "source": [
    "# KFoldについて記述せよ"
   ]
  },
  {
   "cell_type": "markdown",
   "metadata": {},
   "source": [
    "- K-分割交差検証について説明せよ\n",
    "\n",
    "    - データをk個に分割してサブサンプルグループを作る。k−1(サブサンプルグループ) で訓練をする。これをk回繰り返す（Test foldされるサブサンプルグループデータは各繰り返しの中でそれぞれ異なる）。それぞれの訓練データで残った1サブサンプルグループの集合がテストデータになる。\n",
    "    - 上記のように評価用データを変更しながら k 回繰り返した結果の平均を精度に用いることが多い\n",
    "    - k回繰り返すため、kが大きくなるほど、計算時間がかかる。\n",
    "\n",
    "[[交差確認（交差検証、Cross-Validation）の簡単な説明](https://mathwords.net/kousakakunin)]\n",
    "\n",
    "- K-分割交差検証はデータセットを何個に分割するか(まとめて回答)\n",
    "- データセットを分割する際、その個数はどのように考えると良いか(まとめて回答)\n",
    "- K-分割交差検証は何回の検証を行うか(まとめて回答)\n",
    "\n",
    "    - 10個と仮定。\n",
    "    - データ数が800の場合、\n",
    "    - サブサンプルグループは80個。\n",
    "    - 訓練データ数は720個。\n",
    "    - 交差検証回数は10回。\n",
    "    - テストデータは80個 x 10セット。\n",
    "\n",
    "\n",
    "- K-分割交差検証の結果は、最終的にどのように求められるか\n",
    "    - 。テストデータとモデルの残差の平均二乗誤差（mean square error; MSE）が予測精度の指標としてよく使われる。\n",
    "\n"
   ]
  },
  {
   "cell_type": "markdown",
   "metadata": {},
   "source": [
    "# KFoldを実施する"
   ]
  },
  {
   "cell_type": "code",
   "execution_count": 57,
   "metadata": {
    "collapsed": true
   },
   "outputs": [],
   "source": [
    "from sklearn.model_selection import KFold, cross_val_score"
   ]
  },
  {
   "cell_type": "code",
   "execution_count": 58,
   "metadata": {
    "collapsed": true
   },
   "outputs": [],
   "source": [
    "# Some useful parameters which will come in handy later on\n",
    "#ntrain = train.shape[0]\n",
    "#ntest = test.shape[0]\n",
    "SEED = 0 # for reproducibility\n",
    "NSPLITS = 10 # set folds for out-of-fold prediction\n",
    "\n",
    "#kfold = KFold(ntrain, n_folds= NFOLDS, random_state=SEED)\n",
    "kfold = KFold(n_splits= NSPLITS, random_state=SEED)"
   ]
  },
  {
   "cell_type": "code",
   "execution_count": 59,
   "metadata": {
    "collapsed": true
   },
   "outputs": [],
   "source": [
    "#for train_indices, test_indices in kfold.split(X):\n",
    "#     print('Train: %s | test: %s' % (train_indices, test_indices))"
   ]
  },
  {
   "cell_type": "code",
   "execution_count": 60,
   "metadata": {
    "collapsed": true
   },
   "outputs": [],
   "source": [
    "results = cross_val_score(clf, X, y, cv=kfold, n_jobs=-1)"
   ]
  },
  {
   "cell_type": "code",
   "execution_count": 61,
   "metadata": {},
   "outputs": [
    {
     "data": {
      "text/plain": [
       "array([ 0.81111111,  0.82022472,  0.76404494,  0.82022472,  0.7752809 ,\n",
       "        0.79775281,  0.71910112,  0.73033708,  0.82022472,  0.79775281])"
      ]
     },
     "execution_count": 61,
     "metadata": {},
     "output_type": "execute_result"
    }
   ],
   "source": [
    "results"
   ]
  },
  {
   "cell_type": "code",
   "execution_count": 62,
   "metadata": {},
   "outputs": [
    {
     "name": "stdout",
     "output_type": "stream",
     "text": [
      "Accuracy: 78.561% (3.548%)\n"
     ]
    }
   ],
   "source": [
    "print(\"Accuracy: %.3f%% (%.3f%%)\" % (results.mean()*100.0, results.std()*100.0))"
   ]
  },
  {
   "cell_type": "markdown",
   "metadata": {},
   "source": [
    "# どの特徴量が重要であったかを調査する"
   ]
  },
  {
   "cell_type": "code",
   "execution_count": 70,
   "metadata": {
    "collapsed": true
   },
   "outputs": [],
   "source": [
    "importances = clf.feature_importances_"
   ]
  },
  {
   "cell_type": "code",
   "execution_count": 71,
   "metadata": {
    "collapsed": true
   },
   "outputs": [],
   "source": [
    "std = np.std([tree.feature_importances_ for tree in clf.estimators_],\n",
    "             axis=0)"
   ]
  },
  {
   "cell_type": "code",
   "execution_count": 72,
   "metadata": {
    "collapsed": true
   },
   "outputs": [],
   "source": [
    "indices = np.argsort(importances)[::-1]"
   ]
  },
  {
   "cell_type": "code",
   "execution_count": 73,
   "metadata": {},
   "outputs": [
    {
     "name": "stdout",
     "output_type": "stream",
     "text": [
      "Feature ranking:\n",
      "1. feature 8 (0.240539) cumsum: 0.240539\n",
      "2. feature 0 (0.237868) cumsum: 0.478407\n",
      "3. feature 1 (0.226834) cumsum: 0.705241\n",
      "4. feature 6 (0.156987) cumsum: 0.862227\n",
      "5. feature 5 (0.062155) cumsum: 0.924383\n",
      "6. feature 7 (0.042627) cumsum: 0.967010\n",
      "7. feature 3 (0.025429) cumsum: 0.992439\n",
      "8. feature 2 (0.003989) cumsum: 0.996428\n",
      "9. feature 4 (0.003572) cumsum: 1.000000\n"
     ]
    }
   ],
   "source": [
    "# Print the feature ranking\n",
    "print(\"Feature ranking:\")\n",
    "cumsum = 0.0\n",
    "for f in range(X_train.shape[1]):\n",
    "    cumsum+=importances[indices[f]]\n",
    "    print(\"%d. feature %d (%f) cumsum: %f\" % (f + 1, indices[f], importances[indices[f]], cumsum))"
   ]
  },
  {
   "cell_type": "code",
   "execution_count": 67,
   "metadata": {
    "scrolled": true
   },
   "outputs": [
    {
     "data": {
      "image/png": "[encoded data removed]",
      "text/plain": [
       "<matplotlib.figure.Figure at 0x10a269b38>"
      ]
     },
     "metadata": {},
     "output_type": "display_data"
    }
   ],
   "source": [
    "# Plot the feature importances of the forest\n",
    "plt.figure()\n",
    "plt.title(\"Feature importances\")\n",
    "plt.bar(range(X_train.shape[1]), importances[indices],\n",
    "       color=\"b\", yerr=std[indices], align=\"center\")\n",
    "plt.xticks(range(X_train.shape[1]), indices)\n",
    "plt.xlim([-1, X_train.shape[1]])\n",
    "plt.show()"
   ]
  },
  {
   "cell_type": "code",
   "execution_count": 68,
   "metadata": {
    "scrolled": true
   },
   "outputs": [
    {
     "name": "stdout",
     "output_type": "stream",
     "text": [
      "0 Pclass\n",
      "1 Sex\n",
      "2 Age\n",
      "3 SibSp\n",
      "4 Parch\n",
      "5 Fare\n",
      "6 Cabin\n",
      "7 Lname\n",
      "8 NamePrefix\n"
     ]
    }
   ],
   "source": [
    "col_list = list(X_train.columns)\n",
    "for i in range(len(col_list)):\n",
    "    print(str(i) + \" \" + col_list[i])"
   ]
  },
  {
   "cell_type": "markdown",
   "metadata": {},
   "source": [
    "結果より、8 NamePrefix, 0 Pclass, 1 Sex, 6 Cabin, 5 Fareで9割結果に影響する有効な特徴量であることがわかる。  "
   ]
  }
 ],
 "metadata": {
  "kernelspec": {
   "display_name": "Python 3",
   "language": "python",
   "name": "python3"
  },
  "language_info": {
   "codemirror_mode": {
    "name": "ipython",
    "version": 3
   },
   "file_extension": ".py",
   "mimetype": "text/x-python",
   "name": "python",
   "nbconvert_exporter": "python",
   "pygments_lexer": "ipython3",
   "version": "3.6.2"
  }
 },
 "nbformat": 4,
 "nbformat_minor": 2
}
